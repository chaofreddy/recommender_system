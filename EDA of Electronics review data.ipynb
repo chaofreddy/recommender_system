{
 "cells": [
  {
   "cell_type": "code",
   "execution_count": 2,
   "id": "2f680e94",
   "metadata": {
    "ExecuteTime": {
     "end_time": "2022-06-21T03:40:04.755325Z",
     "start_time": "2022-06-21T03:40:04.653681Z"
    }
   },
   "outputs": [],
   "source": [
    "import pandas as pd\n",
    "import pyspark\n",
    "from pyspark.sql import SparkSession"
   ]
  },
  {
   "cell_type": "code",
   "execution_count": 3,
   "id": "36d27b7d",
   "metadata": {
    "ExecuteTime": {
     "end_time": "2022-06-21T03:40:16.422238Z",
     "start_time": "2022-06-21T03:40:10.359579Z"
    }
   },
   "outputs": [],
   "source": [
    "spark = SparkSession.builder.appName('tutorial').getOrCreate()"
   ]
  },
  {
   "cell_type": "code",
   "execution_count": 10,
   "id": "a7b48818",
   "metadata": {
    "ExecuteTime": {
     "end_time": "2022-06-21T03:40:46.106222Z",
     "start_time": "2022-06-21T03:40:46.101831Z"
    }
   },
   "outputs": [],
   "source": [
    "spark.conf.set(\"spark.sql.caseSensitive\", \"true\")"
   ]
  },
  {
   "cell_type": "code",
   "execution_count": 11,
   "id": "8b002878",
   "metadata": {
    "ExecuteTime": {
     "end_time": "2022-06-21T03:43:27.921861Z",
     "start_time": "2022-06-21T03:41:35.237322Z"
    }
   },
   "outputs": [],
   "source": [
    "df = spark.read.json(\"/Users/Chao/Downloads/Electronics.json.gz\")"
   ]
  },
  {
   "cell_type": "code",
   "execution_count": 13,
   "id": "19b1b8e9",
   "metadata": {
    "ExecuteTime": {
     "end_time": "2022-06-21T03:45:11.503412Z",
     "start_time": "2022-06-21T03:45:11.494555Z"
    }
   },
   "outputs": [
    {
     "name": "stdout",
     "output_type": "stream",
     "text": [
      "root\n",
      " |-- asin: string (nullable = true)\n",
      " |-- image: array (nullable = true)\n",
      " |    |-- element: string (containsNull = true)\n",
      " |-- overall: double (nullable = true)\n",
      " |-- reviewText: string (nullable = true)\n",
      " |-- reviewTime: string (nullable = true)\n",
      " |-- reviewerID: string (nullable = true)\n",
      " |-- reviewerName: string (nullable = true)\n",
      " |-- style: struct (nullable = true)\n",
      " |    |-- Capacity:: string (nullable = true)\n",
      " |    |-- Color Name:: string (nullable = true)\n",
      " |    |-- Color:: string (nullable = true)\n",
      " |    |-- Colorj:: string (nullable = true)\n",
      " |    |-- Colour:: string (nullable = true)\n",
      " |    |-- Configuration:: string (nullable = true)\n",
      " |    |-- Design:: string (nullable = true)\n",
      " |    |-- Digital Storage Capacity:: string (nullable = true)\n",
      " |    |-- Edition:: string (nullable = true)\n",
      " |    |-- Flavor Name:: string (nullable = true)\n",
      " |    |-- Format:: string (nullable = true)\n",
      " |    |-- Grip Type:: string (nullable = true)\n",
      " |    |-- Item Display Length:: string (nullable = true)\n",
      " |    |-- Item Package Quantity:: string (nullable = true)\n",
      " |    |-- Length Range:: string (nullable = true)\n",
      " |    |-- Length:: string (nullable = true)\n",
      " |    |-- Material Type:: string (nullable = true)\n",
      " |    |-- Metal Type:: string (nullable = true)\n",
      " |    |-- Model Name:: string (nullable = true)\n",
      " |    |-- Model Number:: string (nullable = true)\n",
      " |    |-- Model:: string (nullable = true)\n",
      " |    |-- Number of Items:: string (nullable = true)\n",
      " |    |-- Offer Type:: string (nullable = true)\n",
      " |    |-- Package Quantity:: string (nullable = true)\n",
      " |    |-- Package Type:: string (nullable = true)\n",
      " |    |-- Pattern:: string (nullable = true)\n",
      " |    |-- Platform for Display:: string (nullable = true)\n",
      " |    |-- Platform:: string (nullable = true)\n",
      " |    |-- Preamplifier Output Channel Quantity:: string (nullable = true)\n",
      " |    |-- Processor Description:: string (nullable = true)\n",
      " |    |-- Product Packaging:: string (nullable = true)\n",
      " |    |-- Service plan term:: string (nullable = true)\n",
      " |    |-- Shape:: string (nullable = true)\n",
      " |    |-- Size Name:: string (nullable = true)\n",
      " |    |-- Size:: string (nullable = true)\n",
      " |    |-- Style Name:: string (nullable = true)\n",
      " |    |-- Style:: string (nullable = true)\n",
      " |    |-- Team Name:: string (nullable = true)\n",
      " |    |-- Tension Supported:: string (nullable = true)\n",
      " |    |-- Wattage:: string (nullable = true)\n",
      " |    |-- Width:: string (nullable = true)\n",
      " |    |-- processor_description:: string (nullable = true)\n",
      " |    |-- style name:: string (nullable = true)\n",
      " |    |-- style:: string (nullable = true)\n",
      " |-- summary: string (nullable = true)\n",
      " |-- unixReviewTime: long (nullable = true)\n",
      " |-- verified: boolean (nullable = true)\n",
      " |-- vote: string (nullable = true)\n",
      "\n"
     ]
    }
   ],
   "source": [
    "df.printSchema()"
   ]
  },
  {
   "cell_type": "code",
   "execution_count": 18,
   "id": "fa9d10a6",
   "metadata": {
    "ExecuteTime": {
     "end_time": "2022-06-21T03:47:03.634086Z",
     "start_time": "2022-06-21T03:47:03.405395Z"
    }
   },
   "outputs": [
    {
     "data": {
      "text/plain": [
       "[Row(vote=None, asin='0060009810'),\n",
       " Row(vote=None, asin='0060009810'),\n",
       " Row(vote='2', asin='0060009810')]"
      ]
     },
     "execution_count": 18,
     "metadata": {},
     "output_type": "execute_result"
    }
   ],
   "source": [
    "df[['vote', 'asin']].head(3)"
   ]
  },
  {
   "cell_type": "code",
   "execution_count": 22,
   "id": "2b0d6424",
   "metadata": {
    "ExecuteTime": {
     "end_time": "2022-06-21T03:51:19.730511Z",
     "start_time": "2022-06-21T03:51:19.627616Z"
    }
   },
   "outputs": [
    {
     "data": {
      "text/plain": [
       "[Row(reviewText=\"This was the first time I read Garcia-Aguilera.  I came upon the name of this book on Live with Regis and Kelly. This book was exactly what I was looking for ... it hit the spot.  I really enjoyed this book because it was well written. Once I started this book it kept me coming back for more. It had culture, family, friendship and romance. I was looking for a little more romance when I picked this book but in the end it turned out to be just right.  I love the main chartachter Margarita (aka Daisy). I've never been to Miami but the way Daisy told the story I certainly felt I'd been there.\\nAlso after going through all of Daisy's perils ... I closed the book with a feeling I had grown emotionally as well.\"),\n",
       " Row(reviewText=\"As with all of Ms. Garcia-Aguilera's books, I think this is a MUST READ, impossible to put down. Successful deviation from past Lupe Solano series-captures the very essence of the excitement, local color and diverse fabric of MIAMI. Sensual and culturally enlightened!\"),\n",
       " Row(reviewText=\"I've not read any of Ms Aguilera's works before, but after having just finished One Hot Summer I'm going to check out the Lupe Solano series I've heard so much about.  One Hot Summer is sooo steamy! Made me want to move to Miami!  Couldn't put the book down.\")]"
      ]
     },
     "execution_count": 22,
     "metadata": {},
     "output_type": "execute_result"
    }
   ],
   "source": [
    "df[['reviewText']].head(3)"
   ]
  },
  {
   "cell_type": "code",
   "execution_count": null,
   "id": "881c751c",
   "metadata": {},
   "outputs": [],
   "source": []
  }
 ],
 "metadata": {
  "kernelspec": {
   "display_name": "Python 3",
   "language": "python",
   "name": "python3"
  },
  "language_info": {
   "codemirror_mode": {
    "name": "ipython",
    "version": 3
   },
   "file_extension": ".py",
   "mimetype": "text/x-python",
   "name": "python",
   "nbconvert_exporter": "python",
   "pygments_lexer": "ipython3",
   "version": "3.8.13"
  },
  "toc": {
   "base_numbering": 1,
   "nav_menu": {},
   "number_sections": true,
   "sideBar": true,
   "skip_h1_title": false,
   "title_cell": "Table of Contents",
   "title_sidebar": "Contents",
   "toc_cell": false,
   "toc_position": {},
   "toc_section_display": true,
   "toc_window_display": false
  },
  "varInspector": {
   "cols": {
    "lenName": 16,
    "lenType": 16,
    "lenVar": 40
   },
   "kernels_config": {
    "python": {
     "delete_cmd_postfix": "",
     "delete_cmd_prefix": "del ",
     "library": "var_list.py",
     "varRefreshCmd": "print(var_dic_list())"
    },
    "r": {
     "delete_cmd_postfix": ") ",
     "delete_cmd_prefix": "rm(",
     "library": "var_list.r",
     "varRefreshCmd": "cat(var_dic_list()) "
    }
   },
   "types_to_exclude": [
    "module",
    "function",
    "builtin_function_or_method",
    "instance",
    "_Feature"
   ],
   "window_display": false
  }
 },
 "nbformat": 4,
 "nbformat_minor": 5
}
