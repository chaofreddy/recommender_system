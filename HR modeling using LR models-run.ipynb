{
 "cells": [
  {
   "cell_type": "code",
   "execution_count": 1,
   "id": "3cb2f51d",
   "metadata": {
    "ExecuteTime": {
     "end_time": "2022-06-30T23:58:39.869432Z",
     "start_time": "2022-06-30T23:58:38.605848Z"
    }
   },
   "outputs": [],
   "source": [
    "import pandas as pd"
   ]
  },
  {
   "cell_type": "code",
   "execution_count": 2,
   "id": "bbd9f690",
   "metadata": {
    "ExecuteTime": {
     "end_time": "2022-06-30T23:58:40.300956Z",
     "start_time": "2022-06-30T23:58:39.922666Z"
    }
   },
   "outputs": [],
   "source": [
    "df = pd.read_pickle('HR_proper_light_with_meta.pkl')"
   ]
  },
  {
   "cell_type": "code",
   "execution_count": 3,
   "id": "9bb5c346",
   "metadata": {
    "ExecuteTime": {
     "end_time": "2022-06-30T23:58:40.933436Z",
     "start_time": "2022-06-30T23:58:40.896372Z"
    }
   },
   "outputs": [
    {
     "data": {
      "text/html": [
       "<div>\n",
       "<style scoped>\n",
       "    .dataframe tbody tr th:only-of-type {\n",
       "        vertical-align: middle;\n",
       "    }\n",
       "\n",
       "    .dataframe tbody tr th {\n",
       "        vertical-align: top;\n",
       "    }\n",
       "\n",
       "    .dataframe thead th {\n",
       "        text-align: right;\n",
       "    }\n",
       "</style>\n",
       "<table border=\"1\" class=\"dataframe\">\n",
       "  <thead>\n",
       "    <tr style=\"text-align: right;\">\n",
       "      <th></th>\n",
       "      <th>id</th>\n",
       "      <th>userId</th>\n",
       "      <th>gender</th>\n",
       "      <th>sport</th>\n",
       "      <th>heart_rate_mean</th>\n",
       "      <th>heart_rate_std</th>\n",
       "      <th>duration_s</th>\n",
       "      <th>start_end</th>\n",
       "      <th>altitude_mean</th>\n",
       "      <th>altitude_std</th>\n",
       "      <th>...</th>\n",
       "      <th>distance_total_m</th>\n",
       "      <th>speed_mean</th>\n",
       "      <th>speed_std</th>\n",
       "      <th>hydration</th>\n",
       "      <th>ascent</th>\n",
       "      <th>descent</th>\n",
       "      <th>calories</th>\n",
       "      <th>distance</th>\n",
       "      <th>weather</th>\n",
       "      <th>start_time</th>\n",
       "    </tr>\n",
       "  </thead>\n",
       "  <tbody>\n",
       "    <tr>\n",
       "      <th>0</th>\n",
       "      <td>396826535</td>\n",
       "      <td>10921915</td>\n",
       "      <td>male</td>\n",
       "      <td>bike</td>\n",
       "      <td>152.650</td>\n",
       "      <td>10.229736</td>\n",
       "      <td>7589.0</td>\n",
       "      <td>[1408898746.0, 1408906335.0]</td>\n",
       "      <td>43.0712</td>\n",
       "      <td>13.475900</td>\n",
       "      <td>...</td>\n",
       "      <td>53048.413644</td>\n",
       "      <td>7.117435</td>\n",
       "      <td>2.182678</td>\n",
       "      <td>NaN</td>\n",
       "      <td>423.0</td>\n",
       "      <td>428.0</td>\n",
       "      <td>1562.0</td>\n",
       "      <td>53.88458</td>\n",
       "      <td>3.0</td>\n",
       "      <td>2014-08-24T09:45:46.000Z</td>\n",
       "    </tr>\n",
       "    <tr>\n",
       "      <th>1</th>\n",
       "      <td>392337038</td>\n",
       "      <td>10921915</td>\n",
       "      <td>male</td>\n",
       "      <td>bike</td>\n",
       "      <td>147.710</td>\n",
       "      <td>10.970046</td>\n",
       "      <td>4440.0</td>\n",
       "      <td>[1408221682.0, 1408226122.0]</td>\n",
       "      <td>35.7248</td>\n",
       "      <td>10.376062</td>\n",
       "      <td>...</td>\n",
       "      <td>32466.566953</td>\n",
       "      <td>7.550103</td>\n",
       "      <td>2.272863</td>\n",
       "      <td>NaN</td>\n",
       "      <td>227.0</td>\n",
       "      <td>230.0</td>\n",
       "      <td>908.0</td>\n",
       "      <td>32.60639</td>\n",
       "      <td>6.0</td>\n",
       "      <td>2014-08-16T13:41:22.000Z</td>\n",
       "    </tr>\n",
       "    <tr>\n",
       "      <th>2</th>\n",
       "      <td>389643739</td>\n",
       "      <td>10921915</td>\n",
       "      <td>male</td>\n",
       "      <td>bike</td>\n",
       "      <td>140.554</td>\n",
       "      <td>11.319500</td>\n",
       "      <td>6749.0</td>\n",
       "      <td>[1407858459.0, 1407865208.0]</td>\n",
       "      <td>62.4256</td>\n",
       "      <td>13.217515</td>\n",
       "      <td>...</td>\n",
       "      <td>45308.570377</td>\n",
       "      <td>7.154326</td>\n",
       "      <td>2.150951</td>\n",
       "      <td>NaN</td>\n",
       "      <td>336.0</td>\n",
       "      <td>360.0</td>\n",
       "      <td>1138.0</td>\n",
       "      <td>45.68974</td>\n",
       "      <td>3.0</td>\n",
       "      <td>2014-08-12T08:47:39.000Z</td>\n",
       "    </tr>\n",
       "    <tr>\n",
       "      <th>3</th>\n",
       "      <td>386729739</td>\n",
       "      <td>10921915</td>\n",
       "      <td>male</td>\n",
       "      <td>bike</td>\n",
       "      <td>147.020</td>\n",
       "      <td>11.414885</td>\n",
       "      <td>4519.0</td>\n",
       "      <td>[1407432042.0, 1407436561.0]</td>\n",
       "      <td>32.6104</td>\n",
       "      <td>11.417463</td>\n",
       "      <td>...</td>\n",
       "      <td>32528.910062</td>\n",
       "      <td>7.416873</td>\n",
       "      <td>2.201268</td>\n",
       "      <td>NaN</td>\n",
       "      <td>245.0</td>\n",
       "      <td>241.0</td>\n",
       "      <td>921.0</td>\n",
       "      <td>32.70480</td>\n",
       "      <td>NaN</td>\n",
       "      <td>2014-08-07T10:20:42.000Z</td>\n",
       "    </tr>\n",
       "    <tr>\n",
       "      <th>4</th>\n",
       "      <td>383186560</td>\n",
       "      <td>10921915</td>\n",
       "      <td>male</td>\n",
       "      <td>bike (transport)</td>\n",
       "      <td>167.154</td>\n",
       "      <td>10.414523</td>\n",
       "      <td>1357.0</td>\n",
       "      <td>[1406909434.0, 1406910791.0]</td>\n",
       "      <td>22.7620</td>\n",
       "      <td>8.383674</td>\n",
       "      <td>...</td>\n",
       "      <td>11935.117059</td>\n",
       "      <td>8.721936</td>\n",
       "      <td>2.388718</td>\n",
       "      <td>NaN</td>\n",
       "      <td>90.0</td>\n",
       "      <td>108.0</td>\n",
       "      <td>350.0</td>\n",
       "      <td>11.92104</td>\n",
       "      <td>3.0</td>\n",
       "      <td>2014-08-01T09:10:34.000Z</td>\n",
       "    </tr>\n",
       "  </tbody>\n",
       "</table>\n",
       "<p>5 rows × 24 columns</p>\n",
       "</div>"
      ],
      "text/plain": [
       "          id    userId gender             sport  heart_rate_mean  \\\n",
       "0  396826535  10921915   male              bike          152.650   \n",
       "1  392337038  10921915   male              bike          147.710   \n",
       "2  389643739  10921915   male              bike          140.554   \n",
       "3  386729739  10921915   male              bike          147.020   \n",
       "4  383186560  10921915   male  bike (transport)          167.154   \n",
       "\n",
       "   heart_rate_std  duration_s                     start_end  altitude_mean  \\\n",
       "0       10.229736      7589.0  [1408898746.0, 1408906335.0]        43.0712   \n",
       "1       10.970046      4440.0  [1408221682.0, 1408226122.0]        35.7248   \n",
       "2       11.319500      6749.0  [1407858459.0, 1407865208.0]        62.4256   \n",
       "3       11.414885      4519.0  [1407432042.0, 1407436561.0]        32.6104   \n",
       "4       10.414523      1357.0  [1406909434.0, 1406910791.0]        22.7620   \n",
       "\n",
       "   altitude_std  ...  distance_total_m  speed_mean  speed_std  hydration  \\\n",
       "0     13.475900  ...      53048.413644    7.117435   2.182678        NaN   \n",
       "1     10.376062  ...      32466.566953    7.550103   2.272863        NaN   \n",
       "2     13.217515  ...      45308.570377    7.154326   2.150951        NaN   \n",
       "3     11.417463  ...      32528.910062    7.416873   2.201268        NaN   \n",
       "4      8.383674  ...      11935.117059    8.721936   2.388718        NaN   \n",
       "\n",
       "   ascent  descent  calories  distance  weather                start_time  \n",
       "0   423.0    428.0    1562.0  53.88458      3.0  2014-08-24T09:45:46.000Z  \n",
       "1   227.0    230.0     908.0  32.60639      6.0  2014-08-16T13:41:22.000Z  \n",
       "2   336.0    360.0    1138.0  45.68974      3.0  2014-08-12T08:47:39.000Z  \n",
       "3   245.0    241.0     921.0  32.70480      NaN  2014-08-07T10:20:42.000Z  \n",
       "4    90.0    108.0     350.0  11.92104      3.0  2014-08-01T09:10:34.000Z  \n",
       "\n",
       "[5 rows x 24 columns]"
      ]
     },
     "execution_count": 3,
     "metadata": {},
     "output_type": "execute_result"
    }
   ],
   "source": [
    "df.head()"
   ]
  },
  {
   "cell_type": "code",
   "execution_count": 5,
   "id": "d323e807",
   "metadata": {
    "ExecuteTime": {
     "end_time": "2022-06-30T23:59:35.620573Z",
     "start_time": "2022-06-30T23:59:35.586132Z"
    }
   },
   "outputs": [],
   "source": [
    "# Drop features not needed\n",
    "df_run_selected = df[df['sport']=='run'].drop(['id','userId','start_end','hydration','weather','start_time','ascent','descent','distance','sport'],axis=1).reset_index(drop=True)"
   ]
  },
  {
   "cell_type": "code",
   "execution_count": 6,
   "id": "2620e1a0",
   "metadata": {
    "ExecuteTime": {
     "end_time": "2022-06-30T23:59:38.854251Z",
     "start_time": "2022-06-30T23:59:38.833849Z"
    }
   },
   "outputs": [
    {
     "data": {
      "text/html": [
       "<div>\n",
       "<style scoped>\n",
       "    .dataframe tbody tr th:only-of-type {\n",
       "        vertical-align: middle;\n",
       "    }\n",
       "\n",
       "    .dataframe tbody tr th {\n",
       "        vertical-align: top;\n",
       "    }\n",
       "\n",
       "    .dataframe thead th {\n",
       "        text-align: right;\n",
       "    }\n",
       "</style>\n",
       "<table border=\"1\" class=\"dataframe\">\n",
       "  <thead>\n",
       "    <tr style=\"text-align: right;\">\n",
       "      <th></th>\n",
       "      <th>gender</th>\n",
       "      <th>heart_rate_mean</th>\n",
       "      <th>heart_rate_std</th>\n",
       "      <th>duration_s</th>\n",
       "      <th>altitude_mean</th>\n",
       "      <th>altitude_std</th>\n",
       "      <th>ascend_m</th>\n",
       "      <th>descend_m</th>\n",
       "      <th>distance_mean_m</th>\n",
       "      <th>distance_std_m</th>\n",
       "      <th>distance_total_m</th>\n",
       "      <th>speed_mean</th>\n",
       "      <th>speed_std</th>\n",
       "      <th>calories</th>\n",
       "    </tr>\n",
       "  </thead>\n",
       "  <tbody>\n",
       "    <tr>\n",
       "      <th>0</th>\n",
       "      <td>male</td>\n",
       "      <td>122.104</td>\n",
       "      <td>36.110624</td>\n",
       "      <td>3888.0</td>\n",
       "      <td>-31.706000</td>\n",
       "      <td>127.669161</td>\n",
       "      <td>484.400000</td>\n",
       "      <td>277.600000</td>\n",
       "      <td>17.326975</td>\n",
       "      <td>13.226804</td>\n",
       "      <td>8646.160704</td>\n",
       "      <td>2.228765</td>\n",
       "      <td>1.699342</td>\n",
       "      <td>436.0</td>\n",
       "    </tr>\n",
       "    <tr>\n",
       "      <th>1</th>\n",
       "      <td>male</td>\n",
       "      <td>146.994</td>\n",
       "      <td>22.000954</td>\n",
       "      <td>4204.0</td>\n",
       "      <td>41.671200</td>\n",
       "      <td>7.548566</td>\n",
       "      <td>98.400000</td>\n",
       "      <td>107.400000</td>\n",
       "      <td>28.597065</td>\n",
       "      <td>6.540468</td>\n",
       "      <td>14269.935642</td>\n",
       "      <td>3.398481</td>\n",
       "      <td>0.750274</td>\n",
       "      <td>577.0</td>\n",
       "    </tr>\n",
       "    <tr>\n",
       "      <th>2</th>\n",
       "      <td>male</td>\n",
       "      <td>127.922</td>\n",
       "      <td>5.140420</td>\n",
       "      <td>10126.0</td>\n",
       "      <td>41.382400</td>\n",
       "      <td>7.657384</td>\n",
       "      <td>226.600000</td>\n",
       "      <td>186.200000</td>\n",
       "      <td>58.965577</td>\n",
       "      <td>6.892670</td>\n",
       "      <td>29423.822933</td>\n",
       "      <td>3.074118</td>\n",
       "      <td>0.336376</td>\n",
       "      <td>1260.0</td>\n",
       "    </tr>\n",
       "    <tr>\n",
       "      <th>3</th>\n",
       "      <td>male</td>\n",
       "      <td>134.918</td>\n",
       "      <td>10.276540</td>\n",
       "      <td>6503.0</td>\n",
       "      <td>34.125600</td>\n",
       "      <td>3.868383</td>\n",
       "      <td>124.000000</td>\n",
       "      <td>124.000000</td>\n",
       "      <td>43.890768</td>\n",
       "      <td>6.285746</td>\n",
       "      <td>21901.493436</td>\n",
       "      <td>3.368984</td>\n",
       "      <td>0.465616</td>\n",
       "      <td>1025.0</td>\n",
       "    </tr>\n",
       "    <tr>\n",
       "      <th>4</th>\n",
       "      <td>male</td>\n",
       "      <td>132.414</td>\n",
       "      <td>15.003020</td>\n",
       "      <td>5118.0</td>\n",
       "      <td>45.097200</td>\n",
       "      <td>9.075183</td>\n",
       "      <td>86.000000</td>\n",
       "      <td>105.800000</td>\n",
       "      <td>33.758745</td>\n",
       "      <td>2.960630</td>\n",
       "      <td>16845.613772</td>\n",
       "      <td>3.292878</td>\n",
       "      <td>0.232860</td>\n",
       "      <td>775.0</td>\n",
       "    </tr>\n",
       "    <tr>\n",
       "      <th>...</th>\n",
       "      <td>...</td>\n",
       "      <td>...</td>\n",
       "      <td>...</td>\n",
       "      <td>...</td>\n",
       "      <td>...</td>\n",
       "      <td>...</td>\n",
       "      <td>...</td>\n",
       "      <td>...</td>\n",
       "      <td>...</td>\n",
       "      <td>...</td>\n",
       "      <td>...</td>\n",
       "      <td>...</td>\n",
       "      <td>...</td>\n",
       "      <td>...</td>\n",
       "    </tr>\n",
       "    <tr>\n",
       "      <th>70586</th>\n",
       "      <td>male</td>\n",
       "      <td>142.248</td>\n",
       "      <td>8.066381</td>\n",
       "      <td>6798.0</td>\n",
       "      <td>31.075200</td>\n",
       "      <td>14.982164</td>\n",
       "      <td>166.800000</td>\n",
       "      <td>170.600000</td>\n",
       "      <td>37.445890</td>\n",
       "      <td>15.883178</td>\n",
       "      <td>18685.499122</td>\n",
       "      <td>2.858465</td>\n",
       "      <td>0.328005</td>\n",
       "      <td>1511.0</td>\n",
       "    </tr>\n",
       "    <tr>\n",
       "      <th>70587</th>\n",
       "      <td>male</td>\n",
       "      <td>140.498</td>\n",
       "      <td>8.853135</td>\n",
       "      <td>5122.0</td>\n",
       "      <td>35.584400</td>\n",
       "      <td>22.812477</td>\n",
       "      <td>133.400000</td>\n",
       "      <td>133.400000</td>\n",
       "      <td>32.008984</td>\n",
       "      <td>9.230426</td>\n",
       "      <td>15972.483084</td>\n",
       "      <td>3.113191</td>\n",
       "      <td>0.350988</td>\n",
       "      <td>1554.0</td>\n",
       "    </tr>\n",
       "    <tr>\n",
       "      <th>70588</th>\n",
       "      <td>male</td>\n",
       "      <td>169.894</td>\n",
       "      <td>12.732587</td>\n",
       "      <td>700.0</td>\n",
       "      <td>14.599420</td>\n",
       "      <td>5.357932</td>\n",
       "      <td>84.595619</td>\n",
       "      <td>85.557119</td>\n",
       "      <td>5.598007</td>\n",
       "      <td>2.138988</td>\n",
       "      <td>2793.405650</td>\n",
       "      <td>3.985560</td>\n",
       "      <td>0.499092</td>\n",
       "      <td>280.0</td>\n",
       "    </tr>\n",
       "    <tr>\n",
       "      <th>70589</th>\n",
       "      <td>male</td>\n",
       "      <td>160.842</td>\n",
       "      <td>9.856421</td>\n",
       "      <td>720.0</td>\n",
       "      <td>49.900939</td>\n",
       "      <td>5.624594</td>\n",
       "      <td>85.076600</td>\n",
       "      <td>100.938300</td>\n",
       "      <td>5.605276</td>\n",
       "      <td>2.102335</td>\n",
       "      <td>2797.032946</td>\n",
       "      <td>3.887304</td>\n",
       "      <td>0.527690</td>\n",
       "      <td>292.0</td>\n",
       "    </tr>\n",
       "    <tr>\n",
       "      <th>70590</th>\n",
       "      <td>male</td>\n",
       "      <td>157.656</td>\n",
       "      <td>3.077932</td>\n",
       "      <td>1789.0</td>\n",
       "      <td>15.297314</td>\n",
       "      <td>5.306369</td>\n",
       "      <td>169.191954</td>\n",
       "      <td>176.401894</td>\n",
       "      <td>10.963741</td>\n",
       "      <td>1.900468</td>\n",
       "      <td>5470.906974</td>\n",
       "      <td>3.059982</td>\n",
       "      <td>0.281318</td>\n",
       "      <td>646.0</td>\n",
       "    </tr>\n",
       "  </tbody>\n",
       "</table>\n",
       "<p>70591 rows × 14 columns</p>\n",
       "</div>"
      ],
      "text/plain": [
       "      gender  heart_rate_mean  heart_rate_std  duration_s  altitude_mean  \\\n",
       "0       male          122.104       36.110624      3888.0     -31.706000   \n",
       "1       male          146.994       22.000954      4204.0      41.671200   \n",
       "2       male          127.922        5.140420     10126.0      41.382400   \n",
       "3       male          134.918       10.276540      6503.0      34.125600   \n",
       "4       male          132.414       15.003020      5118.0      45.097200   \n",
       "...      ...              ...             ...         ...            ...   \n",
       "70586   male          142.248        8.066381      6798.0      31.075200   \n",
       "70587   male          140.498        8.853135      5122.0      35.584400   \n",
       "70588   male          169.894       12.732587       700.0      14.599420   \n",
       "70589   male          160.842        9.856421       720.0      49.900939   \n",
       "70590   male          157.656        3.077932      1789.0      15.297314   \n",
       "\n",
       "       altitude_std    ascend_m   descend_m  distance_mean_m  distance_std_m  \\\n",
       "0        127.669161  484.400000  277.600000        17.326975       13.226804   \n",
       "1          7.548566   98.400000  107.400000        28.597065        6.540468   \n",
       "2          7.657384  226.600000  186.200000        58.965577        6.892670   \n",
       "3          3.868383  124.000000  124.000000        43.890768        6.285746   \n",
       "4          9.075183   86.000000  105.800000        33.758745        2.960630   \n",
       "...             ...         ...         ...              ...             ...   \n",
       "70586     14.982164  166.800000  170.600000        37.445890       15.883178   \n",
       "70587     22.812477  133.400000  133.400000        32.008984        9.230426   \n",
       "70588      5.357932   84.595619   85.557119         5.598007        2.138988   \n",
       "70589      5.624594   85.076600  100.938300         5.605276        2.102335   \n",
       "70590      5.306369  169.191954  176.401894        10.963741        1.900468   \n",
       "\n",
       "       distance_total_m  speed_mean  speed_std  calories  \n",
       "0           8646.160704    2.228765   1.699342     436.0  \n",
       "1          14269.935642    3.398481   0.750274     577.0  \n",
       "2          29423.822933    3.074118   0.336376    1260.0  \n",
       "3          21901.493436    3.368984   0.465616    1025.0  \n",
       "4          16845.613772    3.292878   0.232860     775.0  \n",
       "...                 ...         ...        ...       ...  \n",
       "70586      18685.499122    2.858465   0.328005    1511.0  \n",
       "70587      15972.483084    3.113191   0.350988    1554.0  \n",
       "70588       2793.405650    3.985560   0.499092     280.0  \n",
       "70589       2797.032946    3.887304   0.527690     292.0  \n",
       "70590       5470.906974    3.059982   0.281318     646.0  \n",
       "\n",
       "[70591 rows x 14 columns]"
      ]
     },
     "execution_count": 6,
     "metadata": {},
     "output_type": "execute_result"
    }
   ],
   "source": [
    "df_run_selected"
   ]
  },
  {
   "cell_type": "code",
   "execution_count": 7,
   "id": "b6e71fcd",
   "metadata": {
    "ExecuteTime": {
     "end_time": "2022-06-30T23:59:43.439396Z",
     "start_time": "2022-06-30T23:59:43.420312Z"
    },
    "scrolled": true
   },
   "outputs": [
    {
     "data": {
      "text/plain": [
       "gender                0\n",
       "heart_rate_mean       0\n",
       "heart_rate_std        0\n",
       "duration_s            0\n",
       "altitude_mean         0\n",
       "altitude_std          0\n",
       "ascend_m              0\n",
       "descend_m             0\n",
       "distance_mean_m       0\n",
       "distance_std_m        0\n",
       "distance_total_m      0\n",
       "speed_mean            0\n",
       "speed_std             0\n",
       "calories            142\n",
       "dtype: int64"
      ]
     },
     "execution_count": 7,
     "metadata": {},
     "output_type": "execute_result"
    }
   ],
   "source": [
    "df_run_selected.isnull().sum()"
   ]
  },
  {
   "cell_type": "code",
   "execution_count": 9,
   "id": "ddb5269b",
   "metadata": {
    "ExecuteTime": {
     "end_time": "2022-07-01T00:00:00.893397Z",
     "start_time": "2022-06-30T23:59:57.873452Z"
    }
   },
   "outputs": [],
   "source": [
    "import seaborn as sns"
   ]
  },
  {
   "cell_type": "code",
   "execution_count": 10,
   "id": "ca161c72",
   "metadata": {
    "ExecuteTime": {
     "end_time": "2022-07-01T00:00:03.216851Z",
     "start_time": "2022-07-01T00:00:01.581682Z"
    }
   },
   "outputs": [
    {
     "data": {
      "text/plain": [
       "<seaborn.axisgrid.FacetGrid at 0x7fa7ee22f190>"
      ]
     },
     "execution_count": 10,
     "metadata": {},
     "output_type": "execute_result"
    },
    {
     "data": {
      "image/png": "[encoded data removed]",
      "text/plain": [
       "<Figure size 360x360 with 1 Axes>"
      ]
     },
     "metadata": {
      "needs_background": "light"
     },
     "output_type": "display_data"
    }
   ],
   "source": [
    "sns.displot(df_run_selected['heart_rate_mean'])"
   ]
  },
  {
   "cell_type": "code",
   "execution_count": 12,
   "id": "a2eca431",
   "metadata": {
    "ExecuteTime": {
     "end_time": "2022-07-01T00:00:32.774048Z",
     "start_time": "2022-07-01T00:00:32.751057Z"
    },
    "run_control": {
     "marked": false
    }
   },
   "outputs": [
    {
     "data": {
      "text/html": [
       "<div>\n",
       "<style scoped>\n",
       "    .dataframe tbody tr th:only-of-type {\n",
       "        vertical-align: middle;\n",
       "    }\n",
       "\n",
       "    .dataframe tbody tr th {\n",
       "        vertical-align: top;\n",
       "    }\n",
       "\n",
       "    .dataframe thead th {\n",
       "        text-align: right;\n",
       "    }\n",
       "</style>\n",
       "<table border=\"1\" class=\"dataframe\">\n",
       "  <thead>\n",
       "    <tr style=\"text-align: right;\">\n",
       "      <th></th>\n",
       "      <th>gender</th>\n",
       "      <th>heart_rate_mean</th>\n",
       "      <th>heart_rate_std</th>\n",
       "      <th>duration_s</th>\n",
       "      <th>altitude_mean</th>\n",
       "      <th>altitude_std</th>\n",
       "      <th>ascend_m</th>\n",
       "      <th>descend_m</th>\n",
       "      <th>distance_mean_m</th>\n",
       "      <th>distance_std_m</th>\n",
       "      <th>distance_total_m</th>\n",
       "      <th>speed_mean</th>\n",
       "      <th>speed_std</th>\n",
       "      <th>calories</th>\n",
       "    </tr>\n",
       "  </thead>\n",
       "  <tbody>\n",
       "    <tr>\n",
       "      <th>10431</th>\n",
       "      <td>male</td>\n",
       "      <td>-800.836</td>\n",
       "      <td>890.3106</td>\n",
       "      <td>4080.0</td>\n",
       "      <td>-33.794545</td>\n",
       "      <td>2.665634</td>\n",
       "      <td>96.0</td>\n",
       "      <td>97.0</td>\n",
       "      <td>21.982585</td>\n",
       "      <td>3.098326</td>\n",
       "      <td>10969.310072</td>\n",
       "      <td>2.688436</td>\n",
       "      <td>0.287665</td>\n",
       "      <td>-127.617</td>\n",
       "    </tr>\n",
       "    <tr>\n",
       "      <th>11618</th>\n",
       "      <td>male</td>\n",
       "      <td>0.000</td>\n",
       "      <td>0.0000</td>\n",
       "      <td>4327.0</td>\n",
       "      <td>154.226000</td>\n",
       "      <td>24.448045</td>\n",
       "      <td>649.0</td>\n",
       "      <td>667.0</td>\n",
       "      <td>16.593699</td>\n",
       "      <td>6.232108</td>\n",
       "      <td>8280.256032</td>\n",
       "      <td>2.394467</td>\n",
       "      <td>0.622352</td>\n",
       "      <td>1286.210</td>\n",
       "    </tr>\n",
       "    <tr>\n",
       "      <th>11619</th>\n",
       "      <td>male</td>\n",
       "      <td>0.000</td>\n",
       "      <td>0.0000</td>\n",
       "      <td>4596.0</td>\n",
       "      <td>139.798000</td>\n",
       "      <td>16.112517</td>\n",
       "      <td>313.0</td>\n",
       "      <td>315.0</td>\n",
       "      <td>20.934820</td>\n",
       "      <td>22.581963</td>\n",
       "      <td>10446.475180</td>\n",
       "      <td>2.346184</td>\n",
       "      <td>0.604984</td>\n",
       "      <td>1303.310</td>\n",
       "    </tr>\n",
       "    <tr>\n",
       "      <th>11620</th>\n",
       "      <td>male</td>\n",
       "      <td>0.000</td>\n",
       "      <td>0.0000</td>\n",
       "      <td>4522.0</td>\n",
       "      <td>141.660000</td>\n",
       "      <td>17.414373</td>\n",
       "      <td>380.0</td>\n",
       "      <td>372.0</td>\n",
       "      <td>20.934327</td>\n",
       "      <td>6.331478</td>\n",
       "      <td>10446.228928</td>\n",
       "      <td>2.340291</td>\n",
       "      <td>0.558495</td>\n",
       "      <td>1296.710</td>\n",
       "    </tr>\n",
       "    <tr>\n",
       "      <th>11621</th>\n",
       "      <td>male</td>\n",
       "      <td>0.000</td>\n",
       "      <td>0.0000</td>\n",
       "      <td>7340.0</td>\n",
       "      <td>95.038000</td>\n",
       "      <td>7.479877</td>\n",
       "      <td>403.0</td>\n",
       "      <td>403.0</td>\n",
       "      <td>36.627006</td>\n",
       "      <td>57.056999</td>\n",
       "      <td>18276.875882</td>\n",
       "      <td>2.517079</td>\n",
       "      <td>0.420118</td>\n",
       "      <td>2228.370</td>\n",
       "    </tr>\n",
       "    <tr>\n",
       "      <th>...</th>\n",
       "      <td>...</td>\n",
       "      <td>...</td>\n",
       "      <td>...</td>\n",
       "      <td>...</td>\n",
       "      <td>...</td>\n",
       "      <td>...</td>\n",
       "      <td>...</td>\n",
       "      <td>...</td>\n",
       "      <td>...</td>\n",
       "      <td>...</td>\n",
       "      <td>...</td>\n",
       "      <td>...</td>\n",
       "      <td>...</td>\n",
       "      <td>...</td>\n",
       "    </tr>\n",
       "    <tr>\n",
       "      <th>48329</th>\n",
       "      <td>male</td>\n",
       "      <td>0.000</td>\n",
       "      <td>0.0000</td>\n",
       "      <td>3713.0</td>\n",
       "      <td>246.848000</td>\n",
       "      <td>8.455111</td>\n",
       "      <td>410.0</td>\n",
       "      <td>387.0</td>\n",
       "      <td>21.634528</td>\n",
       "      <td>3.715457</td>\n",
       "      <td>10795.629659</td>\n",
       "      <td>2.906604</td>\n",
       "      <td>0.323084</td>\n",
       "      <td>988.154</td>\n",
       "    </tr>\n",
       "    <tr>\n",
       "      <th>48330</th>\n",
       "      <td>male</td>\n",
       "      <td>0.000</td>\n",
       "      <td>0.0000</td>\n",
       "      <td>3542.0</td>\n",
       "      <td>250.860000</td>\n",
       "      <td>14.063300</td>\n",
       "      <td>479.0</td>\n",
       "      <td>444.0</td>\n",
       "      <td>19.976293</td>\n",
       "      <td>3.574613</td>\n",
       "      <td>9968.170446</td>\n",
       "      <td>2.821248</td>\n",
       "      <td>0.317766</td>\n",
       "      <td>-255.551</td>\n",
       "    </tr>\n",
       "    <tr>\n",
       "      <th>70266</th>\n",
       "      <td>male</td>\n",
       "      <td>0.000</td>\n",
       "      <td>0.0000</td>\n",
       "      <td>1623.0</td>\n",
       "      <td>14.072000</td>\n",
       "      <td>4.242973</td>\n",
       "      <td>41.0</td>\n",
       "      <td>27.0</td>\n",
       "      <td>7.059763</td>\n",
       "      <td>2.006754</td>\n",
       "      <td>3522.821887</td>\n",
       "      <td>2.174977</td>\n",
       "      <td>0.547759</td>\n",
       "      <td>0.000</td>\n",
       "    </tr>\n",
       "    <tr>\n",
       "      <th>70269</th>\n",
       "      <td>male</td>\n",
       "      <td>0.000</td>\n",
       "      <td>0.0000</td>\n",
       "      <td>1933.0</td>\n",
       "      <td>13.276000</td>\n",
       "      <td>8.304205</td>\n",
       "      <td>45.0</td>\n",
       "      <td>26.0</td>\n",
       "      <td>4.324902</td>\n",
       "      <td>1.469751</td>\n",
       "      <td>2158.126162</td>\n",
       "      <td>1.118506</td>\n",
       "      <td>0.366118</td>\n",
       "      <td>0.000</td>\n",
       "    </tr>\n",
       "    <tr>\n",
       "      <th>70293</th>\n",
       "      <td>male</td>\n",
       "      <td>0.000</td>\n",
       "      <td>0.0000</td>\n",
       "      <td>1173.0</td>\n",
       "      <td>25.958000</td>\n",
       "      <td>10.950810</td>\n",
       "      <td>64.0</td>\n",
       "      <td>38.0</td>\n",
       "      <td>4.694302</td>\n",
       "      <td>1.867183</td>\n",
       "      <td>2342.456614</td>\n",
       "      <td>1.995338</td>\n",
       "      <td>0.669594</td>\n",
       "      <td>0.000</td>\n",
       "    </tr>\n",
       "  </tbody>\n",
       "</table>\n",
       "<p>107 rows × 14 columns</p>\n",
       "</div>"
      ],
      "text/plain": [
       "      gender  heart_rate_mean  heart_rate_std  duration_s  altitude_mean  \\\n",
       "10431   male         -800.836        890.3106      4080.0     -33.794545   \n",
       "11618   male            0.000          0.0000      4327.0     154.226000   \n",
       "11619   male            0.000          0.0000      4596.0     139.798000   \n",
       "11620   male            0.000          0.0000      4522.0     141.660000   \n",
       "11621   male            0.000          0.0000      7340.0      95.038000   \n",
       "...      ...              ...             ...         ...            ...   \n",
       "48329   male            0.000          0.0000      3713.0     246.848000   \n",
       "48330   male            0.000          0.0000      3542.0     250.860000   \n",
       "70266   male            0.000          0.0000      1623.0      14.072000   \n",
       "70269   male            0.000          0.0000      1933.0      13.276000   \n",
       "70293   male            0.000          0.0000      1173.0      25.958000   \n",
       "\n",
       "       altitude_std  ascend_m  descend_m  distance_mean_m  distance_std_m  \\\n",
       "10431      2.665634      96.0       97.0        21.982585        3.098326   \n",
       "11618     24.448045     649.0      667.0        16.593699        6.232108   \n",
       "11619     16.112517     313.0      315.0        20.934820       22.581963   \n",
       "11620     17.414373     380.0      372.0        20.934327        6.331478   \n",
       "11621      7.479877     403.0      403.0        36.627006       57.056999   \n",
       "...             ...       ...        ...              ...             ...   \n",
       "48329      8.455111     410.0      387.0        21.634528        3.715457   \n",
       "48330     14.063300     479.0      444.0        19.976293        3.574613   \n",
       "70266      4.242973      41.0       27.0         7.059763        2.006754   \n",
       "70269      8.304205      45.0       26.0         4.324902        1.469751   \n",
       "70293     10.950810      64.0       38.0         4.694302        1.867183   \n",
       "\n",
       "       distance_total_m  speed_mean  speed_std  calories  \n",
       "10431      10969.310072    2.688436   0.287665  -127.617  \n",
       "11618       8280.256032    2.394467   0.622352  1286.210  \n",
       "11619      10446.475180    2.346184   0.604984  1303.310  \n",
       "11620      10446.228928    2.340291   0.558495  1296.710  \n",
       "11621      18276.875882    2.517079   0.420118  2228.370  \n",
       "...                 ...         ...        ...       ...  \n",
       "48329      10795.629659    2.906604   0.323084   988.154  \n",
       "48330       9968.170446    2.821248   0.317766  -255.551  \n",
       "70266       3522.821887    2.174977   0.547759     0.000  \n",
       "70269       2158.126162    1.118506   0.366118     0.000  \n",
       "70293       2342.456614    1.995338   0.669594     0.000  \n",
       "\n",
       "[107 rows x 14 columns]"
      ]
     },
     "execution_count": 12,
     "metadata": {},
     "output_type": "execute_result"
    }
   ],
   "source": [
    "df_run_selected[df_run_selected['heart_rate_mean'] <= 0]"
   ]
  },
  {
   "cell_type": "code",
   "execution_count": 13,
   "id": "bb2db588",
   "metadata": {
    "ExecuteTime": {
     "end_time": "2022-07-01T00:00:54.286002Z",
     "start_time": "2022-07-01T00:00:54.274502Z"
    }
   },
   "outputs": [],
   "source": [
    "# Keep only heart rate above 35 per minute by domain knowledge\n",
    "df_run_selected = df_run_selected[df_run_selected['heart_rate_mean'] >= 35].reset_index(drop=True)"
   ]
  },
  {
   "cell_type": "code",
   "execution_count": 15,
   "id": "28e99664",
   "metadata": {
    "ExecuteTime": {
     "end_time": "2022-07-01T00:00:59.719273Z",
     "start_time": "2022-07-01T00:00:59.696895Z"
    }
   },
   "outputs": [
    {
     "data": {
      "text/html": [
       "<div>\n",
       "<style scoped>\n",
       "    .dataframe tbody tr th:only-of-type {\n",
       "        vertical-align: middle;\n",
       "    }\n",
       "\n",
       "    .dataframe tbody tr th {\n",
       "        vertical-align: top;\n",
       "    }\n",
       "\n",
       "    .dataframe thead th {\n",
       "        text-align: right;\n",
       "    }\n",
       "</style>\n",
       "<table border=\"1\" class=\"dataframe\">\n",
       "  <thead>\n",
       "    <tr style=\"text-align: right;\">\n",
       "      <th></th>\n",
       "      <th>gender</th>\n",
       "      <th>heart_rate_mean</th>\n",
       "      <th>heart_rate_std</th>\n",
       "      <th>duration_s</th>\n",
       "      <th>altitude_mean</th>\n",
       "      <th>altitude_std</th>\n",
       "      <th>ascend_m</th>\n",
       "      <th>descend_m</th>\n",
       "      <th>distance_mean_m</th>\n",
       "      <th>distance_std_m</th>\n",
       "      <th>distance_total_m</th>\n",
       "      <th>speed_mean</th>\n",
       "      <th>speed_std</th>\n",
       "      <th>calories</th>\n",
       "    </tr>\n",
       "  </thead>\n",
       "  <tbody>\n",
       "    <tr>\n",
       "      <th>159</th>\n",
       "      <td>male</td>\n",
       "      <td>145.312</td>\n",
       "      <td>9.127467</td>\n",
       "      <td>4296.0</td>\n",
       "      <td>637.796200</td>\n",
       "      <td>21.695771</td>\n",
       "      <td>175.1000</td>\n",
       "      <td>174.6000</td>\n",
       "      <td>29.897641</td>\n",
       "      <td>3.144701</td>\n",
       "      <td>14918.922890</td>\n",
       "      <td>3.473657</td>\n",
       "      <td>0.276792</td>\n",
       "      <td>NaN</td>\n",
       "    </tr>\n",
       "    <tr>\n",
       "      <th>4288</th>\n",
       "      <td>female</td>\n",
       "      <td>153.020</td>\n",
       "      <td>12.397564</td>\n",
       "      <td>1245.0</td>\n",
       "      <td>221.703200</td>\n",
       "      <td>0.400087</td>\n",
       "      <td>31.0000</td>\n",
       "      <td>30.6000</td>\n",
       "      <td>4.523864</td>\n",
       "      <td>1.662981</td>\n",
       "      <td>2257.408096</td>\n",
       "      <td>1.814453</td>\n",
       "      <td>0.554122</td>\n",
       "      <td>NaN</td>\n",
       "    </tr>\n",
       "    <tr>\n",
       "      <th>6634</th>\n",
       "      <td>male</td>\n",
       "      <td>136.412</td>\n",
       "      <td>6.578013</td>\n",
       "      <td>895.0</td>\n",
       "      <td>157.795600</td>\n",
       "      <td>8.711490</td>\n",
       "      <td>25.7000</td>\n",
       "      <td>33.1000</td>\n",
       "      <td>5.708718</td>\n",
       "      <td>2.269411</td>\n",
       "      <td>2848.650174</td>\n",
       "      <td>3.316483</td>\n",
       "      <td>0.610863</td>\n",
       "      <td>NaN</td>\n",
       "    </tr>\n",
       "    <tr>\n",
       "      <th>6637</th>\n",
       "      <td>male</td>\n",
       "      <td>147.128</td>\n",
       "      <td>11.696821</td>\n",
       "      <td>1147.0</td>\n",
       "      <td>155.299000</td>\n",
       "      <td>9.948876</td>\n",
       "      <td>40.1000</td>\n",
       "      <td>35.7000</td>\n",
       "      <td>6.900838</td>\n",
       "      <td>2.127286</td>\n",
       "      <td>3443.518122</td>\n",
       "      <td>3.428939</td>\n",
       "      <td>0.646602</td>\n",
       "      <td>NaN</td>\n",
       "    </tr>\n",
       "    <tr>\n",
       "      <th>8489</th>\n",
       "      <td>male</td>\n",
       "      <td>138.206</td>\n",
       "      <td>11.940501</td>\n",
       "      <td>5129.0</td>\n",
       "      <td>73.562000</td>\n",
       "      <td>4.226364</td>\n",
       "      <td>72.0000</td>\n",
       "      <td>61.0000</td>\n",
       "      <td>22.331825</td>\n",
       "      <td>6.430869</td>\n",
       "      <td>11143.580808</td>\n",
       "      <td>3.333138</td>\n",
       "      <td>0.969719</td>\n",
       "      <td>NaN</td>\n",
       "    </tr>\n",
       "    <tr>\n",
       "      <th>...</th>\n",
       "      <td>...</td>\n",
       "      <td>...</td>\n",
       "      <td>...</td>\n",
       "      <td>...</td>\n",
       "      <td>...</td>\n",
       "      <td>...</td>\n",
       "      <td>...</td>\n",
       "      <td>...</td>\n",
       "      <td>...</td>\n",
       "      <td>...</td>\n",
       "      <td>...</td>\n",
       "      <td>...</td>\n",
       "      <td>...</td>\n",
       "      <td>...</td>\n",
       "    </tr>\n",
       "    <tr>\n",
       "      <th>68821</th>\n",
       "      <td>male</td>\n",
       "      <td>131.242</td>\n",
       "      <td>14.425097</td>\n",
       "      <td>8339.0</td>\n",
       "      <td>342.624800</td>\n",
       "      <td>49.234645</td>\n",
       "      <td>553.2000</td>\n",
       "      <td>545.4000</td>\n",
       "      <td>41.830038</td>\n",
       "      <td>16.457868</td>\n",
       "      <td>20873.188969</td>\n",
       "      <td>2.657435</td>\n",
       "      <td>0.689633</td>\n",
       "      <td>NaN</td>\n",
       "    </tr>\n",
       "    <tr>\n",
       "      <th>68822</th>\n",
       "      <td>male</td>\n",
       "      <td>151.474</td>\n",
       "      <td>12.614330</td>\n",
       "      <td>8389.0</td>\n",
       "      <td>374.212400</td>\n",
       "      <td>33.687378</td>\n",
       "      <td>447.4000</td>\n",
       "      <td>448.2000</td>\n",
       "      <td>59.923662</td>\n",
       "      <td>17.551196</td>\n",
       "      <td>29901.907126</td>\n",
       "      <td>3.587390</td>\n",
       "      <td>0.350110</td>\n",
       "      <td>NaN</td>\n",
       "    </tr>\n",
       "    <tr>\n",
       "      <th>68823</th>\n",
       "      <td>male</td>\n",
       "      <td>158.336</td>\n",
       "      <td>15.917384</td>\n",
       "      <td>5661.0</td>\n",
       "      <td>376.029600</td>\n",
       "      <td>35.633599</td>\n",
       "      <td>333.8000</td>\n",
       "      <td>330.0000</td>\n",
       "      <td>41.007983</td>\n",
       "      <td>15.620513</td>\n",
       "      <td>20462.983591</td>\n",
       "      <td>3.607998</td>\n",
       "      <td>0.443301</td>\n",
       "      <td>NaN</td>\n",
       "    </tr>\n",
       "    <tr>\n",
       "      <th>68829</th>\n",
       "      <td>male</td>\n",
       "      <td>158.366</td>\n",
       "      <td>10.686068</td>\n",
       "      <td>7055.0</td>\n",
       "      <td>375.895200</td>\n",
       "      <td>31.211673</td>\n",
       "      <td>355.4000</td>\n",
       "      <td>350.0000</td>\n",
       "      <td>56.017716</td>\n",
       "      <td>15.252058</td>\n",
       "      <td>27952.840040</td>\n",
       "      <td>3.964380</td>\n",
       "      <td>0.415867</td>\n",
       "      <td>NaN</td>\n",
       "    </tr>\n",
       "    <tr>\n",
       "      <th>70118</th>\n",
       "      <td>male</td>\n",
       "      <td>156.940</td>\n",
       "      <td>11.520781</td>\n",
       "      <td>3956.0</td>\n",
       "      <td>117.718132</td>\n",
       "      <td>8.276346</td>\n",
       "      <td>278.2948</td>\n",
       "      <td>293.1948</td>\n",
       "      <td>22.788444</td>\n",
       "      <td>2.094499</td>\n",
       "      <td>11371.433707</td>\n",
       "      <td>2.874648</td>\n",
       "      <td>0.218315</td>\n",
       "      <td>NaN</td>\n",
       "    </tr>\n",
       "  </tbody>\n",
       "</table>\n",
       "<p>142 rows × 14 columns</p>\n",
       "</div>"
      ],
      "text/plain": [
       "       gender  heart_rate_mean  heart_rate_std  duration_s  altitude_mean  \\\n",
       "159      male          145.312        9.127467      4296.0     637.796200   \n",
       "4288   female          153.020       12.397564      1245.0     221.703200   \n",
       "6634     male          136.412        6.578013       895.0     157.795600   \n",
       "6637     male          147.128       11.696821      1147.0     155.299000   \n",
       "8489     male          138.206       11.940501      5129.0      73.562000   \n",
       "...       ...              ...             ...         ...            ...   \n",
       "68821    male          131.242       14.425097      8339.0     342.624800   \n",
       "68822    male          151.474       12.614330      8389.0     374.212400   \n",
       "68823    male          158.336       15.917384      5661.0     376.029600   \n",
       "68829    male          158.366       10.686068      7055.0     375.895200   \n",
       "70118    male          156.940       11.520781      3956.0     117.718132   \n",
       "\n",
       "       altitude_std  ascend_m  descend_m  distance_mean_m  distance_std_m  \\\n",
       "159       21.695771  175.1000   174.6000        29.897641        3.144701   \n",
       "4288       0.400087   31.0000    30.6000         4.523864        1.662981   \n",
       "6634       8.711490   25.7000    33.1000         5.708718        2.269411   \n",
       "6637       9.948876   40.1000    35.7000         6.900838        2.127286   \n",
       "8489       4.226364   72.0000    61.0000        22.331825        6.430869   \n",
       "...             ...       ...        ...              ...             ...   \n",
       "68821     49.234645  553.2000   545.4000        41.830038       16.457868   \n",
       "68822     33.687378  447.4000   448.2000        59.923662       17.551196   \n",
       "68823     35.633599  333.8000   330.0000        41.007983       15.620513   \n",
       "68829     31.211673  355.4000   350.0000        56.017716       15.252058   \n",
       "70118      8.276346  278.2948   293.1948        22.788444        2.094499   \n",
       "\n",
       "       distance_total_m  speed_mean  speed_std  calories  \n",
       "159        14918.922890    3.473657   0.276792       NaN  \n",
       "4288        2257.408096    1.814453   0.554122       NaN  \n",
       "6634        2848.650174    3.316483   0.610863       NaN  \n",
       "6637        3443.518122    3.428939   0.646602       NaN  \n",
       "8489       11143.580808    3.333138   0.969719       NaN  \n",
       "...                 ...         ...        ...       ...  \n",
       "68821      20873.188969    2.657435   0.689633       NaN  \n",
       "68822      29901.907126    3.587390   0.350110       NaN  \n",
       "68823      20462.983591    3.607998   0.443301       NaN  \n",
       "68829      27952.840040    3.964380   0.415867       NaN  \n",
       "70118      11371.433707    2.874648   0.218315       NaN  \n",
       "\n",
       "[142 rows x 14 columns]"
      ]
     },
     "execution_count": 15,
     "metadata": {},
     "output_type": "execute_result"
    }
   ],
   "source": [
    "df_run_selected[df_run_selected['calories'].isnull()]"
   ]
  },
  {
   "cell_type": "code",
   "execution_count": 16,
   "id": "3d04235c",
   "metadata": {
    "ExecuteTime": {
     "end_time": "2022-07-01T00:01:17.688940Z",
     "start_time": "2022-07-01T00:01:17.683613Z"
    }
   },
   "outputs": [],
   "source": [
    "sns.set(font_scale = 1.5)\n",
    "sns.set(rc={'figure.figsize':(20,12)})"
   ]
  },
  {
   "cell_type": "code",
   "execution_count": 17,
   "id": "7ea42f20",
   "metadata": {
    "ExecuteTime": {
     "end_time": "2022-07-01T00:01:22.262234Z",
     "start_time": "2022-07-01T00:01:21.376001Z"
    }
   },
   "outputs": [
    {
     "data": {
      "text/plain": [
       "<AxesSubplot:>"
      ]
     },
     "execution_count": 17,
     "metadata": {},
     "output_type": "execute_result"
    },
    {
     "data": {
      "image/png": "[encoded data removed]",
      "text/plain": [
       "<Figure size 1440x864 with 2 Axes>"
      ]
     },
     "metadata": {},
     "output_type": "display_data"
    }
   ],
   "source": [
    "corr = df_run_selected.corr()\n",
    "sns.heatmap(corr, xticklabels=corr.columns, yticklabels=corr.columns, annot=True)"
   ]
  },
  {
   "cell_type": "code",
   "execution_count": 18,
   "id": "1d437dfe",
   "metadata": {
    "ExecuteTime": {
     "end_time": "2022-07-01T00:01:35.044350Z",
     "start_time": "2022-07-01T00:01:35.032325Z"
    }
   },
   "outputs": [],
   "source": [
    "# Didn't impute missing calories yet, just removed these null values\n",
    "df_run_selected_not_null = df_run_selected[df_run_selected['calories'].notnull()].reset_index(drop=True)"
   ]
  },
  {
   "cell_type": "code",
   "execution_count": 19,
   "id": "6d1c7edc",
   "metadata": {
    "ExecuteTime": {
     "end_time": "2022-07-01T00:01:39.127019Z",
     "start_time": "2022-07-01T00:01:39.105325Z"
    }
   },
   "outputs": [
    {
     "data": {
      "text/html": [
       "<div>\n",
       "<style scoped>\n",
       "    .dataframe tbody tr th:only-of-type {\n",
       "        vertical-align: middle;\n",
       "    }\n",
       "\n",
       "    .dataframe tbody tr th {\n",
       "        vertical-align: top;\n",
       "    }\n",
       "\n",
       "    .dataframe thead th {\n",
       "        text-align: right;\n",
       "    }\n",
       "</style>\n",
       "<table border=\"1\" class=\"dataframe\">\n",
       "  <thead>\n",
       "    <tr style=\"text-align: right;\">\n",
       "      <th></th>\n",
       "      <th>gender</th>\n",
       "      <th>heart_rate_mean</th>\n",
       "      <th>heart_rate_std</th>\n",
       "      <th>duration_s</th>\n",
       "      <th>altitude_mean</th>\n",
       "      <th>altitude_std</th>\n",
       "      <th>ascend_m</th>\n",
       "      <th>descend_m</th>\n",
       "      <th>distance_mean_m</th>\n",
       "      <th>distance_std_m</th>\n",
       "      <th>distance_total_m</th>\n",
       "      <th>speed_mean</th>\n",
       "      <th>speed_std</th>\n",
       "      <th>calories</th>\n",
       "    </tr>\n",
       "  </thead>\n",
       "  <tbody>\n",
       "    <tr>\n",
       "      <th>0</th>\n",
       "      <td>male</td>\n",
       "      <td>122.104</td>\n",
       "      <td>36.110624</td>\n",
       "      <td>3888.0</td>\n",
       "      <td>-31.706000</td>\n",
       "      <td>127.669161</td>\n",
       "      <td>484.400000</td>\n",
       "      <td>277.600000</td>\n",
       "      <td>17.326975</td>\n",
       "      <td>13.226804</td>\n",
       "      <td>8646.160704</td>\n",
       "      <td>2.228765</td>\n",
       "      <td>1.699342</td>\n",
       "      <td>436.0</td>\n",
       "    </tr>\n",
       "    <tr>\n",
       "      <th>1</th>\n",
       "      <td>male</td>\n",
       "      <td>146.994</td>\n",
       "      <td>22.000954</td>\n",
       "      <td>4204.0</td>\n",
       "      <td>41.671200</td>\n",
       "      <td>7.548566</td>\n",
       "      <td>98.400000</td>\n",
       "      <td>107.400000</td>\n",
       "      <td>28.597065</td>\n",
       "      <td>6.540468</td>\n",
       "      <td>14269.935642</td>\n",
       "      <td>3.398481</td>\n",
       "      <td>0.750274</td>\n",
       "      <td>577.0</td>\n",
       "    </tr>\n",
       "    <tr>\n",
       "      <th>2</th>\n",
       "      <td>male</td>\n",
       "      <td>127.922</td>\n",
       "      <td>5.140420</td>\n",
       "      <td>10126.0</td>\n",
       "      <td>41.382400</td>\n",
       "      <td>7.657384</td>\n",
       "      <td>226.600000</td>\n",
       "      <td>186.200000</td>\n",
       "      <td>58.965577</td>\n",
       "      <td>6.892670</td>\n",
       "      <td>29423.822933</td>\n",
       "      <td>3.074118</td>\n",
       "      <td>0.336376</td>\n",
       "      <td>1260.0</td>\n",
       "    </tr>\n",
       "    <tr>\n",
       "      <th>3</th>\n",
       "      <td>male</td>\n",
       "      <td>134.918</td>\n",
       "      <td>10.276540</td>\n",
       "      <td>6503.0</td>\n",
       "      <td>34.125600</td>\n",
       "      <td>3.868383</td>\n",
       "      <td>124.000000</td>\n",
       "      <td>124.000000</td>\n",
       "      <td>43.890768</td>\n",
       "      <td>6.285746</td>\n",
       "      <td>21901.493436</td>\n",
       "      <td>3.368984</td>\n",
       "      <td>0.465616</td>\n",
       "      <td>1025.0</td>\n",
       "    </tr>\n",
       "    <tr>\n",
       "      <th>4</th>\n",
       "      <td>male</td>\n",
       "      <td>132.414</td>\n",
       "      <td>15.003020</td>\n",
       "      <td>5118.0</td>\n",
       "      <td>45.097200</td>\n",
       "      <td>9.075183</td>\n",
       "      <td>86.000000</td>\n",
       "      <td>105.800000</td>\n",
       "      <td>33.758745</td>\n",
       "      <td>2.960630</td>\n",
       "      <td>16845.613772</td>\n",
       "      <td>3.292878</td>\n",
       "      <td>0.232860</td>\n",
       "      <td>775.0</td>\n",
       "    </tr>\n",
       "    <tr>\n",
       "      <th>...</th>\n",
       "      <td>...</td>\n",
       "      <td>...</td>\n",
       "      <td>...</td>\n",
       "      <td>...</td>\n",
       "      <td>...</td>\n",
       "      <td>...</td>\n",
       "      <td>...</td>\n",
       "      <td>...</td>\n",
       "      <td>...</td>\n",
       "      <td>...</td>\n",
       "      <td>...</td>\n",
       "      <td>...</td>\n",
       "      <td>...</td>\n",
       "      <td>...</td>\n",
       "    </tr>\n",
       "    <tr>\n",
       "      <th>70336</th>\n",
       "      <td>male</td>\n",
       "      <td>142.248</td>\n",
       "      <td>8.066381</td>\n",
       "      <td>6798.0</td>\n",
       "      <td>31.075200</td>\n",
       "      <td>14.982164</td>\n",
       "      <td>166.800000</td>\n",
       "      <td>170.600000</td>\n",
       "      <td>37.445890</td>\n",
       "      <td>15.883178</td>\n",
       "      <td>18685.499122</td>\n",
       "      <td>2.858465</td>\n",
       "      <td>0.328005</td>\n",
       "      <td>1511.0</td>\n",
       "    </tr>\n",
       "    <tr>\n",
       "      <th>70337</th>\n",
       "      <td>male</td>\n",
       "      <td>140.498</td>\n",
       "      <td>8.853135</td>\n",
       "      <td>5122.0</td>\n",
       "      <td>35.584400</td>\n",
       "      <td>22.812477</td>\n",
       "      <td>133.400000</td>\n",
       "      <td>133.400000</td>\n",
       "      <td>32.008984</td>\n",
       "      <td>9.230426</td>\n",
       "      <td>15972.483084</td>\n",
       "      <td>3.113191</td>\n",
       "      <td>0.350988</td>\n",
       "      <td>1554.0</td>\n",
       "    </tr>\n",
       "    <tr>\n",
       "      <th>70338</th>\n",
       "      <td>male</td>\n",
       "      <td>169.894</td>\n",
       "      <td>12.732587</td>\n",
       "      <td>700.0</td>\n",
       "      <td>14.599420</td>\n",
       "      <td>5.357932</td>\n",
       "      <td>84.595619</td>\n",
       "      <td>85.557119</td>\n",
       "      <td>5.598007</td>\n",
       "      <td>2.138988</td>\n",
       "      <td>2793.405650</td>\n",
       "      <td>3.985560</td>\n",
       "      <td>0.499092</td>\n",
       "      <td>280.0</td>\n",
       "    </tr>\n",
       "    <tr>\n",
       "      <th>70339</th>\n",
       "      <td>male</td>\n",
       "      <td>160.842</td>\n",
       "      <td>9.856421</td>\n",
       "      <td>720.0</td>\n",
       "      <td>49.900939</td>\n",
       "      <td>5.624594</td>\n",
       "      <td>85.076600</td>\n",
       "      <td>100.938300</td>\n",
       "      <td>5.605276</td>\n",
       "      <td>2.102335</td>\n",
       "      <td>2797.032946</td>\n",
       "      <td>3.887304</td>\n",
       "      <td>0.527690</td>\n",
       "      <td>292.0</td>\n",
       "    </tr>\n",
       "    <tr>\n",
       "      <th>70340</th>\n",
       "      <td>male</td>\n",
       "      <td>157.656</td>\n",
       "      <td>3.077932</td>\n",
       "      <td>1789.0</td>\n",
       "      <td>15.297314</td>\n",
       "      <td>5.306369</td>\n",
       "      <td>169.191954</td>\n",
       "      <td>176.401894</td>\n",
       "      <td>10.963741</td>\n",
       "      <td>1.900468</td>\n",
       "      <td>5470.906974</td>\n",
       "      <td>3.059982</td>\n",
       "      <td>0.281318</td>\n",
       "      <td>646.0</td>\n",
       "    </tr>\n",
       "  </tbody>\n",
       "</table>\n",
       "<p>70341 rows × 14 columns</p>\n",
       "</div>"
      ],
      "text/plain": [
       "      gender  heart_rate_mean  heart_rate_std  duration_s  altitude_mean  \\\n",
       "0       male          122.104       36.110624      3888.0     -31.706000   \n",
       "1       male          146.994       22.000954      4204.0      41.671200   \n",
       "2       male          127.922        5.140420     10126.0      41.382400   \n",
       "3       male          134.918       10.276540      6503.0      34.125600   \n",
       "4       male          132.414       15.003020      5118.0      45.097200   \n",
       "...      ...              ...             ...         ...            ...   \n",
       "70336   male          142.248        8.066381      6798.0      31.075200   \n",
       "70337   male          140.498        8.853135      5122.0      35.584400   \n",
       "70338   male          169.894       12.732587       700.0      14.599420   \n",
       "70339   male          160.842        9.856421       720.0      49.900939   \n",
       "70340   male          157.656        3.077932      1789.0      15.297314   \n",
       "\n",
       "       altitude_std    ascend_m   descend_m  distance_mean_m  distance_std_m  \\\n",
       "0        127.669161  484.400000  277.600000        17.326975       13.226804   \n",
       "1          7.548566   98.400000  107.400000        28.597065        6.540468   \n",
       "2          7.657384  226.600000  186.200000        58.965577        6.892670   \n",
       "3          3.868383  124.000000  124.000000        43.890768        6.285746   \n",
       "4          9.075183   86.000000  105.800000        33.758745        2.960630   \n",
       "...             ...         ...         ...              ...             ...   \n",
       "70336     14.982164  166.800000  170.600000        37.445890       15.883178   \n",
       "70337     22.812477  133.400000  133.400000        32.008984        9.230426   \n",
       "70338      5.357932   84.595619   85.557119         5.598007        2.138988   \n",
       "70339      5.624594   85.076600  100.938300         5.605276        2.102335   \n",
       "70340      5.306369  169.191954  176.401894        10.963741        1.900468   \n",
       "\n",
       "       distance_total_m  speed_mean  speed_std  calories  \n",
       "0           8646.160704    2.228765   1.699342     436.0  \n",
       "1          14269.935642    3.398481   0.750274     577.0  \n",
       "2          29423.822933    3.074118   0.336376    1260.0  \n",
       "3          21901.493436    3.368984   0.465616    1025.0  \n",
       "4          16845.613772    3.292878   0.232860     775.0  \n",
       "...                 ...         ...        ...       ...  \n",
       "70336      18685.499122    2.858465   0.328005    1511.0  \n",
       "70337      15972.483084    3.113191   0.350988    1554.0  \n",
       "70338       2793.405650    3.985560   0.499092     280.0  \n",
       "70339       2797.032946    3.887304   0.527690     292.0  \n",
       "70340       5470.906974    3.059982   0.281318     646.0  \n",
       "\n",
       "[70341 rows x 14 columns]"
      ]
     },
     "execution_count": 19,
     "metadata": {},
     "output_type": "execute_result"
    }
   ],
   "source": [
    "df_run_selected_not_null"
   ]
  },
  {
   "cell_type": "code",
   "execution_count": 30,
   "id": "f3c963d6",
   "metadata": {
    "ExecuteTime": {
     "end_time": "2022-07-01T00:04:13.125931Z",
     "start_time": "2022-07-01T00:04:13.112653Z"
    }
   },
   "outputs": [],
   "source": [
    "# Dummy variable transformation of the gender column\n",
    "dummy_gender = pd.get_dummies(df_run_selected_not_null['gender'])"
   ]
  },
  {
   "cell_type": "code",
   "execution_count": 31,
   "id": "e5d1545f",
   "metadata": {
    "ExecuteTime": {
     "end_time": "2022-07-01T00:04:14.358018Z",
     "start_time": "2022-07-01T00:04:14.348008Z"
    }
   },
   "outputs": [],
   "source": [
    "df = pd.merge(\n",
    "    left=df_run_selected_not_null,\n",
    "    right=dummy_gender,\n",
    "    left_index=True,\n",
    "    right_index=True,\n",
    ").drop('gender',axis=1)"
   ]
  },
  {
   "cell_type": "code",
   "execution_count": 32,
   "id": "56823fd9",
   "metadata": {
    "ExecuteTime": {
     "end_time": "2022-07-01T00:04:14.982093Z",
     "start_time": "2022-07-01T00:04:14.959187Z"
    },
    "scrolled": true
   },
   "outputs": [
    {
     "data": {
      "text/html": [
       "<div>\n",
       "<style scoped>\n",
       "    .dataframe tbody tr th:only-of-type {\n",
       "        vertical-align: middle;\n",
       "    }\n",
       "\n",
       "    .dataframe tbody tr th {\n",
       "        vertical-align: top;\n",
       "    }\n",
       "\n",
       "    .dataframe thead th {\n",
       "        text-align: right;\n",
       "    }\n",
       "</style>\n",
       "<table border=\"1\" class=\"dataframe\">\n",
       "  <thead>\n",
       "    <tr style=\"text-align: right;\">\n",
       "      <th></th>\n",
       "      <th>heart_rate_mean</th>\n",
       "      <th>heart_rate_std</th>\n",
       "      <th>duration_s</th>\n",
       "      <th>altitude_mean</th>\n",
       "      <th>altitude_std</th>\n",
       "      <th>ascend_m</th>\n",
       "      <th>descend_m</th>\n",
       "      <th>distance_mean_m</th>\n",
       "      <th>distance_std_m</th>\n",
       "      <th>distance_total_m</th>\n",
       "      <th>speed_mean</th>\n",
       "      <th>speed_std</th>\n",
       "      <th>calories</th>\n",
       "      <th>female</th>\n",
       "      <th>male</th>\n",
       "      <th>unknown</th>\n",
       "    </tr>\n",
       "  </thead>\n",
       "  <tbody>\n",
       "    <tr>\n",
       "      <th>0</th>\n",
       "      <td>122.104</td>\n",
       "      <td>36.110624</td>\n",
       "      <td>3888.0</td>\n",
       "      <td>-31.706000</td>\n",
       "      <td>127.669161</td>\n",
       "      <td>484.400000</td>\n",
       "      <td>277.600000</td>\n",
       "      <td>17.326975</td>\n",
       "      <td>13.226804</td>\n",
       "      <td>8646.160704</td>\n",
       "      <td>2.228765</td>\n",
       "      <td>1.699342</td>\n",
       "      <td>436.0</td>\n",
       "      <td>0</td>\n",
       "      <td>1</td>\n",
       "      <td>0</td>\n",
       "    </tr>\n",
       "    <tr>\n",
       "      <th>1</th>\n",
       "      <td>146.994</td>\n",
       "      <td>22.000954</td>\n",
       "      <td>4204.0</td>\n",
       "      <td>41.671200</td>\n",
       "      <td>7.548566</td>\n",
       "      <td>98.400000</td>\n",
       "      <td>107.400000</td>\n",
       "      <td>28.597065</td>\n",
       "      <td>6.540468</td>\n",
       "      <td>14269.935642</td>\n",
       "      <td>3.398481</td>\n",
       "      <td>0.750274</td>\n",
       "      <td>577.0</td>\n",
       "      <td>0</td>\n",
       "      <td>1</td>\n",
       "      <td>0</td>\n",
       "    </tr>\n",
       "    <tr>\n",
       "      <th>2</th>\n",
       "      <td>127.922</td>\n",
       "      <td>5.140420</td>\n",
       "      <td>10126.0</td>\n",
       "      <td>41.382400</td>\n",
       "      <td>7.657384</td>\n",
       "      <td>226.600000</td>\n",
       "      <td>186.200000</td>\n",
       "      <td>58.965577</td>\n",
       "      <td>6.892670</td>\n",
       "      <td>29423.822933</td>\n",
       "      <td>3.074118</td>\n",
       "      <td>0.336376</td>\n",
       "      <td>1260.0</td>\n",
       "      <td>0</td>\n",
       "      <td>1</td>\n",
       "      <td>0</td>\n",
       "    </tr>\n",
       "    <tr>\n",
       "      <th>3</th>\n",
       "      <td>134.918</td>\n",
       "      <td>10.276540</td>\n",
       "      <td>6503.0</td>\n",
       "      <td>34.125600</td>\n",
       "      <td>3.868383</td>\n",
       "      <td>124.000000</td>\n",
       "      <td>124.000000</td>\n",
       "      <td>43.890768</td>\n",
       "      <td>6.285746</td>\n",
       "      <td>21901.493436</td>\n",
       "      <td>3.368984</td>\n",
       "      <td>0.465616</td>\n",
       "      <td>1025.0</td>\n",
       "      <td>0</td>\n",
       "      <td>1</td>\n",
       "      <td>0</td>\n",
       "    </tr>\n",
       "    <tr>\n",
       "      <th>4</th>\n",
       "      <td>132.414</td>\n",
       "      <td>15.003020</td>\n",
       "      <td>5118.0</td>\n",
       "      <td>45.097200</td>\n",
       "      <td>9.075183</td>\n",
       "      <td>86.000000</td>\n",
       "      <td>105.800000</td>\n",
       "      <td>33.758745</td>\n",
       "      <td>2.960630</td>\n",
       "      <td>16845.613772</td>\n",
       "      <td>3.292878</td>\n",
       "      <td>0.232860</td>\n",
       "      <td>775.0</td>\n",
       "      <td>0</td>\n",
       "      <td>1</td>\n",
       "      <td>0</td>\n",
       "    </tr>\n",
       "    <tr>\n",
       "      <th>...</th>\n",
       "      <td>...</td>\n",
       "      <td>...</td>\n",
       "      <td>...</td>\n",
       "      <td>...</td>\n",
       "      <td>...</td>\n",
       "      <td>...</td>\n",
       "      <td>...</td>\n",
       "      <td>...</td>\n",
       "      <td>...</td>\n",
       "      <td>...</td>\n",
       "      <td>...</td>\n",
       "      <td>...</td>\n",
       "      <td>...</td>\n",
       "      <td>...</td>\n",
       "      <td>...</td>\n",
       "      <td>...</td>\n",
       "    </tr>\n",
       "    <tr>\n",
       "      <th>70336</th>\n",
       "      <td>142.248</td>\n",
       "      <td>8.066381</td>\n",
       "      <td>6798.0</td>\n",
       "      <td>31.075200</td>\n",
       "      <td>14.982164</td>\n",
       "      <td>166.800000</td>\n",
       "      <td>170.600000</td>\n",
       "      <td>37.445890</td>\n",
       "      <td>15.883178</td>\n",
       "      <td>18685.499122</td>\n",
       "      <td>2.858465</td>\n",
       "      <td>0.328005</td>\n",
       "      <td>1511.0</td>\n",
       "      <td>0</td>\n",
       "      <td>1</td>\n",
       "      <td>0</td>\n",
       "    </tr>\n",
       "    <tr>\n",
       "      <th>70337</th>\n",
       "      <td>140.498</td>\n",
       "      <td>8.853135</td>\n",
       "      <td>5122.0</td>\n",
       "      <td>35.584400</td>\n",
       "      <td>22.812477</td>\n",
       "      <td>133.400000</td>\n",
       "      <td>133.400000</td>\n",
       "      <td>32.008984</td>\n",
       "      <td>9.230426</td>\n",
       "      <td>15972.483084</td>\n",
       "      <td>3.113191</td>\n",
       "      <td>0.350988</td>\n",
       "      <td>1554.0</td>\n",
       "      <td>0</td>\n",
       "      <td>1</td>\n",
       "      <td>0</td>\n",
       "    </tr>\n",
       "    <tr>\n",
       "      <th>70338</th>\n",
       "      <td>169.894</td>\n",
       "      <td>12.732587</td>\n",
       "      <td>700.0</td>\n",
       "      <td>14.599420</td>\n",
       "      <td>5.357932</td>\n",
       "      <td>84.595619</td>\n",
       "      <td>85.557119</td>\n",
       "      <td>5.598007</td>\n",
       "      <td>2.138988</td>\n",
       "      <td>2793.405650</td>\n",
       "      <td>3.985560</td>\n",
       "      <td>0.499092</td>\n",
       "      <td>280.0</td>\n",
       "      <td>0</td>\n",
       "      <td>1</td>\n",
       "      <td>0</td>\n",
       "    </tr>\n",
       "    <tr>\n",
       "      <th>70339</th>\n",
       "      <td>160.842</td>\n",
       "      <td>9.856421</td>\n",
       "      <td>720.0</td>\n",
       "      <td>49.900939</td>\n",
       "      <td>5.624594</td>\n",
       "      <td>85.076600</td>\n",
       "      <td>100.938300</td>\n",
       "      <td>5.605276</td>\n",
       "      <td>2.102335</td>\n",
       "      <td>2797.032946</td>\n",
       "      <td>3.887304</td>\n",
       "      <td>0.527690</td>\n",
       "      <td>292.0</td>\n",
       "      <td>0</td>\n",
       "      <td>1</td>\n",
       "      <td>0</td>\n",
       "    </tr>\n",
       "    <tr>\n",
       "      <th>70340</th>\n",
       "      <td>157.656</td>\n",
       "      <td>3.077932</td>\n",
       "      <td>1789.0</td>\n",
       "      <td>15.297314</td>\n",
       "      <td>5.306369</td>\n",
       "      <td>169.191954</td>\n",
       "      <td>176.401894</td>\n",
       "      <td>10.963741</td>\n",
       "      <td>1.900468</td>\n",
       "      <td>5470.906974</td>\n",
       "      <td>3.059982</td>\n",
       "      <td>0.281318</td>\n",
       "      <td>646.0</td>\n",
       "      <td>0</td>\n",
       "      <td>1</td>\n",
       "      <td>0</td>\n",
       "    </tr>\n",
       "  </tbody>\n",
       "</table>\n",
       "<p>70341 rows × 16 columns</p>\n",
       "</div>"
      ],
      "text/plain": [
       "       heart_rate_mean  heart_rate_std  duration_s  altitude_mean  \\\n",
       "0              122.104       36.110624      3888.0     -31.706000   \n",
       "1              146.994       22.000954      4204.0      41.671200   \n",
       "2              127.922        5.140420     10126.0      41.382400   \n",
       "3              134.918       10.276540      6503.0      34.125600   \n",
       "4              132.414       15.003020      5118.0      45.097200   \n",
       "...                ...             ...         ...            ...   \n",
       "70336          142.248        8.066381      6798.0      31.075200   \n",
       "70337          140.498        8.853135      5122.0      35.584400   \n",
       "70338          169.894       12.732587       700.0      14.599420   \n",
       "70339          160.842        9.856421       720.0      49.900939   \n",
       "70340          157.656        3.077932      1789.0      15.297314   \n",
       "\n",
       "       altitude_std    ascend_m   descend_m  distance_mean_m  distance_std_m  \\\n",
       "0        127.669161  484.400000  277.600000        17.326975       13.226804   \n",
       "1          7.548566   98.400000  107.400000        28.597065        6.540468   \n",
       "2          7.657384  226.600000  186.200000        58.965577        6.892670   \n",
       "3          3.868383  124.000000  124.000000        43.890768        6.285746   \n",
       "4          9.075183   86.000000  105.800000        33.758745        2.960630   \n",
       "...             ...         ...         ...              ...             ...   \n",
       "70336     14.982164  166.800000  170.600000        37.445890       15.883178   \n",
       "70337     22.812477  133.400000  133.400000        32.008984        9.230426   \n",
       "70338      5.357932   84.595619   85.557119         5.598007        2.138988   \n",
       "70339      5.624594   85.076600  100.938300         5.605276        2.102335   \n",
       "70340      5.306369  169.191954  176.401894        10.963741        1.900468   \n",
       "\n",
       "       distance_total_m  speed_mean  speed_std  calories  female  male  \\\n",
       "0           8646.160704    2.228765   1.699342     436.0       0     1   \n",
       "1          14269.935642    3.398481   0.750274     577.0       0     1   \n",
       "2          29423.822933    3.074118   0.336376    1260.0       0     1   \n",
       "3          21901.493436    3.368984   0.465616    1025.0       0     1   \n",
       "4          16845.613772    3.292878   0.232860     775.0       0     1   \n",
       "...                 ...         ...        ...       ...     ...   ...   \n",
       "70336      18685.499122    2.858465   0.328005    1511.0       0     1   \n",
       "70337      15972.483084    3.113191   0.350988    1554.0       0     1   \n",
       "70338       2793.405650    3.985560   0.499092     280.0       0     1   \n",
       "70339       2797.032946    3.887304   0.527690     292.0       0     1   \n",
       "70340       5470.906974    3.059982   0.281318     646.0       0     1   \n",
       "\n",
       "       unknown  \n",
       "0            0  \n",
       "1            0  \n",
       "2            0  \n",
       "3            0  \n",
       "4            0  \n",
       "...        ...  \n",
       "70336        0  \n",
       "70337        0  \n",
       "70338        0  \n",
       "70339        0  \n",
       "70340        0  \n",
       "\n",
       "[70341 rows x 16 columns]"
      ]
     },
     "execution_count": 32,
     "metadata": {},
     "output_type": "execute_result"
    }
   ],
   "source": [
    "df"
   ]
  },
  {
   "cell_type": "code",
   "execution_count": 33,
   "id": "281af14b",
   "metadata": {
    "ExecuteTime": {
     "end_time": "2022-07-01T00:04:15.651846Z",
     "start_time": "2022-07-01T00:04:15.645814Z"
    }
   },
   "outputs": [],
   "source": [
    "df_no_target = df.drop('heart_rate_mean',axis=1)"
   ]
  },
  {
   "cell_type": "code",
   "execution_count": 34,
   "id": "cb3481de",
   "metadata": {
    "ExecuteTime": {
     "end_time": "2022-07-01T00:04:16.357289Z",
     "start_time": "2022-07-01T00:04:16.353014Z"
    }
   },
   "outputs": [],
   "source": [
    "# Check and remove multicolinear features"
   ]
  },
  {
   "cell_type": "code",
   "execution_count": 35,
   "id": "a3276f22",
   "metadata": {
    "ExecuteTime": {
     "end_time": "2022-07-01T00:04:16.828370Z",
     "start_time": "2022-07-01T00:04:16.825592Z"
    }
   },
   "outputs": [],
   "source": [
    "from statsmodels.stats.outliers_influence import variance_inflation_factor"
   ]
  },
  {
   "cell_type": "code",
   "execution_count": 36,
   "id": "dfa504b5",
   "metadata": {
    "ExecuteTime": {
     "end_time": "2022-07-01T00:04:18.017749Z",
     "start_time": "2022-07-01T00:04:17.502435Z"
    }
   },
   "outputs": [
    {
     "name": "stderr",
     "output_type": "stream",
     "text": [
      "/Users/Chao/opt/miniconda3/lib/python3.8/site-packages/statsmodels/stats/outliers_influence.py:195: RuntimeWarning: divide by zero encountered in double_scalars\n",
      "  vif = 1. / (1. - r_squared_i)\n"
     ]
    },
    {
     "data": {
      "text/html": [
       "<div>\n",
       "<style scoped>\n",
       "    .dataframe tbody tr th:only-of-type {\n",
       "        vertical-align: middle;\n",
       "    }\n",
       "\n",
       "    .dataframe tbody tr th {\n",
       "        vertical-align: top;\n",
       "    }\n",
       "\n",
       "    .dataframe thead th {\n",
       "        text-align: right;\n",
       "    }\n",
       "</style>\n",
       "<table border=\"1\" class=\"dataframe\">\n",
       "  <thead>\n",
       "    <tr style=\"text-align: right;\">\n",
       "      <th></th>\n",
       "      <th>features</th>\n",
       "      <th>vif_Factor</th>\n",
       "    </tr>\n",
       "  </thead>\n",
       "  <tbody>\n",
       "    <tr>\n",
       "      <th>0</th>\n",
       "      <td>heart_rate_std</td>\n",
       "      <td>1.093539</td>\n",
       "    </tr>\n",
       "    <tr>\n",
       "      <th>1</th>\n",
       "      <td>duration_s</td>\n",
       "      <td>10.964806</td>\n",
       "    </tr>\n",
       "    <tr>\n",
       "      <th>2</th>\n",
       "      <td>altitude_mean</td>\n",
       "      <td>1.076855</td>\n",
       "    </tr>\n",
       "    <tr>\n",
       "      <th>3</th>\n",
       "      <td>altitude_std</td>\n",
       "      <td>1.885106</td>\n",
       "    </tr>\n",
       "    <tr>\n",
       "      <th>4</th>\n",
       "      <td>ascend_m</td>\n",
       "      <td>7.534102</td>\n",
       "    </tr>\n",
       "    <tr>\n",
       "      <th>5</th>\n",
       "      <td>descend_m</td>\n",
       "      <td>8.794314</td>\n",
       "    </tr>\n",
       "    <tr>\n",
       "      <th>6</th>\n",
       "      <td>distance_mean_m</td>\n",
       "      <td>inf</td>\n",
       "    </tr>\n",
       "    <tr>\n",
       "      <th>7</th>\n",
       "      <td>distance_std_m</td>\n",
       "      <td>1.653957</td>\n",
       "    </tr>\n",
       "    <tr>\n",
       "      <th>8</th>\n",
       "      <td>distance_total_m</td>\n",
       "      <td>inf</td>\n",
       "    </tr>\n",
       "    <tr>\n",
       "      <th>9</th>\n",
       "      <td>speed_mean</td>\n",
       "      <td>2.894813</td>\n",
       "    </tr>\n",
       "    <tr>\n",
       "      <th>10</th>\n",
       "      <td>speed_std</td>\n",
       "      <td>1.199602</td>\n",
       "    </tr>\n",
       "    <tr>\n",
       "      <th>11</th>\n",
       "      <td>calories</td>\n",
       "      <td>2.900985</td>\n",
       "    </tr>\n",
       "    <tr>\n",
       "      <th>12</th>\n",
       "      <td>female</td>\n",
       "      <td>5.656960</td>\n",
       "    </tr>\n",
       "    <tr>\n",
       "      <th>13</th>\n",
       "      <td>male</td>\n",
       "      <td>61.597814</td>\n",
       "    </tr>\n",
       "    <tr>\n",
       "      <th>14</th>\n",
       "      <td>unknown</td>\n",
       "      <td>1.444146</td>\n",
       "    </tr>\n",
       "  </tbody>\n",
       "</table>\n",
       "</div>"
      ],
      "text/plain": [
       "            features  vif_Factor\n",
       "0     heart_rate_std    1.093539\n",
       "1         duration_s   10.964806\n",
       "2      altitude_mean    1.076855\n",
       "3       altitude_std    1.885106\n",
       "4           ascend_m    7.534102\n",
       "5          descend_m    8.794314\n",
       "6    distance_mean_m         inf\n",
       "7     distance_std_m    1.653957\n",
       "8   distance_total_m         inf\n",
       "9         speed_mean    2.894813\n",
       "10         speed_std    1.199602\n",
       "11          calories    2.900985\n",
       "12            female    5.656960\n",
       "13              male   61.597814\n",
       "14           unknown    1.444146"
      ]
     },
     "execution_count": 36,
     "metadata": {},
     "output_type": "execute_result"
    }
   ],
   "source": [
    "vif = pd.DataFrame()\n",
    "vif[\"features\"] = df_no_target.columns\n",
    "vif[\"vif_Factor\"] = [variance_inflation_factor(df_no_target.values, i) for i in range(df_no_target.shape[1])]\n",
    "vif"
   ]
  },
  {
   "cell_type": "code",
   "execution_count": 37,
   "id": "87446257",
   "metadata": {
    "ExecuteTime": {
     "end_time": "2022-07-01T00:04:18.318761Z",
     "start_time": "2022-07-01T00:04:18.311754Z"
    }
   },
   "outputs": [],
   "source": [
    "# Features with VIF above 10 are dropped\n",
    "df_no_target = df_no_target.drop(['distance_mean_m','distance_total_m','male','duration_s','ascend_m','descend_m'], axis=1)"
   ]
  },
  {
   "cell_type": "code",
   "execution_count": 38,
   "id": "b57b05be",
   "metadata": {
    "ExecuteTime": {
     "end_time": "2022-07-01T00:04:19.698940Z",
     "start_time": "2022-07-01T00:04:19.429687Z"
    }
   },
   "outputs": [
    {
     "data": {
      "text/html": [
       "<div>\n",
       "<style scoped>\n",
       "    .dataframe tbody tr th:only-of-type {\n",
       "        vertical-align: middle;\n",
       "    }\n",
       "\n",
       "    .dataframe tbody tr th {\n",
       "        vertical-align: top;\n",
       "    }\n",
       "\n",
       "    .dataframe thead th {\n",
       "        text-align: right;\n",
       "    }\n",
       "</style>\n",
       "<table border=\"1\" class=\"dataframe\">\n",
       "  <thead>\n",
       "    <tr style=\"text-align: right;\">\n",
       "      <th></th>\n",
       "      <th>features</th>\n",
       "      <th>vif_Factor</th>\n",
       "    </tr>\n",
       "  </thead>\n",
       "  <tbody>\n",
       "    <tr>\n",
       "      <th>0</th>\n",
       "      <td>heart_rate_std</td>\n",
       "      <td>5.575683</td>\n",
       "    </tr>\n",
       "    <tr>\n",
       "      <th>1</th>\n",
       "      <td>altitude_mean</td>\n",
       "      <td>1.310748</td>\n",
       "    </tr>\n",
       "    <tr>\n",
       "      <th>2</th>\n",
       "      <td>altitude_std</td>\n",
       "      <td>1.389930</td>\n",
       "    </tr>\n",
       "    <tr>\n",
       "      <th>3</th>\n",
       "      <td>distance_std_m</td>\n",
       "      <td>3.356154</td>\n",
       "    </tr>\n",
       "    <tr>\n",
       "      <th>4</th>\n",
       "      <td>speed_mean</td>\n",
       "      <td>7.844083</td>\n",
       "    </tr>\n",
       "    <tr>\n",
       "      <th>5</th>\n",
       "      <td>speed_std</td>\n",
       "      <td>1.891541</td>\n",
       "    </tr>\n",
       "    <tr>\n",
       "      <th>6</th>\n",
       "      <td>calories</td>\n",
       "      <td>3.982685</td>\n",
       "    </tr>\n",
       "    <tr>\n",
       "      <th>7</th>\n",
       "      <td>female</td>\n",
       "      <td>1.075802</td>\n",
       "    </tr>\n",
       "    <tr>\n",
       "      <th>8</th>\n",
       "      <td>unknown</td>\n",
       "      <td>1.011758</td>\n",
       "    </tr>\n",
       "  </tbody>\n",
       "</table>\n",
       "</div>"
      ],
      "text/plain": [
       "         features  vif_Factor\n",
       "0  heart_rate_std    5.575683\n",
       "1   altitude_mean    1.310748\n",
       "2    altitude_std    1.389930\n",
       "3  distance_std_m    3.356154\n",
       "4      speed_mean    7.844083\n",
       "5       speed_std    1.891541\n",
       "6        calories    3.982685\n",
       "7          female    1.075802\n",
       "8         unknown    1.011758"
      ]
     },
     "execution_count": 38,
     "metadata": {},
     "output_type": "execute_result"
    }
   ],
   "source": [
    "vif = pd.DataFrame()\n",
    "vif[\"features\"] = df_no_target.columns\n",
    "vif[\"vif_Factor\"] = [variance_inflation_factor(df_no_target.values, i) for i in range(df_no_target.shape[1])]\n",
    "vif"
   ]
  },
  {
   "cell_type": "code",
   "execution_count": 39,
   "id": "fa98433d",
   "metadata": {
    "ExecuteTime": {
     "end_time": "2022-07-01T00:04:23.865388Z",
     "start_time": "2022-07-01T00:04:23.861902Z"
    }
   },
   "outputs": [],
   "source": [
    "X = df_no_target"
   ]
  },
  {
   "cell_type": "code",
   "execution_count": 40,
   "id": "5803bc5b",
   "metadata": {
    "ExecuteTime": {
     "end_time": "2022-07-01T00:04:25.307811Z",
     "start_time": "2022-07-01T00:04:25.304016Z"
    }
   },
   "outputs": [],
   "source": [
    "y = df['heart_rate_mean']"
   ]
  },
  {
   "cell_type": "code",
   "execution_count": 41,
   "id": "2430cf7e",
   "metadata": {
    "ExecuteTime": {
     "end_time": "2022-07-01T00:04:25.989314Z",
     "start_time": "2022-07-01T00:04:25.983700Z"
    }
   },
   "outputs": [
    {
     "data": {
      "text/plain": [
       "(70341, 9)"
      ]
     },
     "execution_count": 41,
     "metadata": {},
     "output_type": "execute_result"
    }
   ],
   "source": [
    "X.shape"
   ]
  },
  {
   "cell_type": "code",
   "execution_count": 42,
   "id": "cc3f216b",
   "metadata": {
    "ExecuteTime": {
     "end_time": "2022-07-01T00:04:27.726096Z",
     "start_time": "2022-07-01T00:04:27.720658Z"
    }
   },
   "outputs": [
    {
     "data": {
      "text/plain": [
       "(70341,)"
      ]
     },
     "execution_count": 42,
     "metadata": {},
     "output_type": "execute_result"
    }
   ],
   "source": [
    "y.shape"
   ]
  },
  {
   "cell_type": "code",
   "execution_count": 43,
   "id": "4b6c2b4d",
   "metadata": {
    "ExecuteTime": {
     "end_time": "2022-07-01T00:04:30.500959Z",
     "start_time": "2022-07-01T00:04:30.111703Z"
    },
    "run_control": {
     "marked": false
    }
   },
   "outputs": [],
   "source": [
    "from sklearn.model_selection import train_test_split"
   ]
  },
  {
   "cell_type": "code",
   "execution_count": 44,
   "id": "91af3992",
   "metadata": {
    "ExecuteTime": {
     "end_time": "2022-07-01T00:04:31.063277Z",
     "start_time": "2022-07-01T00:04:31.047954Z"
    }
   },
   "outputs": [],
   "source": [
    "X_train, X_test, y_train, y_test = train_test_split(X, y, test_size=0.33, random_state=42)"
   ]
  },
  {
   "cell_type": "code",
   "execution_count": 45,
   "id": "80bd8da6",
   "metadata": {
    "ExecuteTime": {
     "end_time": "2022-07-01T00:04:32.785394Z",
     "start_time": "2022-07-01T00:04:32.633303Z"
    }
   },
   "outputs": [],
   "source": [
    "from sklearn.preprocessing import MinMaxScaler\n",
    "from sklearn.linear_model import LinearRegression\n",
    "from sklearn.pipeline import Pipeline"
   ]
  },
  {
   "cell_type": "markdown",
   "id": "01e79a27",
   "metadata": {},
   "source": [
    "### Linear regression"
   ]
  },
  {
   "cell_type": "code",
   "execution_count": 46,
   "id": "e3159710",
   "metadata": {
    "ExecuteTime": {
     "end_time": "2022-07-01T00:04:35.267429Z",
     "start_time": "2022-07-01T00:04:35.263347Z"
    }
   },
   "outputs": [],
   "source": [
    "steps = [('scaler',MinMaxScaler()),('lr', LinearRegression())]\n",
    "model = Pipeline(steps)"
   ]
  },
  {
   "cell_type": "code",
   "execution_count": 47,
   "id": "a76b90c9",
   "metadata": {
    "ExecuteTime": {
     "end_time": "2022-07-01T00:04:36.129784Z",
     "start_time": "2022-07-01T00:04:36.100007Z"
    }
   },
   "outputs": [],
   "source": [
    "model = model.fit(X_train, y_train)"
   ]
  },
  {
   "cell_type": "code",
   "execution_count": 48,
   "id": "456223e1",
   "metadata": {
    "ExecuteTime": {
     "end_time": "2022-07-01T00:04:37.019099Z",
     "start_time": "2022-07-01T00:04:37.011276Z"
    }
   },
   "outputs": [],
   "source": [
    "y_train_pred = model.predict(X_train)"
   ]
  },
  {
   "cell_type": "code",
   "execution_count": 49,
   "id": "a06db4c4",
   "metadata": {
    "ExecuteTime": {
     "end_time": "2022-07-01T00:04:37.742490Z",
     "start_time": "2022-07-01T00:04:37.722908Z"
    }
   },
   "outputs": [],
   "source": [
    "import matplotlib.pylab as plt\n",
    "%matplotlib inline"
   ]
  },
  {
   "cell_type": "code",
   "execution_count": 50,
   "id": "7480c362",
   "metadata": {
    "ExecuteTime": {
     "end_time": "2022-07-01T00:04:38.688704Z",
     "start_time": "2022-07-01T00:04:38.434577Z"
    }
   },
   "outputs": [
    {
     "data": {
      "text/plain": [
       "Text(0, 0.5, 'y_train_pred')"
      ]
     },
     "execution_count": 50,
     "metadata": {},
     "output_type": "execute_result"
    },
    {
     "data": {
      "image/png": "[encoded data removed]",
      "text/plain": [
       "<Figure size 432x288 with 1 Axes>"
      ]
     },
     "metadata": {
      "needs_background": "light"
     },
     "output_type": "display_data"
    }
   ],
   "source": [
    "plt.scatter(y_train, y_train_pred, alpha=0.3)\n",
    "plt.xlabel('y_train')\n",
    "plt.ylabel('y_train_pred')"
   ]
  },
  {
   "cell_type": "code",
   "execution_count": 51,
   "id": "b0cb4eb9",
   "metadata": {
    "ExecuteTime": {
     "end_time": "2022-07-01T00:04:40.973252Z",
     "start_time": "2022-07-01T00:04:40.970075Z"
    }
   },
   "outputs": [],
   "source": [
    "from sklearn.metrics import mean_absolute_error, mean_squared_error, r2_score"
   ]
  },
  {
   "cell_type": "code",
   "execution_count": 52,
   "id": "1fbe25e1",
   "metadata": {
    "ExecuteTime": {
     "end_time": "2022-07-01T00:04:41.756159Z",
     "start_time": "2022-07-01T00:04:41.746528Z"
    }
   },
   "outputs": [
    {
     "name": "stdout",
     "output_type": "stream",
     "text": [
      "train MAE: 1.04e+01\n",
      "train MSE: 1.82e+02\n",
      "train R2: 0.114\n"
     ]
    }
   ],
   "source": [
    "print('train MAE: {0:.2e}'.format(mean_absolute_error(y_train, y_train_pred)))\n",
    "print('train MSE: {0:.2e}'.format(mean_squared_error(y_train, y_train_pred)))\n",
    "print('train R2: {0:.3f}'.format(r2_score(y_train, y_train_pred)))"
   ]
  },
  {
   "cell_type": "code",
   "execution_count": 53,
   "id": "07bf442d",
   "metadata": {
    "ExecuteTime": {
     "end_time": "2022-07-01T00:04:43.396176Z",
     "start_time": "2022-07-01T00:04:43.386259Z"
    }
   },
   "outputs": [],
   "source": [
    "y_pred_test = model.predict(X_test)"
   ]
  },
  {
   "cell_type": "code",
   "execution_count": 54,
   "id": "01f3620d",
   "metadata": {
    "ExecuteTime": {
     "end_time": "2022-07-01T00:04:44.189880Z",
     "start_time": "2022-07-01T00:04:44.000905Z"
    }
   },
   "outputs": [
    {
     "data": {
      "text/plain": [
       "Text(0, 0.5, 'y_pred_test')"
      ]
     },
     "execution_count": 54,
     "metadata": {},
     "output_type": "execute_result"
    },
    {
     "data": {
      "image/png": "[encoded data removed]",
      "text/plain": [
       "<Figure size 432x288 with 1 Axes>"
      ]
     },
     "metadata": {
      "needs_background": "light"
     },
     "output_type": "display_data"
    }
   ],
   "source": [
    "plt.scatter(y_test, y_pred_test, alpha=0.3)\n",
    "plt.xlabel('y_test')\n",
    "plt.ylabel('y_pred_test')"
   ]
  },
  {
   "cell_type": "code",
   "execution_count": 55,
   "id": "1b05a619",
   "metadata": {
    "ExecuteTime": {
     "end_time": "2022-07-01T00:04:45.999934Z",
     "start_time": "2022-07-01T00:04:45.990856Z"
    }
   },
   "outputs": [
    {
     "name": "stdout",
     "output_type": "stream",
     "text": [
      "test MAE: 1.03e+01\n",
      "test MSE: 1.78e+02\n",
      "test R2: 0.112\n"
     ]
    }
   ],
   "source": [
    "print('test MAE: {0:.2e}'.format(mean_absolute_error(y_test, y_pred_test)))\n",
    "print('test MSE: {0:.2e}'.format(mean_squared_error(y_test, y_pred_test)))\n",
    "print('test R2: {0:.3f}'.format(r2_score(y_test, y_pred_test)))"
   ]
  },
  {
   "cell_type": "markdown",
   "id": "c9809067",
   "metadata": {},
   "source": [
    "### Linear regression with polynomial features - degree 2 is the best so far"
   ]
  },
  {
   "cell_type": "code",
   "execution_count": 56,
   "id": "d9c0e44f",
   "metadata": {
    "ExecuteTime": {
     "end_time": "2022-07-01T00:04:48.513507Z",
     "start_time": "2022-07-01T00:04:48.509844Z"
    }
   },
   "outputs": [],
   "source": [
    "from sklearn.preprocessing import PolynomialFeatures"
   ]
  },
  {
   "cell_type": "code",
   "execution_count": 73,
   "id": "ca09eaa0",
   "metadata": {
    "ExecuteTime": {
     "end_time": "2022-07-01T00:05:10.785762Z",
     "start_time": "2022-07-01T00:05:10.783228Z"
    }
   },
   "outputs": [],
   "source": [
    "steps = [('scaler',MinMaxScaler()),('poly', PolynomialFeatures(degree=2)),('lr', LinearRegression())]\n",
    "model = Pipeline(steps)"
   ]
  },
  {
   "cell_type": "code",
   "execution_count": 74,
   "id": "a875dd04",
   "metadata": {
    "ExecuteTime": {
     "end_time": "2022-07-01T00:05:11.345198Z",
     "start_time": "2022-07-01T00:05:11.219131Z"
    }
   },
   "outputs": [],
   "source": [
    "model = model.fit(X_train, y_train)"
   ]
  },
  {
   "cell_type": "code",
   "execution_count": 75,
   "id": "c41f7d0a",
   "metadata": {
    "ExecuteTime": {
     "end_time": "2022-07-01T00:05:11.545506Z",
     "start_time": "2022-07-01T00:05:11.509958Z"
    }
   },
   "outputs": [],
   "source": [
    "y_train_pred = model.predict(X_train)"
   ]
  },
  {
   "cell_type": "code",
   "execution_count": 76,
   "id": "b484d0ad",
   "metadata": {
    "ExecuteTime": {
     "end_time": "2022-07-01T00:05:12.012407Z",
     "start_time": "2022-07-01T00:05:11.818100Z"
    }
   },
   "outputs": [
    {
     "data": {
      "text/plain": [
       "Text(0, 0.5, 'y_train_pred')"
      ]
     },
     "execution_count": 76,
     "metadata": {},
     "output_type": "execute_result"
    },
    {
     "data": {
      "image/png": "[encoded data removed]",
      "text/plain": [
       "<Figure size 432x288 with 1 Axes>"
      ]
     },
     "metadata": {
      "needs_background": "light"
     },
     "output_type": "display_data"
    }
   ],
   "source": [
    "plt.scatter(y_train, y_train_pred, alpha=0.3)\n",
    "plt.xlabel('y_train')\n",
    "plt.ylabel('y_train_pred')"
   ]
  },
  {
   "cell_type": "code",
   "execution_count": 77,
   "id": "35cd7390",
   "metadata": {
    "ExecuteTime": {
     "end_time": "2022-07-01T00:05:12.276491Z",
     "start_time": "2022-07-01T00:05:12.268150Z"
    }
   },
   "outputs": [
    {
     "name": "stdout",
     "output_type": "stream",
     "text": [
      "train MAE: 9.99e+00\n",
      "train MSE: 1.66e+02\n",
      "train R2: 0.192\n"
     ]
    }
   ],
   "source": [
    "print('train MAE: {0:.2e}'.format(mean_absolute_error(y_train, y_train_pred)))\n",
    "print('train MSE: {0:.2e}'.format(mean_squared_error(y_train, y_train_pred)))\n",
    "print('train R2: {0:.3f}'.format(r2_score(y_train, y_train_pred)))"
   ]
  },
  {
   "cell_type": "code",
   "execution_count": 78,
   "id": "5af3f5c1",
   "metadata": {
    "ExecuteTime": {
     "end_time": "2022-07-01T00:05:12.828368Z",
     "start_time": "2022-07-01T00:05:12.798463Z"
    }
   },
   "outputs": [],
   "source": [
    "y_pred_test = model.predict(X_test)"
   ]
  },
  {
   "cell_type": "code",
   "execution_count": 79,
   "id": "42f00145",
   "metadata": {
    "ExecuteTime": {
     "end_time": "2022-07-01T00:05:14.301930Z",
     "start_time": "2022-07-01T00:05:14.137779Z"
    }
   },
   "outputs": [
    {
     "data": {
      "text/plain": [
       "Text(0, 0.5, 'y_pred_test')"
      ]
     },
     "execution_count": 79,
     "metadata": {},
     "output_type": "execute_result"
    },
    {
     "data": {
      "image/png": "[encoded data removed]",
      "text/plain": [
       "<Figure size 432x288 with 1 Axes>"
      ]
     },
     "metadata": {
      "needs_background": "light"
     },
     "output_type": "display_data"
    }
   ],
   "source": [
    "plt.scatter(y_test, y_pred_test, alpha=0.3)\n",
    "plt.xlabel('y_test')\n",
    "plt.ylabel('y_pred_test')"
   ]
  },
  {
   "cell_type": "code",
   "execution_count": 80,
   "id": "9cf50fe8",
   "metadata": {
    "ExecuteTime": {
     "end_time": "2022-07-01T00:05:15.057978Z",
     "start_time": "2022-07-01T00:05:15.051552Z"
    }
   },
   "outputs": [
    {
     "name": "stdout",
     "output_type": "stream",
     "text": [
      "test MAE: 9.95e+00\n",
      "test MSE: 1.63e+02\n",
      "test R2: 0.184\n"
     ]
    }
   ],
   "source": [
    "print('test MAE: {0:.2e}'.format(mean_absolute_error(y_test, y_pred_test)))\n",
    "print('test MSE: {0:.2e}'.format(mean_squared_error(y_test, y_pred_test)))\n",
    "print('test R2: {0:.3f}'.format(r2_score(y_test, y_pred_test)))"
   ]
  },
  {
   "cell_type": "markdown",
   "id": "90d524ec",
   "metadata": {},
   "source": [
    "### Poly + Lasso"
   ]
  },
  {
   "cell_type": "code",
   "execution_count": 81,
   "id": "44e00dd2",
   "metadata": {
    "ExecuteTime": {
     "end_time": "2022-07-01T00:05:18.686698Z",
     "start_time": "2022-07-01T00:05:18.684077Z"
    }
   },
   "outputs": [],
   "source": [
    "#Poly + Lasso\n",
    "from sklearn.linear_model import Lasso\n",
    "from sklearn.model_selection import GridSearchCV\n",
    "from numpy import arange\n",
    "from sklearn.model_selection import RepeatedKFold\n",
    "import numpy as np"
   ]
  },
  {
   "cell_type": "code",
   "execution_count": 82,
   "id": "dce251f1",
   "metadata": {
    "ExecuteTime": {
     "end_time": "2022-07-01T00:05:20.010833Z",
     "start_time": "2022-07-01T00:05:20.008217Z"
    },
    "run_control": {
     "marked": false
    }
   },
   "outputs": [],
   "source": [
    "steps = [('scaler',MinMaxScaler()),('lasso', Lasso(max_iter=100000))]\n",
    "pipeline = Pipeline(steps)"
   ]
  },
  {
   "cell_type": "code",
   "execution_count": 86,
   "id": "2180e750",
   "metadata": {
    "ExecuteTime": {
     "end_time": "2022-07-01T00:06:00.620159Z",
     "start_time": "2022-07-01T00:06:00.616313Z"
    }
   },
   "outputs": [],
   "source": [
    "model = GridSearchCV(pipeline,\n",
    "                      {'lasso__alpha':np.arange(0.001,0.01,0.001)},\n",
    "                      cv = 5, scoring=\"neg_mean_squared_error\",verbose=10\n",
    "                      )"
   ]
  },
  {
   "cell_type": "code",
   "execution_count": 87,
   "id": "8971f109",
   "metadata": {
    "ExecuteTime": {
     "end_time": "2022-07-01T00:06:02.117362Z",
     "start_time": "2022-07-01T00:06:01.404364Z"
    }
   },
   "outputs": [
    {
     "name": "stdout",
     "output_type": "stream",
     "text": [
      "Fitting 5 folds for each of 9 candidates, totalling 45 fits\n",
      "[CV 1/5; 1/9] START lasso__alpha=0.001..........................................\n",
      "[CV 1/5; 1/9] END ........lasso__alpha=0.001;, score=-183.062 total time=   0.0s\n",
      "[CV 2/5; 1/9] START lasso__alpha=0.001..........................................\n",
      "[CV 2/5; 1/9] END ........lasso__alpha=0.001;, score=-180.592 total time=   0.0s\n",
      "[CV 3/5; 1/9] START lasso__alpha=0.001..........................................\n",
      "[CV 3/5; 1/9] END ........lasso__alpha=0.001;, score=-179.037 total time=   0.0s\n",
      "[CV 4/5; 1/9] START lasso__alpha=0.001..........................................\n",
      "[CV 4/5; 1/9] END ........lasso__alpha=0.001;, score=-184.684 total time=   0.0s\n",
      "[CV 5/5; 1/9] START lasso__alpha=0.001..........................................\n",
      "[CV 5/5; 1/9] END ........lasso__alpha=0.001;, score=-183.359 total time=   0.0s\n",
      "[CV 1/5; 2/9] START lasso__alpha=0.002..........................................\n",
      "[CV 1/5; 2/9] END ........lasso__alpha=0.002;, score=-183.211 total time=   0.0s\n",
      "[CV 2/5; 2/9] START lasso__alpha=0.002..........................................\n",
      "[CV 2/5; 2/9] END ........lasso__alpha=0.002;, score=-180.655 total time=   0.0s\n",
      "[CV 3/5; 2/9] START lasso__alpha=0.002..........................................\n",
      "[CV 3/5; 2/9] END ........lasso__alpha=0.002;, score=-179.000 total time=   0.0s\n",
      "[CV 4/5; 2/9] START lasso__alpha=0.002..........................................\n",
      "[CV 4/5; 2/9] END ........lasso__alpha=0.002;, score=-184.922 total time=   0.0s\n",
      "[CV 5/5; 2/9] START lasso__alpha=0.002..........................................\n",
      "[CV 5/5; 2/9] END ........lasso__alpha=0.002;, score=-183.171 total time=   0.0s\n",
      "[CV 1/5; 3/9] START lasso__alpha=0.003..........................................\n",
      "[CV 1/5; 3/9] END ........lasso__alpha=0.003;, score=-183.389 total time=   0.0s\n",
      "[CV 2/5; 3/9] START lasso__alpha=0.003..........................................\n",
      "[CV 2/5; 3/9] END ........lasso__alpha=0.003;, score=-180.752 total time=   0.0s\n",
      "[CV 3/5; 3/9] START lasso__alpha=0.003..........................................\n",
      "[CV 3/5; 3/9] END ........lasso__alpha=0.003;, score=-178.998 total time=   0.0s\n",
      "[CV 4/5; 3/9] START lasso__alpha=0.003..........................................\n",
      "[CV 4/5; 3/9] END ........lasso__alpha=0.003;, score=-185.192 total time=   0.0s\n",
      "[CV 5/5; 3/9] START lasso__alpha=0.003..........................................\n",
      "[CV 5/5; 3/9] END ........lasso__alpha=0.003;, score=-183.030 total time=   0.0s\n",
      "[CV 1/5; 4/9] START lasso__alpha=0.004..........................................\n",
      "[CV 1/5; 4/9] END ........lasso__alpha=0.004;, score=-183.597 total time=   0.0s\n",
      "[CV 2/5; 4/9] START lasso__alpha=0.004..........................................\n",
      "[CV 2/5; 4/9] END ........lasso__alpha=0.004;, score=-180.881 total time=   0.0s\n",
      "[CV 3/5; 4/9] START lasso__alpha=0.004..........................................\n",
      "[CV 3/5; 4/9] END ........lasso__alpha=0.004;, score=-179.033 total time=   0.0s\n",
      "[CV 4/5; 4/9] START lasso__alpha=0.004..........................................\n",
      "[CV 4/5; 4/9] END ........lasso__alpha=0.004;, score=-185.495 total time=   0.0s\n",
      "[CV 5/5; 4/9] START lasso__alpha=0.004..........................................\n",
      "[CV 5/5; 4/9] END ........lasso__alpha=0.004;, score=-182.936 total time=   0.0s\n",
      "[CV 1/5; 5/9] START lasso__alpha=0.005..........................................\n",
      "[CV 1/5; 5/9] END ........lasso__alpha=0.005;, score=-183.835 total time=   0.0s\n",
      "[CV 2/5; 5/9] START lasso__alpha=0.005..........................................\n",
      "[CV 2/5; 5/9] END ........lasso__alpha=0.005;, score=-181.042 total time=   0.0s\n",
      "[CV 3/5; 5/9] START lasso__alpha=0.005..........................................\n",
      "[CV 3/5; 5/9] END ........lasso__alpha=0.005;, score=-179.104 total time=   0.0s\n",
      "[CV 4/5; 5/9] START lasso__alpha=0.005..........................................\n",
      "[CV 4/5; 5/9] END ........lasso__alpha=0.005;, score=-185.808 total time=   0.0s\n",
      "[CV 5/5; 5/9] START lasso__alpha=0.005..........................................\n",
      "[CV 5/5; 5/9] END ........lasso__alpha=0.005;, score=-182.889 total time=   0.0s\n",
      "[CV 1/5; 6/9] START lasso__alpha=0.006..........................................\n",
      "[CV 1/5; 6/9] END ........lasso__alpha=0.006;, score=-184.066 total time=   0.0s\n",
      "[CV 2/5; 6/9] START lasso__alpha=0.006..........................................\n",
      "[CV 2/5; 6/9] END ........lasso__alpha=0.006;, score=-181.237 total time=   0.0s\n",
      "[CV 3/5; 6/9] START lasso__alpha=0.006..........................................\n",
      "[CV 3/5; 6/9] END ........lasso__alpha=0.006;, score=-179.212 total time=   0.0s\n",
      "[CV 4/5; 6/9] START lasso__alpha=0.006..........................................\n",
      "[CV 4/5; 6/9] END ........lasso__alpha=0.006;, score=-186.114 total time=   0.0s\n",
      "[CV 5/5; 6/9] START lasso__alpha=0.006..........................................\n",
      "[CV 5/5; 6/9] END ........lasso__alpha=0.006;, score=-182.888 total time=   0.0s\n",
      "[CV 1/5; 7/9] START lasso__alpha=0.007..........................................\n",
      "[CV 1/5; 7/9] END ........lasso__alpha=0.007;, score=-184.310 total time=   0.0s\n",
      "[CV 2/5; 7/9] START lasso__alpha=0.007..........................................\n",
      "[CV 2/5; 7/9] END ........lasso__alpha=0.007;, score=-181.372 total time=   0.0s\n",
      "[CV 3/5; 7/9] START lasso__alpha=0.007..........................................\n",
      "[CV 3/5; 7/9] END ........lasso__alpha=0.007;, score=-179.323 total time=   0.0s\n",
      "[CV 4/5; 7/9] START lasso__alpha=0.007..........................................\n",
      "[CV 4/5; 7/9] END ........lasso__alpha=0.007;, score=-186.420 total time=   0.0s\n",
      "[CV 5/5; 7/9] START lasso__alpha=0.007..........................................\n",
      "[CV 5/5; 7/9] END ........lasso__alpha=0.007;, score=-182.934 total time=   0.0s\n",
      "[CV 1/5; 8/9] START lasso__alpha=0.008..........................................\n",
      "[CV 1/5; 8/9] END ........lasso__alpha=0.008;, score=-184.540 total time=   0.0s\n",
      "[CV 2/5; 8/9] START lasso__alpha=0.008..........................................\n",
      "[CV 2/5; 8/9] END ........lasso__alpha=0.008;, score=-181.504 total time=   0.0s\n",
      "[CV 3/5; 8/9] START lasso__alpha=0.008..........................................\n",
      "[CV 3/5; 8/9] END ........lasso__alpha=0.008;, score=-179.377 total time=   0.0s\n",
      "[CV 4/5; 8/9] START lasso__alpha=0.008..........................................\n",
      "[CV 4/5; 8/9] END ........lasso__alpha=0.008;, score=-186.653 total time=   0.0s\n",
      "[CV 5/5; 8/9] START lasso__alpha=0.008..........................................\n",
      "[CV 5/5; 8/9] END ........lasso__alpha=0.008;, score=-182.988 total time=   0.0s\n",
      "[CV 1/5; 9/9] START lasso__alpha=0.009000000000000001...........................\n",
      "[CV 1/5; 9/9] END lasso__alpha=0.009000000000000001;, score=-184.775 total time=   0.0s\n",
      "[CV 2/5; 9/9] START lasso__alpha=0.009000000000000001...........................\n",
      "[CV 2/5; 9/9] END lasso__alpha=0.009000000000000001;, score=-181.657 total time=   0.0s\n",
      "[CV 3/5; 9/9] START lasso__alpha=0.009000000000000001...........................\n",
      "[CV 3/5; 9/9] END lasso__alpha=0.009000000000000001;, score=-179.446 total time=   0.0s\n",
      "[CV 4/5; 9/9] START lasso__alpha=0.009000000000000001...........................\n",
      "[CV 4/5; 9/9] END lasso__alpha=0.009000000000000001;, score=-186.903 total time=   0.0s\n",
      "[CV 5/5; 9/9] START lasso__alpha=0.009000000000000001...........................\n",
      "[CV 5/5; 9/9] END lasso__alpha=0.009000000000000001;, score=-183.071 total time=   0.0s\n"
     ]
    }
   ],
   "source": [
    "model = model.fit(X_train, y_train)"
   ]
  },
  {
   "cell_type": "code",
   "execution_count": 88,
   "id": "0ab2d765",
   "metadata": {
    "ExecuteTime": {
     "end_time": "2022-07-01T00:06:04.997655Z",
     "start_time": "2022-07-01T00:06:04.991895Z"
    }
   },
   "outputs": [
    {
     "data": {
      "text/plain": [
       "{'lasso__alpha': 0.001}"
      ]
     },
     "execution_count": 88,
     "metadata": {},
     "output_type": "execute_result"
    }
   ],
   "source": [
    "model.best_params_"
   ]
  },
  {
   "cell_type": "code",
   "execution_count": 89,
   "id": "863fc3af",
   "metadata": {
    "ExecuteTime": {
     "end_time": "2022-07-01T00:06:09.866176Z",
     "start_time": "2022-07-01T00:06:09.861497Z"
    }
   },
   "outputs": [],
   "source": [
    "steps = [('scaler',MinMaxScaler()),('lasso', Lasso(max_iter=100000, alpha=0.001))]\n",
    "pipeline = Pipeline(steps)"
   ]
  },
  {
   "cell_type": "code",
   "execution_count": 90,
   "id": "c2b8d163",
   "metadata": {
    "ExecuteTime": {
     "end_time": "2022-07-01T00:06:11.231931Z",
     "start_time": "2022-07-01T00:06:11.215115Z"
    }
   },
   "outputs": [],
   "source": [
    "model = pipeline.fit(X_train, y_train)"
   ]
  },
  {
   "cell_type": "code",
   "execution_count": 91,
   "id": "2c501c76",
   "metadata": {
    "ExecuteTime": {
     "end_time": "2022-07-01T00:06:11.847527Z",
     "start_time": "2022-07-01T00:06:11.838511Z"
    }
   },
   "outputs": [],
   "source": [
    "y_train_pred = model.predict(X_train)"
   ]
  },
  {
   "cell_type": "code",
   "execution_count": 92,
   "id": "0ccaf6ec",
   "metadata": {
    "ExecuteTime": {
     "end_time": "2022-07-01T00:06:12.511219Z",
     "start_time": "2022-07-01T00:06:12.332771Z"
    }
   },
   "outputs": [
    {
     "data": {
      "text/plain": [
       "Text(0, 0.5, 'y_train_pred')"
      ]
     },
     "execution_count": 92,
     "metadata": {},
     "output_type": "execute_result"
    },
    {
     "data": {
      "image/png": "[encoded data removed]",
      "text/plain": [
       "<Figure size 432x288 with 1 Axes>"
      ]
     },
     "metadata": {
      "needs_background": "light"
     },
     "output_type": "display_data"
    }
   ],
   "source": [
    "plt.scatter(y_train, y_train_pred, alpha=0.3)\n",
    "plt.xlabel('y_train')\n",
    "plt.ylabel('y_train_pred')"
   ]
  },
  {
   "cell_type": "code",
   "execution_count": 93,
   "id": "e57e2f74",
   "metadata": {
    "ExecuteTime": {
     "end_time": "2022-07-01T00:06:13.890492Z",
     "start_time": "2022-07-01T00:06:13.880530Z"
    }
   },
   "outputs": [
    {
     "name": "stdout",
     "output_type": "stream",
     "text": [
      "train MAE: 1.04e+01\n",
      "train MSE: 1.82e+02\n",
      "train R2: 0.114\n"
     ]
    }
   ],
   "source": [
    "print('train MAE: {0:.2e}'.format(mean_absolute_error(y_train, y_train_pred)))\n",
    "print('train MSE: {0:.2e}'.format(mean_squared_error(y_train, y_train_pred)))\n",
    "print('train R2: {0:.3f}'.format(r2_score(y_train, y_train_pred)))"
   ]
  },
  {
   "cell_type": "code",
   "execution_count": 94,
   "id": "a094406d",
   "metadata": {
    "ExecuteTime": {
     "end_time": "2022-07-01T00:06:15.279122Z",
     "start_time": "2022-07-01T00:06:15.272713Z"
    }
   },
   "outputs": [],
   "source": [
    "y_pred_test = model.predict(X_test)"
   ]
  },
  {
   "cell_type": "code",
   "execution_count": 95,
   "id": "4e681ee9",
   "metadata": {
    "ExecuteTime": {
     "end_time": "2022-07-01T00:06:15.884017Z",
     "start_time": "2022-07-01T00:06:15.709433Z"
    }
   },
   "outputs": [
    {
     "data": {
      "text/plain": [
       "Text(0, 0.5, 'y_pred_test')"
      ]
     },
     "execution_count": 95,
     "metadata": {},
     "output_type": "execute_result"
    },
    {
     "data": {
      "image/png": "[encoded data removed]",
      "text/plain": [
       "<Figure size 432x288 with 1 Axes>"
      ]
     },
     "metadata": {
      "needs_background": "light"
     },
     "output_type": "display_data"
    }
   ],
   "source": [
    "plt.scatter(y_test, y_pred_test, alpha=0.3)\n",
    "plt.xlabel('y_test')\n",
    "plt.ylabel('y_pred_test')"
   ]
  },
  {
   "cell_type": "code",
   "execution_count": 96,
   "id": "ff3ff264",
   "metadata": {
    "ExecuteTime": {
     "end_time": "2022-07-01T00:06:17.189567Z",
     "start_time": "2022-07-01T00:06:17.185479Z"
    }
   },
   "outputs": [],
   "source": [
    "steps = [('scaler',MinMaxScaler()),('poly', PolynomialFeatures(degree=3)),('lasso', Lasso(max_iter=100000, alpha=0.0009000000000000001))]\n",
    "model = Pipeline(steps)"
   ]
  },
  {
   "cell_type": "code",
   "execution_count": 97,
   "id": "06c4e9f8",
   "metadata": {
    "ExecuteTime": {
     "end_time": "2022-07-01T00:06:19.370722Z",
     "start_time": "2022-07-01T00:06:17.839018Z"
    }
   },
   "outputs": [],
   "source": [
    "model = model.fit(X_train, y_train)"
   ]
  },
  {
   "cell_type": "code",
   "execution_count": 98,
   "id": "b1de8c9a",
   "metadata": {
    "ExecuteTime": {
     "end_time": "2022-07-01T00:06:19.625886Z",
     "start_time": "2022-07-01T00:06:19.552691Z"
    }
   },
   "outputs": [],
   "source": [
    "y_train_pred = model.predict(X_train)"
   ]
  },
  {
   "cell_type": "code",
   "execution_count": 99,
   "id": "0cf9233d",
   "metadata": {
    "ExecuteTime": {
     "end_time": "2022-07-01T00:06:19.996930Z",
     "start_time": "2022-07-01T00:06:19.780903Z"
    }
   },
   "outputs": [
    {
     "data": {
      "text/plain": [
       "Text(0, 0.5, 'y_train_pred')"
      ]
     },
     "execution_count": 99,
     "metadata": {},
     "output_type": "execute_result"
    },
    {
     "data": {
      "image/png": "[encoded data removed]",
      "text/plain": [
       "<Figure size 432x288 with 1 Axes>"
      ]
     },
     "metadata": {
      "needs_background": "light"
     },
     "output_type": "display_data"
    }
   ],
   "source": [
    "plt.scatter(y_train, y_train_pred, alpha=0.3)\n",
    "plt.xlabel('y_train')\n",
    "plt.ylabel('y_train_pred')"
   ]
  },
  {
   "cell_type": "code",
   "execution_count": 100,
   "id": "2e43362f",
   "metadata": {
    "ExecuteTime": {
     "end_time": "2022-07-01T00:06:21.271344Z",
     "start_time": "2022-07-01T00:06:21.261335Z"
    }
   },
   "outputs": [
    {
     "name": "stdout",
     "output_type": "stream",
     "text": [
      "train MAE: 1.01e+01\n",
      "train MSE: 1.68e+02\n",
      "train R2: 0.179\n"
     ]
    }
   ],
   "source": [
    "print('train MAE: {0:.2e}'.format(mean_absolute_error(y_train, y_train_pred)))\n",
    "print('train MSE: {0:.2e}'.format(mean_squared_error(y_train, y_train_pred)))\n",
    "print('train R2: {0:.3f}'.format(r2_score(y_train, y_train_pred)))"
   ]
  },
  {
   "cell_type": "code",
   "execution_count": 101,
   "id": "c48901a9",
   "metadata": {
    "ExecuteTime": {
     "end_time": "2022-07-01T00:06:22.726742Z",
     "start_time": "2022-07-01T00:06:22.651864Z"
    }
   },
   "outputs": [],
   "source": [
    "y_pred_test = model.predict(X_test)"
   ]
  },
  {
   "cell_type": "code",
   "execution_count": 102,
   "id": "aee0a97a",
   "metadata": {
    "ExecuteTime": {
     "end_time": "2022-07-01T00:06:23.253187Z",
     "start_time": "2022-07-01T00:06:23.081321Z"
    }
   },
   "outputs": [
    {
     "data": {
      "text/plain": [
       "Text(0, 0.5, 'y_pred_test')"
      ]
     },
     "execution_count": 102,
     "metadata": {},
     "output_type": "execute_result"
    },
    {
     "data": {
      "image/png": "[encoded data removed]",
      "text/plain": [
       "<Figure size 432x288 with 1 Axes>"
      ]
     },
     "metadata": {
      "needs_background": "light"
     },
     "output_type": "display_data"
    }
   ],
   "source": [
    "plt.scatter(y_test, y_pred_test, alpha=0.3)\n",
    "plt.xlabel('y_test')\n",
    "plt.ylabel('y_pred_test')"
   ]
  },
  {
   "cell_type": "markdown",
   "id": "e8a7a7ed",
   "metadata": {},
   "source": [
    "### Ridge vs Poly + Ridge"
   ]
  },
  {
   "cell_type": "code",
   "execution_count": 104,
   "id": "b0109a1e",
   "metadata": {
    "ExecuteTime": {
     "end_time": "2022-07-01T00:06:37.669949Z",
     "start_time": "2022-07-01T00:06:37.667073Z"
    }
   },
   "outputs": [],
   "source": [
    "from sklearn.linear_model import Ridge"
   ]
  },
  {
   "cell_type": "code",
   "execution_count": 105,
   "id": "43c60b59",
   "metadata": {
    "ExecuteTime": {
     "end_time": "2022-07-01T00:06:38.382633Z",
     "start_time": "2022-07-01T00:06:38.379011Z"
    }
   },
   "outputs": [],
   "source": [
    "steps = [('scaler',MinMaxScaler()),('ridge', Ridge())]\n",
    "pipeline = Pipeline(steps)"
   ]
  },
  {
   "cell_type": "code",
   "execution_count": 106,
   "id": "d15c87f9",
   "metadata": {
    "ExecuteTime": {
     "end_time": "2022-07-01T00:06:38.950023Z",
     "start_time": "2022-07-01T00:06:38.946272Z"
    }
   },
   "outputs": [],
   "source": [
    "model = GridSearchCV(pipeline,\n",
    "                      {'ridge__alpha':np.arange(0.1,10,0.2)},\n",
    "                      cv = 5, scoring=\"neg_mean_squared_error\",verbose=3\n",
    "                      )"
   ]
  },
  {
   "cell_type": "code",
   "execution_count": 107,
   "id": "7c4a4d3d",
   "metadata": {
    "ExecuteTime": {
     "end_time": "2022-07-01T00:06:43.434934Z",
     "start_time": "2022-07-01T00:06:40.171323Z"
    }
   },
   "outputs": [
    {
     "name": "stdout",
     "output_type": "stream",
     "text": [
      "Fitting 5 folds for each of 50 candidates, totalling 250 fits\n",
      "[CV 1/5] END ...............ridge__alpha=0.1;, score=-182.964 total time=   0.0s\n",
      "[CV 2/5] END ...............ridge__alpha=0.1;, score=-180.559 total time=   0.0s\n",
      "[CV 3/5] END ...............ridge__alpha=0.1;, score=-179.090 total time=   0.0s\n",
      "[CV 4/5] END ...............ridge__alpha=0.1;, score=-184.509 total time=   0.0s\n",
      "[CV 5/5] END ...............ridge__alpha=0.1;, score=-183.566 total time=   0.0s\n",
      "[CV 1/5] END ridge__alpha=0.30000000000000004;, score=-183.009 total time=   0.0s\n",
      "[CV 2/5] END ridge__alpha=0.30000000000000004;, score=-180.560 total time=   0.0s\n",
      "[CV 3/5] END ridge__alpha=0.30000000000000004;, score=-179.051 total time=   0.0s\n",
      "[CV 4/5] END ridge__alpha=0.30000000000000004;, score=-184.575 total time=   0.0s\n",
      "[CV 5/5] END ridge__alpha=0.30000000000000004;, score=-183.516 total time=   0.0s\n",
      "[CV 1/5] END ridge__alpha=0.5000000000000001;, score=-183.057 total time=   0.0s\n",
      "[CV 2/5] END ridge__alpha=0.5000000000000001;, score=-180.567 total time=   0.0s\n",
      "[CV 3/5] END ridge__alpha=0.5000000000000001;, score=-179.017 total time=   0.0s\n",
      "[CV 4/5] END ridge__alpha=0.5000000000000001;, score=-184.643 total time=   0.0s\n",
      "[CV 5/5] END ridge__alpha=0.5000000000000001;, score=-183.475 total time=   0.0s\n",
      "[CV 1/5] END ridge__alpha=0.7000000000000001;, score=-183.109 total time=   0.0s\n",
      "[CV 2/5] END ridge__alpha=0.7000000000000001;, score=-180.578 total time=   0.0s\n",
      "[CV 3/5] END ridge__alpha=0.7000000000000001;, score=-178.987 total time=   0.0s\n",
      "[CV 4/5] END ridge__alpha=0.7000000000000001;, score=-184.714 total time=   0.0s\n",
      "[CV 5/5] END ridge__alpha=0.7000000000000001;, score=-183.440 total time=   0.0s\n",
      "[CV 1/5] END ridge__alpha=0.9000000000000001;, score=-183.163 total time=   0.0s\n",
      "[CV 2/5] END ridge__alpha=0.9000000000000001;, score=-180.595 total time=   0.0s\n",
      "[CV 3/5] END ridge__alpha=0.9000000000000001;, score=-178.961 total time=   0.0s\n",
      "[CV 4/5] END ridge__alpha=0.9000000000000001;, score=-184.786 total time=   0.0s\n",
      "[CV 5/5] END ridge__alpha=0.9000000000000001;, score=-183.411 total time=   0.0s\n",
      "[CV 1/5] END ridge__alpha=1.1000000000000003;, score=-183.221 total time=   0.0s\n",
      "[CV 2/5] END ridge__alpha=1.1000000000000003;, score=-180.615 total time=   0.0s\n",
      "[CV 3/5] END ridge__alpha=1.1000000000000003;, score=-178.939 total time=   0.0s\n",
      "[CV 4/5] END ridge__alpha=1.1000000000000003;, score=-184.860 total time=   0.0s\n",
      "[CV 5/5] END ridge__alpha=1.1000000000000003;, score=-183.387 total time=   0.0s\n",
      "[CV 1/5] END ridge__alpha=1.3000000000000003;, score=-183.280 total time=   0.0s\n",
      "[CV 2/5] END ridge__alpha=1.3000000000000003;, score=-180.639 total time=   0.0s\n",
      "[CV 3/5] END ridge__alpha=1.3000000000000003;, score=-178.921 total time=   0.0s\n",
      "[CV 4/5] END ridge__alpha=1.3000000000000003;, score=-184.935 total time=   0.0s\n",
      "[CV 5/5] END ridge__alpha=1.3000000000000003;, score=-183.369 total time=   0.0s\n",
      "[CV 1/5] END ridge__alpha=1.5000000000000004;, score=-183.342 total time=   0.0s\n",
      "[CV 2/5] END ridge__alpha=1.5000000000000004;, score=-180.666 total time=   0.0s\n",
      "[CV 3/5] END ridge__alpha=1.5000000000000004;, score=-178.905 total time=   0.0s\n",
      "[CV 4/5] END ridge__alpha=1.5000000000000004;, score=-185.011 total time=   0.0s\n",
      "[CV 5/5] END ridge__alpha=1.5000000000000004;, score=-183.356 total time=   0.0s\n",
      "[CV 1/5] END ridge__alpha=1.7000000000000004;, score=-183.405 total time=   0.0s\n",
      "[CV 2/5] END ridge__alpha=1.7000000000000004;, score=-180.696 total time=   0.0s\n",
      "[CV 3/5] END ridge__alpha=1.7000000000000004;, score=-178.893 total time=   0.0s\n",
      "[CV 4/5] END ridge__alpha=1.7000000000000004;, score=-185.087 total time=   0.0s\n",
      "[CV 5/5] END ridge__alpha=1.7000000000000004;, score=-183.346 total time=   0.0s\n",
      "[CV 1/5] END ridge__alpha=1.9000000000000004;, score=-183.469 total time=   0.0s\n",
      "[CV 2/5] END ridge__alpha=1.9000000000000004;, score=-180.729 total time=   0.0s\n",
      "[CV 3/5] END ridge__alpha=1.9000000000000004;, score=-178.883 total time=   0.0s\n",
      "[CV 4/5] END ridge__alpha=1.9000000000000004;, score=-185.165 total time=   0.0s\n",
      "[CV 5/5] END ridge__alpha=1.9000000000000004;, score=-183.341 total time=   0.0s\n",
      "[CV 1/5] END ridge__alpha=2.1000000000000005;, score=-183.535 total time=   0.0s\n",
      "[CV 2/5] END ridge__alpha=2.1000000000000005;, score=-180.763 total time=   0.0s\n",
      "[CV 3/5] END ridge__alpha=2.1000000000000005;, score=-178.876 total time=   0.0s\n",
      "[CV 4/5] END ridge__alpha=2.1000000000000005;, score=-185.243 total time=   0.0s\n",
      "[CV 5/5] END ridge__alpha=2.1000000000000005;, score=-183.339 total time=   0.0s\n",
      "[CV 1/5] END ridge__alpha=2.3000000000000007;, score=-183.601 total time=   0.0s\n",
      "[CV 2/5] END ridge__alpha=2.3000000000000007;, score=-180.800 total time=   0.0s\n",
      "[CV 3/5] END ridge__alpha=2.3000000000000007;, score=-178.871 total time=   0.0s\n",
      "[CV 4/5] END ridge__alpha=2.3000000000000007;, score=-185.321 total time=   0.0s\n",
      "[CV 5/5] END ridge__alpha=2.3000000000000007;, score=-183.340 total time=   0.0s\n",
      "[CV 1/5] END ridge__alpha=2.5000000000000004;, score=-183.668 total time=   0.0s\n",
      "[CV 2/5] END ridge__alpha=2.5000000000000004;, score=-180.839 total time=   0.0s\n",
      "[CV 3/5] END ridge__alpha=2.5000000000000004;, score=-178.869 total time=   0.0s\n",
      "[CV 4/5] END ridge__alpha=2.5000000000000004;, score=-185.399 total time=   0.0s\n",
      "[CV 5/5] END ridge__alpha=2.5000000000000004;, score=-183.344 total time=   0.0s\n",
      "[CV 1/5] END ridge__alpha=2.7000000000000006;, score=-183.736 total time=   0.0s\n",
      "[CV 2/5] END ridge__alpha=2.7000000000000006;, score=-180.880 total time=   0.0s\n",
      "[CV 3/5] END ridge__alpha=2.7000000000000006;, score=-178.869 total time=   0.0s\n",
      "[CV 4/5] END ridge__alpha=2.7000000000000006;, score=-185.478 total time=   0.0s\n",
      "[CV 5/5] END ridge__alpha=2.7000000000000006;, score=-183.352 total time=   0.0s\n",
      "[CV 1/5] END .ridge__alpha=2.900000000000001;, score=-183.805 total time=   0.0s\n",
      "[CV 2/5] END .ridge__alpha=2.900000000000001;, score=-180.922 total time=   0.0s\n",
      "[CV 3/5] END .ridge__alpha=2.900000000000001;, score=-178.871 total time=   0.0s\n",
      "[CV 4/5] END .ridge__alpha=2.900000000000001;, score=-185.556 total time=   0.0s\n",
      "[CV 5/5] END .ridge__alpha=2.900000000000001;, score=-183.361 total time=   0.0s\n",
      "[CV 1/5] END ridge__alpha=3.1000000000000005;, score=-183.874 total time=   0.0s\n",
      "[CV 2/5] END ridge__alpha=3.1000000000000005;, score=-180.965 total time=   0.0s\n",
      "[CV 3/5] END ridge__alpha=3.1000000000000005;, score=-178.874 total time=   0.0s\n",
      "[CV 4/5] END ridge__alpha=3.1000000000000005;, score=-185.634 total time=   0.0s\n",
      "[CV 5/5] END ridge__alpha=3.1000000000000005;, score=-183.373 total time=   0.0s\n",
      "[CV 1/5] END ridge__alpha=3.3000000000000007;, score=-183.943 total time=   0.0s\n",
      "[CV 2/5] END ridge__alpha=3.3000000000000007;, score=-181.010 total time=   0.0s\n",
      "[CV 3/5] END ridge__alpha=3.3000000000000007;, score=-178.880 total time=   0.0s\n",
      "[CV 4/5] END ridge__alpha=3.3000000000000007;, score=-185.712 total time=   0.0s\n",
      "[CV 5/5] END ridge__alpha=3.3000000000000007;, score=-183.387 total time=   0.0s\n",
      "[CV 1/5] END .ridge__alpha=3.500000000000001;, score=-184.012 total time=   0.0s\n",
      "[CV 2/5] END .ridge__alpha=3.500000000000001;, score=-181.055 total time=   0.0s\n",
      "[CV 3/5] END .ridge__alpha=3.500000000000001;, score=-178.886 total time=   0.0s\n",
      "[CV 4/5] END .ridge__alpha=3.500000000000001;, score=-185.790 total time=   0.0s\n",
      "[CV 5/5] END .ridge__alpha=3.500000000000001;, score=-183.403 total time=   0.0s\n",
      "[CV 1/5] END ridge__alpha=3.7000000000000006;, score=-184.082 total time=   0.0s\n",
      "[CV 2/5] END ridge__alpha=3.7000000000000006;, score=-181.101 total time=   0.0s\n",
      "[CV 3/5] END ridge__alpha=3.7000000000000006;, score=-178.895 total time=   0.0s\n",
      "[CV 4/5] END ridge__alpha=3.7000000000000006;, score=-185.867 total time=   0.0s\n",
      "[CV 5/5] END ridge__alpha=3.7000000000000006;, score=-183.421 total time=   0.0s\n",
      "[CV 1/5] END .ridge__alpha=3.900000000000001;, score=-184.151 total time=   0.0s\n",
      "[CV 2/5] END .ridge__alpha=3.900000000000001;, score=-181.149 total time=   0.0s\n",
      "[CV 3/5] END .ridge__alpha=3.900000000000001;, score=-178.905 total time=   0.0s\n",
      "[CV 4/5] END .ridge__alpha=3.900000000000001;, score=-185.944 total time=   0.0s\n",
      "[CV 5/5] END .ridge__alpha=3.900000000000001;, score=-183.440 total time=   0.0s\n",
      "[CV 1/5] END ridge__alpha=4.1000000000000005;, score=-184.220 total time=   0.0s\n",
      "[CV 2/5] END ridge__alpha=4.1000000000000005;, score=-181.196 total time=   0.0s\n",
      "[CV 3/5] END ridge__alpha=4.1000000000000005;, score=-178.916 total time=   0.0s\n",
      "[CV 4/5] END ridge__alpha=4.1000000000000005;, score=-186.020 total time=   0.0s\n",
      "[CV 5/5] END ridge__alpha=4.1000000000000005;, score=-183.461 total time=   0.0s\n",
      "[CV 1/5] END .ridge__alpha=4.300000000000001;, score=-184.290 total time=   0.0s\n",
      "[CV 2/5] END .ridge__alpha=4.300000000000001;, score=-181.245 total time=   0.0s\n",
      "[CV 3/5] END .ridge__alpha=4.300000000000001;, score=-178.929 total time=   0.0s\n",
      "[CV 4/5] END .ridge__alpha=4.300000000000001;, score=-186.096 total time=   0.0s\n",
      "[CV 5/5] END .ridge__alpha=4.300000000000001;, score=-183.483 total time=   0.0s\n",
      "[CV 1/5] END .ridge__alpha=4.500000000000001;, score=-184.359 total time=   0.0s\n",
      "[CV 2/5] END .ridge__alpha=4.500000000000001;, score=-181.294 total time=   0.0s\n"
     ]
    },
    {
     "name": "stdout",
     "output_type": "stream",
     "text": [
      "[CV 3/5] END .ridge__alpha=4.500000000000001;, score=-178.942 total time=   0.0s\n",
      "[CV 4/5] END .ridge__alpha=4.500000000000001;, score=-186.172 total time=   0.0s\n",
      "[CV 5/5] END .ridge__alpha=4.500000000000001;, score=-183.507 total time=   0.0s\n",
      "[CV 1/5] END ...............ridge__alpha=4.7;, score=-184.428 total time=   0.0s\n",
      "[CV 2/5] END ...............ridge__alpha=4.7;, score=-181.343 total time=   0.0s\n",
      "[CV 3/5] END ...............ridge__alpha=4.7;, score=-178.957 total time=   0.0s\n",
      "[CV 4/5] END ...............ridge__alpha=4.7;, score=-186.246 total time=   0.0s\n",
      "[CV 5/5] END ...............ridge__alpha=4.7;, score=-183.532 total time=   0.0s\n",
      "[CV 1/5] END ...............ridge__alpha=4.9;, score=-184.497 total time=   0.0s\n",
      "[CV 2/5] END ...............ridge__alpha=4.9;, score=-181.393 total time=   0.0s\n",
      "[CV 3/5] END ...............ridge__alpha=4.9;, score=-178.973 total time=   0.0s\n",
      "[CV 4/5] END ...............ridge__alpha=4.9;, score=-186.321 total time=   0.0s\n",
      "[CV 5/5] END ...............ridge__alpha=4.9;, score=-183.557 total time=   0.0s\n",
      "[CV 1/5] END ridge__alpha=5.1000000000000005;, score=-184.565 total time=   0.0s\n",
      "[CV 2/5] END ridge__alpha=5.1000000000000005;, score=-181.443 total time=   0.0s\n",
      "[CV 3/5] END ridge__alpha=5.1000000000000005;, score=-178.990 total time=   0.0s\n",
      "[CV 4/5] END ridge__alpha=5.1000000000000005;, score=-186.394 total time=   0.0s\n",
      "[CV 5/5] END ridge__alpha=5.1000000000000005;, score=-183.584 total time=   0.0s\n",
      "[CV 1/5] END .ridge__alpha=5.300000000000001;, score=-184.633 total time=   0.0s\n",
      "[CV 2/5] END .ridge__alpha=5.300000000000001;, score=-181.493 total time=   0.0s\n",
      "[CV 3/5] END .ridge__alpha=5.300000000000001;, score=-179.008 total time=   0.0s\n",
      "[CV 4/5] END .ridge__alpha=5.300000000000001;, score=-186.468 total time=   0.0s\n",
      "[CV 5/5] END .ridge__alpha=5.300000000000001;, score=-183.612 total time=   0.0s\n",
      "[CV 1/5] END .ridge__alpha=5.500000000000001;, score=-184.701 total time=   0.0s\n",
      "[CV 2/5] END .ridge__alpha=5.500000000000001;, score=-181.543 total time=   0.0s\n",
      "[CV 3/5] END .ridge__alpha=5.500000000000001;, score=-179.027 total time=   0.0s\n",
      "[CV 4/5] END .ridge__alpha=5.500000000000001;, score=-186.540 total time=   0.0s\n",
      "[CV 5/5] END .ridge__alpha=5.500000000000001;, score=-183.640 total time=   0.0s\n",
      "[CV 1/5] END .ridge__alpha=5.700000000000001;, score=-184.768 total time=   0.0s\n",
      "[CV 2/5] END .ridge__alpha=5.700000000000001;, score=-181.594 total time=   0.0s\n",
      "[CV 3/5] END .ridge__alpha=5.700000000000001;, score=-179.046 total time=   0.0s\n",
      "[CV 4/5] END .ridge__alpha=5.700000000000001;, score=-186.612 total time=   0.0s\n",
      "[CV 5/5] END .ridge__alpha=5.700000000000001;, score=-183.670 total time=   0.0s\n",
      "[CV 1/5] END ...............ridge__alpha=5.9;, score=-184.835 total time=   0.0s\n",
      "[CV 2/5] END ...............ridge__alpha=5.9;, score=-181.645 total time=   0.0s\n",
      "[CV 3/5] END ...............ridge__alpha=5.9;, score=-179.066 total time=   0.0s\n",
      "[CV 4/5] END ...............ridge__alpha=5.9;, score=-186.683 total time=   0.0s\n",
      "[CV 5/5] END ...............ridge__alpha=5.9;, score=-183.700 total time=   0.0s\n",
      "[CV 1/5] END ridge__alpha=6.1000000000000005;, score=-184.902 total time=   0.0s\n",
      "[CV 2/5] END ridge__alpha=6.1000000000000005;, score=-181.695 total time=   0.0s\n",
      "[CV 3/5] END ridge__alpha=6.1000000000000005;, score=-179.087 total time=   0.0s\n",
      "[CV 4/5] END ridge__alpha=6.1000000000000005;, score=-186.753 total time=   0.0s\n",
      "[CV 5/5] END ridge__alpha=6.1000000000000005;, score=-183.730 total time=   0.0s\n",
      "[CV 1/5] END .ridge__alpha=6.300000000000001;, score=-184.968 total time=   0.0s\n",
      "[CV 2/5] END .ridge__alpha=6.300000000000001;, score=-181.746 total time=   0.0s\n",
      "[CV 3/5] END .ridge__alpha=6.300000000000001;, score=-179.109 total time=   0.0s\n",
      "[CV 4/5] END .ridge__alpha=6.300000000000001;, score=-186.823 total time=   0.0s\n",
      "[CV 5/5] END .ridge__alpha=6.300000000000001;, score=-183.761 total time=   0.0s\n",
      "[CV 1/5] END .ridge__alpha=6.500000000000001;, score=-185.034 total time=   0.0s\n",
      "[CV 2/5] END .ridge__alpha=6.500000000000001;, score=-181.797 total time=   0.0s\n",
      "[CV 3/5] END .ridge__alpha=6.500000000000001;, score=-179.131 total time=   0.0s\n",
      "[CV 4/5] END .ridge__alpha=6.500000000000001;, score=-186.892 total time=   0.0s\n",
      "[CV 5/5] END .ridge__alpha=6.500000000000001;, score=-183.793 total time=   0.0s\n",
      "[CV 1/5] END .ridge__alpha=6.700000000000001;, score=-185.099 total time=   0.0s\n",
      "[CV 2/5] END .ridge__alpha=6.700000000000001;, score=-181.847 total time=   0.0s\n",
      "[CV 3/5] END .ridge__alpha=6.700000000000001;, score=-179.154 total time=   0.0s\n",
      "[CV 4/5] END .ridge__alpha=6.700000000000001;, score=-186.960 total time=   0.0s\n",
      "[CV 5/5] END .ridge__alpha=6.700000000000001;, score=-183.825 total time=   0.0s\n",
      "[CV 1/5] END .ridge__alpha=6.900000000000001;, score=-185.164 total time=   0.0s\n",
      "[CV 2/5] END .ridge__alpha=6.900000000000001;, score=-181.898 total time=   0.0s\n",
      "[CV 3/5] END .ridge__alpha=6.900000000000001;, score=-179.178 total time=   0.0s\n",
      "[CV 4/5] END .ridge__alpha=6.900000000000001;, score=-187.028 total time=   0.0s\n",
      "[CV 5/5] END .ridge__alpha=6.900000000000001;, score=-183.858 total time=   0.0s\n",
      "[CV 1/5] END .ridge__alpha=7.100000000000001;, score=-185.228 total time=   0.0s\n",
      "[CV 2/5] END .ridge__alpha=7.100000000000001;, score=-181.948 total time=   0.0s\n",
      "[CV 3/5] END .ridge__alpha=7.100000000000001;, score=-179.202 total time=   0.0s\n",
      "[CV 4/5] END .ridge__alpha=7.100000000000001;, score=-187.095 total time=   0.0s\n",
      "[CV 5/5] END .ridge__alpha=7.100000000000001;, score=-183.891 total time=   0.0s\n",
      "[CV 1/5] END .ridge__alpha=7.300000000000001;, score=-185.292 total time=   0.0s\n",
      "[CV 2/5] END .ridge__alpha=7.300000000000001;, score=-181.999 total time=   0.0s\n",
      "[CV 3/5] END .ridge__alpha=7.300000000000001;, score=-179.226 total time=   0.0s\n",
      "[CV 4/5] END .ridge__alpha=7.300000000000001;, score=-187.161 total time=   0.0s\n",
      "[CV 5/5] END .ridge__alpha=7.300000000000001;, score=-183.924 total time=   0.0s\n",
      "[CV 1/5] END .ridge__alpha=7.500000000000001;, score=-185.355 total time=   0.0s\n",
      "[CV 2/5] END .ridge__alpha=7.500000000000001;, score=-182.049 total time=   0.0s\n",
      "[CV 3/5] END .ridge__alpha=7.500000000000001;, score=-179.251 total time=   0.0s\n",
      "[CV 4/5] END .ridge__alpha=7.500000000000001;, score=-187.227 total time=   0.0s\n",
      "[CV 5/5] END .ridge__alpha=7.500000000000001;, score=-183.958 total time=   0.0s\n",
      "[CV 1/5] END .ridge__alpha=7.700000000000001;, score=-185.418 total time=   0.0s\n",
      "[CV 2/5] END .ridge__alpha=7.700000000000001;, score=-182.099 total time=   0.0s\n",
      "[CV 3/5] END .ridge__alpha=7.700000000000001;, score=-179.276 total time=   0.0s\n",
      "[CV 4/5] END .ridge__alpha=7.700000000000001;, score=-187.291 total time=   0.0s\n",
      "[CV 5/5] END .ridge__alpha=7.700000000000001;, score=-183.992 total time=   0.0s\n",
      "[CV 1/5] END .ridge__alpha=7.900000000000001;, score=-185.480 total time=   0.0s\n",
      "[CV 2/5] END .ridge__alpha=7.900000000000001;, score=-182.149 total time=   0.0s\n",
      "[CV 3/5] END .ridge__alpha=7.900000000000001;, score=-179.302 total time=   0.0s\n",
      "[CV 4/5] END .ridge__alpha=7.900000000000001;, score=-187.356 total time=   0.0s\n",
      "[CV 5/5] END .ridge__alpha=7.900000000000001;, score=-184.026 total time=   0.0s\n",
      "[CV 1/5] END .ridge__alpha=8.100000000000001;, score=-185.542 total time=   0.0s\n",
      "[CV 2/5] END .ridge__alpha=8.100000000000001;, score=-182.198 total time=   0.0s\n",
      "[CV 3/5] END .ridge__alpha=8.100000000000001;, score=-179.328 total time=   0.0s\n",
      "[CV 4/5] END .ridge__alpha=8.100000000000001;, score=-187.419 total time=   0.0s\n",
      "[CV 5/5] END .ridge__alpha=8.100000000000001;, score=-184.060 total time=   0.0s\n",
      "[CV 1/5] END ...............ridge__alpha=8.3;, score=-185.603 total time=   0.0s\n",
      "[CV 2/5] END ...............ridge__alpha=8.3;, score=-182.248 total time=   0.0s\n",
      "[CV 3/5] END ...............ridge__alpha=8.3;, score=-179.355 total time=   0.0s\n",
      "[CV 4/5] END ...............ridge__alpha=8.3;, score=-187.482 total time=   0.0s\n",
      "[CV 5/5] END ...............ridge__alpha=8.3;, score=-184.095 total time=   0.0s\n",
      "[CV 1/5] END .ridge__alpha=8.500000000000002;, score=-185.664 total time=   0.0s\n",
      "[CV 2/5] END .ridge__alpha=8.500000000000002;, score=-182.297 total time=   0.0s\n",
      "[CV 3/5] END .ridge__alpha=8.500000000000002;, score=-179.382 total time=   0.0s\n",
      "[CV 4/5] END .ridge__alpha=8.500000000000002;, score=-187.544 total time=   0.0s\n",
      "[CV 5/5] END .ridge__alpha=8.500000000000002;, score=-184.129 total time=   0.0s\n",
      "[CV 1/5] END .ridge__alpha=8.700000000000001;, score=-185.724 total time=   0.0s\n",
      "[CV 2/5] END .ridge__alpha=8.700000000000001;, score=-182.346 total time=   0.0s\n",
      "[CV 3/5] END .ridge__alpha=8.700000000000001;, score=-179.409 total time=   0.0s\n",
      "[CV 4/5] END .ridge__alpha=8.700000000000001;, score=-187.605 total time=   0.0s\n",
      "[CV 5/5] END .ridge__alpha=8.700000000000001;, score=-184.164 total time=   0.0s\n",
      "[CV 1/5] END .ridge__alpha=8.900000000000002;, score=-185.783 total time=   0.0s\n",
      "[CV 2/5] END .ridge__alpha=8.900000000000002;, score=-182.394 total time=   0.0s\n",
      "[CV 3/5] END .ridge__alpha=8.900000000000002;, score=-179.436 total time=   0.0s\n"
     ]
    },
    {
     "name": "stdout",
     "output_type": "stream",
     "text": [
      "[CV 4/5] END .ridge__alpha=8.900000000000002;, score=-187.666 total time=   0.0s\n",
      "[CV 5/5] END .ridge__alpha=8.900000000000002;, score=-184.199 total time=   0.0s\n",
      "[CV 1/5] END .ridge__alpha=9.100000000000001;, score=-185.843 total time=   0.0s\n",
      "[CV 2/5] END .ridge__alpha=9.100000000000001;, score=-182.443 total time=   0.0s\n",
      "[CV 3/5] END .ridge__alpha=9.100000000000001;, score=-179.464 total time=   0.0s\n",
      "[CV 4/5] END .ridge__alpha=9.100000000000001;, score=-187.726 total time=   0.0s\n",
      "[CV 5/5] END .ridge__alpha=9.100000000000001;, score=-184.234 total time=   0.0s\n",
      "[CV 1/5] END ...............ridge__alpha=9.3;, score=-185.901 total time=   0.0s\n",
      "[CV 2/5] END ...............ridge__alpha=9.3;, score=-182.491 total time=   0.0s\n",
      "[CV 3/5] END ...............ridge__alpha=9.3;, score=-179.492 total time=   0.0s\n",
      "[CV 4/5] END ...............ridge__alpha=9.3;, score=-187.785 total time=   0.0s\n",
      "[CV 5/5] END ...............ridge__alpha=9.3;, score=-184.269 total time=   0.0s\n",
      "[CV 1/5] END .ridge__alpha=9.500000000000002;, score=-185.959 total time=   0.0s\n",
      "[CV 2/5] END .ridge__alpha=9.500000000000002;, score=-182.539 total time=   0.0s\n",
      "[CV 3/5] END .ridge__alpha=9.500000000000002;, score=-179.520 total time=   0.0s\n",
      "[CV 4/5] END .ridge__alpha=9.500000000000002;, score=-187.844 total time=   0.0s\n",
      "[CV 5/5] END .ridge__alpha=9.500000000000002;, score=-184.304 total time=   0.0s\n",
      "[CV 1/5] END .ridge__alpha=9.700000000000001;, score=-186.017 total time=   0.0s\n",
      "[CV 2/5] END .ridge__alpha=9.700000000000001;, score=-182.586 total time=   0.0s\n",
      "[CV 3/5] END .ridge__alpha=9.700000000000001;, score=-179.548 total time=   0.0s\n",
      "[CV 4/5] END .ridge__alpha=9.700000000000001;, score=-187.902 total time=   0.0s\n",
      "[CV 5/5] END .ridge__alpha=9.700000000000001;, score=-184.339 total time=   0.0s\n",
      "[CV 1/5] END .ridge__alpha=9.900000000000002;, score=-186.074 total time=   0.0s\n",
      "[CV 2/5] END .ridge__alpha=9.900000000000002;, score=-182.633 total time=   0.0s\n",
      "[CV 3/5] END .ridge__alpha=9.900000000000002;, score=-179.577 total time=   0.0s\n",
      "[CV 4/5] END .ridge__alpha=9.900000000000002;, score=-187.960 total time=   0.0s\n",
      "[CV 5/5] END .ridge__alpha=9.900000000000002;, score=-184.374 total time=   0.0s\n"
     ]
    }
   ],
   "source": [
    "model = model.fit(X_train, y_train)"
   ]
  },
  {
   "cell_type": "code",
   "execution_count": 108,
   "id": "0931f13f",
   "metadata": {
    "ExecuteTime": {
     "end_time": "2022-07-01T00:06:44.011063Z",
     "start_time": "2022-07-01T00:06:44.003695Z"
    }
   },
   "outputs": [
    {
     "data": {
      "text/plain": [
       "{'ridge__alpha': 0.1}"
      ]
     },
     "execution_count": 108,
     "metadata": {},
     "output_type": "execute_result"
    }
   ],
   "source": [
    "model.best_params_"
   ]
  },
  {
   "cell_type": "code",
   "execution_count": 109,
   "id": "19ebb2f0",
   "metadata": {
    "ExecuteTime": {
     "end_time": "2022-07-01T00:06:50.269246Z",
     "start_time": "2022-07-01T00:06:50.264866Z"
    }
   },
   "outputs": [],
   "source": [
    "steps = [('scaler',MinMaxScaler()), ('ridge', Ridge(alpha=0.1))]\n",
    "model = Pipeline(steps)"
   ]
  },
  {
   "cell_type": "code",
   "execution_count": 110,
   "id": "0245d3ac",
   "metadata": {
    "ExecuteTime": {
     "end_time": "2022-07-01T00:06:51.007808Z",
     "start_time": "2022-07-01T00:06:50.990828Z"
    }
   },
   "outputs": [],
   "source": [
    "model = model.fit(X_train, y_train)"
   ]
  },
  {
   "cell_type": "code",
   "execution_count": 111,
   "id": "c3fb84bb",
   "metadata": {
    "ExecuteTime": {
     "end_time": "2022-07-01T00:06:51.533337Z",
     "start_time": "2022-07-01T00:06:51.524377Z"
    }
   },
   "outputs": [],
   "source": [
    "y_train_pred = model.predict(X_train)"
   ]
  },
  {
   "cell_type": "code",
   "execution_count": 112,
   "id": "27426043",
   "metadata": {
    "ExecuteTime": {
     "end_time": "2022-07-01T00:06:52.226062Z",
     "start_time": "2022-07-01T00:06:52.011335Z"
    }
   },
   "outputs": [
    {
     "data": {
      "text/plain": [
       "Text(0, 0.5, 'y_train_pred')"
      ]
     },
     "execution_count": 112,
     "metadata": {},
     "output_type": "execute_result"
    },
    {
     "data": {
      "image/png": "[encoded data removed]",
      "text/plain": [
       "<Figure size 432x288 with 1 Axes>"
      ]
     },
     "metadata": {
      "needs_background": "light"
     },
     "output_type": "display_data"
    }
   ],
   "source": [
    "plt.scatter(y_train, y_train_pred, alpha=0.3)\n",
    "plt.xlabel('y_train')\n",
    "plt.ylabel('y_train_pred')"
   ]
  },
  {
   "cell_type": "code",
   "execution_count": 113,
   "id": "09f0282a",
   "metadata": {
    "ExecuteTime": {
     "end_time": "2022-07-01T00:06:53.587246Z",
     "start_time": "2022-07-01T00:06:53.577848Z"
    }
   },
   "outputs": [],
   "source": [
    "y_pred_test = model.predict(X_test)"
   ]
  },
  {
   "cell_type": "code",
   "execution_count": 114,
   "id": "4ea616c8",
   "metadata": {
    "ExecuteTime": {
     "end_time": "2022-07-01T00:06:53.998940Z",
     "start_time": "2022-07-01T00:06:53.988973Z"
    }
   },
   "outputs": [
    {
     "name": "stdout",
     "output_type": "stream",
     "text": [
      "train MAE: 1.04e+01\n",
      "train MSE: 1.82e+02\n",
      "train R2: 0.114\n"
     ]
    }
   ],
   "source": [
    "print('train MAE: {0:.2e}'.format(mean_absolute_error(y_train, y_train_pred)))\n",
    "print('train MSE: {0:.2e}'.format(mean_squared_error(y_train, y_train_pred)))\n",
    "print('train R2: {0:.3f}'.format(r2_score(y_train, y_train_pred)))"
   ]
  },
  {
   "cell_type": "code",
   "execution_count": 115,
   "id": "afeb86cd",
   "metadata": {
    "ExecuteTime": {
     "end_time": "2022-07-01T00:06:55.547089Z",
     "start_time": "2022-07-01T00:06:55.366723Z"
    }
   },
   "outputs": [
    {
     "data": {
      "text/plain": [
       "Text(0, 0.5, 'y_pred_test')"
      ]
     },
     "execution_count": 115,
     "metadata": {},
     "output_type": "execute_result"
    },
    {
     "data": {
      "image/png": "[encoded data removed]",
      "text/plain": [
       "<Figure size 432x288 with 1 Axes>"
      ]
     },
     "metadata": {
      "needs_background": "light"
     },
     "output_type": "display_data"
    }
   ],
   "source": [
    "plt.scatter(y_test, y_pred_test, alpha=0.3)\n",
    "plt.xlabel('y_test')\n",
    "plt.ylabel('y_pred_test')"
   ]
  },
  {
   "cell_type": "code",
   "execution_count": 116,
   "id": "323b56b2",
   "metadata": {
    "ExecuteTime": {
     "end_time": "2022-07-01T00:06:55.780525Z",
     "start_time": "2022-07-01T00:06:55.773577Z"
    }
   },
   "outputs": [
    {
     "name": "stdout",
     "output_type": "stream",
     "text": [
      "test MAE: 1.03e+01\n",
      "test MSE: 1.78e+02\n",
      "test R2: 0.112\n"
     ]
    }
   ],
   "source": [
    "print('test MAE: {0:.2e}'.format(mean_absolute_error(y_test, y_pred_test)))\n",
    "print('test MSE: {0:.2e}'.format(mean_squared_error(y_test, y_pred_test)))\n",
    "print('test R2: {0:.3f}'.format(r2_score(y_test, y_pred_test)))"
   ]
  },
  {
   "cell_type": "code",
   "execution_count": 118,
   "id": "f989059a",
   "metadata": {
    "ExecuteTime": {
     "end_time": "2022-07-01T00:07:03.260653Z",
     "start_time": "2022-07-01T00:07:03.256221Z"
    }
   },
   "outputs": [],
   "source": [
    "steps = [('scaler',MinMaxScaler()),('poly', PolynomialFeatures(degree=2)), ('ridge', Ridge(alpha=0.1))]\n",
    "model = Pipeline(steps)"
   ]
  },
  {
   "cell_type": "code",
   "execution_count": 119,
   "id": "4411ff93",
   "metadata": {
    "ExecuteTime": {
     "end_time": "2022-07-01T00:07:04.234294Z",
     "start_time": "2022-07-01T00:07:04.163456Z"
    }
   },
   "outputs": [],
   "source": [
    "model = model.fit(X_train, y_train)"
   ]
  },
  {
   "cell_type": "code",
   "execution_count": 120,
   "id": "b5755a46",
   "metadata": {
    "ExecuteTime": {
     "end_time": "2022-07-01T00:07:07.057681Z",
     "start_time": "2022-07-01T00:07:07.025030Z"
    }
   },
   "outputs": [],
   "source": [
    "y_train_pred = model.predict(X_train)"
   ]
  },
  {
   "cell_type": "code",
   "execution_count": 121,
   "id": "60643920",
   "metadata": {
    "ExecuteTime": {
     "end_time": "2022-07-01T00:07:07.798397Z",
     "start_time": "2022-07-01T00:07:07.620743Z"
    },
    "scrolled": true
   },
   "outputs": [
    {
     "data": {
      "text/plain": [
       "Text(0, 0.5, 'y_train_pred')"
      ]
     },
     "execution_count": 121,
     "metadata": {},
     "output_type": "execute_result"
    },
    {
     "data": {
      "image/png": "[encoded data removed]",
      "text/plain": [
       "<Figure size 432x288 with 1 Axes>"
      ]
     },
     "metadata": {
      "needs_background": "light"
     },
     "output_type": "display_data"
    }
   ],
   "source": [
    "plt.scatter(y_train, y_train_pred, alpha=0.3)\n",
    "plt.xlabel('y_train')\n",
    "plt.ylabel('y_train_pred')"
   ]
  },
  {
   "cell_type": "code",
   "execution_count": 122,
   "id": "dfe42bf2",
   "metadata": {
    "ExecuteTime": {
     "end_time": "2022-07-01T00:07:09.111863Z",
     "start_time": "2022-07-01T00:07:09.101681Z"
    }
   },
   "outputs": [
    {
     "name": "stdout",
     "output_type": "stream",
     "text": [
      "train MAE: 1.00e+01\n",
      "train MSE: 1.67e+02\n",
      "train R2: 0.186\n"
     ]
    }
   ],
   "source": [
    "print('train MAE: {0:.2e}'.format(mean_absolute_error(y_train, y_train_pred)))\n",
    "print('train MSE: {0:.2e}'.format(mean_squared_error(y_train, y_train_pred)))\n",
    "print('train R2: {0:.3f}'.format(r2_score(y_train, y_train_pred)))"
   ]
  },
  {
   "cell_type": "code",
   "execution_count": 123,
   "id": "5a63023d",
   "metadata": {
    "ExecuteTime": {
     "end_time": "2022-07-01T00:07:10.475860Z",
     "start_time": "2022-07-01T00:07:10.450960Z"
    }
   },
   "outputs": [],
   "source": [
    "y_pred_test = model.predict(X_test)"
   ]
  },
  {
   "cell_type": "code",
   "execution_count": 124,
   "id": "cfe4ca82",
   "metadata": {
    "ExecuteTime": {
     "end_time": "2022-07-01T00:07:11.145180Z",
     "start_time": "2022-07-01T00:07:10.956823Z"
    }
   },
   "outputs": [
    {
     "data": {
      "text/plain": [
       "Text(0, 0.5, 'y_pred_test')"
      ]
     },
     "execution_count": 124,
     "metadata": {},
     "output_type": "execute_result"
    },
    {
     "data": {
      "image/png": "[encoded data removed]",
      "text/plain": [
       "<Figure size 432x288 with 1 Axes>"
      ]
     },
     "metadata": {
      "needs_background": "light"
     },
     "output_type": "display_data"
    }
   ],
   "source": [
    "plt.scatter(y_test, y_pred_test, alpha=0.3)\n",
    "plt.xlabel('y_test')\n",
    "plt.ylabel('y_pred_test')"
   ]
  },
  {
   "cell_type": "code",
   "execution_count": 125,
   "id": "51a5c482",
   "metadata": {
    "ExecuteTime": {
     "end_time": "2022-07-01T00:07:12.556073Z",
     "start_time": "2022-07-01T00:07:12.547179Z"
    }
   },
   "outputs": [
    {
     "name": "stdout",
     "output_type": "stream",
     "text": [
      "test MAE: 1.00e+01\n",
      "test MSE: 1.65e+02\n",
      "test R2: 0.175\n"
     ]
    }
   ],
   "source": [
    "print('test MAE: {0:.2e}'.format(mean_absolute_error(y_test, y_pred_test)))\n",
    "print('test MSE: {0:.2e}'.format(mean_squared_error(y_test, y_pred_test)))\n",
    "print('test R2: {0:.3f}'.format(r2_score(y_test, y_pred_test)))"
   ]
  }
 ],
 "metadata": {
  "kernelspec": {
   "display_name": "Python 3",
   "language": "python",
   "name": "python3"
  },
  "language_info": {
   "codemirror_mode": {
    "name": "ipython",
    "version": 3
   },
   "file_extension": ".py",
   "mimetype": "text/x-python",
   "name": "python",
   "nbconvert_exporter": "python",
   "pygments_lexer": "ipython3",
   "version": "3.8.13"
  },
  "toc": {
   "base_numbering": 1,
   "nav_menu": {},
   "number_sections": true,
   "sideBar": true,
   "skip_h1_title": false,
   "title_cell": "Table of Contents",
   "title_sidebar": "Contents",
   "toc_cell": false,
   "toc_position": {},
   "toc_section_display": true,
   "toc_window_display": false
  },
  "varInspector": {
   "cols": {
    "lenName": 16,
    "lenType": 16,
    "lenVar": 40
   },
   "kernels_config": {
    "python": {
     "delete_cmd_postfix": "",
     "delete_cmd_prefix": "del ",
     "library": "var_list.py",
     "varRefreshCmd": "print(var_dic_list())"
    },
    "r": {
     "delete_cmd_postfix": ") ",
     "delete_cmd_prefix": "rm(",
     "library": "var_list.r",
     "varRefreshCmd": "cat(var_dic_list()) "
    }
   },
   "types_to_exclude": [
    "module",
    "function",
    "builtin_function_or_method",
    "instance",
    "_Feature"
   ],
   "window_display": false
  }
 },
 "nbformat": 4,
 "nbformat_minor": 5
}
