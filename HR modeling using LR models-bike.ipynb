{
 "cells": [
  {
   "cell_type": "code",
   "execution_count": 214,
   "id": "076b18a4",
   "metadata": {
    "ExecuteTime": {
     "end_time": "2022-06-30T22:16:45.288376Z",
     "start_time": "2022-06-30T22:16:45.284169Z"
    }
   },
   "outputs": [],
   "source": [
    "import pandas as pd"
   ]
  },
  {
   "cell_type": "code",
   "execution_count": 215,
   "id": "f2983754",
   "metadata": {
    "ExecuteTime": {
     "end_time": "2022-06-30T22:16:45.611768Z",
     "start_time": "2022-06-30T22:16:45.292626Z"
    }
   },
   "outputs": [],
   "source": [
    "df = pd.read_pickle('HR_proper_light_with_meta.pkl')"
   ]
  },
  {
   "cell_type": "code",
   "execution_count": 216,
   "id": "86a3a270",
   "metadata": {
    "ExecuteTime": {
     "end_time": "2022-06-30T22:16:45.633793Z",
     "start_time": "2022-06-30T22:16:45.615177Z"
    }
   },
   "outputs": [
    {
     "data": {
      "text/html": [
       "<div>\n",
       "<style scoped>\n",
       "    .dataframe tbody tr th:only-of-type {\n",
       "        vertical-align: middle;\n",
       "    }\n",
       "\n",
       "    .dataframe tbody tr th {\n",
       "        vertical-align: top;\n",
       "    }\n",
       "\n",
       "    .dataframe thead th {\n",
       "        text-align: right;\n",
       "    }\n",
       "</style>\n",
       "<table border=\"1\" class=\"dataframe\">\n",
       "  <thead>\n",
       "    <tr style=\"text-align: right;\">\n",
       "      <th></th>\n",
       "      <th>id</th>\n",
       "      <th>userId</th>\n",
       "      <th>gender</th>\n",
       "      <th>sport</th>\n",
       "      <th>heart_rate_mean</th>\n",
       "      <th>heart_rate_std</th>\n",
       "      <th>duration_s</th>\n",
       "      <th>start_end</th>\n",
       "      <th>altitude_mean</th>\n",
       "      <th>altitude_std</th>\n",
       "      <th>...</th>\n",
       "      <th>distance_total_m</th>\n",
       "      <th>speed_mean</th>\n",
       "      <th>speed_std</th>\n",
       "      <th>hydration</th>\n",
       "      <th>ascent</th>\n",
       "      <th>descent</th>\n",
       "      <th>calories</th>\n",
       "      <th>distance</th>\n",
       "      <th>weather</th>\n",
       "      <th>start_time</th>\n",
       "    </tr>\n",
       "  </thead>\n",
       "  <tbody>\n",
       "    <tr>\n",
       "      <th>0</th>\n",
       "      <td>396826535</td>\n",
       "      <td>10921915</td>\n",
       "      <td>male</td>\n",
       "      <td>bike</td>\n",
       "      <td>152.650</td>\n",
       "      <td>10.229736</td>\n",
       "      <td>7589.0</td>\n",
       "      <td>[1408898746.0, 1408906335.0]</td>\n",
       "      <td>43.0712</td>\n",
       "      <td>13.475900</td>\n",
       "      <td>...</td>\n",
       "      <td>53048.413644</td>\n",
       "      <td>7.117435</td>\n",
       "      <td>2.182678</td>\n",
       "      <td>NaN</td>\n",
       "      <td>423.0</td>\n",
       "      <td>428.0</td>\n",
       "      <td>1562.0</td>\n",
       "      <td>53.88458</td>\n",
       "      <td>3.0</td>\n",
       "      <td>2014-08-24T09:45:46.000Z</td>\n",
       "    </tr>\n",
       "    <tr>\n",
       "      <th>1</th>\n",
       "      <td>392337038</td>\n",
       "      <td>10921915</td>\n",
       "      <td>male</td>\n",
       "      <td>bike</td>\n",
       "      <td>147.710</td>\n",
       "      <td>10.970046</td>\n",
       "      <td>4440.0</td>\n",
       "      <td>[1408221682.0, 1408226122.0]</td>\n",
       "      <td>35.7248</td>\n",
       "      <td>10.376062</td>\n",
       "      <td>...</td>\n",
       "      <td>32466.566953</td>\n",
       "      <td>7.550103</td>\n",
       "      <td>2.272863</td>\n",
       "      <td>NaN</td>\n",
       "      <td>227.0</td>\n",
       "      <td>230.0</td>\n",
       "      <td>908.0</td>\n",
       "      <td>32.60639</td>\n",
       "      <td>6.0</td>\n",
       "      <td>2014-08-16T13:41:22.000Z</td>\n",
       "    </tr>\n",
       "    <tr>\n",
       "      <th>2</th>\n",
       "      <td>389643739</td>\n",
       "      <td>10921915</td>\n",
       "      <td>male</td>\n",
       "      <td>bike</td>\n",
       "      <td>140.554</td>\n",
       "      <td>11.319500</td>\n",
       "      <td>6749.0</td>\n",
       "      <td>[1407858459.0, 1407865208.0]</td>\n",
       "      <td>62.4256</td>\n",
       "      <td>13.217515</td>\n",
       "      <td>...</td>\n",
       "      <td>45308.570377</td>\n",
       "      <td>7.154326</td>\n",
       "      <td>2.150951</td>\n",
       "      <td>NaN</td>\n",
       "      <td>336.0</td>\n",
       "      <td>360.0</td>\n",
       "      <td>1138.0</td>\n",
       "      <td>45.68974</td>\n",
       "      <td>3.0</td>\n",
       "      <td>2014-08-12T08:47:39.000Z</td>\n",
       "    </tr>\n",
       "    <tr>\n",
       "      <th>3</th>\n",
       "      <td>386729739</td>\n",
       "      <td>10921915</td>\n",
       "      <td>male</td>\n",
       "      <td>bike</td>\n",
       "      <td>147.020</td>\n",
       "      <td>11.414885</td>\n",
       "      <td>4519.0</td>\n",
       "      <td>[1407432042.0, 1407436561.0]</td>\n",
       "      <td>32.6104</td>\n",
       "      <td>11.417463</td>\n",
       "      <td>...</td>\n",
       "      <td>32528.910062</td>\n",
       "      <td>7.416873</td>\n",
       "      <td>2.201268</td>\n",
       "      <td>NaN</td>\n",
       "      <td>245.0</td>\n",
       "      <td>241.0</td>\n",
       "      <td>921.0</td>\n",
       "      <td>32.70480</td>\n",
       "      <td>NaN</td>\n",
       "      <td>2014-08-07T10:20:42.000Z</td>\n",
       "    </tr>\n",
       "    <tr>\n",
       "      <th>4</th>\n",
       "      <td>383186560</td>\n",
       "      <td>10921915</td>\n",
       "      <td>male</td>\n",
       "      <td>bike (transport)</td>\n",
       "      <td>167.154</td>\n",
       "      <td>10.414523</td>\n",
       "      <td>1357.0</td>\n",
       "      <td>[1406909434.0, 1406910791.0]</td>\n",
       "      <td>22.7620</td>\n",
       "      <td>8.383674</td>\n",
       "      <td>...</td>\n",
       "      <td>11935.117059</td>\n",
       "      <td>8.721936</td>\n",
       "      <td>2.388718</td>\n",
       "      <td>NaN</td>\n",
       "      <td>90.0</td>\n",
       "      <td>108.0</td>\n",
       "      <td>350.0</td>\n",
       "      <td>11.92104</td>\n",
       "      <td>3.0</td>\n",
       "      <td>2014-08-01T09:10:34.000Z</td>\n",
       "    </tr>\n",
       "  </tbody>\n",
       "</table>\n",
       "<p>5 rows × 24 columns</p>\n",
       "</div>"
      ],
      "text/plain": [
       "          id    userId gender             sport  heart_rate_mean  \\\n",
       "0  396826535  10921915   male              bike          152.650   \n",
       "1  392337038  10921915   male              bike          147.710   \n",
       "2  389643739  10921915   male              bike          140.554   \n",
       "3  386729739  10921915   male              bike          147.020   \n",
       "4  383186560  10921915   male  bike (transport)          167.154   \n",
       "\n",
       "   heart_rate_std  duration_s                     start_end  altitude_mean  \\\n",
       "0       10.229736      7589.0  [1408898746.0, 1408906335.0]        43.0712   \n",
       "1       10.970046      4440.0  [1408221682.0, 1408226122.0]        35.7248   \n",
       "2       11.319500      6749.0  [1407858459.0, 1407865208.0]        62.4256   \n",
       "3       11.414885      4519.0  [1407432042.0, 1407436561.0]        32.6104   \n",
       "4       10.414523      1357.0  [1406909434.0, 1406910791.0]        22.7620   \n",
       "\n",
       "   altitude_std  ...  distance_total_m  speed_mean  speed_std  hydration  \\\n",
       "0     13.475900  ...      53048.413644    7.117435   2.182678        NaN   \n",
       "1     10.376062  ...      32466.566953    7.550103   2.272863        NaN   \n",
       "2     13.217515  ...      45308.570377    7.154326   2.150951        NaN   \n",
       "3     11.417463  ...      32528.910062    7.416873   2.201268        NaN   \n",
       "4      8.383674  ...      11935.117059    8.721936   2.388718        NaN   \n",
       "\n",
       "   ascent  descent  calories  distance  weather                start_time  \n",
       "0   423.0    428.0    1562.0  53.88458      3.0  2014-08-24T09:45:46.000Z  \n",
       "1   227.0    230.0     908.0  32.60639      6.0  2014-08-16T13:41:22.000Z  \n",
       "2   336.0    360.0    1138.0  45.68974      3.0  2014-08-12T08:47:39.000Z  \n",
       "3   245.0    241.0     921.0  32.70480      NaN  2014-08-07T10:20:42.000Z  \n",
       "4    90.0    108.0     350.0  11.92104      3.0  2014-08-01T09:10:34.000Z  \n",
       "\n",
       "[5 rows x 24 columns]"
      ]
     },
     "execution_count": 216,
     "metadata": {},
     "output_type": "execute_result"
    }
   ],
   "source": [
    "df.head()"
   ]
  },
  {
   "cell_type": "code",
   "execution_count": 217,
   "id": "11223d36",
   "metadata": {
    "ExecuteTime": {
     "end_time": "2022-06-30T22:16:45.708624Z",
     "start_time": "2022-06-30T22:16:45.636080Z"
    }
   },
   "outputs": [],
   "source": [
    "# Drop features not needed\n",
    "df_bike_selected = df[df['sport']=='bike'].drop(['id','userId','start_end','hydration','weather','start_time','ascent','descent','distance','sport'],axis=1).reset_index(drop=True)"
   ]
  },
  {
   "cell_type": "code",
   "execution_count": 218,
   "id": "ce6602b2",
   "metadata": {
    "ExecuteTime": {
     "end_time": "2022-06-30T22:16:45.730157Z",
     "start_time": "2022-06-30T22:16:45.711210Z"
    }
   },
   "outputs": [
    {
     "data": {
      "text/html": [
       "<div>\n",
       "<style scoped>\n",
       "    .dataframe tbody tr th:only-of-type {\n",
       "        vertical-align: middle;\n",
       "    }\n",
       "\n",
       "    .dataframe tbody tr th {\n",
       "        vertical-align: top;\n",
       "    }\n",
       "\n",
       "    .dataframe thead th {\n",
       "        text-align: right;\n",
       "    }\n",
       "</style>\n",
       "<table border=\"1\" class=\"dataframe\">\n",
       "  <thead>\n",
       "    <tr style=\"text-align: right;\">\n",
       "      <th></th>\n",
       "      <th>gender</th>\n",
       "      <th>heart_rate_mean</th>\n",
       "      <th>heart_rate_std</th>\n",
       "      <th>duration_s</th>\n",
       "      <th>altitude_mean</th>\n",
       "      <th>altitude_std</th>\n",
       "      <th>ascend_m</th>\n",
       "      <th>descend_m</th>\n",
       "      <th>distance_mean_m</th>\n",
       "      <th>distance_std_m</th>\n",
       "      <th>distance_total_m</th>\n",
       "      <th>speed_mean</th>\n",
       "      <th>speed_std</th>\n",
       "      <th>calories</th>\n",
       "    </tr>\n",
       "  </thead>\n",
       "  <tbody>\n",
       "    <tr>\n",
       "      <th>0</th>\n",
       "      <td>male</td>\n",
       "      <td>152.650</td>\n",
       "      <td>10.229736</td>\n",
       "      <td>7589.0</td>\n",
       "      <td>43.0712</td>\n",
       "      <td>13.475900</td>\n",
       "      <td>407.6</td>\n",
       "      <td>413.0</td>\n",
       "      <td>106.309446</td>\n",
       "      <td>57.798961</td>\n",
       "      <td>53048.413644</td>\n",
       "      <td>7.117435</td>\n",
       "      <td>2.182678</td>\n",
       "      <td>1562.0</td>\n",
       "    </tr>\n",
       "    <tr>\n",
       "      <th>1</th>\n",
       "      <td>male</td>\n",
       "      <td>147.710</td>\n",
       "      <td>10.970046</td>\n",
       "      <td>4440.0</td>\n",
       "      <td>35.7248</td>\n",
       "      <td>10.376062</td>\n",
       "      <td>225.4</td>\n",
       "      <td>228.8</td>\n",
       "      <td>65.063260</td>\n",
       "      <td>42.196571</td>\n",
       "      <td>32466.566953</td>\n",
       "      <td>7.550103</td>\n",
       "      <td>2.272863</td>\n",
       "      <td>908.0</td>\n",
       "    </tr>\n",
       "    <tr>\n",
       "      <th>2</th>\n",
       "      <td>male</td>\n",
       "      <td>140.554</td>\n",
       "      <td>11.319500</td>\n",
       "      <td>6749.0</td>\n",
       "      <td>62.4256</td>\n",
       "      <td>13.217515</td>\n",
       "      <td>328.8</td>\n",
       "      <td>352.4</td>\n",
       "      <td>90.798738</td>\n",
       "      <td>50.482550</td>\n",
       "      <td>45308.570377</td>\n",
       "      <td>7.154326</td>\n",
       "      <td>2.150951</td>\n",
       "      <td>1138.0</td>\n",
       "    </tr>\n",
       "    <tr>\n",
       "      <th>3</th>\n",
       "      <td>male</td>\n",
       "      <td>147.020</td>\n",
       "      <td>11.414885</td>\n",
       "      <td>4519.0</td>\n",
       "      <td>32.6104</td>\n",
       "      <td>11.417463</td>\n",
       "      <td>242.8</td>\n",
       "      <td>238.6</td>\n",
       "      <td>65.188197</td>\n",
       "      <td>41.980981</td>\n",
       "      <td>32528.910062</td>\n",
       "      <td>7.416873</td>\n",
       "      <td>2.201268</td>\n",
       "      <td>921.0</td>\n",
       "    </tr>\n",
       "    <tr>\n",
       "      <th>4</th>\n",
       "      <td>male</td>\n",
       "      <td>137.804</td>\n",
       "      <td>14.884139</td>\n",
       "      <td>13015.0</td>\n",
       "      <td>3.7616</td>\n",
       "      <td>7.431584</td>\n",
       "      <td>496.4</td>\n",
       "      <td>494.0</td>\n",
       "      <td>138.111543</td>\n",
       "      <td>67.010665</td>\n",
       "      <td>68917.660201</td>\n",
       "      <td>6.353138</td>\n",
       "      <td>1.963684</td>\n",
       "      <td>1742.0</td>\n",
       "    </tr>\n",
       "    <tr>\n",
       "      <th>...</th>\n",
       "      <td>...</td>\n",
       "      <td>...</td>\n",
       "      <td>...</td>\n",
       "      <td>...</td>\n",
       "      <td>...</td>\n",
       "      <td>...</td>\n",
       "      <td>...</td>\n",
       "      <td>...</td>\n",
       "      <td>...</td>\n",
       "      <td>...</td>\n",
       "      <td>...</td>\n",
       "      <td>...</td>\n",
       "      <td>...</td>\n",
       "      <td>...</td>\n",
       "    </tr>\n",
       "    <tr>\n",
       "      <th>71910</th>\n",
       "      <td>male</td>\n",
       "      <td>140.582</td>\n",
       "      <td>11.788778</td>\n",
       "      <td>5426.0</td>\n",
       "      <td>49.7648</td>\n",
       "      <td>14.289880</td>\n",
       "      <td>291.4</td>\n",
       "      <td>323.8</td>\n",
       "      <td>87.527512</td>\n",
       "      <td>52.373270</td>\n",
       "      <td>43676.228589</td>\n",
       "      <td>7.929269</td>\n",
       "      <td>2.532936</td>\n",
       "      <td>1129.0</td>\n",
       "    </tr>\n",
       "    <tr>\n",
       "      <th>71911</th>\n",
       "      <td>male</td>\n",
       "      <td>144.992</td>\n",
       "      <td>9.883923</td>\n",
       "      <td>5596.0</td>\n",
       "      <td>46.5416</td>\n",
       "      <td>14.990625</td>\n",
       "      <td>326.8</td>\n",
       "      <td>294.0</td>\n",
       "      <td>86.819364</td>\n",
       "      <td>47.860141</td>\n",
       "      <td>43322.862768</td>\n",
       "      <td>7.645806</td>\n",
       "      <td>2.027765</td>\n",
       "      <td>1196.0</td>\n",
       "    </tr>\n",
       "    <tr>\n",
       "      <th>71912</th>\n",
       "      <td>male</td>\n",
       "      <td>136.880</td>\n",
       "      <td>12.102297</td>\n",
       "      <td>7293.0</td>\n",
       "      <td>19.4878</td>\n",
       "      <td>17.152069</td>\n",
       "      <td>316.2</td>\n",
       "      <td>361.6</td>\n",
       "      <td>87.542455</td>\n",
       "      <td>53.509900</td>\n",
       "      <td>43683.685191</td>\n",
       "      <td>7.404002</td>\n",
       "      <td>2.380199</td>\n",
       "      <td>1215.0</td>\n",
       "    </tr>\n",
       "    <tr>\n",
       "      <th>71913</th>\n",
       "      <td>male</td>\n",
       "      <td>108.846</td>\n",
       "      <td>22.735221</td>\n",
       "      <td>3389.0</td>\n",
       "      <td>13.9304</td>\n",
       "      <td>2.401365</td>\n",
       "      <td>16.9</td>\n",
       "      <td>19.7</td>\n",
       "      <td>5.828178</td>\n",
       "      <td>4.111083</td>\n",
       "      <td>2908.260612</td>\n",
       "      <td>1.581994</td>\n",
       "      <td>1.098630</td>\n",
       "      <td>205.0</td>\n",
       "    </tr>\n",
       "    <tr>\n",
       "      <th>71914</th>\n",
       "      <td>male</td>\n",
       "      <td>113.518</td>\n",
       "      <td>14.371001</td>\n",
       "      <td>4105.0</td>\n",
       "      <td>14.3804</td>\n",
       "      <td>2.868291</td>\n",
       "      <td>51.0</td>\n",
       "      <td>51.1</td>\n",
       "      <td>14.186522</td>\n",
       "      <td>15.794326</td>\n",
       "      <td>7079.074606</td>\n",
       "      <td>5.212732</td>\n",
       "      <td>5.161255</td>\n",
       "      <td>NaN</td>\n",
       "    </tr>\n",
       "  </tbody>\n",
       "</table>\n",
       "<p>71915 rows × 14 columns</p>\n",
       "</div>"
      ],
      "text/plain": [
       "      gender  heart_rate_mean  heart_rate_std  duration_s  altitude_mean  \\\n",
       "0       male          152.650       10.229736      7589.0        43.0712   \n",
       "1       male          147.710       10.970046      4440.0        35.7248   \n",
       "2       male          140.554       11.319500      6749.0        62.4256   \n",
       "3       male          147.020       11.414885      4519.0        32.6104   \n",
       "4       male          137.804       14.884139     13015.0         3.7616   \n",
       "...      ...              ...             ...         ...            ...   \n",
       "71910   male          140.582       11.788778      5426.0        49.7648   \n",
       "71911   male          144.992        9.883923      5596.0        46.5416   \n",
       "71912   male          136.880       12.102297      7293.0        19.4878   \n",
       "71913   male          108.846       22.735221      3389.0        13.9304   \n",
       "71914   male          113.518       14.371001      4105.0        14.3804   \n",
       "\n",
       "       altitude_std  ascend_m  descend_m  distance_mean_m  distance_std_m  \\\n",
       "0         13.475900     407.6      413.0       106.309446       57.798961   \n",
       "1         10.376062     225.4      228.8        65.063260       42.196571   \n",
       "2         13.217515     328.8      352.4        90.798738       50.482550   \n",
       "3         11.417463     242.8      238.6        65.188197       41.980981   \n",
       "4          7.431584     496.4      494.0       138.111543       67.010665   \n",
       "...             ...       ...        ...              ...             ...   \n",
       "71910     14.289880     291.4      323.8        87.527512       52.373270   \n",
       "71911     14.990625     326.8      294.0        86.819364       47.860141   \n",
       "71912     17.152069     316.2      361.6        87.542455       53.509900   \n",
       "71913      2.401365      16.9       19.7         5.828178        4.111083   \n",
       "71914      2.868291      51.0       51.1        14.186522       15.794326   \n",
       "\n",
       "       distance_total_m  speed_mean  speed_std  calories  \n",
       "0          53048.413644    7.117435   2.182678    1562.0  \n",
       "1          32466.566953    7.550103   2.272863     908.0  \n",
       "2          45308.570377    7.154326   2.150951    1138.0  \n",
       "3          32528.910062    7.416873   2.201268     921.0  \n",
       "4          68917.660201    6.353138   1.963684    1742.0  \n",
       "...                 ...         ...        ...       ...  \n",
       "71910      43676.228589    7.929269   2.532936    1129.0  \n",
       "71911      43322.862768    7.645806   2.027765    1196.0  \n",
       "71912      43683.685191    7.404002   2.380199    1215.0  \n",
       "71913       2908.260612    1.581994   1.098630     205.0  \n",
       "71914       7079.074606    5.212732   5.161255       NaN  \n",
       "\n",
       "[71915 rows x 14 columns]"
      ]
     },
     "execution_count": 218,
     "metadata": {},
     "output_type": "execute_result"
    }
   ],
   "source": [
    "df_bike_selected"
   ]
  },
  {
   "cell_type": "code",
   "execution_count": 219,
   "id": "65ea3721",
   "metadata": {
    "ExecuteTime": {
     "end_time": "2022-06-30T22:16:45.746842Z",
     "start_time": "2022-06-30T22:16:45.732321Z"
    },
    "scrolled": true
   },
   "outputs": [
    {
     "data": {
      "text/plain": [
       "gender                0\n",
       "heart_rate_mean       0\n",
       "heart_rate_std        0\n",
       "duration_s            0\n",
       "altitude_mean         0\n",
       "altitude_std          0\n",
       "ascend_m              0\n",
       "descend_m             0\n",
       "distance_mean_m       0\n",
       "distance_std_m        0\n",
       "distance_total_m      0\n",
       "speed_mean            0\n",
       "speed_std             0\n",
       "calories            313\n",
       "dtype: int64"
      ]
     },
     "execution_count": 219,
     "metadata": {},
     "output_type": "execute_result"
    }
   ],
   "source": [
    "df_bike_selected.isnull().sum()"
   ]
  },
  {
   "cell_type": "code",
   "execution_count": 220,
   "id": "5556b0c3",
   "metadata": {
    "ExecuteTime": {
     "end_time": "2022-06-30T22:16:46.510791Z",
     "start_time": "2022-06-30T22:16:45.749952Z"
    }
   },
   "outputs": [
    {
     "data": {
      "text/plain": [
       "<seaborn.axisgrid.FacetGrid at 0x7fd1dd9c3640>"
      ]
     },
     "execution_count": 220,
     "metadata": {},
     "output_type": "execute_result"
    },
    {
     "data": {
      "image/png": "[encoded data removed]",
      "text/plain": [
       "<Figure size 360x360 with 1 Axes>"
      ]
     },
     "metadata": {
      "needs_background": "light"
     },
     "output_type": "display_data"
    }
   ],
   "source": [
    "sns.displot(df_bike_selected['heart_rate_mean'])"
   ]
  },
  {
   "cell_type": "code",
   "execution_count": 221,
   "id": "937bec97",
   "metadata": {
    "ExecuteTime": {
     "end_time": "2022-06-30T22:16:46.534989Z",
     "start_time": "2022-06-30T22:16:46.513768Z"
    },
    "run_control": {
     "marked": false
    }
   },
   "outputs": [
    {
     "data": {
      "text/html": [
       "<div>\n",
       "<style scoped>\n",
       "    .dataframe tbody tr th:only-of-type {\n",
       "        vertical-align: middle;\n",
       "    }\n",
       "\n",
       "    .dataframe tbody tr th {\n",
       "        vertical-align: top;\n",
       "    }\n",
       "\n",
       "    .dataframe thead th {\n",
       "        text-align: right;\n",
       "    }\n",
       "</style>\n",
       "<table border=\"1\" class=\"dataframe\">\n",
       "  <thead>\n",
       "    <tr style=\"text-align: right;\">\n",
       "      <th></th>\n",
       "      <th>gender</th>\n",
       "      <th>heart_rate_mean</th>\n",
       "      <th>heart_rate_std</th>\n",
       "      <th>duration_s</th>\n",
       "      <th>altitude_mean</th>\n",
       "      <th>altitude_std</th>\n",
       "      <th>ascend_m</th>\n",
       "      <th>descend_m</th>\n",
       "      <th>distance_mean_m</th>\n",
       "      <th>distance_std_m</th>\n",
       "      <th>distance_total_m</th>\n",
       "      <th>speed_mean</th>\n",
       "      <th>speed_std</th>\n",
       "      <th>calories</th>\n",
       "    </tr>\n",
       "  </thead>\n",
       "  <tbody>\n",
       "    <tr>\n",
       "      <th>10531</th>\n",
       "      <td>male</td>\n",
       "      <td>0.0</td>\n",
       "      <td>0.0</td>\n",
       "      <td>1545.0</td>\n",
       "      <td>111.812</td>\n",
       "      <td>17.636572</td>\n",
       "      <td>217.0</td>\n",
       "      <td>160.0</td>\n",
       "      <td>16.578675</td>\n",
       "      <td>10.283183</td>\n",
       "      <td>8272.758882</td>\n",
       "      <td>5.657770</td>\n",
       "      <td>2.483892</td>\n",
       "      <td>973.4220</td>\n",
       "    </tr>\n",
       "    <tr>\n",
       "      <th>10532</th>\n",
       "      <td>male</td>\n",
       "      <td>0.0</td>\n",
       "      <td>0.0</td>\n",
       "      <td>14423.0</td>\n",
       "      <td>133.100</td>\n",
       "      <td>32.537394</td>\n",
       "      <td>605.0</td>\n",
       "      <td>614.0</td>\n",
       "      <td>179.394919</td>\n",
       "      <td>71.347996</td>\n",
       "      <td>89518.064614</td>\n",
       "      <td>6.685819</td>\n",
       "      <td>2.569881</td>\n",
       "      <td>10988.9000</td>\n",
       "    </tr>\n",
       "    <tr>\n",
       "      <th>10533</th>\n",
       "      <td>male</td>\n",
       "      <td>0.0</td>\n",
       "      <td>0.0</td>\n",
       "      <td>2408.0</td>\n",
       "      <td>102.728</td>\n",
       "      <td>28.344206</td>\n",
       "      <td>191.0</td>\n",
       "      <td>236.0</td>\n",
       "      <td>25.273144</td>\n",
       "      <td>20.543760</td>\n",
       "      <td>12611.298893</td>\n",
       "      <td>6.044939</td>\n",
       "      <td>2.520443</td>\n",
       "      <td>1467.3300</td>\n",
       "    </tr>\n",
       "    <tr>\n",
       "      <th>10534</th>\n",
       "      <td>male</td>\n",
       "      <td>0.0</td>\n",
       "      <td>0.0</td>\n",
       "      <td>15653.0</td>\n",
       "      <td>96.776</td>\n",
       "      <td>18.011047</td>\n",
       "      <td>566.0</td>\n",
       "      <td>566.0</td>\n",
       "      <td>124.378589</td>\n",
       "      <td>53.708798</td>\n",
       "      <td>62064.916085</td>\n",
       "      <td>4.924086</td>\n",
       "      <td>2.355948</td>\n",
       "      <td>2945.3500</td>\n",
       "    </tr>\n",
       "    <tr>\n",
       "      <th>10535</th>\n",
       "      <td>male</td>\n",
       "      <td>0.0</td>\n",
       "      <td>0.0</td>\n",
       "      <td>16339.0</td>\n",
       "      <td>112.750</td>\n",
       "      <td>28.922993</td>\n",
       "      <td>686.0</td>\n",
       "      <td>668.0</td>\n",
       "      <td>160.494904</td>\n",
       "      <td>65.993213</td>\n",
       "      <td>80086.957263</td>\n",
       "      <td>5.352771</td>\n",
       "      <td>2.372972</td>\n",
       "      <td>9157.5900</td>\n",
       "    </tr>\n",
       "    <tr>\n",
       "      <th>...</th>\n",
       "      <td>...</td>\n",
       "      <td>...</td>\n",
       "      <td>...</td>\n",
       "      <td>...</td>\n",
       "      <td>...</td>\n",
       "      <td>...</td>\n",
       "      <td>...</td>\n",
       "      <td>...</td>\n",
       "      <td>...</td>\n",
       "      <td>...</td>\n",
       "      <td>...</td>\n",
       "      <td>...</td>\n",
       "      <td>...</td>\n",
       "      <td>...</td>\n",
       "    </tr>\n",
       "    <tr>\n",
       "      <th>50798</th>\n",
       "      <td>male</td>\n",
       "      <td>0.0</td>\n",
       "      <td>0.0</td>\n",
       "      <td>8561.0</td>\n",
       "      <td>334.146</td>\n",
       "      <td>61.054899</td>\n",
       "      <td>615.0</td>\n",
       "      <td>583.0</td>\n",
       "      <td>110.647780</td>\n",
       "      <td>23.535987</td>\n",
       "      <td>55213.242412</td>\n",
       "      <td>6.460085</td>\n",
       "      <td>1.326409</td>\n",
       "      <td>5179.8000</td>\n",
       "    </tr>\n",
       "    <tr>\n",
       "      <th>62133</th>\n",
       "      <td>male</td>\n",
       "      <td>0.0</td>\n",
       "      <td>0.0</td>\n",
       "      <td>1314.0</td>\n",
       "      <td>27.160</td>\n",
       "      <td>4.108333</td>\n",
       "      <td>29.0</td>\n",
       "      <td>28.0</td>\n",
       "      <td>13.427303</td>\n",
       "      <td>5.914927</td>\n",
       "      <td>6700.223955</td>\n",
       "      <td>5.115876</td>\n",
       "      <td>1.309000</td>\n",
       "      <td>58.8186</td>\n",
       "    </tr>\n",
       "    <tr>\n",
       "      <th>62134</th>\n",
       "      <td>male</td>\n",
       "      <td>0.0</td>\n",
       "      <td>0.0</td>\n",
       "      <td>4250.0</td>\n",
       "      <td>37.876</td>\n",
       "      <td>3.100423</td>\n",
       "      <td>48.0</td>\n",
       "      <td>50.0</td>\n",
       "      <td>11.604862</td>\n",
       "      <td>17.729062</td>\n",
       "      <td>5790.826198</td>\n",
       "      <td>1.358063</td>\n",
       "      <td>2.062999</td>\n",
       "      <td>367.9830</td>\n",
       "    </tr>\n",
       "    <tr>\n",
       "      <th>71834</th>\n",
       "      <td>male</td>\n",
       "      <td>0.0</td>\n",
       "      <td>0.0</td>\n",
       "      <td>4373.0</td>\n",
       "      <td>21.372</td>\n",
       "      <td>10.821165</td>\n",
       "      <td>228.0</td>\n",
       "      <td>206.0</td>\n",
       "      <td>67.022735</td>\n",
       "      <td>19.705513</td>\n",
       "      <td>33444.344562</td>\n",
       "      <td>7.659611</td>\n",
       "      <td>2.212511</td>\n",
       "      <td>0.0000</td>\n",
       "    </tr>\n",
       "    <tr>\n",
       "      <th>71839</th>\n",
       "      <td>male</td>\n",
       "      <td>0.0</td>\n",
       "      <td>0.0</td>\n",
       "      <td>5212.0</td>\n",
       "      <td>38.984</td>\n",
       "      <td>18.971867</td>\n",
       "      <td>376.0</td>\n",
       "      <td>339.0</td>\n",
       "      <td>101.629188</td>\n",
       "      <td>130.441980</td>\n",
       "      <td>50712.964807</td>\n",
       "      <td>9.750083</td>\n",
       "      <td>12.497799</td>\n",
       "      <td>0.0000</td>\n",
       "    </tr>\n",
       "  </tbody>\n",
       "</table>\n",
       "<p>239 rows × 14 columns</p>\n",
       "</div>"
      ],
      "text/plain": [
       "      gender  heart_rate_mean  heart_rate_std  duration_s  altitude_mean  \\\n",
       "10531   male              0.0             0.0      1545.0        111.812   \n",
       "10532   male              0.0             0.0     14423.0        133.100   \n",
       "10533   male              0.0             0.0      2408.0        102.728   \n",
       "10534   male              0.0             0.0     15653.0         96.776   \n",
       "10535   male              0.0             0.0     16339.0        112.750   \n",
       "...      ...              ...             ...         ...            ...   \n",
       "50798   male              0.0             0.0      8561.0        334.146   \n",
       "62133   male              0.0             0.0      1314.0         27.160   \n",
       "62134   male              0.0             0.0      4250.0         37.876   \n",
       "71834   male              0.0             0.0      4373.0         21.372   \n",
       "71839   male              0.0             0.0      5212.0         38.984   \n",
       "\n",
       "       altitude_std  ascend_m  descend_m  distance_mean_m  distance_std_m  \\\n",
       "10531     17.636572     217.0      160.0        16.578675       10.283183   \n",
       "10532     32.537394     605.0      614.0       179.394919       71.347996   \n",
       "10533     28.344206     191.0      236.0        25.273144       20.543760   \n",
       "10534     18.011047     566.0      566.0       124.378589       53.708798   \n",
       "10535     28.922993     686.0      668.0       160.494904       65.993213   \n",
       "...             ...       ...        ...              ...             ...   \n",
       "50798     61.054899     615.0      583.0       110.647780       23.535987   \n",
       "62133      4.108333      29.0       28.0        13.427303        5.914927   \n",
       "62134      3.100423      48.0       50.0        11.604862       17.729062   \n",
       "71834     10.821165     228.0      206.0        67.022735       19.705513   \n",
       "71839     18.971867     376.0      339.0       101.629188      130.441980   \n",
       "\n",
       "       distance_total_m  speed_mean  speed_std    calories  \n",
       "10531       8272.758882    5.657770   2.483892    973.4220  \n",
       "10532      89518.064614    6.685819   2.569881  10988.9000  \n",
       "10533      12611.298893    6.044939   2.520443   1467.3300  \n",
       "10534      62064.916085    4.924086   2.355948   2945.3500  \n",
       "10535      80086.957263    5.352771   2.372972   9157.5900  \n",
       "...                 ...         ...        ...         ...  \n",
       "50798      55213.242412    6.460085   1.326409   5179.8000  \n",
       "62133       6700.223955    5.115876   1.309000     58.8186  \n",
       "62134       5790.826198    1.358063   2.062999    367.9830  \n",
       "71834      33444.344562    7.659611   2.212511      0.0000  \n",
       "71839      50712.964807    9.750083  12.497799      0.0000  \n",
       "\n",
       "[239 rows x 14 columns]"
      ]
     },
     "execution_count": 221,
     "metadata": {},
     "output_type": "execute_result"
    }
   ],
   "source": [
    "df_bike_selected[df_bike_selected['heart_rate_mean'] == 0]"
   ]
  },
  {
   "cell_type": "code",
   "execution_count": 222,
   "id": "9e84482e",
   "metadata": {
    "ExecuteTime": {
     "end_time": "2022-06-30T22:17:03.858146Z",
     "start_time": "2022-06-30T22:17:03.843777Z"
    }
   },
   "outputs": [],
   "source": [
    "# Keep only heart rate above 35 per minute by domain knowledge\n",
    "df_bike_selected = df_bike_selected[df_bike_selected['heart_rate_mean'] > 35].reset_index(drop=True)"
   ]
  },
  {
   "cell_type": "code",
   "execution_count": 223,
   "id": "26df0697",
   "metadata": {
    "ExecuteTime": {
     "end_time": "2022-06-30T22:17:04.813973Z",
     "start_time": "2022-06-30T22:17:04.791239Z"
    }
   },
   "outputs": [
    {
     "data": {
      "text/html": [
       "<div>\n",
       "<style scoped>\n",
       "    .dataframe tbody tr th:only-of-type {\n",
       "        vertical-align: middle;\n",
       "    }\n",
       "\n",
       "    .dataframe tbody tr th {\n",
       "        vertical-align: top;\n",
       "    }\n",
       "\n",
       "    .dataframe thead th {\n",
       "        text-align: right;\n",
       "    }\n",
       "</style>\n",
       "<table border=\"1\" class=\"dataframe\">\n",
       "  <thead>\n",
       "    <tr style=\"text-align: right;\">\n",
       "      <th></th>\n",
       "      <th>gender</th>\n",
       "      <th>heart_rate_mean</th>\n",
       "      <th>heart_rate_std</th>\n",
       "      <th>duration_s</th>\n",
       "      <th>altitude_mean</th>\n",
       "      <th>altitude_std</th>\n",
       "      <th>ascend_m</th>\n",
       "      <th>descend_m</th>\n",
       "      <th>distance_mean_m</th>\n",
       "      <th>distance_std_m</th>\n",
       "      <th>distance_total_m</th>\n",
       "      <th>speed_mean</th>\n",
       "      <th>speed_std</th>\n",
       "      <th>calories</th>\n",
       "    </tr>\n",
       "  </thead>\n",
       "  <tbody>\n",
       "    <tr>\n",
       "      <th>4120</th>\n",
       "      <td>female</td>\n",
       "      <td>148.134</td>\n",
       "      <td>11.227112</td>\n",
       "      <td>5730.0</td>\n",
       "      <td>288.234000</td>\n",
       "      <td>11.971234</td>\n",
       "      <td>246.8000</td>\n",
       "      <td>257.2000</td>\n",
       "      <td>39.749932</td>\n",
       "      <td>21.911435</td>\n",
       "      <td>19835.216012</td>\n",
       "      <td>4.741346</td>\n",
       "      <td>2.620827</td>\n",
       "      <td>NaN</td>\n",
       "    </tr>\n",
       "    <tr>\n",
       "      <th>4123</th>\n",
       "      <td>female</td>\n",
       "      <td>133.430</td>\n",
       "      <td>7.763833</td>\n",
       "      <td>3462.0</td>\n",
       "      <td>184.366400</td>\n",
       "      <td>2.171670</td>\n",
       "      <td>34.0000</td>\n",
       "      <td>31.6000</td>\n",
       "      <td>35.743223</td>\n",
       "      <td>19.184138</td>\n",
       "      <td>17835.868143</td>\n",
       "      <td>5.768285</td>\n",
       "      <td>1.811232</td>\n",
       "      <td>NaN</td>\n",
       "    </tr>\n",
       "    <tr>\n",
       "      <th>4598</th>\n",
       "      <td>male</td>\n",
       "      <td>139.842</td>\n",
       "      <td>20.895957</td>\n",
       "      <td>2219.0</td>\n",
       "      <td>10.346600</td>\n",
       "      <td>4.352086</td>\n",
       "      <td>247.7000</td>\n",
       "      <td>257.3000</td>\n",
       "      <td>34.807632</td>\n",
       "      <td>9.924965</td>\n",
       "      <td>17369.008135</td>\n",
       "      <td>7.838292</td>\n",
       "      <td>2.085056</td>\n",
       "      <td>NaN</td>\n",
       "    </tr>\n",
       "    <tr>\n",
       "      <th>4599</th>\n",
       "      <td>male</td>\n",
       "      <td>137.326</td>\n",
       "      <td>22.163928</td>\n",
       "      <td>2394.0</td>\n",
       "      <td>10.220000</td>\n",
       "      <td>4.291084</td>\n",
       "      <td>264.7000</td>\n",
       "      <td>242.2000</td>\n",
       "      <td>33.505400</td>\n",
       "      <td>11.079552</td>\n",
       "      <td>16719.194544</td>\n",
       "      <td>6.992131</td>\n",
       "      <td>2.261485</td>\n",
       "      <td>NaN</td>\n",
       "    </tr>\n",
       "    <tr>\n",
       "      <th>4600</th>\n",
       "      <td>male</td>\n",
       "      <td>148.558</td>\n",
       "      <td>24.569873</td>\n",
       "      <td>2359.0</td>\n",
       "      <td>10.672400</td>\n",
       "      <td>4.554338</td>\n",
       "      <td>220.9000</td>\n",
       "      <td>244.3000</td>\n",
       "      <td>35.235071</td>\n",
       "      <td>9.369720</td>\n",
       "      <td>17582.300245</td>\n",
       "      <td>7.469654</td>\n",
       "      <td>1.931760</td>\n",
       "      <td>NaN</td>\n",
       "    </tr>\n",
       "    <tr>\n",
       "      <th>...</th>\n",
       "      <td>...</td>\n",
       "      <td>...</td>\n",
       "      <td>...</td>\n",
       "      <td>...</td>\n",
       "      <td>...</td>\n",
       "      <td>...</td>\n",
       "      <td>...</td>\n",
       "      <td>...</td>\n",
       "      <td>...</td>\n",
       "      <td>...</td>\n",
       "      <td>...</td>\n",
       "      <td>...</td>\n",
       "      <td>...</td>\n",
       "      <td>...</td>\n",
       "    </tr>\n",
       "    <tr>\n",
       "      <th>69200</th>\n",
       "      <td>male</td>\n",
       "      <td>121.938</td>\n",
       "      <td>11.496006</td>\n",
       "      <td>2579.0</td>\n",
       "      <td>572.743200</td>\n",
       "      <td>3.686729</td>\n",
       "      <td>82.6000</td>\n",
       "      <td>77.2000</td>\n",
       "      <td>33.260226</td>\n",
       "      <td>11.117668</td>\n",
       "      <td>16596.852734</td>\n",
       "      <td>6.447646</td>\n",
       "      <td>1.737820</td>\n",
       "      <td>NaN</td>\n",
       "    </tr>\n",
       "    <tr>\n",
       "      <th>69202</th>\n",
       "      <td>male</td>\n",
       "      <td>139.158</td>\n",
       "      <td>17.347076</td>\n",
       "      <td>2474.0</td>\n",
       "      <td>274.221200</td>\n",
       "      <td>103.890054</td>\n",
       "      <td>359.6000</td>\n",
       "      <td>54.4000</td>\n",
       "      <td>18.880325</td>\n",
       "      <td>12.291537</td>\n",
       "      <td>9421.282384</td>\n",
       "      <td>3.803137</td>\n",
       "      <td>2.294202</td>\n",
       "      <td>NaN</td>\n",
       "    </tr>\n",
       "    <tr>\n",
       "      <th>69206</th>\n",
       "      <td>male</td>\n",
       "      <td>144.358</td>\n",
       "      <td>21.649892</td>\n",
       "      <td>2435.0</td>\n",
       "      <td>447.722000</td>\n",
       "      <td>112.033260</td>\n",
       "      <td>338.2000</td>\n",
       "      <td>5.6000</td>\n",
       "      <td>24.221824</td>\n",
       "      <td>10.446537</td>\n",
       "      <td>12086.690098</td>\n",
       "      <td>4.977466</td>\n",
       "      <td>1.867715</td>\n",
       "      <td>NaN</td>\n",
       "    </tr>\n",
       "    <tr>\n",
       "      <th>71581</th>\n",
       "      <td>male</td>\n",
       "      <td>146.536</td>\n",
       "      <td>11.342341</td>\n",
       "      <td>7393.0</td>\n",
       "      <td>84.144073</td>\n",
       "      <td>28.679662</td>\n",
       "      <td>733.0075</td>\n",
       "      <td>735.8905</td>\n",
       "      <td>77.605246</td>\n",
       "      <td>40.175010</td>\n",
       "      <td>38725.017580</td>\n",
       "      <td>5.629944</td>\n",
       "      <td>1.832888</td>\n",
       "      <td>NaN</td>\n",
       "    </tr>\n",
       "    <tr>\n",
       "      <th>71666</th>\n",
       "      <td>male</td>\n",
       "      <td>113.518</td>\n",
       "      <td>14.371001</td>\n",
       "      <td>4105.0</td>\n",
       "      <td>14.380400</td>\n",
       "      <td>2.868291</td>\n",
       "      <td>51.0000</td>\n",
       "      <td>51.1000</td>\n",
       "      <td>14.186522</td>\n",
       "      <td>15.794326</td>\n",
       "      <td>7079.074606</td>\n",
       "      <td>5.212732</td>\n",
       "      <td>5.161255</td>\n",
       "      <td>NaN</td>\n",
       "    </tr>\n",
       "  </tbody>\n",
       "</table>\n",
       "<p>311 rows × 14 columns</p>\n",
       "</div>"
      ],
      "text/plain": [
       "       gender  heart_rate_mean  heart_rate_std  duration_s  altitude_mean  \\\n",
       "4120   female          148.134       11.227112      5730.0     288.234000   \n",
       "4123   female          133.430        7.763833      3462.0     184.366400   \n",
       "4598     male          139.842       20.895957      2219.0      10.346600   \n",
       "4599     male          137.326       22.163928      2394.0      10.220000   \n",
       "4600     male          148.558       24.569873      2359.0      10.672400   \n",
       "...       ...              ...             ...         ...            ...   \n",
       "69200    male          121.938       11.496006      2579.0     572.743200   \n",
       "69202    male          139.158       17.347076      2474.0     274.221200   \n",
       "69206    male          144.358       21.649892      2435.0     447.722000   \n",
       "71581    male          146.536       11.342341      7393.0      84.144073   \n",
       "71666    male          113.518       14.371001      4105.0      14.380400   \n",
       "\n",
       "       altitude_std  ascend_m  descend_m  distance_mean_m  distance_std_m  \\\n",
       "4120      11.971234  246.8000   257.2000        39.749932       21.911435   \n",
       "4123       2.171670   34.0000    31.6000        35.743223       19.184138   \n",
       "4598       4.352086  247.7000   257.3000        34.807632        9.924965   \n",
       "4599       4.291084  264.7000   242.2000        33.505400       11.079552   \n",
       "4600       4.554338  220.9000   244.3000        35.235071        9.369720   \n",
       "...             ...       ...        ...              ...             ...   \n",
       "69200      3.686729   82.6000    77.2000        33.260226       11.117668   \n",
       "69202    103.890054  359.6000    54.4000        18.880325       12.291537   \n",
       "69206    112.033260  338.2000     5.6000        24.221824       10.446537   \n",
       "71581     28.679662  733.0075   735.8905        77.605246       40.175010   \n",
       "71666      2.868291   51.0000    51.1000        14.186522       15.794326   \n",
       "\n",
       "       distance_total_m  speed_mean  speed_std  calories  \n",
       "4120       19835.216012    4.741346   2.620827       NaN  \n",
       "4123       17835.868143    5.768285   1.811232       NaN  \n",
       "4598       17369.008135    7.838292   2.085056       NaN  \n",
       "4599       16719.194544    6.992131   2.261485       NaN  \n",
       "4600       17582.300245    7.469654   1.931760       NaN  \n",
       "...                 ...         ...        ...       ...  \n",
       "69200      16596.852734    6.447646   1.737820       NaN  \n",
       "69202       9421.282384    3.803137   2.294202       NaN  \n",
       "69206      12086.690098    4.977466   1.867715       NaN  \n",
       "71581      38725.017580    5.629944   1.832888       NaN  \n",
       "71666       7079.074606    5.212732   5.161255       NaN  \n",
       "\n",
       "[311 rows x 14 columns]"
      ]
     },
     "execution_count": 223,
     "metadata": {},
     "output_type": "execute_result"
    }
   ],
   "source": [
    "df_bike_selected[df_bike_selected['calories'].isnull()]"
   ]
  },
  {
   "cell_type": "code",
   "execution_count": 224,
   "id": "98b12c34",
   "metadata": {
    "ExecuteTime": {
     "end_time": "2022-06-30T22:17:06.508596Z",
     "start_time": "2022-06-30T22:17:06.500767Z"
    }
   },
   "outputs": [],
   "source": [
    "# distribution of number of sessions for each user\n",
    "import numpy as np\n",
    "def remove_outliers(df_list, whisker_lower=1.5, whisker_upper=1.5,log_transform=False):\n",
    "    '''\n",
    "    reomve outliers\n",
    "    return a pd.Series\n",
    "    '''\n",
    "    if log_transform:\n",
    "        df_list = df_list.apply(lambda x: np.log10(x+1.0) if x>0 else None)\n",
    "    \n",
    "    Q1 = df_list.quantile(0.25)\n",
    "    Q3 = df_list.quantile(0.75)\n",
    "    IQR = Q3 - Q1\n",
    "    df_list[~((df_list >= (Q1 - whisker_lower * IQR)) & (df_list <= (Q3 + whisker_upper * IQR)))] = None\n",
    "    return df_list\n",
    "\n",
    "def remove_outliers_inplace(df, columns, whisker_lower=1.5, whisker_upper=1.5,log_transform=False):\n",
    "    '''\n",
    "    remove outliers of each column in place, replace with NaN's\n",
    "    columns = a list of strings, indicates column names\n",
    "    '''\n",
    "    for col in columns:\n",
    "        if log_transform:\n",
    "            df_list = df[col].apply(lambda x: np.log10(x+1.0) if x>0 else None)\n",
    "        else:\n",
    "            df_list = df[col]\n",
    "        Q1 = df_list.quantile(0.25)\n",
    "        Q3 = df_list.quantile(0.75)\n",
    "        IQR = Q3 - Q1\n",
    "        df_list[~((df_list >= (Q1 - whisker_lower * IQR)) & (df_list <= (Q3 + whisker_upper * IQR)))] = None\n",
    "        df[col]=df_list\n",
    "    return"
   ]
  },
  {
   "cell_type": "code",
   "execution_count": 225,
   "id": "39c1937a",
   "metadata": {
    "ExecuteTime": {
     "end_time": "2022-06-30T22:17:07.148038Z",
     "start_time": "2022-06-30T22:17:07.143849Z"
    }
   },
   "outputs": [],
   "source": [
    "import seaborn as sns"
   ]
  },
  {
   "cell_type": "code",
   "execution_count": 226,
   "id": "d6404e4b",
   "metadata": {
    "ExecuteTime": {
     "end_time": "2022-06-30T22:17:08.332816Z",
     "start_time": "2022-06-30T22:17:07.571932Z"
    }
   },
   "outputs": [
    {
     "data": {
      "image/png": "[encoded data removed]",
      "text/plain": [
       "<Figure size 1080x360 with 1 Axes>"
      ]
     },
     "metadata": {
      "needs_background": "light"
     },
     "output_type": "display_data"
    }
   ],
   "source": [
    "df_bike_selected_distance_total_m = remove_outliers(df_bike_selected.distance_total_m, log_transform=True)\n",
    "sns.displot(df_bike_selected_distance_total_m, kind = 'hist',bins=300, height=5, aspect=3);"
   ]
  },
  {
   "cell_type": "code",
   "execution_count": 227,
   "id": "f5aeda75",
   "metadata": {
    "ExecuteTime": {
     "end_time": "2022-06-30T22:17:09.389874Z",
     "start_time": "2022-06-30T22:17:08.652468Z"
    }
   },
   "outputs": [
    {
     "data": {
      "image/png": "[encoded data removed]",
      "text/plain": [
       "<Figure size 1080x360 with 1 Axes>"
      ]
     },
     "metadata": {
      "needs_background": "light"
     },
     "output_type": "display_data"
    }
   ],
   "source": [
    "df_bike_distance_selected_distance_mean_m = remove_outliers(df_bike_selected.distance_mean_m, log_transform=True)\n",
    "sns.displot(df_bike_distance_selected_distance_mean_m, kind = 'hist',bins=300, height=5, aspect=3);"
   ]
  },
  {
   "cell_type": "code",
   "execution_count": 228,
   "id": "65388d27",
   "metadata": {
    "ExecuteTime": {
     "end_time": "2022-06-30T22:17:10.387023Z",
     "start_time": "2022-06-30T22:17:09.609833Z"
    }
   },
   "outputs": [
    {
     "data": {
      "image/png": "[encoded data removed]",
      "text/plain": [
       "<Figure size 1080x360 with 1 Axes>"
      ]
     },
     "metadata": {
      "needs_background": "light"
     },
     "output_type": "display_data"
    }
   ],
   "source": [
    "df_bike_selected_distance_std_mean_m = remove_outliers(df_bike_selected.distance_std_m, log_transform=True)\n",
    "sns.displot(df_bike_selected_distance_std_mean_m, kind = 'hist',bins=300, height=5, aspect=3);"
   ]
  },
  {
   "cell_type": "code",
   "execution_count": 229,
   "id": "1712f7c1",
   "metadata": {
    "ExecuteTime": {
     "end_time": "2022-06-30T22:17:11.359200Z",
     "start_time": "2022-06-30T22:17:10.625211Z"
    }
   },
   "outputs": [
    {
     "data": {
      "image/png": "[encoded data removed]",
      "text/plain": [
       "<Figure size 1080x360 with 1 Axes>"
      ]
     },
     "metadata": {
      "needs_background": "light"
     },
     "output_type": "display_data"
    }
   ],
   "source": [
    "df_bike_selected_heart_rate_mean = remove_outliers(df_bike_selected.heart_rate_mean, log_transform=True)\n",
    "sns.displot(df_bike_selected_heart_rate_mean, kind = 'hist',bins=300, height=5, aspect=3);"
   ]
  },
  {
   "cell_type": "code",
   "execution_count": 230,
   "id": "97f64727",
   "metadata": {
    "ExecuteTime": {
     "end_time": "2022-06-30T22:17:12.543220Z",
     "start_time": "2022-06-30T22:17:11.610424Z"
    }
   },
   "outputs": [
    {
     "data": {
      "image/png": "[encoded data removed]",
      "text/plain": [
       "<Figure size 1080x360 with 1 Axes>"
      ]
     },
     "metadata": {
      "needs_background": "light"
     },
     "output_type": "display_data"
    }
   ],
   "source": [
    "df_bike_selected_heart_rate_std = remove_outliers(df_bike_selected.heart_rate_std, log_transform=True)\n",
    "sns.displot(df_bike_selected_heart_rate_std, kind = 'hist',bins=300, height=5, aspect=3);"
   ]
  },
  {
   "cell_type": "code",
   "execution_count": 231,
   "id": "f28fb431",
   "metadata": {
    "ExecuteTime": {
     "end_time": "2022-06-30T22:17:13.546505Z",
     "start_time": "2022-06-30T22:17:12.761669Z"
    }
   },
   "outputs": [
    {
     "data": {
      "image/png": "[encoded data removed]",
      "text/plain": [
       "<Figure size 1080x360 with 1 Axes>"
      ]
     },
     "metadata": {
      "needs_background": "light"
     },
     "output_type": "display_data"
    }
   ],
   "source": [
    "df_bike_selected_duration_s = remove_outliers(df_bike_selected.duration_s, log_transform=True)\n",
    "sns.displot(df_bike_selected_duration_s, kind = 'hist',bins=300, height=5, aspect=3);"
   ]
  },
  {
   "cell_type": "code",
   "execution_count": 232,
   "id": "debbd3cf",
   "metadata": {
    "ExecuteTime": {
     "end_time": "2022-06-30T22:17:14.567692Z",
     "start_time": "2022-06-30T22:17:13.781913Z"
    }
   },
   "outputs": [
    {
     "data": {
      "image/png": "[encoded data removed]",
      "text/plain": [
       "<Figure size 1080x360 with 1 Axes>"
      ]
     },
     "metadata": {
      "needs_background": "light"
     },
     "output_type": "display_data"
    }
   ],
   "source": [
    "df_bike_selected_altitude_mean = remove_outliers(df_bike_selected.altitude_mean, log_transform=True)\n",
    "sns.displot(df_bike_selected_altitude_mean, kind = 'hist',bins=300, height=5, aspect=3);"
   ]
  },
  {
   "cell_type": "code",
   "execution_count": 233,
   "id": "2edaeb87",
   "metadata": {
    "ExecuteTime": {
     "end_time": "2022-06-30T22:17:15.525507Z",
     "start_time": "2022-06-30T22:17:14.788523Z"
    }
   },
   "outputs": [
    {
     "data": {
      "image/png": "[encoded data removed]",
      "text/plain": [
       "<Figure size 1080x360 with 1 Axes>"
      ]
     },
     "metadata": {
      "needs_background": "light"
     },
     "output_type": "display_data"
    }
   ],
   "source": [
    "df_bike_selected_calories = remove_outliers(df_bike_selected.calories, log_transform=True)\n",
    "sns.displot(df_bike_selected_calories, kind = 'hist',bins=300, height=5, aspect=3);"
   ]
  },
  {
   "cell_type": "code",
   "execution_count": 234,
   "id": "82168011",
   "metadata": {
    "ExecuteTime": {
     "end_time": "2022-06-30T22:17:15.762538Z",
     "start_time": "2022-06-30T22:17:15.758379Z"
    }
   },
   "outputs": [],
   "source": [
    "sns.set(font_scale = 1.5)\n",
    "sns.set(rc={'figure.figsize':(20,12)})"
   ]
  },
  {
   "cell_type": "code",
   "execution_count": 235,
   "id": "0e41203f",
   "metadata": {
    "ExecuteTime": {
     "end_time": "2022-06-30T22:17:16.783375Z",
     "start_time": "2022-06-30T22:17:15.979794Z"
    }
   },
   "outputs": [
    {
     "data": {
      "text/plain": [
       "<AxesSubplot:>"
      ]
     },
     "execution_count": 235,
     "metadata": {},
     "output_type": "execute_result"
    },
    {
     "data": {
      "image/png": "[encoded data removed]",
      "text/plain": [
       "<Figure size 1440x864 with 2 Axes>"
      ]
     },
     "metadata": {},
     "output_type": "display_data"
    }
   ],
   "source": [
    "corr = df_bike_selected.corr()\n",
    "sns.heatmap(corr, xticklabels=corr.columns, yticklabels=corr.columns, annot=True)"
   ]
  },
  {
   "cell_type": "code",
   "execution_count": 236,
   "id": "c605a304",
   "metadata": {
    "ExecuteTime": {
     "end_time": "2022-06-30T22:17:18.490731Z",
     "start_time": "2022-06-30T22:17:18.475346Z"
    }
   },
   "outputs": [],
   "source": [
    "# Didn't impute missing calories yet, just removed these null values\n",
    "df_bike_selected_not_null = df_bike_selected[df_bike_selected['calories'].notnull()].reset_index(drop=True)"
   ]
  },
  {
   "cell_type": "code",
   "execution_count": 237,
   "id": "3bc3340d",
   "metadata": {
    "ExecuteTime": {
     "end_time": "2022-06-30T22:17:18.961466Z",
     "start_time": "2022-06-30T22:17:18.942043Z"
    }
   },
   "outputs": [
    {
     "data": {
      "text/html": [
       "<div>\n",
       "<style scoped>\n",
       "    .dataframe tbody tr th:only-of-type {\n",
       "        vertical-align: middle;\n",
       "    }\n",
       "\n",
       "    .dataframe tbody tr th {\n",
       "        vertical-align: top;\n",
       "    }\n",
       "\n",
       "    .dataframe thead th {\n",
       "        text-align: right;\n",
       "    }\n",
       "</style>\n",
       "<table border=\"1\" class=\"dataframe\">\n",
       "  <thead>\n",
       "    <tr style=\"text-align: right;\">\n",
       "      <th></th>\n",
       "      <th>gender</th>\n",
       "      <th>heart_rate_mean</th>\n",
       "      <th>heart_rate_std</th>\n",
       "      <th>duration_s</th>\n",
       "      <th>altitude_mean</th>\n",
       "      <th>altitude_std</th>\n",
       "      <th>ascend_m</th>\n",
       "      <th>descend_m</th>\n",
       "      <th>distance_mean_m</th>\n",
       "      <th>distance_std_m</th>\n",
       "      <th>distance_total_m</th>\n",
       "      <th>speed_mean</th>\n",
       "      <th>speed_std</th>\n",
       "      <th>calories</th>\n",
       "    </tr>\n",
       "  </thead>\n",
       "  <tbody>\n",
       "    <tr>\n",
       "      <th>0</th>\n",
       "      <td>male</td>\n",
       "      <td>152.650</td>\n",
       "      <td>10.229736</td>\n",
       "      <td>7589.0</td>\n",
       "      <td>43.0712</td>\n",
       "      <td>13.475900</td>\n",
       "      <td>407.6</td>\n",
       "      <td>413.0</td>\n",
       "      <td>106.309446</td>\n",
       "      <td>57.798961</td>\n",
       "      <td>53048.413644</td>\n",
       "      <td>7.117435</td>\n",
       "      <td>2.182678</td>\n",
       "      <td>1562.0</td>\n",
       "    </tr>\n",
       "    <tr>\n",
       "      <th>1</th>\n",
       "      <td>male</td>\n",
       "      <td>147.710</td>\n",
       "      <td>10.970046</td>\n",
       "      <td>4440.0</td>\n",
       "      <td>35.7248</td>\n",
       "      <td>10.376062</td>\n",
       "      <td>225.4</td>\n",
       "      <td>228.8</td>\n",
       "      <td>65.063260</td>\n",
       "      <td>42.196571</td>\n",
       "      <td>32466.566953</td>\n",
       "      <td>7.550103</td>\n",
       "      <td>2.272863</td>\n",
       "      <td>908.0</td>\n",
       "    </tr>\n",
       "    <tr>\n",
       "      <th>2</th>\n",
       "      <td>male</td>\n",
       "      <td>140.554</td>\n",
       "      <td>11.319500</td>\n",
       "      <td>6749.0</td>\n",
       "      <td>62.4256</td>\n",
       "      <td>13.217515</td>\n",
       "      <td>328.8</td>\n",
       "      <td>352.4</td>\n",
       "      <td>90.798738</td>\n",
       "      <td>50.482550</td>\n",
       "      <td>45308.570377</td>\n",
       "      <td>7.154326</td>\n",
       "      <td>2.150951</td>\n",
       "      <td>1138.0</td>\n",
       "    </tr>\n",
       "    <tr>\n",
       "      <th>3</th>\n",
       "      <td>male</td>\n",
       "      <td>147.020</td>\n",
       "      <td>11.414885</td>\n",
       "      <td>4519.0</td>\n",
       "      <td>32.6104</td>\n",
       "      <td>11.417463</td>\n",
       "      <td>242.8</td>\n",
       "      <td>238.6</td>\n",
       "      <td>65.188197</td>\n",
       "      <td>41.980981</td>\n",
       "      <td>32528.910062</td>\n",
       "      <td>7.416873</td>\n",
       "      <td>2.201268</td>\n",
       "      <td>921.0</td>\n",
       "    </tr>\n",
       "    <tr>\n",
       "      <th>4</th>\n",
       "      <td>male</td>\n",
       "      <td>137.804</td>\n",
       "      <td>14.884139</td>\n",
       "      <td>13015.0</td>\n",
       "      <td>3.7616</td>\n",
       "      <td>7.431584</td>\n",
       "      <td>496.4</td>\n",
       "      <td>494.0</td>\n",
       "      <td>138.111543</td>\n",
       "      <td>67.010665</td>\n",
       "      <td>68917.660201</td>\n",
       "      <td>6.353138</td>\n",
       "      <td>1.963684</td>\n",
       "      <td>1742.0</td>\n",
       "    </tr>\n",
       "    <tr>\n",
       "      <th>...</th>\n",
       "      <td>...</td>\n",
       "      <td>...</td>\n",
       "      <td>...</td>\n",
       "      <td>...</td>\n",
       "      <td>...</td>\n",
       "      <td>...</td>\n",
       "      <td>...</td>\n",
       "      <td>...</td>\n",
       "      <td>...</td>\n",
       "      <td>...</td>\n",
       "      <td>...</td>\n",
       "      <td>...</td>\n",
       "      <td>...</td>\n",
       "      <td>...</td>\n",
       "    </tr>\n",
       "    <tr>\n",
       "      <th>71351</th>\n",
       "      <td>male</td>\n",
       "      <td>147.408</td>\n",
       "      <td>9.825352</td>\n",
       "      <td>5439.0</td>\n",
       "      <td>36.3676</td>\n",
       "      <td>15.338333</td>\n",
       "      <td>302.4</td>\n",
       "      <td>339.8</td>\n",
       "      <td>87.247926</td>\n",
       "      <td>51.787203</td>\n",
       "      <td>43536.715060</td>\n",
       "      <td>7.980004</td>\n",
       "      <td>2.542718</td>\n",
       "      <td>1198.0</td>\n",
       "    </tr>\n",
       "    <tr>\n",
       "      <th>71352</th>\n",
       "      <td>male</td>\n",
       "      <td>140.582</td>\n",
       "      <td>11.788778</td>\n",
       "      <td>5426.0</td>\n",
       "      <td>49.7648</td>\n",
       "      <td>14.289880</td>\n",
       "      <td>291.4</td>\n",
       "      <td>323.8</td>\n",
       "      <td>87.527512</td>\n",
       "      <td>52.373270</td>\n",
       "      <td>43676.228589</td>\n",
       "      <td>7.929269</td>\n",
       "      <td>2.532936</td>\n",
       "      <td>1129.0</td>\n",
       "    </tr>\n",
       "    <tr>\n",
       "      <th>71353</th>\n",
       "      <td>male</td>\n",
       "      <td>144.992</td>\n",
       "      <td>9.883923</td>\n",
       "      <td>5596.0</td>\n",
       "      <td>46.5416</td>\n",
       "      <td>14.990625</td>\n",
       "      <td>326.8</td>\n",
       "      <td>294.0</td>\n",
       "      <td>86.819364</td>\n",
       "      <td>47.860141</td>\n",
       "      <td>43322.862768</td>\n",
       "      <td>7.645806</td>\n",
       "      <td>2.027765</td>\n",
       "      <td>1196.0</td>\n",
       "    </tr>\n",
       "    <tr>\n",
       "      <th>71354</th>\n",
       "      <td>male</td>\n",
       "      <td>136.880</td>\n",
       "      <td>12.102297</td>\n",
       "      <td>7293.0</td>\n",
       "      <td>19.4878</td>\n",
       "      <td>17.152069</td>\n",
       "      <td>316.2</td>\n",
       "      <td>361.6</td>\n",
       "      <td>87.542455</td>\n",
       "      <td>53.509900</td>\n",
       "      <td>43683.685191</td>\n",
       "      <td>7.404002</td>\n",
       "      <td>2.380199</td>\n",
       "      <td>1215.0</td>\n",
       "    </tr>\n",
       "    <tr>\n",
       "      <th>71355</th>\n",
       "      <td>male</td>\n",
       "      <td>108.846</td>\n",
       "      <td>22.735221</td>\n",
       "      <td>3389.0</td>\n",
       "      <td>13.9304</td>\n",
       "      <td>2.401365</td>\n",
       "      <td>16.9</td>\n",
       "      <td>19.7</td>\n",
       "      <td>5.828178</td>\n",
       "      <td>4.111083</td>\n",
       "      <td>2908.260612</td>\n",
       "      <td>1.581994</td>\n",
       "      <td>1.098630</td>\n",
       "      <td>205.0</td>\n",
       "    </tr>\n",
       "  </tbody>\n",
       "</table>\n",
       "<p>71356 rows × 14 columns</p>\n",
       "</div>"
      ],
      "text/plain": [
       "      gender  heart_rate_mean  heart_rate_std  duration_s  altitude_mean  \\\n",
       "0       male          152.650       10.229736      7589.0        43.0712   \n",
       "1       male          147.710       10.970046      4440.0        35.7248   \n",
       "2       male          140.554       11.319500      6749.0        62.4256   \n",
       "3       male          147.020       11.414885      4519.0        32.6104   \n",
       "4       male          137.804       14.884139     13015.0         3.7616   \n",
       "...      ...              ...             ...         ...            ...   \n",
       "71351   male          147.408        9.825352      5439.0        36.3676   \n",
       "71352   male          140.582       11.788778      5426.0        49.7648   \n",
       "71353   male          144.992        9.883923      5596.0        46.5416   \n",
       "71354   male          136.880       12.102297      7293.0        19.4878   \n",
       "71355   male          108.846       22.735221      3389.0        13.9304   \n",
       "\n",
       "       altitude_std  ascend_m  descend_m  distance_mean_m  distance_std_m  \\\n",
       "0         13.475900     407.6      413.0       106.309446       57.798961   \n",
       "1         10.376062     225.4      228.8        65.063260       42.196571   \n",
       "2         13.217515     328.8      352.4        90.798738       50.482550   \n",
       "3         11.417463     242.8      238.6        65.188197       41.980981   \n",
       "4          7.431584     496.4      494.0       138.111543       67.010665   \n",
       "...             ...       ...        ...              ...             ...   \n",
       "71351     15.338333     302.4      339.8        87.247926       51.787203   \n",
       "71352     14.289880     291.4      323.8        87.527512       52.373270   \n",
       "71353     14.990625     326.8      294.0        86.819364       47.860141   \n",
       "71354     17.152069     316.2      361.6        87.542455       53.509900   \n",
       "71355      2.401365      16.9       19.7         5.828178        4.111083   \n",
       "\n",
       "       distance_total_m  speed_mean  speed_std  calories  \n",
       "0          53048.413644    7.117435   2.182678    1562.0  \n",
       "1          32466.566953    7.550103   2.272863     908.0  \n",
       "2          45308.570377    7.154326   2.150951    1138.0  \n",
       "3          32528.910062    7.416873   2.201268     921.0  \n",
       "4          68917.660201    6.353138   1.963684    1742.0  \n",
       "...                 ...         ...        ...       ...  \n",
       "71351      43536.715060    7.980004   2.542718    1198.0  \n",
       "71352      43676.228589    7.929269   2.532936    1129.0  \n",
       "71353      43322.862768    7.645806   2.027765    1196.0  \n",
       "71354      43683.685191    7.404002   2.380199    1215.0  \n",
       "71355       2908.260612    1.581994   1.098630     205.0  \n",
       "\n",
       "[71356 rows x 14 columns]"
      ]
     },
     "execution_count": 237,
     "metadata": {},
     "output_type": "execute_result"
    }
   ],
   "source": [
    "df_bike_selected_not_null"
   ]
  },
  {
   "cell_type": "code",
   "execution_count": 238,
   "id": "27d5aa4f",
   "metadata": {
    "ExecuteTime": {
     "end_time": "2022-06-30T22:17:21.457660Z",
     "start_time": "2022-06-30T22:17:21.443951Z"
    }
   },
   "outputs": [],
   "source": [
    "# Dummy variable transformation of the gender column\n",
    "dummy_gender = pd.get_dummies(df_bike_selected_not_null['gender'])"
   ]
  },
  {
   "cell_type": "code",
   "execution_count": 239,
   "id": "631e2d4e",
   "metadata": {
    "ExecuteTime": {
     "end_time": "2022-06-30T22:17:21.886496Z",
     "start_time": "2022-06-30T22:17:21.871450Z"
    }
   },
   "outputs": [],
   "source": [
    "df = pd.merge(\n",
    "    left=df_bike_selected_not_null,\n",
    "    right=dummy_gender,\n",
    "    left_index=True,\n",
    "    right_index=True,\n",
    ").drop('gender',axis=1)"
   ]
  },
  {
   "cell_type": "code",
   "execution_count": 240,
   "id": "30aeda83",
   "metadata": {
    "ExecuteTime": {
     "end_time": "2022-06-30T22:17:22.704959Z",
     "start_time": "2022-06-30T22:17:22.680310Z"
    },
    "scrolled": true
   },
   "outputs": [
    {
     "data": {
      "text/html": [
       "<div>\n",
       "<style scoped>\n",
       "    .dataframe tbody tr th:only-of-type {\n",
       "        vertical-align: middle;\n",
       "    }\n",
       "\n",
       "    .dataframe tbody tr th {\n",
       "        vertical-align: top;\n",
       "    }\n",
       "\n",
       "    .dataframe thead th {\n",
       "        text-align: right;\n",
       "    }\n",
       "</style>\n",
       "<table border=\"1\" class=\"dataframe\">\n",
       "  <thead>\n",
       "    <tr style=\"text-align: right;\">\n",
       "      <th></th>\n",
       "      <th>heart_rate_mean</th>\n",
       "      <th>heart_rate_std</th>\n",
       "      <th>duration_s</th>\n",
       "      <th>altitude_mean</th>\n",
       "      <th>altitude_std</th>\n",
       "      <th>ascend_m</th>\n",
       "      <th>descend_m</th>\n",
       "      <th>distance_mean_m</th>\n",
       "      <th>distance_std_m</th>\n",
       "      <th>distance_total_m</th>\n",
       "      <th>speed_mean</th>\n",
       "      <th>speed_std</th>\n",
       "      <th>calories</th>\n",
       "      <th>female</th>\n",
       "      <th>male</th>\n",
       "      <th>unknown</th>\n",
       "    </tr>\n",
       "  </thead>\n",
       "  <tbody>\n",
       "    <tr>\n",
       "      <th>0</th>\n",
       "      <td>152.650</td>\n",
       "      <td>10.229736</td>\n",
       "      <td>7589.0</td>\n",
       "      <td>43.0712</td>\n",
       "      <td>13.475900</td>\n",
       "      <td>407.6</td>\n",
       "      <td>413.0</td>\n",
       "      <td>106.309446</td>\n",
       "      <td>57.798961</td>\n",
       "      <td>53048.413644</td>\n",
       "      <td>7.117435</td>\n",
       "      <td>2.182678</td>\n",
       "      <td>1562.0</td>\n",
       "      <td>0</td>\n",
       "      <td>1</td>\n",
       "      <td>0</td>\n",
       "    </tr>\n",
       "    <tr>\n",
       "      <th>1</th>\n",
       "      <td>147.710</td>\n",
       "      <td>10.970046</td>\n",
       "      <td>4440.0</td>\n",
       "      <td>35.7248</td>\n",
       "      <td>10.376062</td>\n",
       "      <td>225.4</td>\n",
       "      <td>228.8</td>\n",
       "      <td>65.063260</td>\n",
       "      <td>42.196571</td>\n",
       "      <td>32466.566953</td>\n",
       "      <td>7.550103</td>\n",
       "      <td>2.272863</td>\n",
       "      <td>908.0</td>\n",
       "      <td>0</td>\n",
       "      <td>1</td>\n",
       "      <td>0</td>\n",
       "    </tr>\n",
       "    <tr>\n",
       "      <th>2</th>\n",
       "      <td>140.554</td>\n",
       "      <td>11.319500</td>\n",
       "      <td>6749.0</td>\n",
       "      <td>62.4256</td>\n",
       "      <td>13.217515</td>\n",
       "      <td>328.8</td>\n",
       "      <td>352.4</td>\n",
       "      <td>90.798738</td>\n",
       "      <td>50.482550</td>\n",
       "      <td>45308.570377</td>\n",
       "      <td>7.154326</td>\n",
       "      <td>2.150951</td>\n",
       "      <td>1138.0</td>\n",
       "      <td>0</td>\n",
       "      <td>1</td>\n",
       "      <td>0</td>\n",
       "    </tr>\n",
       "    <tr>\n",
       "      <th>3</th>\n",
       "      <td>147.020</td>\n",
       "      <td>11.414885</td>\n",
       "      <td>4519.0</td>\n",
       "      <td>32.6104</td>\n",
       "      <td>11.417463</td>\n",
       "      <td>242.8</td>\n",
       "      <td>238.6</td>\n",
       "      <td>65.188197</td>\n",
       "      <td>41.980981</td>\n",
       "      <td>32528.910062</td>\n",
       "      <td>7.416873</td>\n",
       "      <td>2.201268</td>\n",
       "      <td>921.0</td>\n",
       "      <td>0</td>\n",
       "      <td>1</td>\n",
       "      <td>0</td>\n",
       "    </tr>\n",
       "    <tr>\n",
       "      <th>4</th>\n",
       "      <td>137.804</td>\n",
       "      <td>14.884139</td>\n",
       "      <td>13015.0</td>\n",
       "      <td>3.7616</td>\n",
       "      <td>7.431584</td>\n",
       "      <td>496.4</td>\n",
       "      <td>494.0</td>\n",
       "      <td>138.111543</td>\n",
       "      <td>67.010665</td>\n",
       "      <td>68917.660201</td>\n",
       "      <td>6.353138</td>\n",
       "      <td>1.963684</td>\n",
       "      <td>1742.0</td>\n",
       "      <td>0</td>\n",
       "      <td>1</td>\n",
       "      <td>0</td>\n",
       "    </tr>\n",
       "    <tr>\n",
       "      <th>...</th>\n",
       "      <td>...</td>\n",
       "      <td>...</td>\n",
       "      <td>...</td>\n",
       "      <td>...</td>\n",
       "      <td>...</td>\n",
       "      <td>...</td>\n",
       "      <td>...</td>\n",
       "      <td>...</td>\n",
       "      <td>...</td>\n",
       "      <td>...</td>\n",
       "      <td>...</td>\n",
       "      <td>...</td>\n",
       "      <td>...</td>\n",
       "      <td>...</td>\n",
       "      <td>...</td>\n",
       "      <td>...</td>\n",
       "    </tr>\n",
       "    <tr>\n",
       "      <th>71351</th>\n",
       "      <td>147.408</td>\n",
       "      <td>9.825352</td>\n",
       "      <td>5439.0</td>\n",
       "      <td>36.3676</td>\n",
       "      <td>15.338333</td>\n",
       "      <td>302.4</td>\n",
       "      <td>339.8</td>\n",
       "      <td>87.247926</td>\n",
       "      <td>51.787203</td>\n",
       "      <td>43536.715060</td>\n",
       "      <td>7.980004</td>\n",
       "      <td>2.542718</td>\n",
       "      <td>1198.0</td>\n",
       "      <td>0</td>\n",
       "      <td>1</td>\n",
       "      <td>0</td>\n",
       "    </tr>\n",
       "    <tr>\n",
       "      <th>71352</th>\n",
       "      <td>140.582</td>\n",
       "      <td>11.788778</td>\n",
       "      <td>5426.0</td>\n",
       "      <td>49.7648</td>\n",
       "      <td>14.289880</td>\n",
       "      <td>291.4</td>\n",
       "      <td>323.8</td>\n",
       "      <td>87.527512</td>\n",
       "      <td>52.373270</td>\n",
       "      <td>43676.228589</td>\n",
       "      <td>7.929269</td>\n",
       "      <td>2.532936</td>\n",
       "      <td>1129.0</td>\n",
       "      <td>0</td>\n",
       "      <td>1</td>\n",
       "      <td>0</td>\n",
       "    </tr>\n",
       "    <tr>\n",
       "      <th>71353</th>\n",
       "      <td>144.992</td>\n",
       "      <td>9.883923</td>\n",
       "      <td>5596.0</td>\n",
       "      <td>46.5416</td>\n",
       "      <td>14.990625</td>\n",
       "      <td>326.8</td>\n",
       "      <td>294.0</td>\n",
       "      <td>86.819364</td>\n",
       "      <td>47.860141</td>\n",
       "      <td>43322.862768</td>\n",
       "      <td>7.645806</td>\n",
       "      <td>2.027765</td>\n",
       "      <td>1196.0</td>\n",
       "      <td>0</td>\n",
       "      <td>1</td>\n",
       "      <td>0</td>\n",
       "    </tr>\n",
       "    <tr>\n",
       "      <th>71354</th>\n",
       "      <td>136.880</td>\n",
       "      <td>12.102297</td>\n",
       "      <td>7293.0</td>\n",
       "      <td>19.4878</td>\n",
       "      <td>17.152069</td>\n",
       "      <td>316.2</td>\n",
       "      <td>361.6</td>\n",
       "      <td>87.542455</td>\n",
       "      <td>53.509900</td>\n",
       "      <td>43683.685191</td>\n",
       "      <td>7.404002</td>\n",
       "      <td>2.380199</td>\n",
       "      <td>1215.0</td>\n",
       "      <td>0</td>\n",
       "      <td>1</td>\n",
       "      <td>0</td>\n",
       "    </tr>\n",
       "    <tr>\n",
       "      <th>71355</th>\n",
       "      <td>108.846</td>\n",
       "      <td>22.735221</td>\n",
       "      <td>3389.0</td>\n",
       "      <td>13.9304</td>\n",
       "      <td>2.401365</td>\n",
       "      <td>16.9</td>\n",
       "      <td>19.7</td>\n",
       "      <td>5.828178</td>\n",
       "      <td>4.111083</td>\n",
       "      <td>2908.260612</td>\n",
       "      <td>1.581994</td>\n",
       "      <td>1.098630</td>\n",
       "      <td>205.0</td>\n",
       "      <td>0</td>\n",
       "      <td>1</td>\n",
       "      <td>0</td>\n",
       "    </tr>\n",
       "  </tbody>\n",
       "</table>\n",
       "<p>71356 rows × 16 columns</p>\n",
       "</div>"
      ],
      "text/plain": [
       "       heart_rate_mean  heart_rate_std  duration_s  altitude_mean  \\\n",
       "0              152.650       10.229736      7589.0        43.0712   \n",
       "1              147.710       10.970046      4440.0        35.7248   \n",
       "2              140.554       11.319500      6749.0        62.4256   \n",
       "3              147.020       11.414885      4519.0        32.6104   \n",
       "4              137.804       14.884139     13015.0         3.7616   \n",
       "...                ...             ...         ...            ...   \n",
       "71351          147.408        9.825352      5439.0        36.3676   \n",
       "71352          140.582       11.788778      5426.0        49.7648   \n",
       "71353          144.992        9.883923      5596.0        46.5416   \n",
       "71354          136.880       12.102297      7293.0        19.4878   \n",
       "71355          108.846       22.735221      3389.0        13.9304   \n",
       "\n",
       "       altitude_std  ascend_m  descend_m  distance_mean_m  distance_std_m  \\\n",
       "0         13.475900     407.6      413.0       106.309446       57.798961   \n",
       "1         10.376062     225.4      228.8        65.063260       42.196571   \n",
       "2         13.217515     328.8      352.4        90.798738       50.482550   \n",
       "3         11.417463     242.8      238.6        65.188197       41.980981   \n",
       "4          7.431584     496.4      494.0       138.111543       67.010665   \n",
       "...             ...       ...        ...              ...             ...   \n",
       "71351     15.338333     302.4      339.8        87.247926       51.787203   \n",
       "71352     14.289880     291.4      323.8        87.527512       52.373270   \n",
       "71353     14.990625     326.8      294.0        86.819364       47.860141   \n",
       "71354     17.152069     316.2      361.6        87.542455       53.509900   \n",
       "71355      2.401365      16.9       19.7         5.828178        4.111083   \n",
       "\n",
       "       distance_total_m  speed_mean  speed_std  calories  female  male  \\\n",
       "0          53048.413644    7.117435   2.182678    1562.0       0     1   \n",
       "1          32466.566953    7.550103   2.272863     908.0       0     1   \n",
       "2          45308.570377    7.154326   2.150951    1138.0       0     1   \n",
       "3          32528.910062    7.416873   2.201268     921.0       0     1   \n",
       "4          68917.660201    6.353138   1.963684    1742.0       0     1   \n",
       "...                 ...         ...        ...       ...     ...   ...   \n",
       "71351      43536.715060    7.980004   2.542718    1198.0       0     1   \n",
       "71352      43676.228589    7.929269   2.532936    1129.0       0     1   \n",
       "71353      43322.862768    7.645806   2.027765    1196.0       0     1   \n",
       "71354      43683.685191    7.404002   2.380199    1215.0       0     1   \n",
       "71355       2908.260612    1.581994   1.098630     205.0       0     1   \n",
       "\n",
       "       unknown  \n",
       "0            0  \n",
       "1            0  \n",
       "2            0  \n",
       "3            0  \n",
       "4            0  \n",
       "...        ...  \n",
       "71351        0  \n",
       "71352        0  \n",
       "71353        0  \n",
       "71354        0  \n",
       "71355        0  \n",
       "\n",
       "[71356 rows x 16 columns]"
      ]
     },
     "execution_count": 240,
     "metadata": {},
     "output_type": "execute_result"
    }
   ],
   "source": [
    "df"
   ]
  },
  {
   "cell_type": "code",
   "execution_count": 241,
   "id": "abbc2a15",
   "metadata": {
    "ExecuteTime": {
     "end_time": "2022-06-30T22:17:24.540404Z",
     "start_time": "2022-06-30T22:17:24.534533Z"
    }
   },
   "outputs": [],
   "source": [
    "df_no_target = df.drop('heart_rate_mean',axis=1)"
   ]
  },
  {
   "cell_type": "code",
   "execution_count": null,
   "id": "b666ed19",
   "metadata": {},
   "outputs": [],
   "source": [
    "# Check and remove multicolinear features"
   ]
  },
  {
   "cell_type": "code",
   "execution_count": 242,
   "id": "5bba40f8",
   "metadata": {
    "ExecuteTime": {
     "end_time": "2022-06-30T22:17:25.006021Z",
     "start_time": "2022-06-30T22:17:25.002511Z"
    }
   },
   "outputs": [],
   "source": [
    "from statsmodels.stats.outliers_influence import variance_inflation_factor"
   ]
  },
  {
   "cell_type": "code",
   "execution_count": 243,
   "id": "7a2b85d3",
   "metadata": {
    "ExecuteTime": {
     "end_time": "2022-06-30T22:17:26.292564Z",
     "start_time": "2022-06-30T22:17:25.681054Z"
    }
   },
   "outputs": [
    {
     "name": "stderr",
     "output_type": "stream",
     "text": [
      "/Users/Chao/opt/miniconda3/lib/python3.8/site-packages/statsmodels/stats/outliers_influence.py:195: RuntimeWarning: divide by zero encountered in double_scalars\n",
      "  vif = 1. / (1. - r_squared_i)\n"
     ]
    },
    {
     "data": {
      "text/html": [
       "<div>\n",
       "<style scoped>\n",
       "    .dataframe tbody tr th:only-of-type {\n",
       "        vertical-align: middle;\n",
       "    }\n",
       "\n",
       "    .dataframe tbody tr th {\n",
       "        vertical-align: top;\n",
       "    }\n",
       "\n",
       "    .dataframe thead th {\n",
       "        text-align: right;\n",
       "    }\n",
       "</style>\n",
       "<table border=\"1\" class=\"dataframe\">\n",
       "  <thead>\n",
       "    <tr style=\"text-align: right;\">\n",
       "      <th></th>\n",
       "      <th>features</th>\n",
       "      <th>vif_Factor</th>\n",
       "    </tr>\n",
       "  </thead>\n",
       "  <tbody>\n",
       "    <tr>\n",
       "      <th>0</th>\n",
       "      <td>heart_rate_std</td>\n",
       "      <td>1.134495</td>\n",
       "    </tr>\n",
       "    <tr>\n",
       "      <th>1</th>\n",
       "      <td>duration_s</td>\n",
       "      <td>7.462968</td>\n",
       "    </tr>\n",
       "    <tr>\n",
       "      <th>2</th>\n",
       "      <td>altitude_mean</td>\n",
       "      <td>1.187811</td>\n",
       "    </tr>\n",
       "    <tr>\n",
       "      <th>3</th>\n",
       "      <td>altitude_std</td>\n",
       "      <td>1.978626</td>\n",
       "    </tr>\n",
       "    <tr>\n",
       "      <th>4</th>\n",
       "      <td>ascend_m</td>\n",
       "      <td>17.036065</td>\n",
       "    </tr>\n",
       "    <tr>\n",
       "      <th>5</th>\n",
       "      <td>descend_m</td>\n",
       "      <td>15.519952</td>\n",
       "    </tr>\n",
       "    <tr>\n",
       "      <th>6</th>\n",
       "      <td>distance_mean_m</td>\n",
       "      <td>inf</td>\n",
       "    </tr>\n",
       "    <tr>\n",
       "      <th>7</th>\n",
       "      <td>distance_std_m</td>\n",
       "      <td>2.048778</td>\n",
       "    </tr>\n",
       "    <tr>\n",
       "      <th>8</th>\n",
       "      <td>distance_total_m</td>\n",
       "      <td>inf</td>\n",
       "    </tr>\n",
       "    <tr>\n",
       "      <th>9</th>\n",
       "      <td>speed_mean</td>\n",
       "      <td>2.489654</td>\n",
       "    </tr>\n",
       "    <tr>\n",
       "      <th>10</th>\n",
       "      <td>speed_std</td>\n",
       "      <td>1.131188</td>\n",
       "    </tr>\n",
       "    <tr>\n",
       "      <th>11</th>\n",
       "      <td>calories</td>\n",
       "      <td>1.000086</td>\n",
       "    </tr>\n",
       "    <tr>\n",
       "      <th>12</th>\n",
       "      <td>female</td>\n",
       "      <td>2.460258</td>\n",
       "    </tr>\n",
       "    <tr>\n",
       "      <th>13</th>\n",
       "      <td>male</td>\n",
       "      <td>38.285655</td>\n",
       "    </tr>\n",
       "    <tr>\n",
       "      <th>14</th>\n",
       "      <td>unknown</td>\n",
       "      <td>1.331212</td>\n",
       "    </tr>\n",
       "  </tbody>\n",
       "</table>\n",
       "</div>"
      ],
      "text/plain": [
       "            features  vif_Factor\n",
       "0     heart_rate_std    1.134495\n",
       "1         duration_s    7.462968\n",
       "2      altitude_mean    1.187811\n",
       "3       altitude_std    1.978626\n",
       "4           ascend_m   17.036065\n",
       "5          descend_m   15.519952\n",
       "6    distance_mean_m         inf\n",
       "7     distance_std_m    2.048778\n",
       "8   distance_total_m         inf\n",
       "9         speed_mean    2.489654\n",
       "10         speed_std    1.131188\n",
       "11          calories    1.000086\n",
       "12            female    2.460258\n",
       "13              male   38.285655\n",
       "14           unknown    1.331212"
      ]
     },
     "execution_count": 243,
     "metadata": {},
     "output_type": "execute_result"
    }
   ],
   "source": [
    "vif = pd.DataFrame()\n",
    "vif[\"features\"] = df_no_target.columns\n",
    "vif[\"vif_Factor\"] = [variance_inflation_factor(df_no_target.values, i) for i in range(df_no_target.shape[1])]\n",
    "vif"
   ]
  },
  {
   "cell_type": "code",
   "execution_count": 244,
   "id": "4bbe9021",
   "metadata": {
    "ExecuteTime": {
     "end_time": "2022-06-30T22:17:28.529861Z",
     "start_time": "2022-06-30T22:17:28.521945Z"
    }
   },
   "outputs": [],
   "source": [
    "# Features with VIF above 10 are dropped\n",
    "df_no_target = df_no_target.drop(['distance_mean_m','distance_total_m','ascend_m','descend_m','male'], axis=1)"
   ]
  },
  {
   "cell_type": "code",
   "execution_count": 245,
   "id": "261ac70e",
   "metadata": {
    "ExecuteTime": {
     "end_time": "2022-06-30T22:17:29.177849Z",
     "start_time": "2022-06-30T22:17:28.951672Z"
    }
   },
   "outputs": [
    {
     "data": {
      "text/html": [
       "<div>\n",
       "<style scoped>\n",
       "    .dataframe tbody tr th:only-of-type {\n",
       "        vertical-align: middle;\n",
       "    }\n",
       "\n",
       "    .dataframe tbody tr th {\n",
       "        vertical-align: top;\n",
       "    }\n",
       "\n",
       "    .dataframe thead th {\n",
       "        text-align: right;\n",
       "    }\n",
       "</style>\n",
       "<table border=\"1\" class=\"dataframe\">\n",
       "  <thead>\n",
       "    <tr style=\"text-align: right;\">\n",
       "      <th></th>\n",
       "      <th>features</th>\n",
       "      <th>vif_Factor</th>\n",
       "    </tr>\n",
       "  </thead>\n",
       "  <tbody>\n",
       "    <tr>\n",
       "      <th>0</th>\n",
       "      <td>heart_rate_std</td>\n",
       "      <td>7.313201</td>\n",
       "    </tr>\n",
       "    <tr>\n",
       "      <th>1</th>\n",
       "      <td>duration_s</td>\n",
       "      <td>6.677960</td>\n",
       "    </tr>\n",
       "    <tr>\n",
       "      <th>2</th>\n",
       "      <td>altitude_mean</td>\n",
       "      <td>1.438381</td>\n",
       "    </tr>\n",
       "    <tr>\n",
       "      <th>3</th>\n",
       "      <td>altitude_std</td>\n",
       "      <td>1.861156</td>\n",
       "    </tr>\n",
       "    <tr>\n",
       "      <th>4</th>\n",
       "      <td>distance_std_m</td>\n",
       "      <td>5.512795</td>\n",
       "    </tr>\n",
       "    <tr>\n",
       "      <th>5</th>\n",
       "      <td>speed_mean</td>\n",
       "      <td>7.608105</td>\n",
       "    </tr>\n",
       "    <tr>\n",
       "      <th>6</th>\n",
       "      <td>speed_std</td>\n",
       "      <td>1.948906</td>\n",
       "    </tr>\n",
       "    <tr>\n",
       "      <th>7</th>\n",
       "      <td>calories</td>\n",
       "      <td>1.000177</td>\n",
       "    </tr>\n",
       "    <tr>\n",
       "      <th>8</th>\n",
       "      <td>female</td>\n",
       "      <td>1.041453</td>\n",
       "    </tr>\n",
       "    <tr>\n",
       "      <th>9</th>\n",
       "      <td>unknown</td>\n",
       "      <td>1.010980</td>\n",
       "    </tr>\n",
       "  </tbody>\n",
       "</table>\n",
       "</div>"
      ],
      "text/plain": [
       "         features  vif_Factor\n",
       "0  heart_rate_std    7.313201\n",
       "1      duration_s    6.677960\n",
       "2   altitude_mean    1.438381\n",
       "3    altitude_std    1.861156\n",
       "4  distance_std_m    5.512795\n",
       "5      speed_mean    7.608105\n",
       "6       speed_std    1.948906\n",
       "7        calories    1.000177\n",
       "8          female    1.041453\n",
       "9         unknown    1.010980"
      ]
     },
     "execution_count": 245,
     "metadata": {},
     "output_type": "execute_result"
    }
   ],
   "source": [
    "vif = pd.DataFrame()\n",
    "vif[\"features\"] = df_no_target.columns\n",
    "vif[\"vif_Factor\"] = [variance_inflation_factor(df_no_target.values, i) for i in range(df_no_target.shape[1])]\n",
    "vif"
   ]
  },
  {
   "cell_type": "code",
   "execution_count": 246,
   "id": "fc78bbd8",
   "metadata": {
    "ExecuteTime": {
     "end_time": "2022-06-30T22:17:36.839584Z",
     "start_time": "2022-06-30T22:17:36.834835Z"
    }
   },
   "outputs": [],
   "source": [
    "X = df_no_target"
   ]
  },
  {
   "cell_type": "code",
   "execution_count": 247,
   "id": "2d3fa0e4",
   "metadata": {
    "ExecuteTime": {
     "end_time": "2022-06-30T22:17:37.721787Z",
     "start_time": "2022-06-30T22:17:37.718223Z"
    }
   },
   "outputs": [],
   "source": [
    "y = df['heart_rate_mean']"
   ]
  },
  {
   "cell_type": "code",
   "execution_count": 248,
   "id": "0099dd9d",
   "metadata": {
    "ExecuteTime": {
     "end_time": "2022-06-30T22:17:38.330699Z",
     "start_time": "2022-06-30T22:17:38.323610Z"
    }
   },
   "outputs": [
    {
     "data": {
      "text/plain": [
       "(71356, 10)"
      ]
     },
     "execution_count": 248,
     "metadata": {},
     "output_type": "execute_result"
    }
   ],
   "source": [
    "X.shape"
   ]
  },
  {
   "cell_type": "code",
   "execution_count": 249,
   "id": "7ee85ba5",
   "metadata": {
    "ExecuteTime": {
     "end_time": "2022-06-30T22:17:39.532108Z",
     "start_time": "2022-06-30T22:17:39.525014Z"
    }
   },
   "outputs": [
    {
     "data": {
      "text/plain": [
       "(71356,)"
      ]
     },
     "execution_count": 249,
     "metadata": {},
     "output_type": "execute_result"
    }
   ],
   "source": [
    "y.shape"
   ]
  },
  {
   "cell_type": "code",
   "execution_count": 250,
   "id": "7cf2594d",
   "metadata": {
    "ExecuteTime": {
     "end_time": "2022-06-30T22:17:41.216671Z",
     "start_time": "2022-06-30T22:17:41.212996Z"
    },
    "run_control": {
     "marked": false
    }
   },
   "outputs": [],
   "source": [
    "from sklearn.model_selection import train_test_split"
   ]
  },
  {
   "cell_type": "code",
   "execution_count": 251,
   "id": "e7a17896",
   "metadata": {
    "ExecuteTime": {
     "end_time": "2022-06-30T22:17:42.071096Z",
     "start_time": "2022-06-30T22:17:42.050260Z"
    }
   },
   "outputs": [],
   "source": [
    "X_train, X_test, y_train, y_test = train_test_split(X, y, test_size=0.33, random_state=42)"
   ]
  },
  {
   "cell_type": "code",
   "execution_count": 252,
   "id": "cee115ba",
   "metadata": {
    "ExecuteTime": {
     "end_time": "2022-06-30T22:17:42.859247Z",
     "start_time": "2022-06-30T22:17:42.854853Z"
    }
   },
   "outputs": [],
   "source": [
    "from sklearn.preprocessing import MinMaxScaler\n",
    "from sklearn.linear_model import LinearRegression\n",
    "from sklearn.pipeline import Pipeline"
   ]
  },
  {
   "cell_type": "markdown",
   "id": "0771c925",
   "metadata": {},
   "source": [
    "### Linear regression"
   ]
  },
  {
   "cell_type": "code",
   "execution_count": 253,
   "id": "73d99585",
   "metadata": {
    "ExecuteTime": {
     "end_time": "2022-06-30T22:17:43.701524Z",
     "start_time": "2022-06-30T22:17:43.697690Z"
    }
   },
   "outputs": [],
   "source": [
    "steps = [('scaler',MinMaxScaler()),('lr', LinearRegression())]\n",
    "model = Pipeline(steps)"
   ]
  },
  {
   "cell_type": "code",
   "execution_count": 254,
   "id": "102b3e3a",
   "metadata": {
    "ExecuteTime": {
     "end_time": "2022-06-30T22:17:44.346884Z",
     "start_time": "2022-06-30T22:17:44.314785Z"
    }
   },
   "outputs": [],
   "source": [
    "model = model.fit(X_train, y_train)"
   ]
  },
  {
   "cell_type": "code",
   "execution_count": 255,
   "id": "987704b8",
   "metadata": {
    "ExecuteTime": {
     "end_time": "2022-06-30T22:17:46.344866Z",
     "start_time": "2022-06-30T22:17:46.334126Z"
    }
   },
   "outputs": [],
   "source": [
    "y_train_pred = model.predict(X_train)"
   ]
  },
  {
   "cell_type": "code",
   "execution_count": 256,
   "id": "0b96c6b5",
   "metadata": {
    "ExecuteTime": {
     "end_time": "2022-06-30T22:17:46.777156Z",
     "start_time": "2022-06-30T22:17:46.772715Z"
    }
   },
   "outputs": [],
   "source": [
    "import matplotlib.pylab as plt\n",
    "%matplotlib inline"
   ]
  },
  {
   "cell_type": "code",
   "execution_count": 257,
   "id": "1c5393b2",
   "metadata": {
    "ExecuteTime": {
     "end_time": "2022-06-30T22:17:47.501095Z",
     "start_time": "2022-06-30T22:17:47.301913Z"
    }
   },
   "outputs": [
    {
     "data": {
      "text/plain": [
       "Text(0, 0.5, 'y_train_pred')"
      ]
     },
     "execution_count": 257,
     "metadata": {},
     "output_type": "execute_result"
    },
    {
     "data": {
      "image/png": "[encoded data removed]",
      "text/plain": [
       "<Figure size 432x288 with 1 Axes>"
      ]
     },
     "metadata": {
      "needs_background": "light"
     },
     "output_type": "display_data"
    }
   ],
   "source": [
    "plt.scatter(y_train, y_train_pred, alpha=0.3)\n",
    "plt.xlabel('y_train')\n",
    "plt.ylabel('y_train_pred')"
   ]
  },
  {
   "cell_type": "code",
   "execution_count": 258,
   "id": "1c9bde8c",
   "metadata": {
    "ExecuteTime": {
     "end_time": "2022-06-30T22:17:53.711762Z",
     "start_time": "2022-06-30T22:17:53.707879Z"
    }
   },
   "outputs": [],
   "source": [
    "from sklearn.metrics import mean_absolute_error, mean_squared_error, r2_score"
   ]
  },
  {
   "cell_type": "code",
   "execution_count": 259,
   "id": "2e6bc76c",
   "metadata": {
    "ExecuteTime": {
     "end_time": "2022-06-30T22:17:54.311888Z",
     "start_time": "2022-06-30T22:17:54.302082Z"
    }
   },
   "outputs": [
    {
     "name": "stdout",
     "output_type": "stream",
     "text": [
      "train MAE: 1.18e+01\n",
      "train MSE: 2.29e+02\n",
      "train R2: 0.091\n"
     ]
    }
   ],
   "source": [
    "print('train MAE: {0:.2e}'.format(mean_absolute_error(y_train, y_train_pred)))\n",
    "print('train MSE: {0:.2e}'.format(mean_squared_error(y_train, y_train_pred)))\n",
    "print('train R2: {0:.3f}'.format(r2_score(y_train, y_train_pred)))"
   ]
  },
  {
   "cell_type": "code",
   "execution_count": 260,
   "id": "e0c693ba",
   "metadata": {
    "ExecuteTime": {
     "end_time": "2022-06-30T22:17:58.591323Z",
     "start_time": "2022-06-30T22:17:58.580394Z"
    }
   },
   "outputs": [],
   "source": [
    "y_pred_test = model.predict(X_test)"
   ]
  },
  {
   "cell_type": "code",
   "execution_count": 261,
   "id": "86c25cbf",
   "metadata": {
    "ExecuteTime": {
     "end_time": "2022-06-30T22:17:59.450300Z",
     "start_time": "2022-06-30T22:17:59.275228Z"
    }
   },
   "outputs": [
    {
     "data": {
      "text/plain": [
       "Text(0, 0.5, 'y_pred_test')"
      ]
     },
     "execution_count": 261,
     "metadata": {},
     "output_type": "execute_result"
    },
    {
     "data": {
      "image/png": "[encoded data removed]",
      "text/plain": [
       "<Figure size 432x288 with 1 Axes>"
      ]
     },
     "metadata": {
      "needs_background": "light"
     },
     "output_type": "display_data"
    }
   ],
   "source": [
    "plt.scatter(y_test, y_pred_test, alpha=0.3)\n",
    "plt.xlabel('y_test')\n",
    "plt.ylabel('y_pred_test')"
   ]
  },
  {
   "cell_type": "code",
   "execution_count": 262,
   "id": "c0c2a7a4",
   "metadata": {
    "ExecuteTime": {
     "end_time": "2022-06-30T22:18:01.631320Z",
     "start_time": "2022-06-30T22:18:01.622816Z"
    }
   },
   "outputs": [
    {
     "name": "stdout",
     "output_type": "stream",
     "text": [
      "test MAE: 1.18e+01\n",
      "test MSE: 2.28e+02\n",
      "test R2: 0.096\n"
     ]
    }
   ],
   "source": [
    "print('test MAE: {0:.2e}'.format(mean_absolute_error(y_test, y_pred_test)))\n",
    "print('test MSE: {0:.2e}'.format(mean_squared_error(y_test, y_pred_test)))\n",
    "print('test R2: {0:.3f}'.format(r2_score(y_test, y_pred_test)))"
   ]
  },
  {
   "cell_type": "markdown",
   "id": "35bf3f78",
   "metadata": {},
   "source": [
    "### Linear regression with polynomial features - degree 2 is the best so far"
   ]
  },
  {
   "cell_type": "code",
   "execution_count": 263,
   "id": "b92955f9",
   "metadata": {
    "ExecuteTime": {
     "end_time": "2022-06-30T22:19:15.312355Z",
     "start_time": "2022-06-30T22:19:15.308850Z"
    }
   },
   "outputs": [],
   "source": [
    "from sklearn.preprocessing import PolynomialFeatures"
   ]
  },
  {
   "cell_type": "code",
   "execution_count": 289,
   "id": "fb82f7d0",
   "metadata": {
    "ExecuteTime": {
     "end_time": "2022-06-30T22:21:01.363766Z",
     "start_time": "2022-06-30T22:21:01.358979Z"
    }
   },
   "outputs": [],
   "source": [
    "steps = [('scaler',MinMaxScaler()),('poly', PolynomialFeatures(degree=2)),('lr', LinearRegression())]\n",
    "model = Pipeline(steps)"
   ]
  },
  {
   "cell_type": "code",
   "execution_count": 290,
   "id": "f44ad772",
   "metadata": {
    "ExecuteTime": {
     "end_time": "2022-06-30T22:21:01.983719Z",
     "start_time": "2022-06-30T22:21:01.863121Z"
    }
   },
   "outputs": [],
   "source": [
    "model = model.fit(X_train, y_train)"
   ]
  },
  {
   "cell_type": "code",
   "execution_count": 291,
   "id": "fa91b0c7",
   "metadata": {
    "ExecuteTime": {
     "end_time": "2022-06-30T22:21:02.202116Z",
     "start_time": "2022-06-30T22:21:02.167865Z"
    }
   },
   "outputs": [],
   "source": [
    "y_train_pred = model.predict(X_train)"
   ]
  },
  {
   "cell_type": "code",
   "execution_count": 292,
   "id": "d1accaa1",
   "metadata": {
    "ExecuteTime": {
     "end_time": "2022-06-30T22:21:02.767842Z",
     "start_time": "2022-06-30T22:21:02.571585Z"
    }
   },
   "outputs": [
    {
     "data": {
      "text/plain": [
       "Text(0, 0.5, 'y_train_pred')"
      ]
     },
     "execution_count": 292,
     "metadata": {},
     "output_type": "execute_result"
    },
    {
     "data": {
      "image/png": "[encoded data removed]",
      "text/plain": [
       "<Figure size 432x288 with 1 Axes>"
      ]
     },
     "metadata": {
      "needs_background": "light"
     },
     "output_type": "display_data"
    }
   ],
   "source": [
    "plt.scatter(y_train, y_train_pred, alpha=0.3)\n",
    "plt.xlabel('y_train')\n",
    "plt.ylabel('y_train_pred')"
   ]
  },
  {
   "cell_type": "code",
   "execution_count": 293,
   "id": "d1619950",
   "metadata": {
    "ExecuteTime": {
     "end_time": "2022-06-30T22:21:03.219363Z",
     "start_time": "2022-06-30T22:21:03.208671Z"
    }
   },
   "outputs": [
    {
     "name": "stdout",
     "output_type": "stream",
     "text": [
      "train MAE: 1.10e+01\n",
      "train MSE: 2.01e+02\n",
      "train R2: 0.201\n"
     ]
    }
   ],
   "source": [
    "print('train MAE: {0:.2e}'.format(mean_absolute_error(y_train, y_train_pred)))\n",
    "print('train MSE: {0:.2e}'.format(mean_squared_error(y_train, y_train_pred)))\n",
    "print('train R2: {0:.3f}'.format(r2_score(y_train, y_train_pred)))"
   ]
  },
  {
   "cell_type": "code",
   "execution_count": 294,
   "id": "b1ecd34e",
   "metadata": {
    "ExecuteTime": {
     "end_time": "2022-06-30T22:21:04.003055Z",
     "start_time": "2022-06-30T22:21:03.970935Z"
    }
   },
   "outputs": [],
   "source": [
    "y_pred_test = model.predict(X_test)"
   ]
  },
  {
   "cell_type": "code",
   "execution_count": 295,
   "id": "8a9f8473",
   "metadata": {
    "ExecuteTime": {
     "end_time": "2022-06-30T22:21:04.791131Z",
     "start_time": "2022-06-30T22:21:04.608136Z"
    }
   },
   "outputs": [
    {
     "data": {
      "text/plain": [
       "Text(0, 0.5, 'y_pred_test')"
      ]
     },
     "execution_count": 295,
     "metadata": {},
     "output_type": "execute_result"
    },
    {
     "data": {
      "image/png": "[encoded data removed]",
      "text/plain": [
       "<Figure size 432x288 with 1 Axes>"
      ]
     },
     "metadata": {
      "needs_background": "light"
     },
     "output_type": "display_data"
    }
   ],
   "source": [
    "plt.scatter(y_test, y_pred_test, alpha=0.3)\n",
    "plt.xlabel('y_test')\n",
    "plt.ylabel('y_pred_test')"
   ]
  },
  {
   "cell_type": "code",
   "execution_count": 296,
   "id": "3191bdca",
   "metadata": {
    "ExecuteTime": {
     "end_time": "2022-06-30T22:21:07.430998Z",
     "start_time": "2022-06-30T22:21:07.421355Z"
    }
   },
   "outputs": [
    {
     "name": "stdout",
     "output_type": "stream",
     "text": [
      "test MAE: 1.11e+01\n",
      "test MSE: 2.02e+02\n",
      "test R2: 0.198\n"
     ]
    }
   ],
   "source": [
    "print('test MAE: {0:.2e}'.format(mean_absolute_error(y_test, y_pred_test)))\n",
    "print('test MSE: {0:.2e}'.format(mean_squared_error(y_test, y_pred_test)))\n",
    "print('test R2: {0:.3f}'.format(r2_score(y_test, y_pred_test)))"
   ]
  },
  {
   "cell_type": "markdown",
   "id": "1a17cad9",
   "metadata": {},
   "source": [
    "### Poly + Lasso"
   ]
  },
  {
   "cell_type": "code",
   "execution_count": 297,
   "id": "ade60f94",
   "metadata": {
    "ExecuteTime": {
     "end_time": "2022-06-30T22:21:19.375984Z",
     "start_time": "2022-06-30T22:21:19.372555Z"
    }
   },
   "outputs": [],
   "source": [
    "#Poly + Lasso\n",
    "from sklearn.linear_model import Lasso\n",
    "from sklearn.model_selection import GridSearchCV\n",
    "from numpy import arange\n",
    "from sklearn.model_selection import RepeatedKFold\n",
    "import numpy as np"
   ]
  },
  {
   "cell_type": "code",
   "execution_count": 298,
   "id": "ccebd058",
   "metadata": {
    "ExecuteTime": {
     "end_time": "2022-06-30T22:21:26.480562Z",
     "start_time": "2022-06-30T22:21:26.476830Z"
    },
    "run_control": {
     "marked": false
    }
   },
   "outputs": [],
   "source": [
    "steps = [('scaler',MinMaxScaler()),('lasso', Lasso(max_iter=100000))]\n",
    "pipeline = Pipeline(steps)"
   ]
  },
  {
   "cell_type": "code",
   "execution_count": 305,
   "id": "2f83cc80",
   "metadata": {
    "ExecuteTime": {
     "end_time": "2022-06-30T22:22:32.421014Z",
     "start_time": "2022-06-30T22:22:32.417322Z"
    }
   },
   "outputs": [],
   "source": [
    "model = GridSearchCV(pipeline,\n",
    "                      {'lasso__alpha':np.arange(0.001,0.1,0.001)},\n",
    "                      cv = 5, scoring=\"neg_mean_squared_error\",verbose=10\n",
    "                      )"
   ]
  },
  {
   "cell_type": "code",
   "execution_count": 306,
   "id": "d23c38bc",
   "metadata": {
    "ExecuteTime": {
     "end_time": "2022-06-30T22:22:42.234076Z",
     "start_time": "2022-06-30T22:22:33.510624Z"
    }
   },
   "outputs": [
    {
     "name": "stdout",
     "output_type": "stream",
     "text": [
      "Fitting 5 folds for each of 99 candidates, totalling 495 fits\n",
      "[CV 1/5; 1/99] START lasso__alpha=0.001.........................................\n",
      "[CV 1/5; 1/99] END .......lasso__alpha=0.001;, score=-230.157 total time=   0.0s\n",
      "[CV 2/5; 1/99] START lasso__alpha=0.001.........................................\n",
      "[CV 2/5; 1/99] END .......lasso__alpha=0.001;, score=-226.185 total time=   0.0s\n",
      "[CV 3/5; 1/99] START lasso__alpha=0.001.........................................\n",
      "[CV 3/5; 1/99] END .......lasso__alpha=0.001;, score=-225.220 total time=   0.0s\n",
      "[CV 4/5; 1/99] START lasso__alpha=0.001.........................................\n",
      "[CV 4/5; 1/99] END .......lasso__alpha=0.001;, score=-235.991 total time=   0.0s\n",
      "[CV 5/5; 1/99] START lasso__alpha=0.001.........................................\n",
      "[CV 5/5; 1/99] END .......lasso__alpha=0.001;, score=-229.342 total time=   0.0s\n",
      "[CV 1/5; 2/99] START lasso__alpha=0.002.........................................\n",
      "[CV 1/5; 2/99] END .......lasso__alpha=0.002;, score=-230.238 total time=   0.0s\n",
      "[CV 2/5; 2/99] START lasso__alpha=0.002.........................................\n",
      "[CV 2/5; 2/99] END .......lasso__alpha=0.002;, score=-226.509 total time=   0.0s\n",
      "[CV 3/5; 2/99] START lasso__alpha=0.002.........................................\n",
      "[CV 3/5; 2/99] END .......lasso__alpha=0.002;, score=-224.385 total time=   0.0s\n",
      "[CV 4/5; 2/99] START lasso__alpha=0.002.........................................\n",
      "[CV 4/5; 2/99] END .......lasso__alpha=0.002;, score=-236.105 total time=   0.0s\n",
      "[CV 5/5; 2/99] START lasso__alpha=0.002.........................................\n",
      "[CV 5/5; 2/99] END .......lasso__alpha=0.002;, score=-229.364 total time=   0.0s\n",
      "[CV 1/5; 3/99] START lasso__alpha=0.003.........................................\n",
      "[CV 1/5; 3/99] END .......lasso__alpha=0.003;, score=-230.321 total time=   0.0s\n",
      "[CV 2/5; 3/99] START lasso__alpha=0.003.........................................\n",
      "[CV 2/5; 3/99] END .......lasso__alpha=0.003;, score=-226.603 total time=   0.0s\n",
      "[CV 3/5; 3/99] START lasso__alpha=0.003.........................................\n",
      "[CV 3/5; 3/99] END .......lasso__alpha=0.003;, score=-224.415 total time=   0.0s\n",
      "[CV 4/5; 3/99] START lasso__alpha=0.003.........................................\n",
      "[CV 4/5; 3/99] END .......lasso__alpha=0.003;, score=-236.202 total time=   0.0s\n",
      "[CV 5/5; 3/99] START lasso__alpha=0.003.........................................\n",
      "[CV 5/5; 3/99] END .......lasso__alpha=0.003;, score=-229.416 total time=   0.0s\n",
      "[CV 1/5; 4/99] START lasso__alpha=0.004.........................................\n",
      "[CV 1/5; 4/99] END .......lasso__alpha=0.004;, score=-230.372 total time=   0.0s\n",
      "[CV 2/5; 4/99] START lasso__alpha=0.004.........................................\n",
      "[CV 2/5; 4/99] END .......lasso__alpha=0.004;, score=-226.578 total time=   0.0s\n",
      "[CV 3/5; 4/99] START lasso__alpha=0.004.........................................\n",
      "[CV 3/5; 4/99] END .......lasso__alpha=0.004;, score=-224.473 total time=   0.0s\n",
      "[CV 4/5; 4/99] START lasso__alpha=0.004.........................................\n",
      "[CV 4/5; 4/99] END .......lasso__alpha=0.004;, score=-236.260 total time=   0.0s\n",
      "[CV 5/5; 4/99] START lasso__alpha=0.004.........................................\n",
      "[CV 5/5; 4/99] END .......lasso__alpha=0.004;, score=-229.461 total time=   0.0s\n",
      "[CV 1/5; 5/99] START lasso__alpha=0.005.........................................\n",
      "[CV 1/5; 5/99] END .......lasso__alpha=0.005;, score=-230.433 total time=   0.0s\n",
      "[CV 2/5; 5/99] START lasso__alpha=0.005.........................................\n",
      "[CV 2/5; 5/99] END .......lasso__alpha=0.005;, score=-226.567 total time=   0.0s\n",
      "[CV 3/5; 5/99] START lasso__alpha=0.005.........................................\n",
      "[CV 3/5; 5/99] END .......lasso__alpha=0.005;, score=-224.523 total time=   0.0s\n",
      "[CV 4/5; 5/99] START lasso__alpha=0.005.........................................\n",
      "[CV 4/5; 5/99] END .......lasso__alpha=0.005;, score=-236.286 total time=   0.0s\n",
      "[CV 5/5; 5/99] START lasso__alpha=0.005.........................................\n",
      "[CV 5/5; 5/99] END .......lasso__alpha=0.005;, score=-229.476 total time=   0.0s\n",
      "[CV 1/5; 6/99] START lasso__alpha=0.006.........................................\n",
      "[CV 1/5; 6/99] END .......lasso__alpha=0.006;, score=-230.473 total time=   0.0s\n",
      "[CV 2/5; 6/99] START lasso__alpha=0.006.........................................\n",
      "[CV 2/5; 6/99] END .......lasso__alpha=0.006;, score=-226.545 total time=   0.0s\n",
      "[CV 3/5; 6/99] START lasso__alpha=0.006.........................................\n",
      "[CV 3/5; 6/99] END .......lasso__alpha=0.006;, score=-224.555 total time=   0.0s\n",
      "[CV 4/5; 6/99] START lasso__alpha=0.006.........................................\n",
      "[CV 4/5; 6/99] END .......lasso__alpha=0.006;, score=-236.302 total time=   0.0s\n",
      "[CV 5/5; 6/99] START lasso__alpha=0.006.........................................\n",
      "[CV 5/5; 6/99] END .......lasso__alpha=0.006;, score=-229.480 total time=   0.0s\n",
      "[CV 1/5; 7/99] START lasso__alpha=0.007.........................................\n",
      "[CV 1/5; 7/99] END .......lasso__alpha=0.007;, score=-230.516 total time=   0.0s\n",
      "[CV 2/5; 7/99] START lasso__alpha=0.007.........................................\n",
      "[CV 2/5; 7/99] END .......lasso__alpha=0.007;, score=-226.514 total time=   0.0s\n",
      "[CV 3/5; 7/99] START lasso__alpha=0.007.........................................\n",
      "[CV 3/5; 7/99] END .......lasso__alpha=0.007;, score=-224.590 total time=   0.0s\n",
      "[CV 4/5; 7/99] START lasso__alpha=0.007.........................................\n",
      "[CV 4/5; 7/99] END .......lasso__alpha=0.007;, score=-236.319 total time=   0.0s\n",
      "[CV 5/5; 7/99] START lasso__alpha=0.007.........................................\n",
      "[CV 5/5; 7/99] END .......lasso__alpha=0.007;, score=-229.486 total time=   0.0s\n",
      "[CV 1/5; 8/99] START lasso__alpha=0.008.........................................\n",
      "[CV 1/5; 8/99] END .......lasso__alpha=0.008;, score=-230.561 total time=   0.0s\n",
      "[CV 2/5; 8/99] START lasso__alpha=0.008.........................................\n",
      "[CV 2/5; 8/99] END .......lasso__alpha=0.008;, score=-226.485 total time=   0.0s\n",
      "[CV 3/5; 8/99] START lasso__alpha=0.008.........................................\n",
      "[CV 3/5; 8/99] END .......lasso__alpha=0.008;, score=-224.627 total time=   0.0s\n",
      "[CV 4/5; 8/99] START lasso__alpha=0.008.........................................\n",
      "[CV 4/5; 8/99] END .......lasso__alpha=0.008;, score=-236.339 total time=   0.0s\n",
      "[CV 5/5; 8/99] START lasso__alpha=0.008.........................................\n",
      "[CV 5/5; 8/99] END .......lasso__alpha=0.008;, score=-229.494 total time=   0.0s\n",
      "[CV 1/5; 9/99] START lasso__alpha=0.009000000000000001..........................\n",
      "[CV 1/5; 9/99] END lasso__alpha=0.009000000000000001;, score=-230.607 total time=   0.0s\n",
      "[CV 2/5; 9/99] START lasso__alpha=0.009000000000000001..........................\n",
      "[CV 2/5; 9/99] END lasso__alpha=0.009000000000000001;, score=-226.457 total time=   0.0s\n",
      "[CV 3/5; 9/99] START lasso__alpha=0.009000000000000001..........................\n",
      "[CV 3/5; 9/99] END lasso__alpha=0.009000000000000001;, score=-224.666 total time=   0.0s\n",
      "[CV 4/5; 9/99] START lasso__alpha=0.009000000000000001..........................\n",
      "[CV 4/5; 9/99] END lasso__alpha=0.009000000000000001;, score=-236.361 total time=   0.0s\n",
      "[CV 5/5; 9/99] START lasso__alpha=0.009000000000000001..........................\n",
      "[CV 5/5; 9/99] END lasso__alpha=0.009000000000000001;, score=-229.505 total time=   0.0s\n",
      "[CV 1/5; 10/99] START lasso__alpha=0.010000000000000002.........................\n",
      "[CV 1/5; 10/99] END lasso__alpha=0.010000000000000002;, score=-230.656 total time=   0.0s\n",
      "[CV 2/5; 10/99] START lasso__alpha=0.010000000000000002.........................\n",
      "[CV 2/5; 10/99] END lasso__alpha=0.010000000000000002;, score=-226.432 total time=   0.0s\n",
      "[CV 3/5; 10/99] START lasso__alpha=0.010000000000000002.........................\n",
      "[CV 3/5; 10/99] END lasso__alpha=0.010000000000000002;, score=-224.708 total time=   0.0s\n",
      "[CV 4/5; 10/99] START lasso__alpha=0.010000000000000002.........................\n",
      "[CV 4/5; 10/99] END lasso__alpha=0.010000000000000002;, score=-236.385 total time=   0.0s\n",
      "[CV 5/5; 10/99] START lasso__alpha=0.010000000000000002.........................\n",
      "[CV 5/5; 10/99] END lasso__alpha=0.010000000000000002;, score=-229.518 total time=   0.0s\n",
      "[CV 1/5; 11/99] START lasso__alpha=0.011........................................\n",
      "[CV 1/5; 11/99] END ......lasso__alpha=0.011;, score=-230.707 total time=   0.0s\n",
      "[CV 2/5; 11/99] START lasso__alpha=0.011........................................\n",
      "[CV 2/5; 11/99] END ......lasso__alpha=0.011;, score=-226.411 total time=   0.0s\n",
      "[CV 3/5; 11/99] START lasso__alpha=0.011........................................\n",
      "[CV 3/5; 11/99] END ......lasso__alpha=0.011;, score=-224.752 total time=   0.0s\n",
      "[CV 4/5; 11/99] START lasso__alpha=0.011........................................\n",
      "[CV 4/5; 11/99] END ......lasso__alpha=0.011;, score=-236.411 total time=   0.0s\n",
      "[CV 5/5; 11/99] START lasso__alpha=0.011........................................\n"
     ]
    },
    {
     "name": "stdout",
     "output_type": "stream",
     "text": [
      "[CV 5/5; 11/99] END ......lasso__alpha=0.011;, score=-229.533 total time=   0.0s\n",
      "[CV 1/5; 12/99] START lasso__alpha=0.012........................................\n",
      "[CV 1/5; 12/99] END ......lasso__alpha=0.012;, score=-230.760 total time=   0.0s\n",
      "[CV 2/5; 12/99] START lasso__alpha=0.012........................................\n",
      "[CV 2/5; 12/99] END ......lasso__alpha=0.012;, score=-226.391 total time=   0.0s\n",
      "[CV 3/5; 12/99] START lasso__alpha=0.012........................................\n",
      "[CV 3/5; 12/99] END ......lasso__alpha=0.012;, score=-224.798 total time=   0.0s\n",
      "[CV 4/5; 12/99] START lasso__alpha=0.012........................................\n",
      "[CV 4/5; 12/99] END ......lasso__alpha=0.012;, score=-236.438 total time=   0.0s\n",
      "[CV 5/5; 12/99] START lasso__alpha=0.012........................................\n",
      "[CV 5/5; 12/99] END ......lasso__alpha=0.012;, score=-229.550 total time=   0.0s\n",
      "[CV 1/5; 13/99] START lasso__alpha=0.013000000000000001.........................\n",
      "[CV 1/5; 13/99] END lasso__alpha=0.013000000000000001;, score=-230.815 total time=   0.0s\n",
      "[CV 2/5; 13/99] START lasso__alpha=0.013000000000000001.........................\n",
      "[CV 2/5; 13/99] END lasso__alpha=0.013000000000000001;, score=-226.373 total time=   0.0s\n",
      "[CV 3/5; 13/99] START lasso__alpha=0.013000000000000001.........................\n",
      "[CV 3/5; 13/99] END lasso__alpha=0.013000000000000001;, score=-224.847 total time=   0.0s\n",
      "[CV 4/5; 13/99] START lasso__alpha=0.013000000000000001.........................\n",
      "[CV 4/5; 13/99] END lasso__alpha=0.013000000000000001;, score=-236.468 total time=   0.0s\n",
      "[CV 5/5; 13/99] START lasso__alpha=0.013000000000000001.........................\n",
      "[CV 5/5; 13/99] END lasso__alpha=0.013000000000000001;, score=-229.569 total time=   0.0s\n",
      "[CV 1/5; 14/99] START lasso__alpha=0.014000000000000002.........................\n",
      "[CV 1/5; 14/99] END lasso__alpha=0.014000000000000002;, score=-230.872 total time=   0.0s\n",
      "[CV 2/5; 14/99] START lasso__alpha=0.014000000000000002.........................\n",
      "[CV 2/5; 14/99] END lasso__alpha=0.014000000000000002;, score=-226.356 total time=   0.0s\n",
      "[CV 3/5; 14/99] START lasso__alpha=0.014000000000000002.........................\n",
      "[CV 3/5; 14/99] END lasso__alpha=0.014000000000000002;, score=-224.898 total time=   0.0s\n",
      "[CV 4/5; 14/99] START lasso__alpha=0.014000000000000002.........................\n",
      "[CV 4/5; 14/99] END lasso__alpha=0.014000000000000002;, score=-236.500 total time=   0.0s\n",
      "[CV 5/5; 14/99] START lasso__alpha=0.014000000000000002.........................\n",
      "[CV 5/5; 14/99] END lasso__alpha=0.014000000000000002;, score=-229.590 total time=   0.0s\n",
      "[CV 1/5; 15/99] START lasso__alpha=0.015........................................\n",
      "[CV 1/5; 15/99] END ......lasso__alpha=0.015;, score=-230.931 total time=   0.0s\n",
      "[CV 2/5; 15/99] START lasso__alpha=0.015........................................\n",
      "[CV 2/5; 15/99] END ......lasso__alpha=0.015;, score=-226.341 total time=   0.0s\n",
      "[CV 3/5; 15/99] START lasso__alpha=0.015........................................\n",
      "[CV 3/5; 15/99] END ......lasso__alpha=0.015;, score=-224.951 total time=   0.0s\n",
      "[CV 4/5; 15/99] START lasso__alpha=0.015........................................\n",
      "[CV 4/5; 15/99] END ......lasso__alpha=0.015;, score=-236.534 total time=   0.0s\n",
      "[CV 5/5; 15/99] START lasso__alpha=0.015........................................\n",
      "[CV 5/5; 15/99] END ......lasso__alpha=0.015;, score=-229.614 total time=   0.0s\n",
      "[CV 1/5; 16/99] START lasso__alpha=0.016........................................\n",
      "[CV 1/5; 16/99] END ......lasso__alpha=0.016;, score=-230.991 total time=   0.0s\n",
      "[CV 2/5; 16/99] START lasso__alpha=0.016........................................\n",
      "[CV 2/5; 16/99] END ......lasso__alpha=0.016;, score=-226.326 total time=   0.0s\n",
      "[CV 3/5; 16/99] START lasso__alpha=0.016........................................\n",
      "[CV 3/5; 16/99] END ......lasso__alpha=0.016;, score=-225.006 total time=   0.0s\n",
      "[CV 4/5; 16/99] START lasso__alpha=0.016........................................\n",
      "[CV 4/5; 16/99] END ......lasso__alpha=0.016;, score=-236.570 total time=   0.0s\n",
      "[CV 5/5; 16/99] START lasso__alpha=0.016........................................\n",
      "[CV 5/5; 16/99] END ......lasso__alpha=0.016;, score=-229.640 total time=   0.0s\n",
      "[CV 1/5; 17/99] START lasso__alpha=0.017........................................\n",
      "[CV 1/5; 17/99] END ......lasso__alpha=0.017;, score=-231.054 total time=   0.0s\n",
      "[CV 2/5; 17/99] START lasso__alpha=0.017........................................\n",
      "[CV 2/5; 17/99] END ......lasso__alpha=0.017;, score=-226.314 total time=   0.0s\n",
      "[CV 3/5; 17/99] START lasso__alpha=0.017........................................\n",
      "[CV 3/5; 17/99] END ......lasso__alpha=0.017;, score=-225.064 total time=   0.0s\n",
      "[CV 4/5; 17/99] START lasso__alpha=0.017........................................\n",
      "[CV 4/5; 17/99] END ......lasso__alpha=0.017;, score=-236.608 total time=   0.0s\n",
      "[CV 5/5; 17/99] START lasso__alpha=0.017........................................\n",
      "[CV 5/5; 17/99] END ......lasso__alpha=0.017;, score=-229.667 total time=   0.0s\n",
      "[CV 1/5; 18/99] START lasso__alpha=0.018000000000000002.........................\n",
      "[CV 1/5; 18/99] END lasso__alpha=0.018000000000000002;, score=-231.119 total time=   0.0s\n",
      "[CV 2/5; 18/99] START lasso__alpha=0.018000000000000002.........................\n",
      "[CV 2/5; 18/99] END lasso__alpha=0.018000000000000002;, score=-226.302 total time=   0.0s\n",
      "[CV 3/5; 18/99] START lasso__alpha=0.018000000000000002.........................\n",
      "[CV 3/5; 18/99] END lasso__alpha=0.018000000000000002;, score=-225.125 total time=   0.0s\n",
      "[CV 4/5; 18/99] START lasso__alpha=0.018000000000000002.........................\n",
      "[CV 4/5; 18/99] END lasso__alpha=0.018000000000000002;, score=-236.648 total time=   0.0s\n",
      "[CV 5/5; 18/99] START lasso__alpha=0.018000000000000002.........................\n",
      "[CV 5/5; 18/99] END lasso__alpha=0.018000000000000002;, score=-229.697 total time=   0.0s\n",
      "[CV 1/5; 19/99] START lasso__alpha=0.019000000000000003.........................\n",
      "[CV 1/5; 19/99] END lasso__alpha=0.019000000000000003;, score=-231.186 total time=   0.0s\n",
      "[CV 2/5; 19/99] START lasso__alpha=0.019000000000000003.........................\n",
      "[CV 2/5; 19/99] END lasso__alpha=0.019000000000000003;, score=-226.292 total time=   0.0s\n",
      "[CV 3/5; 19/99] START lasso__alpha=0.019000000000000003.........................\n",
      "[CV 3/5; 19/99] END lasso__alpha=0.019000000000000003;, score=-225.188 total time=   0.0s\n",
      "[CV 4/5; 19/99] START lasso__alpha=0.019000000000000003.........................\n",
      "[CV 4/5; 19/99] END lasso__alpha=0.019000000000000003;, score=-236.690 total time=   0.0s\n",
      "[CV 5/5; 19/99] START lasso__alpha=0.019000000000000003.........................\n",
      "[CV 5/5; 19/99] END lasso__alpha=0.019000000000000003;, score=-229.729 total time=   0.0s\n",
      "[CV 1/5; 20/99] START lasso__alpha=0.02.........................................\n",
      "[CV 1/5; 20/99] END .......lasso__alpha=0.02;, score=-231.255 total time=   0.0s\n",
      "[CV 2/5; 20/99] START lasso__alpha=0.02.........................................\n",
      "[CV 2/5; 20/99] END .......lasso__alpha=0.02;, score=-226.283 total time=   0.0s\n",
      "[CV 3/5; 20/99] START lasso__alpha=0.02.........................................\n",
      "[CV 3/5; 20/99] END .......lasso__alpha=0.02;, score=-225.253 total time=   0.0s\n",
      "[CV 4/5; 20/99] START lasso__alpha=0.02.........................................\n",
      "[CV 4/5; 20/99] END .......lasso__alpha=0.02;, score=-236.734 total time=   0.0s\n",
      "[CV 5/5; 20/99] START lasso__alpha=0.02.........................................\n",
      "[CV 5/5; 20/99] END .......lasso__alpha=0.02;, score=-229.764 total time=   0.0s\n",
      "[CV 1/5; 21/99] START lasso__alpha=0.021........................................\n",
      "[CV 1/5; 21/99] END ......lasso__alpha=0.021;, score=-231.326 total time=   0.0s\n",
      "[CV 2/5; 21/99] START lasso__alpha=0.021........................................\n",
      "[CV 2/5; 21/99] END ......lasso__alpha=0.021;, score=-226.276 total time=   0.0s\n",
      "[CV 3/5; 21/99] START lasso__alpha=0.021........................................\n",
      "[CV 3/5; 21/99] END ......lasso__alpha=0.021;, score=-225.320 total time=   0.0s\n",
      "[CV 4/5; 21/99] START lasso__alpha=0.021........................................\n",
      "[CV 4/5; 21/99] END ......lasso__alpha=0.021;, score=-236.780 total time=   0.0s\n",
      "[CV 5/5; 21/99] START lasso__alpha=0.021........................................\n",
      "[CV 5/5; 21/99] END ......lasso__alpha=0.021;, score=-229.800 total time=   0.0s\n",
      "[CV 1/5; 22/99] START lasso__alpha=0.022000000000000002.........................\n",
      "[CV 1/5; 22/99] END lasso__alpha=0.022000000000000002;, score=-231.399 total time=   0.0s\n",
      "[CV 2/5; 22/99] START lasso__alpha=0.022000000000000002.........................\n",
      "[CV 2/5; 22/99] END lasso__alpha=0.022000000000000002;, score=-226.270 total time=   0.0s\n",
      "[CV 3/5; 22/99] START lasso__alpha=0.022000000000000002.........................\n",
      "[CV 3/5; 22/99] END lasso__alpha=0.022000000000000002;, score=-225.390 total time=   0.0s\n",
      "[CV 4/5; 22/99] START lasso__alpha=0.022000000000000002.........................\n",
      "[CV 4/5; 22/99] END lasso__alpha=0.022000000000000002;, score=-236.828 total time=   0.0s\n",
      "[CV 5/5; 22/99] START lasso__alpha=0.022000000000000002.........................\n"
     ]
    },
    {
     "name": "stdout",
     "output_type": "stream",
     "text": [
      "[CV 5/5; 22/99] END lasso__alpha=0.022000000000000002;, score=-229.839 total time=   0.0s\n",
      "[CV 1/5; 23/99] START lasso__alpha=0.023........................................\n",
      "[CV 1/5; 23/99] END ......lasso__alpha=0.023;, score=-231.475 total time=   0.0s\n",
      "[CV 2/5; 23/99] START lasso__alpha=0.023........................................\n",
      "[CV 2/5; 23/99] END ......lasso__alpha=0.023;, score=-226.265 total time=   0.0s\n",
      "[CV 3/5; 23/99] START lasso__alpha=0.023........................................\n",
      "[CV 3/5; 23/99] END ......lasso__alpha=0.023;, score=-225.462 total time=   0.0s\n",
      "[CV 4/5; 23/99] START lasso__alpha=0.023........................................\n",
      "[CV 4/5; 23/99] END ......lasso__alpha=0.023;, score=-236.879 total time=   0.0s\n",
      "[CV 5/5; 23/99] START lasso__alpha=0.023........................................\n",
      "[CV 5/5; 23/99] END ......lasso__alpha=0.023;, score=-229.879 total time=   0.0s\n",
      "[CV 1/5; 24/99] START lasso__alpha=0.024........................................\n",
      "[CV 1/5; 24/99] END ......lasso__alpha=0.024;, score=-231.552 total time=   0.0s\n",
      "[CV 2/5; 24/99] START lasso__alpha=0.024........................................\n",
      "[CV 2/5; 24/99] END ......lasso__alpha=0.024;, score=-226.262 total time=   0.0s\n",
      "[CV 3/5; 24/99] START lasso__alpha=0.024........................................\n",
      "[CV 3/5; 24/99] END ......lasso__alpha=0.024;, score=-225.536 total time=   0.0s\n",
      "[CV 4/5; 24/99] START lasso__alpha=0.024........................................\n",
      "[CV 4/5; 24/99] END ......lasso__alpha=0.024;, score=-236.931 total time=   0.0s\n",
      "[CV 5/5; 24/99] START lasso__alpha=0.024........................................\n",
      "[CV 5/5; 24/99] END ......lasso__alpha=0.024;, score=-229.922 total time=   0.0s\n",
      "[CV 1/5; 25/99] START lasso__alpha=0.025........................................\n",
      "[CV 1/5; 25/99] END ......lasso__alpha=0.025;, score=-231.631 total time=   0.0s\n",
      "[CV 2/5; 25/99] START lasso__alpha=0.025........................................\n",
      "[CV 2/5; 25/99] END ......lasso__alpha=0.025;, score=-226.260 total time=   0.0s\n",
      "[CV 3/5; 25/99] START lasso__alpha=0.025........................................\n",
      "[CV 3/5; 25/99] END ......lasso__alpha=0.025;, score=-225.613 total time=   0.0s\n",
      "[CV 4/5; 25/99] START lasso__alpha=0.025........................................\n",
      "[CV 4/5; 25/99] END ......lasso__alpha=0.025;, score=-236.985 total time=   0.0s\n",
      "[CV 5/5; 25/99] START lasso__alpha=0.025........................................\n",
      "[CV 5/5; 25/99] END ......lasso__alpha=0.025;, score=-229.967 total time=   0.0s\n",
      "[CV 1/5; 26/99] START lasso__alpha=0.026000000000000002.........................\n",
      "[CV 1/5; 26/99] END lasso__alpha=0.026000000000000002;, score=-231.712 total time=   0.0s\n",
      "[CV 2/5; 26/99] START lasso__alpha=0.026000000000000002.........................\n",
      "[CV 2/5; 26/99] END lasso__alpha=0.026000000000000002;, score=-226.259 total time=   0.0s\n",
      "[CV 3/5; 26/99] START lasso__alpha=0.026000000000000002.........................\n",
      "[CV 3/5; 26/99] END lasso__alpha=0.026000000000000002;, score=-225.685 total time=   0.0s\n",
      "[CV 4/5; 26/99] START lasso__alpha=0.026000000000000002.........................\n",
      "[CV 4/5; 26/99] END lasso__alpha=0.026000000000000002;, score=-237.041 total time=   0.0s\n",
      "[CV 5/5; 26/99] START lasso__alpha=0.026000000000000002.........................\n",
      "[CV 5/5; 26/99] END lasso__alpha=0.026000000000000002;, score=-230.014 total time=   0.0s\n",
      "[CV 1/5; 27/99] START lasso__alpha=0.027000000000000003.........................\n",
      "[CV 1/5; 27/99] END lasso__alpha=0.027000000000000003;, score=-231.795 total time=   0.0s\n",
      "[CV 2/5; 27/99] START lasso__alpha=0.027000000000000003.........................\n",
      "[CV 2/5; 27/99] END lasso__alpha=0.027000000000000003;, score=-226.260 total time=   0.0s\n",
      "[CV 3/5; 27/99] START lasso__alpha=0.027000000000000003.........................\n",
      "[CV 3/5; 27/99] END lasso__alpha=0.027000000000000003;, score=-225.724 total time=   0.0s\n",
      "[CV 4/5; 27/99] START lasso__alpha=0.027000000000000003.........................\n",
      "[CV 4/5; 27/99] END lasso__alpha=0.027000000000000003;, score=-237.099 total time=   0.0s\n",
      "[CV 5/5; 27/99] START lasso__alpha=0.027000000000000003.........................\n",
      "[CV 5/5; 27/99] END lasso__alpha=0.027000000000000003;, score=-230.063 total time=   0.0s\n",
      "[CV 1/5; 28/99] START lasso__alpha=0.028........................................\n",
      "[CV 1/5; 28/99] END ......lasso__alpha=0.028;, score=-231.873 total time=   0.0s\n",
      "[CV 2/5; 28/99] START lasso__alpha=0.028........................................\n",
      "[CV 2/5; 28/99] END ......lasso__alpha=0.028;, score=-226.262 total time=   0.0s\n",
      "[CV 3/5; 28/99] START lasso__alpha=0.028........................................\n",
      "[CV 3/5; 28/99] END ......lasso__alpha=0.028;, score=-225.765 total time=   0.0s\n",
      "[CV 4/5; 28/99] START lasso__alpha=0.028........................................\n",
      "[CV 4/5; 28/99] END ......lasso__alpha=0.028;, score=-237.160 total time=   0.0s\n",
      "[CV 5/5; 28/99] START lasso__alpha=0.028........................................\n",
      "[CV 5/5; 28/99] END ......lasso__alpha=0.028;, score=-230.115 total time=   0.0s\n",
      "[CV 1/5; 29/99] START lasso__alpha=0.029........................................\n",
      "[CV 1/5; 29/99] END ......lasso__alpha=0.029;, score=-231.927 total time=   0.0s\n",
      "[CV 2/5; 29/99] START lasso__alpha=0.029........................................\n",
      "[CV 2/5; 29/99] END ......lasso__alpha=0.029;, score=-226.265 total time=   0.0s\n",
      "[CV 3/5; 29/99] START lasso__alpha=0.029........................................\n",
      "[CV 3/5; 29/99] END ......lasso__alpha=0.029;, score=-225.807 total time=   0.0s\n",
      "[CV 4/5; 29/99] START lasso__alpha=0.029........................................\n",
      "[CV 4/5; 29/99] END ......lasso__alpha=0.029;, score=-237.213 total time=   0.0s\n",
      "[CV 5/5; 29/99] START lasso__alpha=0.029........................................\n",
      "[CV 5/5; 29/99] END ......lasso__alpha=0.029;, score=-230.168 total time=   0.0s\n",
      "[CV 1/5; 30/99] START lasso__alpha=0.030000000000000002.........................\n",
      "[CV 1/5; 30/99] END lasso__alpha=0.030000000000000002;, score=-231.982 total time=   0.0s\n",
      "[CV 2/5; 30/99] START lasso__alpha=0.030000000000000002.........................\n",
      "[CV 2/5; 30/99] END lasso__alpha=0.030000000000000002;, score=-226.270 total time=   0.0s\n",
      "[CV 3/5; 30/99] START lasso__alpha=0.030000000000000002.........................\n",
      "[CV 3/5; 30/99] END lasso__alpha=0.030000000000000002;, score=-225.850 total time=   0.0s\n",
      "[CV 4/5; 30/99] START lasso__alpha=0.030000000000000002.........................\n",
      "[CV 4/5; 30/99] END lasso__alpha=0.030000000000000002;, score=-237.247 total time=   0.0s\n",
      "[CV 5/5; 30/99] START lasso__alpha=0.030000000000000002.........................\n",
      "[CV 5/5; 30/99] END lasso__alpha=0.030000000000000002;, score=-230.224 total time=   0.0s\n",
      "[CV 1/5; 31/99] START lasso__alpha=0.031........................................\n",
      "[CV 1/5; 31/99] END ......lasso__alpha=0.031;, score=-232.039 total time=   0.0s\n",
      "[CV 2/5; 31/99] START lasso__alpha=0.031........................................\n",
      "[CV 2/5; 31/99] END ......lasso__alpha=0.031;, score=-226.276 total time=   0.0s\n",
      "[CV 3/5; 31/99] START lasso__alpha=0.031........................................\n",
      "[CV 3/5; 31/99] END ......lasso__alpha=0.031;, score=-225.894 total time=   0.0s\n",
      "[CV 4/5; 31/99] START lasso__alpha=0.031........................................\n",
      "[CV 4/5; 31/99] END ......lasso__alpha=0.031;, score=-237.282 total time=   0.0s\n",
      "[CV 5/5; 31/99] START lasso__alpha=0.031........................................\n",
      "[CV 5/5; 31/99] END ......lasso__alpha=0.031;, score=-230.281 total time=   0.0s\n",
      "[CV 1/5; 32/99] START lasso__alpha=0.032........................................\n",
      "[CV 1/5; 32/99] END ......lasso__alpha=0.032;, score=-232.096 total time=   0.0s\n",
      "[CV 2/5; 32/99] START lasso__alpha=0.032........................................\n",
      "[CV 2/5; 32/99] END ......lasso__alpha=0.032;, score=-226.283 total time=   0.0s\n",
      "[CV 3/5; 32/99] START lasso__alpha=0.032........................................\n",
      "[CV 3/5; 32/99] END ......lasso__alpha=0.032;, score=-225.940 total time=   0.0s\n",
      "[CV 4/5; 32/99] START lasso__alpha=0.032........................................\n",
      "[CV 4/5; 32/99] END ......lasso__alpha=0.032;, score=-237.318 total time=   0.0s\n",
      "[CV 5/5; 32/99] START lasso__alpha=0.032........................................\n",
      "[CV 5/5; 32/99] END ......lasso__alpha=0.032;, score=-230.319 total time=   0.0s\n",
      "[CV 1/5; 33/99] START lasso__alpha=0.033........................................\n",
      "[CV 1/5; 33/99] END ......lasso__alpha=0.033;, score=-232.155 total time=   0.0s\n",
      "[CV 2/5; 33/99] START lasso__alpha=0.033........................................\n",
      "[CV 2/5; 33/99] END ......lasso__alpha=0.033;, score=-226.292 total time=   0.0s\n",
      "[CV 3/5; 33/99] START lasso__alpha=0.033........................................\n",
      "[CV 3/5; 33/99] END ......lasso__alpha=0.033;, score=-225.988 total time=   0.0s\n",
      "[CV 4/5; 33/99] START lasso__alpha=0.033........................................\n",
      "[CV 4/5; 33/99] END ......lasso__alpha=0.033;, score=-237.355 total time=   0.0s\n",
      "[CV 5/5; 33/99] START lasso__alpha=0.033........................................\n",
      "[CV 5/5; 33/99] END ......lasso__alpha=0.033;, score=-230.357 total time=   0.0s\n",
      "[CV 1/5; 34/99] START lasso__alpha=0.034........................................\n"
     ]
    },
    {
     "name": "stdout",
     "output_type": "stream",
     "text": [
      "[CV 1/5; 34/99] END ......lasso__alpha=0.034;, score=-232.215 total time=   0.0s\n",
      "[CV 2/5; 34/99] START lasso__alpha=0.034........................................\n",
      "[CV 2/5; 34/99] END ......lasso__alpha=0.034;, score=-226.302 total time=   0.0s\n",
      "[CV 3/5; 34/99] START lasso__alpha=0.034........................................\n",
      "[CV 3/5; 34/99] END ......lasso__alpha=0.034;, score=-226.036 total time=   0.0s\n",
      "[CV 4/5; 34/99] START lasso__alpha=0.034........................................\n",
      "[CV 4/5; 34/99] END ......lasso__alpha=0.034;, score=-237.393 total time=   0.0s\n",
      "[CV 5/5; 34/99] START lasso__alpha=0.034........................................\n",
      "[CV 5/5; 34/99] END ......lasso__alpha=0.034;, score=-230.397 total time=   0.0s\n",
      "[CV 1/5; 35/99] START lasso__alpha=0.035........................................\n",
      "[CV 1/5; 35/99] END ......lasso__alpha=0.035;, score=-232.277 total time=   0.0s\n",
      "[CV 2/5; 35/99] START lasso__alpha=0.035........................................\n",
      "[CV 2/5; 35/99] END ......lasso__alpha=0.035;, score=-226.313 total time=   0.0s\n",
      "[CV 3/5; 35/99] START lasso__alpha=0.035........................................\n",
      "[CV 3/5; 35/99] END ......lasso__alpha=0.035;, score=-226.086 total time=   0.0s\n",
      "[CV 4/5; 35/99] START lasso__alpha=0.035........................................\n",
      "[CV 4/5; 35/99] END ......lasso__alpha=0.035;, score=-237.433 total time=   0.0s\n",
      "[CV 5/5; 35/99] START lasso__alpha=0.035........................................\n",
      "[CV 5/5; 35/99] END ......lasso__alpha=0.035;, score=-230.438 total time=   0.0s\n",
      "[CV 1/5; 36/99] START lasso__alpha=0.036000000000000004.........................\n",
      "[CV 1/5; 36/99] END lasso__alpha=0.036000000000000004;, score=-232.339 total time=   0.0s\n",
      "[CV 2/5; 36/99] START lasso__alpha=0.036000000000000004.........................\n",
      "[CV 2/5; 36/99] END lasso__alpha=0.036000000000000004;, score=-226.324 total time=   0.0s\n",
      "[CV 3/5; 36/99] START lasso__alpha=0.036000000000000004.........................\n",
      "[CV 3/5; 36/99] END lasso__alpha=0.036000000000000004;, score=-226.137 total time=   0.0s\n",
      "[CV 4/5; 36/99] START lasso__alpha=0.036000000000000004.........................\n",
      "[CV 4/5; 36/99] END lasso__alpha=0.036000000000000004;, score=-237.474 total time=   0.0s\n",
      "[CV 5/5; 36/99] START lasso__alpha=0.036000000000000004.........................\n",
      "[CV 5/5; 36/99] END lasso__alpha=0.036000000000000004;, score=-230.480 total time=   0.0s\n",
      "[CV 1/5; 37/99] START lasso__alpha=0.037000000000000005.........................\n",
      "[CV 1/5; 37/99] END lasso__alpha=0.037000000000000005;, score=-232.403 total time=   0.0s\n",
      "[CV 2/5; 37/99] START lasso__alpha=0.037000000000000005.........................\n",
      "[CV 2/5; 37/99] END lasso__alpha=0.037000000000000005;, score=-226.330 total time=   0.0s\n",
      "[CV 3/5; 37/99] START lasso__alpha=0.037000000000000005.........................\n",
      "[CV 3/5; 37/99] END lasso__alpha=0.037000000000000005;, score=-226.189 total time=   0.0s\n",
      "[CV 4/5; 37/99] START lasso__alpha=0.037000000000000005.........................\n",
      "[CV 4/5; 37/99] END lasso__alpha=0.037000000000000005;, score=-237.515 total time=   0.0s\n",
      "[CV 5/5; 37/99] START lasso__alpha=0.037000000000000005.........................\n",
      "[CV 5/5; 37/99] END lasso__alpha=0.037000000000000005;, score=-230.524 total time=   0.0s\n",
      "[CV 1/5; 38/99] START lasso__alpha=0.038........................................\n",
      "[CV 1/5; 38/99] END ......lasso__alpha=0.038;, score=-232.467 total time=   0.0s\n",
      "[CV 2/5; 38/99] START lasso__alpha=0.038........................................\n",
      "[CV 2/5; 38/99] END ......lasso__alpha=0.038;, score=-226.337 total time=   0.0s\n",
      "[CV 3/5; 38/99] START lasso__alpha=0.038........................................\n",
      "[CV 3/5; 38/99] END ......lasso__alpha=0.038;, score=-226.243 total time=   0.0s\n",
      "[CV 4/5; 38/99] START lasso__alpha=0.038........................................\n",
      "[CV 4/5; 38/99] END ......lasso__alpha=0.038;, score=-237.559 total time=   0.0s\n",
      "[CV 5/5; 38/99] START lasso__alpha=0.038........................................\n",
      "[CV 5/5; 38/99] END ......lasso__alpha=0.038;, score=-230.569 total time=   0.0s\n",
      "[CV 1/5; 39/99] START lasso__alpha=0.039........................................\n",
      "[CV 1/5; 39/99] END ......lasso__alpha=0.039;, score=-232.534 total time=   0.0s\n",
      "[CV 2/5; 39/99] START lasso__alpha=0.039........................................\n",
      "[CV 2/5; 39/99] END ......lasso__alpha=0.039;, score=-226.344 total time=   0.0s\n",
      "[CV 3/5; 39/99] START lasso__alpha=0.039........................................\n",
      "[CV 3/5; 39/99] END ......lasso__alpha=0.039;, score=-226.298 total time=   0.0s\n",
      "[CV 4/5; 39/99] START lasso__alpha=0.039........................................\n",
      "[CV 4/5; 39/99] END ......lasso__alpha=0.039;, score=-237.603 total time=   0.0s\n",
      "[CV 5/5; 39/99] START lasso__alpha=0.039........................................\n",
      "[CV 5/5; 39/99] END ......lasso__alpha=0.039;, score=-230.615 total time=   0.0s\n",
      "[CV 1/5; 40/99] START lasso__alpha=0.04.........................................\n",
      "[CV 1/5; 40/99] END .......lasso__alpha=0.04;, score=-232.601 total time=   0.0s\n",
      "[CV 2/5; 40/99] START lasso__alpha=0.04.........................................\n",
      "[CV 2/5; 40/99] END .......lasso__alpha=0.04;, score=-226.352 total time=   0.0s\n",
      "[CV 3/5; 40/99] START lasso__alpha=0.04.........................................\n",
      "[CV 3/5; 40/99] END .......lasso__alpha=0.04;, score=-226.355 total time=   0.0s\n",
      "[CV 4/5; 40/99] START lasso__alpha=0.04.........................................\n",
      "[CV 4/5; 40/99] END .......lasso__alpha=0.04;, score=-237.648 total time=   0.0s\n",
      "[CV 5/5; 40/99] START lasso__alpha=0.04.........................................\n",
      "[CV 5/5; 40/99] END .......lasso__alpha=0.04;, score=-230.663 total time=   0.0s\n",
      "[CV 1/5; 41/99] START lasso__alpha=0.041........................................\n",
      "[CV 1/5; 41/99] END ......lasso__alpha=0.041;, score=-232.669 total time=   0.0s\n",
      "[CV 2/5; 41/99] START lasso__alpha=0.041........................................\n",
      "[CV 2/5; 41/99] END ......lasso__alpha=0.041;, score=-226.360 total time=   0.0s\n",
      "[CV 3/5; 41/99] START lasso__alpha=0.041........................................\n",
      "[CV 3/5; 41/99] END ......lasso__alpha=0.041;, score=-226.412 total time=   0.0s\n",
      "[CV 4/5; 41/99] START lasso__alpha=0.041........................................\n",
      "[CV 4/5; 41/99] END ......lasso__alpha=0.041;, score=-237.694 total time=   0.0s\n",
      "[CV 5/5; 41/99] START lasso__alpha=0.041........................................\n",
      "[CV 5/5; 41/99] END ......lasso__alpha=0.041;, score=-230.712 total time=   0.0s\n",
      "[CV 1/5; 42/99] START lasso__alpha=0.042........................................\n",
      "[CV 1/5; 42/99] END ......lasso__alpha=0.042;, score=-232.739 total time=   0.0s\n",
      "[CV 2/5; 42/99] START lasso__alpha=0.042........................................\n",
      "[CV 2/5; 42/99] END ......lasso__alpha=0.042;, score=-226.369 total time=   0.0s\n",
      "[CV 3/5; 42/99] START lasso__alpha=0.042........................................\n",
      "[CV 3/5; 42/99] END ......lasso__alpha=0.042;, score=-226.471 total time=   0.0s\n",
      "[CV 4/5; 42/99] START lasso__alpha=0.042........................................\n",
      "[CV 4/5; 42/99] END ......lasso__alpha=0.042;, score=-237.742 total time=   0.0s\n",
      "[CV 5/5; 42/99] START lasso__alpha=0.042........................................\n",
      "[CV 5/5; 42/99] END ......lasso__alpha=0.042;, score=-230.762 total time=   0.0s\n",
      "[CV 1/5; 43/99] START lasso__alpha=0.043000000000000003.........................\n",
      "[CV 1/5; 43/99] END lasso__alpha=0.043000000000000003;, score=-232.810 total time=   0.0s\n",
      "[CV 2/5; 43/99] START lasso__alpha=0.043000000000000003.........................\n",
      "[CV 2/5; 43/99] END lasso__alpha=0.043000000000000003;, score=-226.378 total time=   0.0s\n",
      "[CV 3/5; 43/99] START lasso__alpha=0.043000000000000003.........................\n",
      "[CV 3/5; 43/99] END lasso__alpha=0.043000000000000003;, score=-226.531 total time=   0.0s\n",
      "[CV 4/5; 43/99] START lasso__alpha=0.043000000000000003.........................\n",
      "[CV 4/5; 43/99] END lasso__alpha=0.043000000000000003;, score=-237.791 total time=   0.0s\n",
      "[CV 5/5; 43/99] START lasso__alpha=0.043000000000000003.........................\n",
      "[CV 5/5; 43/99] END lasso__alpha=0.043000000000000003;, score=-230.813 total time=   0.0s\n",
      "[CV 1/5; 44/99] START lasso__alpha=0.044000000000000004.........................\n",
      "[CV 1/5; 44/99] END lasso__alpha=0.044000000000000004;, score=-232.882 total time=   0.0s\n",
      "[CV 2/5; 44/99] START lasso__alpha=0.044000000000000004.........................\n",
      "[CV 2/5; 44/99] END lasso__alpha=0.044000000000000004;, score=-226.387 total time=   0.0s\n",
      "[CV 3/5; 44/99] START lasso__alpha=0.044000000000000004.........................\n",
      "[CV 3/5; 44/99] END lasso__alpha=0.044000000000000004;, score=-226.593 total time=   0.0s\n",
      "[CV 4/5; 44/99] START lasso__alpha=0.044000000000000004.........................\n",
      "[CV 4/5; 44/99] END lasso__alpha=0.044000000000000004;, score=-237.841 total time=   0.0s\n",
      "[CV 5/5; 44/99] START lasso__alpha=0.044000000000000004.........................\n",
      "[CV 5/5; 44/99] END lasso__alpha=0.044000000000000004;, score=-230.866 total time=   0.0s\n",
      "[CV 1/5; 45/99] START lasso__alpha=0.045........................................\n"
     ]
    },
    {
     "name": "stdout",
     "output_type": "stream",
     "text": [
      "[CV 1/5; 45/99] END ......lasso__alpha=0.045;, score=-232.955 total time=   0.0s\n",
      "[CV 2/5; 45/99] START lasso__alpha=0.045........................................\n",
      "[CV 2/5; 45/99] END ......lasso__alpha=0.045;, score=-226.397 total time=   0.0s\n",
      "[CV 3/5; 45/99] START lasso__alpha=0.045........................................\n",
      "[CV 3/5; 45/99] END ......lasso__alpha=0.045;, score=-226.656 total time=   0.0s\n",
      "[CV 4/5; 45/99] START lasso__alpha=0.045........................................\n",
      "[CV 4/5; 45/99] END ......lasso__alpha=0.045;, score=-237.892 total time=   0.0s\n",
      "[CV 5/5; 45/99] START lasso__alpha=0.045........................................\n",
      "[CV 5/5; 45/99] END ......lasso__alpha=0.045;, score=-230.920 total time=   0.0s\n",
      "[CV 1/5; 46/99] START lasso__alpha=0.046........................................\n",
      "[CV 1/5; 46/99] END ......lasso__alpha=0.046;, score=-233.030 total time=   0.0s\n",
      "[CV 2/5; 46/99] START lasso__alpha=0.046........................................\n",
      "[CV 2/5; 46/99] END ......lasso__alpha=0.046;, score=-226.408 total time=   0.0s\n",
      "[CV 3/5; 46/99] START lasso__alpha=0.046........................................\n",
      "[CV 3/5; 46/99] END ......lasso__alpha=0.046;, score=-226.720 total time=   0.0s\n",
      "[CV 4/5; 46/99] START lasso__alpha=0.046........................................\n",
      "[CV 4/5; 46/99] END ......lasso__alpha=0.046;, score=-237.944 total time=   0.0s\n",
      "[CV 5/5; 46/99] START lasso__alpha=0.046........................................\n",
      "[CV 5/5; 46/99] END ......lasso__alpha=0.046;, score=-230.975 total time=   0.0s\n",
      "[CV 1/5; 47/99] START lasso__alpha=0.047........................................\n",
      "[CV 1/5; 47/99] END ......lasso__alpha=0.047;, score=-233.106 total time=   0.0s\n",
      "[CV 2/5; 47/99] START lasso__alpha=0.047........................................\n",
      "[CV 2/5; 47/99] END ......lasso__alpha=0.047;, score=-226.419 total time=   0.0s\n",
      "[CV 3/5; 47/99] START lasso__alpha=0.047........................................\n",
      "[CV 3/5; 47/99] END ......lasso__alpha=0.047;, score=-226.786 total time=   0.0s\n",
      "[CV 4/5; 47/99] START lasso__alpha=0.047........................................\n",
      "[CV 4/5; 47/99] END ......lasso__alpha=0.047;, score=-237.998 total time=   0.0s\n",
      "[CV 5/5; 47/99] START lasso__alpha=0.047........................................\n",
      "[CV 5/5; 47/99] END ......lasso__alpha=0.047;, score=-231.032 total time=   0.0s\n",
      "[CV 1/5; 48/99] START lasso__alpha=0.048........................................\n",
      "[CV 1/5; 48/99] END ......lasso__alpha=0.048;, score=-233.183 total time=   0.0s\n",
      "[CV 2/5; 48/99] START lasso__alpha=0.048........................................\n",
      "[CV 2/5; 48/99] END ......lasso__alpha=0.048;, score=-226.430 total time=   0.0s\n",
      "[CV 3/5; 48/99] START lasso__alpha=0.048........................................\n",
      "[CV 3/5; 48/99] END ......lasso__alpha=0.048;, score=-226.852 total time=   0.0s\n",
      "[CV 4/5; 48/99] START lasso__alpha=0.048........................................\n",
      "[CV 4/5; 48/99] END ......lasso__alpha=0.048;, score=-238.052 total time=   0.0s\n",
      "[CV 5/5; 48/99] START lasso__alpha=0.048........................................\n",
      "[CV 5/5; 48/99] END ......lasso__alpha=0.048;, score=-231.090 total time=   0.0s\n",
      "[CV 1/5; 49/99] START lasso__alpha=0.049........................................\n",
      "[CV 1/5; 49/99] END ......lasso__alpha=0.049;, score=-233.261 total time=   0.0s\n",
      "[CV 2/5; 49/99] START lasso__alpha=0.049........................................\n",
      "[CV 2/5; 49/99] END ......lasso__alpha=0.049;, score=-226.442 total time=   0.0s\n",
      "[CV 3/5; 49/99] START lasso__alpha=0.049........................................\n",
      "[CV 3/5; 49/99] END ......lasso__alpha=0.049;, score=-226.920 total time=   0.0s\n",
      "[CV 4/5; 49/99] START lasso__alpha=0.049........................................\n",
      "[CV 4/5; 49/99] END ......lasso__alpha=0.049;, score=-238.108 total time=   0.0s\n",
      "[CV 5/5; 49/99] START lasso__alpha=0.049........................................\n",
      "[CV 5/5; 49/99] END ......lasso__alpha=0.049;, score=-231.149 total time=   0.0s\n",
      "[CV 1/5; 50/99] START lasso__alpha=0.05.........................................\n",
      "[CV 1/5; 50/99] END .......lasso__alpha=0.05;, score=-233.340 total time=   0.0s\n",
      "[CV 2/5; 50/99] START lasso__alpha=0.05.........................................\n",
      "[CV 2/5; 50/99] END .......lasso__alpha=0.05;, score=-226.454 total time=   0.0s\n",
      "[CV 3/5; 50/99] START lasso__alpha=0.05.........................................\n",
      "[CV 3/5; 50/99] END .......lasso__alpha=0.05;, score=-226.990 total time=   0.0s\n",
      "[CV 4/5; 50/99] START lasso__alpha=0.05.........................................\n",
      "[CV 4/5; 50/99] END .......lasso__alpha=0.05;, score=-238.165 total time=   0.0s\n",
      "[CV 5/5; 50/99] START lasso__alpha=0.05.........................................\n",
      "[CV 5/5; 50/99] END .......lasso__alpha=0.05;, score=-231.210 total time=   0.0s\n",
      "[CV 1/5; 51/99] START lasso__alpha=0.051000000000000004.........................\n",
      "[CV 1/5; 51/99] END lasso__alpha=0.051000000000000004;, score=-233.421 total time=   0.0s\n",
      "[CV 2/5; 51/99] START lasso__alpha=0.051000000000000004.........................\n",
      "[CV 2/5; 51/99] END lasso__alpha=0.051000000000000004;, score=-226.467 total time=   0.0s\n",
      "[CV 3/5; 51/99] START lasso__alpha=0.051000000000000004.........................\n",
      "[CV 3/5; 51/99] END lasso__alpha=0.051000000000000004;, score=-227.061 total time=   0.0s\n",
      "[CV 4/5; 51/99] START lasso__alpha=0.051000000000000004.........................\n",
      "[CV 4/5; 51/99] END lasso__alpha=0.051000000000000004;, score=-238.223 total time=   0.0s\n",
      "[CV 5/5; 51/99] START lasso__alpha=0.051000000000000004.........................\n",
      "[CV 5/5; 51/99] END lasso__alpha=0.051000000000000004;, score=-231.271 total time=   0.0s\n",
      "[CV 1/5; 52/99] START lasso__alpha=0.052000000000000005.........................\n",
      "[CV 1/5; 52/99] END lasso__alpha=0.052000000000000005;, score=-233.503 total time=   0.0s\n",
      "[CV 2/5; 52/99] START lasso__alpha=0.052000000000000005.........................\n",
      "[CV 2/5; 52/99] END lasso__alpha=0.052000000000000005;, score=-226.481 total time=   0.0s\n",
      "[CV 3/5; 52/99] START lasso__alpha=0.052000000000000005.........................\n",
      "[CV 3/5; 52/99] END lasso__alpha=0.052000000000000005;, score=-227.133 total time=   0.0s\n",
      "[CV 4/5; 52/99] START lasso__alpha=0.052000000000000005.........................\n",
      "[CV 4/5; 52/99] END lasso__alpha=0.052000000000000005;, score=-238.282 total time=   0.0s\n",
      "[CV 5/5; 52/99] START lasso__alpha=0.052000000000000005.........................\n",
      "[CV 5/5; 52/99] END lasso__alpha=0.052000000000000005;, score=-231.334 total time=   0.0s\n",
      "[CV 1/5; 53/99] START lasso__alpha=0.053000000000000005.........................\n",
      "[CV 1/5; 53/99] END lasso__alpha=0.053000000000000005;, score=-233.586 total time=   0.0s\n",
      "[CV 2/5; 53/99] START lasso__alpha=0.053000000000000005.........................\n",
      "[CV 2/5; 53/99] END lasso__alpha=0.053000000000000005;, score=-226.495 total time=   0.0s\n",
      "[CV 3/5; 53/99] START lasso__alpha=0.053000000000000005.........................\n",
      "[CV 3/5; 53/99] END lasso__alpha=0.053000000000000005;, score=-227.206 total time=   0.0s\n",
      "[CV 4/5; 53/99] START lasso__alpha=0.053000000000000005.........................\n",
      "[CV 4/5; 53/99] END lasso__alpha=0.053000000000000005;, score=-238.342 total time=   0.0s\n",
      "[CV 5/5; 53/99] START lasso__alpha=0.053000000000000005.........................\n",
      "[CV 5/5; 53/99] END lasso__alpha=0.053000000000000005;, score=-231.399 total time=   0.0s\n",
      "[CV 1/5; 54/99] START lasso__alpha=0.054........................................\n",
      "[CV 1/5; 54/99] END ......lasso__alpha=0.054;, score=-233.670 total time=   0.0s\n",
      "[CV 2/5; 54/99] START lasso__alpha=0.054........................................\n",
      "[CV 2/5; 54/99] END ......lasso__alpha=0.054;, score=-226.509 total time=   0.0s\n",
      "[CV 3/5; 54/99] START lasso__alpha=0.054........................................\n",
      "[CV 3/5; 54/99] END ......lasso__alpha=0.054;, score=-227.281 total time=   0.0s\n",
      "[CV 4/5; 54/99] START lasso__alpha=0.054........................................\n",
      "[CV 4/5; 54/99] END ......lasso__alpha=0.054;, score=-238.403 total time=   0.0s\n",
      "[CV 5/5; 54/99] START lasso__alpha=0.054........................................\n",
      "[CV 5/5; 54/99] END ......lasso__alpha=0.054;, score=-231.464 total time=   0.0s\n",
      "[CV 1/5; 55/99] START lasso__alpha=0.055........................................\n",
      "[CV 1/5; 55/99] END ......lasso__alpha=0.055;, score=-233.755 total time=   0.0s\n",
      "[CV 2/5; 55/99] START lasso__alpha=0.055........................................\n",
      "[CV 2/5; 55/99] END ......lasso__alpha=0.055;, score=-226.524 total time=   0.0s\n",
      "[CV 3/5; 55/99] START lasso__alpha=0.055........................................\n"
     ]
    },
    {
     "name": "stdout",
     "output_type": "stream",
     "text": [
      "[CV 3/5; 55/99] END ......lasso__alpha=0.055;, score=-227.357 total time=   0.0s\n",
      "[CV 4/5; 55/99] START lasso__alpha=0.055........................................\n",
      "[CV 4/5; 55/99] END ......lasso__alpha=0.055;, score=-238.466 total time=   0.0s\n",
      "[CV 5/5; 55/99] START lasso__alpha=0.055........................................\n",
      "[CV 5/5; 55/99] END ......lasso__alpha=0.055;, score=-231.531 total time=   0.0s\n",
      "[CV 1/5; 56/99] START lasso__alpha=0.056........................................\n",
      "[CV 1/5; 56/99] END ......lasso__alpha=0.056;, score=-233.842 total time=   0.0s\n",
      "[CV 2/5; 56/99] START lasso__alpha=0.056........................................\n",
      "[CV 2/5; 56/99] END ......lasso__alpha=0.056;, score=-226.539 total time=   0.0s\n",
      "[CV 3/5; 56/99] START lasso__alpha=0.056........................................\n",
      "[CV 3/5; 56/99] END ......lasso__alpha=0.056;, score=-227.434 total time=   0.0s\n",
      "[CV 4/5; 56/99] START lasso__alpha=0.056........................................\n",
      "[CV 4/5; 56/99] END ......lasso__alpha=0.056;, score=-238.530 total time=   0.0s\n",
      "[CV 5/5; 56/99] START lasso__alpha=0.056........................................\n",
      "[CV 5/5; 56/99] END ......lasso__alpha=0.056;, score=-231.599 total time=   0.0s\n",
      "[CV 1/5; 57/99] START lasso__alpha=0.057........................................\n",
      "[CV 1/5; 57/99] END ......lasso__alpha=0.057;, score=-233.930 total time=   0.0s\n",
      "[CV 2/5; 57/99] START lasso__alpha=0.057........................................\n",
      "[CV 2/5; 57/99] END ......lasso__alpha=0.057;, score=-226.555 total time=   0.0s\n",
      "[CV 3/5; 57/99] START lasso__alpha=0.057........................................\n",
      "[CV 3/5; 57/99] END ......lasso__alpha=0.057;, score=-227.512 total time=   0.0s\n",
      "[CV 4/5; 57/99] START lasso__alpha=0.057........................................\n",
      "[CV 4/5; 57/99] END ......lasso__alpha=0.057;, score=-238.595 total time=   0.0s\n",
      "[CV 5/5; 57/99] START lasso__alpha=0.057........................................\n",
      "[CV 5/5; 57/99] END ......lasso__alpha=0.057;, score=-231.669 total time=   0.0s\n",
      "[CV 1/5; 58/99] START lasso__alpha=0.058........................................\n",
      "[CV 1/5; 58/99] END ......lasso__alpha=0.058;, score=-234.019 total time=   0.0s\n",
      "[CV 2/5; 58/99] START lasso__alpha=0.058........................................\n",
      "[CV 2/5; 58/99] END ......lasso__alpha=0.058;, score=-226.571 total time=   0.0s\n",
      "[CV 3/5; 58/99] START lasso__alpha=0.058........................................\n",
      "[CV 3/5; 58/99] END ......lasso__alpha=0.058;, score=-227.592 total time=   0.0s\n",
      "[CV 4/5; 58/99] START lasso__alpha=0.058........................................\n",
      "[CV 4/5; 58/99] END ......lasso__alpha=0.058;, score=-238.661 total time=   0.0s\n",
      "[CV 5/5; 58/99] START lasso__alpha=0.058........................................\n",
      "[CV 5/5; 58/99] END ......lasso__alpha=0.058;, score=-231.740 total time=   0.0s\n",
      "[CV 1/5; 59/99] START lasso__alpha=0.059000000000000004.........................\n",
      "[CV 1/5; 59/99] END lasso__alpha=0.059000000000000004;, score=-234.109 total time=   0.0s\n",
      "[CV 2/5; 59/99] START lasso__alpha=0.059000000000000004.........................\n",
      "[CV 2/5; 59/99] END lasso__alpha=0.059000000000000004;, score=-226.588 total time=   0.0s\n",
      "[CV 3/5; 59/99] START lasso__alpha=0.059000000000000004.........................\n",
      "[CV 3/5; 59/99] END lasso__alpha=0.059000000000000004;, score=-227.673 total time=   0.0s\n",
      "[CV 4/5; 59/99] START lasso__alpha=0.059000000000000004.........................\n",
      "[CV 4/5; 59/99] END lasso__alpha=0.059000000000000004;, score=-238.728 total time=   0.0s\n",
      "[CV 5/5; 59/99] START lasso__alpha=0.059000000000000004.........................\n",
      "[CV 5/5; 59/99] END lasso__alpha=0.059000000000000004;, score=-231.812 total time=   0.0s\n",
      "[CV 1/5; 60/99] START lasso__alpha=0.060000000000000005.........................\n",
      "[CV 1/5; 60/99] END lasso__alpha=0.060000000000000005;, score=-234.200 total time=   0.0s\n",
      "[CV 2/5; 60/99] START lasso__alpha=0.060000000000000005.........................\n",
      "[CV 2/5; 60/99] END lasso__alpha=0.060000000000000005;, score=-226.605 total time=   0.0s\n",
      "[CV 3/5; 60/99] START lasso__alpha=0.060000000000000005.........................\n",
      "[CV 3/5; 60/99] END lasso__alpha=0.060000000000000005;, score=-227.756 total time=   0.0s\n",
      "[CV 4/5; 60/99] START lasso__alpha=0.060000000000000005.........................\n",
      "[CV 4/5; 60/99] END lasso__alpha=0.060000000000000005;, score=-238.796 total time=   0.0s\n",
      "[CV 5/5; 60/99] START lasso__alpha=0.060000000000000005.........................\n",
      "[CV 5/5; 60/99] END lasso__alpha=0.060000000000000005;, score=-231.885 total time=   0.0s\n",
      "[CV 1/5; 61/99] START lasso__alpha=0.061........................................\n",
      "[CV 1/5; 61/99] END ......lasso__alpha=0.061;, score=-234.293 total time=   0.0s\n",
      "[CV 2/5; 61/99] START lasso__alpha=0.061........................................\n",
      "[CV 2/5; 61/99] END ......lasso__alpha=0.061;, score=-226.622 total time=   0.0s\n",
      "[CV 3/5; 61/99] START lasso__alpha=0.061........................................\n",
      "[CV 3/5; 61/99] END ......lasso__alpha=0.061;, score=-227.840 total time=   0.0s\n",
      "[CV 4/5; 61/99] START lasso__alpha=0.061........................................\n",
      "[CV 4/5; 61/99] END ......lasso__alpha=0.061;, score=-238.866 total time=   0.0s\n",
      "[CV 5/5; 61/99] START lasso__alpha=0.061........................................\n",
      "[CV 5/5; 61/99] END ......lasso__alpha=0.061;, score=-231.960 total time=   0.0s\n",
      "[CV 1/5; 62/99] START lasso__alpha=0.062........................................\n",
      "[CV 1/5; 62/99] END ......lasso__alpha=0.062;, score=-234.387 total time=   0.0s\n",
      "[CV 2/5; 62/99] START lasso__alpha=0.062........................................\n",
      "[CV 2/5; 62/99] END ......lasso__alpha=0.062;, score=-226.641 total time=   0.0s\n",
      "[CV 3/5; 62/99] START lasso__alpha=0.062........................................\n",
      "[CV 3/5; 62/99] END ......lasso__alpha=0.062;, score=-227.925 total time=   0.0s\n",
      "[CV 4/5; 62/99] START lasso__alpha=0.062........................................\n",
      "[CV 4/5; 62/99] END ......lasso__alpha=0.062;, score=-238.936 total time=   0.0s\n",
      "[CV 5/5; 62/99] START lasso__alpha=0.062........................................\n",
      "[CV 5/5; 62/99] END ......lasso__alpha=0.062;, score=-232.036 total time=   0.0s\n",
      "[CV 1/5; 63/99] START lasso__alpha=0.063........................................\n",
      "[CV 1/5; 63/99] END ......lasso__alpha=0.063;, score=-234.482 total time=   0.0s\n",
      "[CV 2/5; 63/99] START lasso__alpha=0.063........................................\n",
      "[CV 2/5; 63/99] END ......lasso__alpha=0.063;, score=-226.659 total time=   0.0s\n",
      "[CV 3/5; 63/99] START lasso__alpha=0.063........................................\n",
      "[CV 3/5; 63/99] END ......lasso__alpha=0.063;, score=-228.011 total time=   0.0s\n",
      "[CV 4/5; 63/99] START lasso__alpha=0.063........................................\n",
      "[CV 4/5; 63/99] END ......lasso__alpha=0.063;, score=-239.008 total time=   0.0s\n",
      "[CV 5/5; 63/99] START lasso__alpha=0.063........................................\n",
      "[CV 5/5; 63/99] END ......lasso__alpha=0.063;, score=-232.113 total time=   0.0s\n",
      "[CV 1/5; 64/99] START lasso__alpha=0.064........................................\n",
      "[CV 1/5; 64/99] END ......lasso__alpha=0.064;, score=-234.578 total time=   0.0s\n",
      "[CV 2/5; 64/99] START lasso__alpha=0.064........................................\n",
      "[CV 2/5; 64/99] END ......lasso__alpha=0.064;, score=-226.678 total time=   0.0s\n",
      "[CV 3/5; 64/99] START lasso__alpha=0.064........................................\n",
      "[CV 3/5; 64/99] END ......lasso__alpha=0.064;, score=-228.099 total time=   0.0s\n",
      "[CV 4/5; 64/99] START lasso__alpha=0.064........................................\n",
      "[CV 4/5; 64/99] END ......lasso__alpha=0.064;, score=-239.081 total time=   0.0s\n",
      "[CV 5/5; 64/99] START lasso__alpha=0.064........................................\n",
      "[CV 5/5; 64/99] END ......lasso__alpha=0.064;, score=-232.192 total time=   0.0s\n",
      "[CV 1/5; 65/99] START lasso__alpha=0.065........................................\n",
      "[CV 1/5; 65/99] END ......lasso__alpha=0.065;, score=-234.676 total time=   0.0s\n",
      "[CV 2/5; 65/99] START lasso__alpha=0.065........................................\n",
      "[CV 2/5; 65/99] END ......lasso__alpha=0.065;, score=-226.698 total time=   0.0s\n",
      "[CV 3/5; 65/99] START lasso__alpha=0.065........................................\n",
      "[CV 3/5; 65/99] END ......lasso__alpha=0.065;, score=-228.188 total time=   0.0s\n",
      "[CV 4/5; 65/99] START lasso__alpha=0.065........................................\n",
      "[CV 4/5; 65/99] END ......lasso__alpha=0.065;, score=-239.155 total time=   0.0s\n",
      "[CV 5/5; 65/99] START lasso__alpha=0.065........................................\n",
      "[CV 5/5; 65/99] END ......lasso__alpha=0.065;, score=-232.271 total time=   0.0s\n",
      "[CV 1/5; 66/99] START lasso__alpha=0.066........................................\n",
      "[CV 1/5; 66/99] END ......lasso__alpha=0.066;, score=-234.774 total time=   0.0s\n",
      "[CV 2/5; 66/99] START lasso__alpha=0.066........................................\n",
      "[CV 2/5; 66/99] END ......lasso__alpha=0.066;, score=-226.718 total time=   0.0s\n",
      "[CV 3/5; 66/99] START lasso__alpha=0.066........................................\n",
      "[CV 3/5; 66/99] END ......lasso__alpha=0.066;, score=-228.278 total time=   0.0s\n",
      "[CV 4/5; 66/99] START lasso__alpha=0.066........................................\n",
      "[CV 4/5; 66/99] END ......lasso__alpha=0.066;, score=-239.230 total time=   0.0s\n",
      "[CV 5/5; 66/99] START lasso__alpha=0.066........................................\n",
      "[CV 5/5; 66/99] END ......lasso__alpha=0.066;, score=-232.352 total time=   0.0s\n",
      "[CV 1/5; 67/99] START lasso__alpha=0.067........................................\n",
      "[CV 1/5; 67/99] END ......lasso__alpha=0.067;, score=-234.874 total time=   0.0s\n",
      "[CV 2/5; 67/99] START lasso__alpha=0.067........................................\n"
     ]
    },
    {
     "name": "stdout",
     "output_type": "stream",
     "text": [
      "[CV 2/5; 67/99] END ......lasso__alpha=0.067;, score=-226.738 total time=   0.0s\n",
      "[CV 3/5; 67/99] START lasso__alpha=0.067........................................\n",
      "[CV 3/5; 67/99] END ......lasso__alpha=0.067;, score=-228.370 total time=   0.0s\n",
      "[CV 4/5; 67/99] START lasso__alpha=0.067........................................\n",
      "[CV 4/5; 67/99] END ......lasso__alpha=0.067;, score=-239.307 total time=   0.0s\n",
      "[CV 5/5; 67/99] START lasso__alpha=0.067........................................\n",
      "[CV 5/5; 67/99] END ......lasso__alpha=0.067;, score=-232.435 total time=   0.0s\n",
      "[CV 1/5; 68/99] START lasso__alpha=0.068........................................\n",
      "[CV 1/5; 68/99] END ......lasso__alpha=0.068;, score=-234.976 total time=   0.0s\n",
      "[CV 2/5; 68/99] START lasso__alpha=0.068........................................\n",
      "[CV 2/5; 68/99] END ......lasso__alpha=0.068;, score=-226.759 total time=   0.0s\n",
      "[CV 3/5; 68/99] START lasso__alpha=0.068........................................\n",
      "[CV 3/5; 68/99] END ......lasso__alpha=0.068;, score=-228.463 total time=   0.0s\n",
      "[CV 4/5; 68/99] START lasso__alpha=0.068........................................\n",
      "[CV 4/5; 68/99] END ......lasso__alpha=0.068;, score=-239.384 total time=   0.0s\n",
      "[CV 5/5; 68/99] START lasso__alpha=0.068........................................\n",
      "[CV 5/5; 68/99] END ......lasso__alpha=0.068;, score=-232.519 total time=   0.0s\n",
      "[CV 1/5; 69/99] START lasso__alpha=0.069........................................\n",
      "[CV 1/5; 69/99] END ......lasso__alpha=0.069;, score=-235.078 total time=   0.0s\n",
      "[CV 2/5; 69/99] START lasso__alpha=0.069........................................\n",
      "[CV 2/5; 69/99] END ......lasso__alpha=0.069;, score=-226.781 total time=   0.0s\n",
      "[CV 3/5; 69/99] START lasso__alpha=0.069........................................\n",
      "[CV 3/5; 69/99] END ......lasso__alpha=0.069;, score=-228.557 total time=   0.0s\n",
      "[CV 4/5; 69/99] START lasso__alpha=0.069........................................\n",
      "[CV 4/5; 69/99] END ......lasso__alpha=0.069;, score=-239.463 total time=   0.0s\n",
      "[CV 5/5; 69/99] START lasso__alpha=0.069........................................\n",
      "[CV 5/5; 69/99] END ......lasso__alpha=0.069;, score=-232.604 total time=   0.0s\n",
      "[CV 1/5; 70/99] START lasso__alpha=0.07.........................................\n",
      "[CV 1/5; 70/99] END .......lasso__alpha=0.07;, score=-235.181 total time=   0.0s\n",
      "[CV 2/5; 70/99] START lasso__alpha=0.07.........................................\n",
      "[CV 2/5; 70/99] END .......lasso__alpha=0.07;, score=-226.803 total time=   0.0s\n",
      "[CV 3/5; 70/99] START lasso__alpha=0.07.........................................\n",
      "[CV 3/5; 70/99] END .......lasso__alpha=0.07;, score=-228.653 total time=   0.0s\n",
      "[CV 4/5; 70/99] START lasso__alpha=0.07.........................................\n",
      "[CV 4/5; 70/99] END .......lasso__alpha=0.07;, score=-239.543 total time=   0.0s\n",
      "[CV 5/5; 70/99] START lasso__alpha=0.07.........................................\n",
      "[CV 5/5; 70/99] END .......lasso__alpha=0.07;, score=-232.690 total time=   0.0s\n",
      "[CV 1/5; 71/99] START lasso__alpha=0.07100000000000001..........................\n",
      "[CV 1/5; 71/99] END lasso__alpha=0.07100000000000001;, score=-235.286 total time=   0.0s\n",
      "[CV 2/5; 71/99] START lasso__alpha=0.07100000000000001..........................\n",
      "[CV 2/5; 71/99] END lasso__alpha=0.07100000000000001;, score=-226.825 total time=   0.0s\n",
      "[CV 3/5; 71/99] START lasso__alpha=0.07100000000000001..........................\n",
      "[CV 3/5; 71/99] END lasso__alpha=0.07100000000000001;, score=-228.749 total time=   0.0s\n",
      "[CV 4/5; 71/99] START lasso__alpha=0.07100000000000001..........................\n",
      "[CV 4/5; 71/99] END lasso__alpha=0.07100000000000001;, score=-239.624 total time=   0.0s\n",
      "[CV 5/5; 71/99] START lasso__alpha=0.07100000000000001..........................\n",
      "[CV 5/5; 71/99] END lasso__alpha=0.07100000000000001;, score=-232.777 total time=   0.0s\n",
      "[CV 1/5; 72/99] START lasso__alpha=0.07200000000000001..........................\n",
      "[CV 1/5; 72/99] END lasso__alpha=0.07200000000000001;, score=-235.392 total time=   0.0s\n",
      "[CV 2/5; 72/99] START lasso__alpha=0.07200000000000001..........................\n",
      "[CV 2/5; 72/99] END lasso__alpha=0.07200000000000001;, score=-226.848 total time=   0.0s\n",
      "[CV 3/5; 72/99] START lasso__alpha=0.07200000000000001..........................\n",
      "[CV 3/5; 72/99] END lasso__alpha=0.07200000000000001;, score=-228.848 total time=   0.0s\n",
      "[CV 4/5; 72/99] START lasso__alpha=0.07200000000000001..........................\n",
      "[CV 4/5; 72/99] END lasso__alpha=0.07200000000000001;, score=-239.706 total time=   0.0s\n",
      "[CV 5/5; 72/99] START lasso__alpha=0.07200000000000001..........................\n",
      "[CV 5/5; 72/99] END lasso__alpha=0.07200000000000001;, score=-232.866 total time=   0.0s\n",
      "[CV 1/5; 73/99] START lasso__alpha=0.07300000000000001..........................\n",
      "[CV 1/5; 73/99] END lasso__alpha=0.07300000000000001;, score=-235.499 total time=   0.0s\n",
      "[CV 2/5; 73/99] START lasso__alpha=0.07300000000000001..........................\n",
      "[CV 2/5; 73/99] END lasso__alpha=0.07300000000000001;, score=-226.871 total time=   0.0s\n",
      "[CV 3/5; 73/99] START lasso__alpha=0.07300000000000001..........................\n",
      "[CV 3/5; 73/99] END lasso__alpha=0.07300000000000001;, score=-228.947 total time=   0.0s\n",
      "[CV 4/5; 73/99] START lasso__alpha=0.07300000000000001..........................\n",
      "[CV 4/5; 73/99] END lasso__alpha=0.07300000000000001;, score=-239.789 total time=   0.0s\n",
      "[CV 5/5; 73/99] START lasso__alpha=0.07300000000000001..........................\n",
      "[CV 5/5; 73/99] END lasso__alpha=0.07300000000000001;, score=-232.956 total time=   0.0s\n",
      "[CV 1/5; 74/99] START lasso__alpha=0.074........................................\n",
      "[CV 1/5; 74/99] END ......lasso__alpha=0.074;, score=-235.608 total time=   0.0s\n",
      "[CV 2/5; 74/99] START lasso__alpha=0.074........................................\n",
      "[CV 2/5; 74/99] END ......lasso__alpha=0.074;, score=-226.895 total time=   0.0s\n",
      "[CV 3/5; 74/99] START lasso__alpha=0.074........................................\n",
      "[CV 3/5; 74/99] END ......lasso__alpha=0.074;, score=-229.048 total time=   0.0s\n",
      "[CV 4/5; 74/99] START lasso__alpha=0.074........................................\n",
      "[CV 4/5; 74/99] END ......lasso__alpha=0.074;, score=-239.874 total time=   0.0s\n",
      "[CV 5/5; 74/99] START lasso__alpha=0.074........................................\n",
      "[CV 5/5; 74/99] END ......lasso__alpha=0.074;, score=-233.048 total time=   0.0s\n",
      "[CV 1/5; 75/99] START lasso__alpha=0.075........................................\n",
      "[CV 1/5; 75/99] END ......lasso__alpha=0.075;, score=-235.717 total time=   0.0s\n",
      "[CV 2/5; 75/99] START lasso__alpha=0.075........................................\n",
      "[CV 2/5; 75/99] END ......lasso__alpha=0.075;, score=-226.920 total time=   0.0s\n",
      "[CV 3/5; 75/99] START lasso__alpha=0.075........................................\n",
      "[CV 3/5; 75/99] END ......lasso__alpha=0.075;, score=-229.146 total time=   0.0s\n",
      "[CV 4/5; 75/99] START lasso__alpha=0.075........................................\n",
      "[CV 4/5; 75/99] END ......lasso__alpha=0.075;, score=-239.959 total time=   0.0s\n",
      "[CV 5/5; 75/99] START lasso__alpha=0.075........................................\n",
      "[CV 5/5; 75/99] END ......lasso__alpha=0.075;, score=-233.140 total time=   0.0s\n",
      "[CV 1/5; 76/99] START lasso__alpha=0.076........................................\n",
      "[CV 1/5; 76/99] END ......lasso__alpha=0.076;, score=-235.828 total time=   0.0s\n",
      "[CV 2/5; 76/99] START lasso__alpha=0.076........................................\n",
      "[CV 2/5; 76/99] END ......lasso__alpha=0.076;, score=-226.944 total time=   0.0s\n",
      "[CV 3/5; 76/99] START lasso__alpha=0.076........................................\n",
      "[CV 3/5; 76/99] END ......lasso__alpha=0.076;, score=-229.240 total time=   0.0s\n",
      "[CV 4/5; 76/99] START lasso__alpha=0.076........................................\n",
      "[CV 4/5; 76/99] END ......lasso__alpha=0.076;, score=-240.046 total time=   0.0s\n",
      "[CV 5/5; 76/99] START lasso__alpha=0.076........................................\n",
      "[CV 5/5; 76/99] END ......lasso__alpha=0.076;, score=-233.234 total time=   0.0s\n",
      "[CV 1/5; 77/99] START lasso__alpha=0.077........................................\n",
      "[CV 1/5; 77/99] END ......lasso__alpha=0.077;, score=-235.940 total time=   0.0s\n",
      "[CV 2/5; 77/99] START lasso__alpha=0.077........................................\n",
      "[CV 2/5; 77/99] END ......lasso__alpha=0.077;, score=-226.970 total time=   0.0s\n"
     ]
    },
    {
     "name": "stdout",
     "output_type": "stream",
     "text": [
      "[CV 3/5; 77/99] START lasso__alpha=0.077........................................\n",
      "[CV 3/5; 77/99] END ......lasso__alpha=0.077;, score=-229.335 total time=   0.0s\n",
      "[CV 4/5; 77/99] START lasso__alpha=0.077........................................\n",
      "[CV 4/5; 77/99] END ......lasso__alpha=0.077;, score=-240.134 total time=   0.0s\n",
      "[CV 5/5; 77/99] START lasso__alpha=0.077........................................\n",
      "[CV 5/5; 77/99] END ......lasso__alpha=0.077;, score=-233.330 total time=   0.0s\n",
      "[CV 1/5; 78/99] START lasso__alpha=0.078........................................\n",
      "[CV 1/5; 78/99] END ......lasso__alpha=0.078;, score=-236.053 total time=   0.0s\n",
      "[CV 2/5; 78/99] START lasso__alpha=0.078........................................\n",
      "[CV 2/5; 78/99] END ......lasso__alpha=0.078;, score=-226.995 total time=   0.0s\n",
      "[CV 3/5; 78/99] START lasso__alpha=0.078........................................\n",
      "[CV 3/5; 78/99] END ......lasso__alpha=0.078;, score=-229.432 total time=   0.0s\n",
      "[CV 4/5; 78/99] START lasso__alpha=0.078........................................\n",
      "[CV 4/5; 78/99] END ......lasso__alpha=0.078;, score=-240.223 total time=   0.0s\n",
      "[CV 5/5; 78/99] START lasso__alpha=0.078........................................\n",
      "[CV 5/5; 78/99] END ......lasso__alpha=0.078;, score=-233.426 total time=   0.0s\n",
      "[CV 1/5; 79/99] START lasso__alpha=0.079........................................\n",
      "[CV 1/5; 79/99] END ......lasso__alpha=0.079;, score=-236.168 total time=   0.0s\n",
      "[CV 2/5; 79/99] START lasso__alpha=0.079........................................\n",
      "[CV 2/5; 79/99] END ......lasso__alpha=0.079;, score=-227.022 total time=   0.0s\n",
      "[CV 3/5; 79/99] START lasso__alpha=0.079........................................\n",
      "[CV 3/5; 79/99] END ......lasso__alpha=0.079;, score=-229.530 total time=   0.0s\n",
      "[CV 4/5; 79/99] START lasso__alpha=0.079........................................\n",
      "[CV 4/5; 79/99] END ......lasso__alpha=0.079;, score=-240.313 total time=   0.0s\n",
      "[CV 5/5; 79/99] START lasso__alpha=0.079........................................\n",
      "[CV 5/5; 79/99] END ......lasso__alpha=0.079;, score=-233.524 total time=   0.0s\n",
      "[CV 1/5; 80/99] START lasso__alpha=0.08.........................................\n",
      "[CV 1/5; 80/99] END .......lasso__alpha=0.08;, score=-236.283 total time=   0.0s\n",
      "[CV 2/5; 80/99] START lasso__alpha=0.08.........................................\n",
      "[CV 2/5; 80/99] END .......lasso__alpha=0.08;, score=-227.048 total time=   0.0s\n",
      "[CV 3/5; 80/99] START lasso__alpha=0.08.........................................\n",
      "[CV 3/5; 80/99] END .......lasso__alpha=0.08;, score=-229.629 total time=   0.0s\n",
      "[CV 4/5; 80/99] START lasso__alpha=0.08.........................................\n",
      "[CV 4/5; 80/99] END .......lasso__alpha=0.08;, score=-240.404 total time=   0.0s\n",
      "[CV 5/5; 80/99] START lasso__alpha=0.08.........................................\n",
      "[CV 5/5; 80/99] END .......lasso__alpha=0.08;, score=-233.623 total time=   0.0s\n",
      "[CV 1/5; 81/99] START lasso__alpha=0.081........................................\n",
      "[CV 1/5; 81/99] END ......lasso__alpha=0.081;, score=-236.399 total time=   0.0s\n",
      "[CV 2/5; 81/99] START lasso__alpha=0.081........................................\n",
      "[CV 2/5; 81/99] END ......lasso__alpha=0.081;, score=-227.075 total time=   0.0s\n",
      "[CV 3/5; 81/99] START lasso__alpha=0.081........................................\n",
      "[CV 3/5; 81/99] END ......lasso__alpha=0.081;, score=-229.729 total time=   0.0s\n",
      "[CV 4/5; 81/99] START lasso__alpha=0.081........................................\n",
      "[CV 4/5; 81/99] END ......lasso__alpha=0.081;, score=-240.497 total time=   0.0s\n",
      "[CV 5/5; 81/99] START lasso__alpha=0.081........................................\n",
      "[CV 5/5; 81/99] END ......lasso__alpha=0.081;, score=-233.722 total time=   0.0s\n",
      "[CV 1/5; 82/99] START lasso__alpha=0.082........................................\n",
      "[CV 1/5; 82/99] END ......lasso__alpha=0.082;, score=-236.510 total time=   0.0s\n",
      "[CV 2/5; 82/99] START lasso__alpha=0.082........................................\n",
      "[CV 2/5; 82/99] END ......lasso__alpha=0.082;, score=-227.103 total time=   0.0s\n",
      "[CV 3/5; 82/99] START lasso__alpha=0.082........................................\n",
      "[CV 3/5; 82/99] END ......lasso__alpha=0.082;, score=-229.831 total time=   0.0s\n",
      "[CV 4/5; 82/99] START lasso__alpha=0.082........................................\n",
      "[CV 4/5; 82/99] END ......lasso__alpha=0.082;, score=-240.590 total time=   0.0s\n",
      "[CV 5/5; 82/99] START lasso__alpha=0.082........................................\n",
      "[CV 5/5; 82/99] END ......lasso__alpha=0.082;, score=-233.817 total time=   0.0s\n",
      "[CV 1/5; 83/99] START lasso__alpha=0.083........................................\n",
      "[CV 1/5; 83/99] END ......lasso__alpha=0.083;, score=-236.623 total time=   0.0s\n",
      "[CV 2/5; 83/99] START lasso__alpha=0.083........................................\n",
      "[CV 2/5; 83/99] END ......lasso__alpha=0.083;, score=-227.131 total time=   0.0s\n",
      "[CV 3/5; 83/99] START lasso__alpha=0.083........................................\n",
      "[CV 3/5; 83/99] END ......lasso__alpha=0.083;, score=-229.933 total time=   0.0s\n",
      "[CV 4/5; 83/99] START lasso__alpha=0.083........................................\n",
      "[CV 4/5; 83/99] END ......lasso__alpha=0.083;, score=-240.685 total time=   0.0s\n",
      "[CV 5/5; 83/99] START lasso__alpha=0.083........................................\n",
      "[CV 5/5; 83/99] END ......lasso__alpha=0.083;, score=-233.914 total time=   0.0s\n",
      "[CV 1/5; 84/99] START lasso__alpha=0.084........................................\n",
      "[CV 1/5; 84/99] END ......lasso__alpha=0.084;, score=-236.736 total time=   0.0s\n",
      "[CV 2/5; 84/99] START lasso__alpha=0.084........................................\n",
      "[CV 2/5; 84/99] END ......lasso__alpha=0.084;, score=-227.160 total time=   0.0s\n",
      "[CV 3/5; 84/99] START lasso__alpha=0.084........................................\n",
      "[CV 3/5; 84/99] END ......lasso__alpha=0.084;, score=-230.037 total time=   0.0s\n",
      "[CV 4/5; 84/99] START lasso__alpha=0.084........................................\n",
      "[CV 4/5; 84/99] END ......lasso__alpha=0.084;, score=-240.781 total time=   0.0s\n",
      "[CV 5/5; 84/99] START lasso__alpha=0.084........................................\n",
      "[CV 5/5; 84/99] END ......lasso__alpha=0.084;, score=-234.011 total time=   0.0s\n",
      "[CV 1/5; 85/99] START lasso__alpha=0.085........................................\n",
      "[CV 1/5; 85/99] END ......lasso__alpha=0.085;, score=-236.851 total time=   0.0s\n",
      "[CV 2/5; 85/99] START lasso__alpha=0.085........................................\n",
      "[CV 2/5; 85/99] END ......lasso__alpha=0.085;, score=-227.189 total time=   0.0s\n",
      "[CV 3/5; 85/99] START lasso__alpha=0.085........................................\n",
      "[CV 3/5; 85/99] END ......lasso__alpha=0.085;, score=-230.142 total time=   0.0s\n",
      "[CV 4/5; 85/99] START lasso__alpha=0.085........................................\n",
      "[CV 4/5; 85/99] END ......lasso__alpha=0.085;, score=-240.878 total time=   0.0s\n",
      "[CV 5/5; 85/99] START lasso__alpha=0.085........................................\n",
      "[CV 5/5; 85/99] END ......lasso__alpha=0.085;, score=-234.110 total time=   0.0s\n",
      "[CV 1/5; 86/99] START lasso__alpha=0.08600000000000001..........................\n",
      "[CV 1/5; 86/99] END lasso__alpha=0.08600000000000001;, score=-236.967 total time=   0.0s\n",
      "[CV 2/5; 86/99] START lasso__alpha=0.08600000000000001..........................\n",
      "[CV 2/5; 86/99] END lasso__alpha=0.08600000000000001;, score=-227.218 total time=   0.0s\n",
      "[CV 3/5; 86/99] START lasso__alpha=0.08600000000000001..........................\n",
      "[CV 3/5; 86/99] END lasso__alpha=0.08600000000000001;, score=-230.249 total time=   0.0s\n",
      "[CV 4/5; 86/99] START lasso__alpha=0.08600000000000001..........................\n",
      "[CV 4/5; 86/99] END lasso__alpha=0.08600000000000001;, score=-240.976 total time=   0.0s\n",
      "[CV 5/5; 86/99] START lasso__alpha=0.08600000000000001..........................\n",
      "[CV 5/5; 86/99] END lasso__alpha=0.08600000000000001;, score=-234.210 total time=   0.0s\n",
      "[CV 1/5; 87/99] START lasso__alpha=0.08700000000000001..........................\n",
      "[CV 1/5; 87/99] END lasso__alpha=0.08700000000000001;, score=-237.083 total time=   0.0s\n",
      "[CV 2/5; 87/99] START lasso__alpha=0.08700000000000001..........................\n",
      "[CV 2/5; 87/99] END lasso__alpha=0.08700000000000001;, score=-227.248 total time=   0.0s\n",
      "[CV 3/5; 87/99] START lasso__alpha=0.08700000000000001..........................\n",
      "[CV 3/5; 87/99] END lasso__alpha=0.08700000000000001;, score=-230.356 total time=   0.0s\n",
      "[CV 4/5; 87/99] START lasso__alpha=0.08700000000000001..........................\n",
      "[CV 4/5; 87/99] END lasso__alpha=0.08700000000000001;, score=-241.071 total time=   0.0s\n",
      "[CV 5/5; 87/99] START lasso__alpha=0.08700000000000001..........................\n",
      "[CV 5/5; 87/99] END lasso__alpha=0.08700000000000001;, score=-234.311 total time=   0.0s\n",
      "[CV 1/5; 88/99] START lasso__alpha=0.08800000000000001..........................\n",
      "[CV 1/5; 88/99] END lasso__alpha=0.08800000000000001;, score=-237.201 total time=   0.0s\n",
      "[CV 2/5; 88/99] START lasso__alpha=0.08800000000000001..........................\n",
      "[CV 2/5; 88/99] END lasso__alpha=0.08800000000000001;, score=-227.274 total time=   0.0s\n",
      "[CV 3/5; 88/99] START lasso__alpha=0.08800000000000001..........................\n",
      "[CV 3/5; 88/99] END lasso__alpha=0.08800000000000001;, score=-230.465 total time=   0.0s\n",
      "[CV 4/5; 88/99] START lasso__alpha=0.08800000000000001..........................\n",
      "[CV 4/5; 88/99] END lasso__alpha=0.08800000000000001;, score=-241.166 total time=   0.0s\n",
      "[CV 5/5; 88/99] START lasso__alpha=0.08800000000000001..........................\n",
      "[CV 5/5; 88/99] END lasso__alpha=0.08800000000000001;, score=-234.413 total time=   0.0s\n",
      "[CV 1/5; 89/99] START lasso__alpha=0.089........................................\n",
      "[CV 1/5; 89/99] END ......lasso__alpha=0.089;, score=-237.320 total time=   0.0s\n",
      "[CV 2/5; 89/99] START lasso__alpha=0.089........................................\n",
      "[CV 2/5; 89/99] END ......lasso__alpha=0.089;, score=-227.297 total time=   0.0s\n",
      "[CV 3/5; 89/99] START lasso__alpha=0.089........................................\n",
      "[CV 3/5; 89/99] END ......lasso__alpha=0.089;, score=-230.575 total time=   0.0s\n",
      "[CV 4/5; 89/99] START lasso__alpha=0.089........................................\n"
     ]
    },
    {
     "name": "stdout",
     "output_type": "stream",
     "text": [
      "[CV 4/5; 89/99] END ......lasso__alpha=0.089;, score=-241.263 total time=   0.0s\n",
      "[CV 5/5; 89/99] START lasso__alpha=0.089........................................\n",
      "[CV 5/5; 89/99] END ......lasso__alpha=0.089;, score=-234.516 total time=   0.0s\n",
      "[CV 1/5; 90/99] START lasso__alpha=0.09.........................................\n",
      "[CV 1/5; 90/99] END .......lasso__alpha=0.09;, score=-237.441 total time=   0.0s\n",
      "[CV 2/5; 90/99] START lasso__alpha=0.09.........................................\n",
      "[CV 2/5; 90/99] END .......lasso__alpha=0.09;, score=-227.321 total time=   0.0s\n",
      "[CV 3/5; 90/99] START lasso__alpha=0.09.........................................\n",
      "[CV 3/5; 90/99] END .......lasso__alpha=0.09;, score=-230.687 total time=   0.0s\n",
      "[CV 4/5; 90/99] START lasso__alpha=0.09.........................................\n",
      "[CV 4/5; 90/99] END .......lasso__alpha=0.09;, score=-241.361 total time=   0.0s\n",
      "[CV 5/5; 90/99] START lasso__alpha=0.09.........................................\n",
      "[CV 5/5; 90/99] END .......lasso__alpha=0.09;, score=-234.621 total time=   0.0s\n",
      "[CV 1/5; 91/99] START lasso__alpha=0.091........................................\n",
      "[CV 1/5; 91/99] END ......lasso__alpha=0.091;, score=-237.562 total time=   0.0s\n",
      "[CV 2/5; 91/99] START lasso__alpha=0.091........................................\n",
      "[CV 2/5; 91/99] END ......lasso__alpha=0.091;, score=-227.345 total time=   0.0s\n",
      "[CV 3/5; 91/99] START lasso__alpha=0.091........................................\n",
      "[CV 3/5; 91/99] END ......lasso__alpha=0.091;, score=-230.799 total time=   0.0s\n",
      "[CV 4/5; 91/99] START lasso__alpha=0.091........................................\n",
      "[CV 4/5; 91/99] END ......lasso__alpha=0.091;, score=-241.460 total time=   0.0s\n",
      "[CV 5/5; 91/99] START lasso__alpha=0.091........................................\n",
      "[CV 5/5; 91/99] END ......lasso__alpha=0.091;, score=-234.727 total time=   0.0s\n",
      "[CV 1/5; 92/99] START lasso__alpha=0.092........................................\n",
      "[CV 1/5; 92/99] END ......lasso__alpha=0.092;, score=-237.684 total time=   0.0s\n",
      "[CV 2/5; 92/99] START lasso__alpha=0.092........................................\n",
      "[CV 2/5; 92/99] END ......lasso__alpha=0.092;, score=-227.370 total time=   0.0s\n",
      "[CV 3/5; 92/99] START lasso__alpha=0.092........................................\n",
      "[CV 3/5; 92/99] END ......lasso__alpha=0.092;, score=-230.913 total time=   0.0s\n",
      "[CV 4/5; 92/99] START lasso__alpha=0.092........................................\n",
      "[CV 4/5; 92/99] END ......lasso__alpha=0.092;, score=-241.560 total time=   0.0s\n",
      "[CV 5/5; 92/99] START lasso__alpha=0.092........................................\n",
      "[CV 5/5; 92/99] END ......lasso__alpha=0.092;, score=-234.834 total time=   0.0s\n",
      "[CV 1/5; 93/99] START lasso__alpha=0.093........................................\n",
      "[CV 1/5; 93/99] END ......lasso__alpha=0.093;, score=-237.808 total time=   0.0s\n",
      "[CV 2/5; 93/99] START lasso__alpha=0.093........................................\n",
      "[CV 2/5; 93/99] END ......lasso__alpha=0.093;, score=-227.395 total time=   0.0s\n",
      "[CV 3/5; 93/99] START lasso__alpha=0.093........................................\n",
      "[CV 3/5; 93/99] END ......lasso__alpha=0.093;, score=-231.028 total time=   0.0s\n",
      "[CV 4/5; 93/99] START lasso__alpha=0.093........................................\n",
      "[CV 4/5; 93/99] END ......lasso__alpha=0.093;, score=-241.661 total time=   0.0s\n",
      "[CV 5/5; 93/99] START lasso__alpha=0.093........................................\n",
      "[CV 5/5; 93/99] END ......lasso__alpha=0.093;, score=-234.942 total time=   0.0s\n",
      "[CV 1/5; 94/99] START lasso__alpha=0.094........................................\n",
      "[CV 1/5; 94/99] END ......lasso__alpha=0.094;, score=-237.933 total time=   0.0s\n",
      "[CV 2/5; 94/99] START lasso__alpha=0.094........................................\n",
      "[CV 2/5; 94/99] END ......lasso__alpha=0.094;, score=-227.420 total time=   0.0s\n",
      "[CV 3/5; 94/99] START lasso__alpha=0.094........................................\n",
      "[CV 3/5; 94/99] END ......lasso__alpha=0.094;, score=-231.144 total time=   0.0s\n",
      "[CV 4/5; 94/99] START lasso__alpha=0.094........................................\n",
      "[CV 4/5; 94/99] END ......lasso__alpha=0.094;, score=-241.763 total time=   0.0s\n",
      "[CV 5/5; 94/99] START lasso__alpha=0.094........................................\n",
      "[CV 5/5; 94/99] END ......lasso__alpha=0.094;, score=-235.051 total time=   0.0s\n",
      "[CV 1/5; 95/99] START lasso__alpha=0.095........................................\n",
      "[CV 1/5; 95/99] END ......lasso__alpha=0.095;, score=-238.059 total time=   0.0s\n",
      "[CV 2/5; 95/99] START lasso__alpha=0.095........................................\n",
      "[CV 2/5; 95/99] END ......lasso__alpha=0.095;, score=-227.446 total time=   0.0s\n",
      "[CV 3/5; 95/99] START lasso__alpha=0.095........................................\n",
      "[CV 3/5; 95/99] END ......lasso__alpha=0.095;, score=-231.261 total time=   0.0s\n",
      "[CV 4/5; 95/99] START lasso__alpha=0.095........................................\n",
      "[CV 4/5; 95/99] END ......lasso__alpha=0.095;, score=-241.866 total time=   0.0s\n",
      "[CV 5/5; 95/99] START lasso__alpha=0.095........................................\n",
      "[CV 5/5; 95/99] END ......lasso__alpha=0.095;, score=-235.162 total time=   0.0s\n",
      "[CV 1/5; 96/99] START lasso__alpha=0.096........................................\n",
      "[CV 1/5; 96/99] END ......lasso__alpha=0.096;, score=-238.185 total time=   0.0s\n",
      "[CV 2/5; 96/99] START lasso__alpha=0.096........................................\n",
      "[CV 2/5; 96/99] END ......lasso__alpha=0.096;, score=-227.472 total time=   0.0s\n",
      "[CV 3/5; 96/99] START lasso__alpha=0.096........................................\n",
      "[CV 3/5; 96/99] END ......lasso__alpha=0.096;, score=-231.380 total time=   0.0s\n",
      "[CV 4/5; 96/99] START lasso__alpha=0.096........................................\n",
      "[CV 4/5; 96/99] END ......lasso__alpha=0.096;, score=-241.970 total time=   0.0s\n",
      "[CV 5/5; 96/99] START lasso__alpha=0.096........................................\n",
      "[CV 5/5; 96/99] END ......lasso__alpha=0.096;, score=-235.274 total time=   0.0s\n",
      "[CV 1/5; 97/99] START lasso__alpha=0.097........................................\n",
      "[CV 1/5; 97/99] END ......lasso__alpha=0.097;, score=-238.313 total time=   0.0s\n",
      "[CV 2/5; 97/99] START lasso__alpha=0.097........................................\n",
      "[CV 2/5; 97/99] END ......lasso__alpha=0.097;, score=-227.499 total time=   0.0s\n",
      "[CV 3/5; 97/99] START lasso__alpha=0.097........................................\n",
      "[CV 3/5; 97/99] END ......lasso__alpha=0.097;, score=-231.500 total time=   0.0s\n",
      "[CV 4/5; 97/99] START lasso__alpha=0.097........................................\n",
      "[CV 4/5; 97/99] END ......lasso__alpha=0.097;, score=-242.075 total time=   0.0s\n",
      "[CV 5/5; 97/99] START lasso__alpha=0.097........................................\n",
      "[CV 5/5; 97/99] END ......lasso__alpha=0.097;, score=-235.387 total time=   0.0s\n",
      "[CV 1/5; 98/99] START lasso__alpha=0.098........................................\n",
      "[CV 1/5; 98/99] END ......lasso__alpha=0.098;, score=-238.443 total time=   0.0s\n",
      "[CV 2/5; 98/99] START lasso__alpha=0.098........................................\n",
      "[CV 2/5; 98/99] END ......lasso__alpha=0.098;, score=-227.526 total time=   0.0s\n",
      "[CV 3/5; 98/99] START lasso__alpha=0.098........................................\n",
      "[CV 3/5; 98/99] END ......lasso__alpha=0.098;, score=-231.621 total time=   0.0s\n",
      "[CV 4/5; 98/99] START lasso__alpha=0.098........................................\n",
      "[CV 4/5; 98/99] END ......lasso__alpha=0.098;, score=-242.182 total time=   0.0s\n",
      "[CV 5/5; 98/99] START lasso__alpha=0.098........................................\n",
      "[CV 5/5; 98/99] END ......lasso__alpha=0.098;, score=-235.501 total time=   0.0s\n",
      "[CV 1/5; 99/99] START lasso__alpha=0.099........................................\n",
      "[CV 1/5; 99/99] END ......lasso__alpha=0.099;, score=-238.573 total time=   0.0s\n",
      "[CV 2/5; 99/99] START lasso__alpha=0.099........................................\n",
      "[CV 2/5; 99/99] END ......lasso__alpha=0.099;, score=-227.553 total time=   0.0s\n",
      "[CV 3/5; 99/99] START lasso__alpha=0.099........................................\n",
      "[CV 3/5; 99/99] END ......lasso__alpha=0.099;, score=-231.743 total time=   0.0s\n",
      "[CV 4/5; 99/99] START lasso__alpha=0.099........................................\n",
      "[CV 4/5; 99/99] END ......lasso__alpha=0.099;, score=-242.289 total time=   0.0s\n",
      "[CV 5/5; 99/99] START lasso__alpha=0.099........................................\n",
      "[CV 5/5; 99/99] END ......lasso__alpha=0.099;, score=-235.617 total time=   0.0s\n"
     ]
    }
   ],
   "source": [
    "model = model.fit(X_train, y_train)"
   ]
  },
  {
   "cell_type": "code",
   "execution_count": 307,
   "id": "a9f50bed",
   "metadata": {
    "ExecuteTime": {
     "end_time": "2022-06-30T22:22:42.426963Z",
     "start_time": "2022-06-30T22:22:42.420998Z"
    }
   },
   "outputs": [
    {
     "data": {
      "text/plain": [
       "{'lasso__alpha': 0.002}"
      ]
     },
     "execution_count": 307,
     "metadata": {},
     "output_type": "execute_result"
    }
   ],
   "source": [
    "model.best_params_"
   ]
  },
  {
   "cell_type": "code",
   "execution_count": 308,
   "id": "ed6b984d",
   "metadata": {
    "ExecuteTime": {
     "end_time": "2022-06-30T22:23:17.806851Z",
     "start_time": "2022-06-30T22:23:17.802841Z"
    }
   },
   "outputs": [],
   "source": [
    "steps = [('scaler',MinMaxScaler()),('lasso', Lasso(max_iter=100000, alpha=0.002))]\n",
    "pipeline = Pipeline(steps)"
   ]
  },
  {
   "cell_type": "code",
   "execution_count": 311,
   "id": "1ca3a9ed",
   "metadata": {
    "ExecuteTime": {
     "end_time": "2022-06-30T22:24:51.608894Z",
     "start_time": "2022-06-30T22:24:51.590791Z"
    }
   },
   "outputs": [],
   "source": [
    "model = pipeline.fit(X_train, y_train)"
   ]
  },
  {
   "cell_type": "code",
   "execution_count": 312,
   "id": "dfb1cc45",
   "metadata": {
    "ExecuteTime": {
     "end_time": "2022-06-30T22:24:59.295076Z",
     "start_time": "2022-06-30T22:24:59.288219Z"
    }
   },
   "outputs": [],
   "source": [
    "y_train_pred = model.predict(X_train)"
   ]
  },
  {
   "cell_type": "code",
   "execution_count": 313,
   "id": "f41efb33",
   "metadata": {
    "ExecuteTime": {
     "end_time": "2022-06-30T22:25:08.582562Z",
     "start_time": "2022-06-30T22:25:08.359187Z"
    }
   },
   "outputs": [
    {
     "data": {
      "text/plain": [
       "Text(0, 0.5, 'y_train_pred')"
      ]
     },
     "execution_count": 313,
     "metadata": {},
     "output_type": "execute_result"
    },
    {
     "data": {
      "image/png": "[encoded data removed]",
      "text/plain": [
       "<Figure size 432x288 with 1 Axes>"
      ]
     },
     "metadata": {
      "needs_background": "light"
     },
     "output_type": "display_data"
    }
   ],
   "source": [
    "plt.scatter(y_train, y_train_pred, alpha=0.3)\n",
    "plt.xlabel('y_train')\n",
    "plt.ylabel('y_train_pred')"
   ]
  },
  {
   "cell_type": "code",
   "execution_count": 315,
   "id": "c0822aee",
   "metadata": {
    "ExecuteTime": {
     "end_time": "2022-06-30T22:25:41.041564Z",
     "start_time": "2022-06-30T22:25:41.034528Z"
    }
   },
   "outputs": [
    {
     "name": "stdout",
     "output_type": "stream",
     "text": [
      "train MAE: 1.18e+01\n",
      "train MSE: 2.29e+02\n",
      "train R2: 0.090\n"
     ]
    }
   ],
   "source": [
    "print('train MAE: {0:.2e}'.format(mean_absolute_error(y_train, y_train_pred)))\n",
    "print('train MSE: {0:.2e}'.format(mean_squared_error(y_train, y_train_pred)))\n",
    "print('train R2: {0:.3f}'.format(r2_score(y_train, y_train_pred)))"
   ]
  },
  {
   "cell_type": "code",
   "execution_count": 314,
   "id": "05dedc80",
   "metadata": {
    "ExecuteTime": {
     "end_time": "2022-06-30T22:25:32.963305Z",
     "start_time": "2022-06-30T22:25:32.952600Z"
    }
   },
   "outputs": [],
   "source": [
    "y_pred_test = model.predict(X_test)"
   ]
  },
  {
   "cell_type": "code",
   "execution_count": 316,
   "id": "790c81bf",
   "metadata": {
    "ExecuteTime": {
     "end_time": "2022-06-30T22:25:49.722773Z",
     "start_time": "2022-06-30T22:25:49.508427Z"
    }
   },
   "outputs": [
    {
     "data": {
      "text/plain": [
       "Text(0, 0.5, 'y_pred_test')"
      ]
     },
     "execution_count": 316,
     "metadata": {},
     "output_type": "execute_result"
    },
    {
     "data": {
      "image/png": "[encoded data removed]",
      "text/plain": [
       "<Figure size 432x288 with 1 Axes>"
      ]
     },
     "metadata": {
      "needs_background": "light"
     },
     "output_type": "display_data"
    }
   ],
   "source": [
    "plt.scatter(y_test, y_pred_test, alpha=0.3)\n",
    "plt.xlabel('y_test')\n",
    "plt.ylabel('y_pred_test')"
   ]
  },
  {
   "cell_type": "code",
   "execution_count": 344,
   "id": "b655c85c",
   "metadata": {
    "ExecuteTime": {
     "end_time": "2022-06-30T22:37:18.678049Z",
     "start_time": "2022-06-30T22:37:18.672814Z"
    }
   },
   "outputs": [],
   "source": [
    "steps = [('scaler',MinMaxScaler()),('poly', PolynomialFeatures(degree=3)),('lasso', Lasso(max_iter=100000, alpha=0.0009000000000000001))]\n",
    "model = Pipeline(steps)"
   ]
  },
  {
   "cell_type": "code",
   "execution_count": 345,
   "id": "85b564a4",
   "metadata": {
    "ExecuteTime": {
     "end_time": "2022-06-30T22:37:29.575329Z",
     "start_time": "2022-06-30T22:37:19.504984Z"
    }
   },
   "outputs": [],
   "source": [
    "model = model.fit(X_train, y_train)"
   ]
  },
  {
   "cell_type": "code",
   "execution_count": 346,
   "id": "965849fb",
   "metadata": {
    "ExecuteTime": {
     "end_time": "2022-06-30T22:37:29.861715Z",
     "start_time": "2022-06-30T22:37:29.765268Z"
    }
   },
   "outputs": [],
   "source": [
    "y_train_pred = model.predict(X_train)"
   ]
  },
  {
   "cell_type": "code",
   "execution_count": 347,
   "id": "057a387b",
   "metadata": {
    "ExecuteTime": {
     "end_time": "2022-06-30T22:37:30.236705Z",
     "start_time": "2022-06-30T22:37:30.025551Z"
    }
   },
   "outputs": [
    {
     "data": {
      "text/plain": [
       "Text(0, 0.5, 'y_train_pred')"
      ]
     },
     "execution_count": 347,
     "metadata": {},
     "output_type": "execute_result"
    },
    {
     "data": {
      "image/png": "[encoded data removed]",
      "text/plain": [
       "<Figure size 432x288 with 1 Axes>"
      ]
     },
     "metadata": {
      "needs_background": "light"
     },
     "output_type": "display_data"
    }
   ],
   "source": [
    "plt.scatter(y_train, y_train_pred, alpha=0.3)\n",
    "plt.xlabel('y_train')\n",
    "plt.ylabel('y_train_pred')"
   ]
  },
  {
   "cell_type": "code",
   "execution_count": 348,
   "id": "b19de39d",
   "metadata": {
    "ExecuteTime": {
     "end_time": "2022-06-30T22:37:32.351010Z",
     "start_time": "2022-06-30T22:37:32.341261Z"
    }
   },
   "outputs": [
    {
     "name": "stdout",
     "output_type": "stream",
     "text": [
      "train MAE: 1.15e+01\n",
      "train MSE: 2.17e+02\n",
      "train R2: 0.138\n"
     ]
    }
   ],
   "source": [
    "print('train MAE: {0:.2e}'.format(mean_absolute_error(y_train, y_train_pred)))\n",
    "print('train MSE: {0:.2e}'.format(mean_squared_error(y_train, y_train_pred)))\n",
    "print('train R2: {0:.3f}'.format(r2_score(y_train, y_train_pred)))"
   ]
  },
  {
   "cell_type": "code",
   "execution_count": 349,
   "id": "687235a7",
   "metadata": {
    "ExecuteTime": {
     "end_time": "2022-06-30T22:37:33.887881Z",
     "start_time": "2022-06-30T22:37:33.810613Z"
    }
   },
   "outputs": [],
   "source": [
    "y_pred_test = model.predict(X_test)"
   ]
  },
  {
   "cell_type": "code",
   "execution_count": 350,
   "id": "6c9e3f08",
   "metadata": {
    "ExecuteTime": {
     "end_time": "2022-06-30T22:37:34.670410Z",
     "start_time": "2022-06-30T22:37:34.480492Z"
    }
   },
   "outputs": [
    {
     "data": {
      "text/plain": [
       "Text(0, 0.5, 'y_pred_test')"
      ]
     },
     "execution_count": 350,
     "metadata": {},
     "output_type": "execute_result"
    },
    {
     "data": {
      "image/png": "[encoded data removed]",
      "text/plain": [
       "<Figure size 432x288 with 1 Axes>"
      ]
     },
     "metadata": {
      "needs_background": "light"
     },
     "output_type": "display_data"
    }
   ],
   "source": [
    "plt.scatter(y_test, y_pred_test, alpha=0.3)\n",
    "plt.xlabel('y_test')\n",
    "plt.ylabel('y_pred_test')"
   ]
  },
  {
   "cell_type": "code",
   "execution_count": 351,
   "id": "6a87201b",
   "metadata": {
    "ExecuteTime": {
     "end_time": "2022-06-30T22:37:36.249881Z",
     "start_time": "2022-06-30T22:37:36.243800Z"
    }
   },
   "outputs": [
    {
     "name": "stdout",
     "output_type": "stream",
     "text": [
      "train MAE: 1.15e+01\n",
      "train MSE: 2.17e+02\n",
      "train R2: 0.138\n"
     ]
    }
   ],
   "source": [
    "print('train MAE: {0:.2e}'.format(mean_absolute_error(y_train, y_train_pred)))\n",
    "print('train MSE: {0:.2e}'.format(mean_squared_error(y_train, y_train_pred)))\n",
    "print('train R2: {0:.3f}'.format(r2_score(y_train, y_train_pred)))"
   ]
  },
  {
   "cell_type": "markdown",
   "id": "50ed6cee",
   "metadata": {},
   "source": [
    "### Ridge vs Poly + Ridge"
   ]
  },
  {
   "cell_type": "code",
   "execution_count": 352,
   "id": "588607e7",
   "metadata": {
    "ExecuteTime": {
     "end_time": "2022-06-30T22:40:41.884867Z",
     "start_time": "2022-06-30T22:40:41.880362Z"
    }
   },
   "outputs": [],
   "source": [
    "from sklearn.linear_model import Ridge"
   ]
  },
  {
   "cell_type": "code",
   "execution_count": 353,
   "id": "4b11083b",
   "metadata": {
    "ExecuteTime": {
     "end_time": "2022-06-30T22:47:35.084458Z",
     "start_time": "2022-06-30T22:47:35.079787Z"
    }
   },
   "outputs": [],
   "source": [
    "steps = [('scaler',MinMaxScaler()),('ridge', Ridge())]\n",
    "pipeline = Pipeline(steps)"
   ]
  },
  {
   "cell_type": "code",
   "execution_count": 354,
   "id": "0b116d1e",
   "metadata": {
    "ExecuteTime": {
     "end_time": "2022-06-30T22:47:41.352353Z",
     "start_time": "2022-06-30T22:47:41.346204Z"
    }
   },
   "outputs": [],
   "source": [
    "model = GridSearchCV(pipeline,\n",
    "                      {'ridge__alpha':np.arange(0.1,10,0.2)},\n",
    "                      cv = 5, scoring=\"neg_mean_squared_error\",verbose=3\n",
    "                      )"
   ]
  },
  {
   "cell_type": "code",
   "execution_count": 355,
   "id": "36233970",
   "metadata": {
    "ExecuteTime": {
     "end_time": "2022-06-30T22:47:54.854642Z",
     "start_time": "2022-06-30T22:47:51.123464Z"
    }
   },
   "outputs": [
    {
     "name": "stdout",
     "output_type": "stream",
     "text": [
      "Fitting 5 folds for each of 50 candidates, totalling 250 fits\n",
      "[CV 1/5] END ...............ridge__alpha=0.1;, score=-230.127 total time=   0.1s\n",
      "[CV 2/5] END ...............ridge__alpha=0.1;, score=-226.046 total time=   0.0s\n",
      "[CV 3/5] END ...............ridge__alpha=0.1;, score=-237.594 total time=   0.0s\n",
      "[CV 4/5] END ...............ridge__alpha=0.1;, score=-235.934 total time=   0.0s\n",
      "[CV 5/5] END ...............ridge__alpha=0.1;, score=-229.341 total time=   0.0s\n",
      "[CV 1/5] END ridge__alpha=0.30000000000000004;, score=-230.150 total time=   0.0s\n",
      "[CV 2/5] END ridge__alpha=0.30000000000000004;, score=-226.054 total time=   0.0s\n",
      "[CV 3/5] END ridge__alpha=0.30000000000000004;, score=-234.227 total time=   0.0s\n",
      "[CV 4/5] END ridge__alpha=0.30000000000000004;, score=-235.948 total time=   0.0s\n",
      "[CV 5/5] END ridge__alpha=0.30000000000000004;, score=-229.334 total time=   0.0s\n",
      "[CV 1/5] END ridge__alpha=0.5000000000000001;, score=-230.171 total time=   0.0s\n",
      "[CV 2/5] END ridge__alpha=0.5000000000000001;, score=-226.063 total time=   0.0s\n",
      "[CV 3/5] END ridge__alpha=0.5000000000000001;, score=-231.977 total time=   0.0s\n",
      "[CV 4/5] END ridge__alpha=0.5000000000000001;, score=-235.962 total time=   0.0s\n",
      "[CV 5/5] END ridge__alpha=0.5000000000000001;, score=-229.330 total time=   0.0s\n",
      "[CV 1/5] END ridge__alpha=0.7000000000000001;, score=-230.192 total time=   0.0s\n",
      "[CV 2/5] END ridge__alpha=0.7000000000000001;, score=-226.072 total time=   0.0s\n",
      "[CV 3/5] END ridge__alpha=0.7000000000000001;, score=-230.401 total time=   0.0s\n",
      "[CV 4/5] END ridge__alpha=0.7000000000000001;, score=-235.977 total time=   0.0s\n",
      "[CV 5/5] END ridge__alpha=0.7000000000000001;, score=-229.328 total time=   0.0s\n",
      "[CV 1/5] END ridge__alpha=0.9000000000000001;, score=-230.212 total time=   0.0s\n",
      "[CV 2/5] END ridge__alpha=0.9000000000000001;, score=-226.082 total time=   0.0s\n",
      "[CV 3/5] END ridge__alpha=0.9000000000000001;, score=-229.256 total time=   0.0s\n",
      "[CV 4/5] END ridge__alpha=0.9000000000000001;, score=-235.992 total time=   0.0s\n",
      "[CV 5/5] END ridge__alpha=0.9000000000000001;, score=-229.327 total time=   0.0s\n",
      "[CV 1/5] END ridge__alpha=1.1000000000000003;, score=-230.232 total time=   0.0s\n",
      "[CV 2/5] END ridge__alpha=1.1000000000000003;, score=-226.092 total time=   0.0s\n",
      "[CV 3/5] END ridge__alpha=1.1000000000000003;, score=-228.400 total time=   0.0s\n",
      "[CV 4/5] END ridge__alpha=1.1000000000000003;, score=-236.006 total time=   0.0s\n",
      "[CV 5/5] END ridge__alpha=1.1000000000000003;, score=-229.328 total time=   0.0s\n",
      "[CV 1/5] END ridge__alpha=1.3000000000000003;, score=-230.251 total time=   0.0s\n",
      "[CV 2/5] END ridge__alpha=1.3000000000000003;, score=-226.102 total time=   0.0s\n",
      "[CV 3/5] END ridge__alpha=1.3000000000000003;, score=-227.745 total time=   0.0s\n",
      "[CV 4/5] END ridge__alpha=1.3000000000000003;, score=-236.019 total time=   0.0s\n",
      "[CV 5/5] END ridge__alpha=1.3000000000000003;, score=-229.328 total time=   0.0s\n",
      "[CV 1/5] END ridge__alpha=1.5000000000000004;, score=-230.270 total time=   0.0s\n",
      "[CV 2/5] END ridge__alpha=1.5000000000000004;, score=-226.111 total time=   0.0s\n",
      "[CV 3/5] END ridge__alpha=1.5000000000000004;, score=-227.232 total time=   0.0s\n",
      "[CV 4/5] END ridge__alpha=1.5000000000000004;, score=-236.032 total time=   0.0s\n",
      "[CV 5/5] END ridge__alpha=1.5000000000000004;, score=-229.329 total time=   0.0s\n",
      "[CV 1/5] END ridge__alpha=1.7000000000000004;, score=-230.289 total time=   0.0s\n",
      "[CV 2/5] END ridge__alpha=1.7000000000000004;, score=-226.121 total time=   0.0s\n",
      "[CV 3/5] END ridge__alpha=1.7000000000000004;, score=-226.825 total time=   0.0s\n",
      "[CV 4/5] END ridge__alpha=1.7000000000000004;, score=-236.045 total time=   0.0s\n",
      "[CV 5/5] END ridge__alpha=1.7000000000000004;, score=-229.331 total time=   0.0s\n",
      "[CV 1/5] END ridge__alpha=1.9000000000000004;, score=-230.308 total time=   0.0s\n",
      "[CV 2/5] END ridge__alpha=1.9000000000000004;, score=-226.130 total time=   0.0s\n",
      "[CV 3/5] END ridge__alpha=1.9000000000000004;, score=-226.496 total time=   0.0s\n",
      "[CV 4/5] END ridge__alpha=1.9000000000000004;, score=-236.058 total time=   0.0s\n",
      "[CV 5/5] END ridge__alpha=1.9000000000000004;, score=-229.333 total time=   0.0s\n",
      "[CV 1/5] END ridge__alpha=2.1000000000000005;, score=-230.326 total time=   0.0s\n",
      "[CV 2/5] END ridge__alpha=2.1000000000000005;, score=-226.139 total time=   0.0s\n",
      "[CV 3/5] END ridge__alpha=2.1000000000000005;, score=-226.228 total time=   0.0s\n",
      "[CV 4/5] END ridge__alpha=2.1000000000000005;, score=-236.071 total time=   0.0s\n",
      "[CV 5/5] END ridge__alpha=2.1000000000000005;, score=-229.335 total time=   0.0s\n",
      "[CV 1/5] END ridge__alpha=2.3000000000000007;, score=-230.345 total time=   0.0s\n",
      "[CV 2/5] END ridge__alpha=2.3000000000000007;, score=-226.148 total time=   0.0s\n",
      "[CV 3/5] END ridge__alpha=2.3000000000000007;, score=-226.007 total time=   0.0s\n",
      "[CV 4/5] END ridge__alpha=2.3000000000000007;, score=-236.083 total time=   0.0s\n",
      "[CV 5/5] END ridge__alpha=2.3000000000000007;, score=-229.338 total time=   0.0s\n",
      "[CV 1/5] END ridge__alpha=2.5000000000000004;, score=-230.363 total time=   0.0s\n",
      "[CV 2/5] END ridge__alpha=2.5000000000000004;, score=-226.156 total time=   0.0s\n",
      "[CV 3/5] END ridge__alpha=2.5000000000000004;, score=-225.823 total time=   0.0s\n",
      "[CV 4/5] END ridge__alpha=2.5000000000000004;, score=-236.095 total time=   0.0s\n",
      "[CV 5/5] END ridge__alpha=2.5000000000000004;, score=-229.340 total time=   0.0s\n",
      "[CV 1/5] END ridge__alpha=2.7000000000000006;, score=-230.382 total time=   0.0s\n",
      "[CV 2/5] END ridge__alpha=2.7000000000000006;, score=-226.164 total time=   0.0s\n",
      "[CV 3/5] END ridge__alpha=2.7000000000000006;, score=-225.668 total time=   0.0s\n",
      "[CV 4/5] END ridge__alpha=2.7000000000000006;, score=-236.108 total time=   0.0s\n",
      "[CV 5/5] END ridge__alpha=2.7000000000000006;, score=-229.343 total time=   0.0s\n",
      "[CV 1/5] END .ridge__alpha=2.900000000000001;, score=-230.401 total time=   0.0s\n",
      "[CV 2/5] END .ridge__alpha=2.900000000000001;, score=-226.171 total time=   0.0s\n",
      "[CV 3/5] END .ridge__alpha=2.900000000000001;, score=-225.537 total time=   0.0s\n",
      "[CV 4/5] END .ridge__alpha=2.900000000000001;, score=-236.120 total time=   0.0s\n",
      "[CV 5/5] END .ridge__alpha=2.900000000000001;, score=-229.347 total time=   0.0s\n",
      "[CV 1/5] END ridge__alpha=3.1000000000000005;, score=-230.419 total time=   0.0s\n",
      "[CV 2/5] END ridge__alpha=3.1000000000000005;, score=-226.178 total time=   0.0s\n",
      "[CV 3/5] END ridge__alpha=3.1000000000000005;, score=-225.426 total time=   0.0s\n",
      "[CV 4/5] END ridge__alpha=3.1000000000000005;, score=-236.132 total time=   0.0s\n",
      "[CV 5/5] END ridge__alpha=3.1000000000000005;, score=-229.350 total time=   0.0s\n",
      "[CV 1/5] END ridge__alpha=3.3000000000000007;, score=-230.438 total time=   0.0s\n",
      "[CV 2/5] END ridge__alpha=3.3000000000000007;, score=-226.185 total time=   0.0s\n",
      "[CV 3/5] END ridge__alpha=3.3000000000000007;, score=-225.332 total time=   0.0s\n",
      "[CV 4/5] END ridge__alpha=3.3000000000000007;, score=-236.144 total time=   0.0s\n",
      "[CV 5/5] END ridge__alpha=3.3000000000000007;, score=-229.354 total time=   0.0s\n",
      "[CV 1/5] END .ridge__alpha=3.500000000000001;, score=-230.457 total time=   0.0s\n",
      "[CV 2/5] END .ridge__alpha=3.500000000000001;, score=-226.192 total time=   0.0s\n",
      "[CV 3/5] END .ridge__alpha=3.500000000000001;, score=-225.251 total time=   0.0s\n",
      "[CV 4/5] END .ridge__alpha=3.500000000000001;, score=-236.156 total time=   0.0s\n",
      "[CV 5/5] END .ridge__alpha=3.500000000000001;, score=-229.358 total time=   0.0s\n",
      "[CV 1/5] END ridge__alpha=3.7000000000000006;, score=-230.476 total time=   0.0s\n",
      "[CV 2/5] END ridge__alpha=3.7000000000000006;, score=-226.198 total time=   0.0s\n",
      "[CV 3/5] END ridge__alpha=3.7000000000000006;, score=-225.181 total time=   0.0s\n",
      "[CV 4/5] END ridge__alpha=3.7000000000000006;, score=-236.168 total time=   0.0s\n",
      "[CV 5/5] END ridge__alpha=3.7000000000000006;, score=-229.362 total time=   0.0s\n",
      "[CV 1/5] END .ridge__alpha=3.900000000000001;, score=-230.495 total time=   0.0s\n",
      "[CV 2/5] END .ridge__alpha=3.900000000000001;, score=-226.204 total time=   0.0s\n",
      "[CV 3/5] END .ridge__alpha=3.900000000000001;, score=-225.121 total time=   0.0s\n",
      "[CV 4/5] END .ridge__alpha=3.900000000000001;, score=-236.180 total time=   0.0s\n",
      "[CV 5/5] END .ridge__alpha=3.900000000000001;, score=-229.367 total time=   0.0s\n",
      "[CV 1/5] END ridge__alpha=4.1000000000000005;, score=-230.514 total time=   0.0s\n",
      "[CV 2/5] END ridge__alpha=4.1000000000000005;, score=-226.209 total time=   0.0s\n",
      "[CV 3/5] END ridge__alpha=4.1000000000000005;, score=-225.069 total time=   0.0s\n",
      "[CV 4/5] END ridge__alpha=4.1000000000000005;, score=-236.193 total time=   0.0s\n",
      "[CV 5/5] END ridge__alpha=4.1000000000000005;, score=-229.372 total time=   0.0s\n",
      "[CV 1/5] END .ridge__alpha=4.300000000000001;, score=-230.533 total time=   0.0s\n",
      "[CV 2/5] END .ridge__alpha=4.300000000000001;, score=-226.215 total time=   0.0s\n",
      "[CV 3/5] END .ridge__alpha=4.300000000000001;, score=-225.024 total time=   0.0s\n",
      "[CV 4/5] END .ridge__alpha=4.300000000000001;, score=-236.205 total time=   0.0s\n",
      "[CV 5/5] END .ridge__alpha=4.300000000000001;, score=-229.377 total time=   0.0s\n",
      "[CV 1/5] END .ridge__alpha=4.500000000000001;, score=-230.552 total time=   0.0s\n"
     ]
    },
    {
     "name": "stdout",
     "output_type": "stream",
     "text": [
      "[CV 2/5] END .ridge__alpha=4.500000000000001;, score=-226.220 total time=   0.0s\n",
      "[CV 3/5] END .ridge__alpha=4.500000000000001;, score=-224.985 total time=   0.0s\n",
      "[CV 4/5] END .ridge__alpha=4.500000000000001;, score=-236.217 total time=   0.0s\n",
      "[CV 5/5] END .ridge__alpha=4.500000000000001;, score=-229.382 total time=   0.0s\n",
      "[CV 1/5] END ...............ridge__alpha=4.7;, score=-230.572 total time=   0.0s\n",
      "[CV 2/5] END ...............ridge__alpha=4.7;, score=-226.225 total time=   0.0s\n",
      "[CV 3/5] END ...............ridge__alpha=4.7;, score=-224.951 total time=   0.0s\n",
      "[CV 4/5] END ...............ridge__alpha=4.7;, score=-236.230 total time=   0.0s\n",
      "[CV 5/5] END ...............ridge__alpha=4.7;, score=-229.388 total time=   0.0s\n",
      "[CV 1/5] END ...............ridge__alpha=4.9;, score=-230.591 total time=   0.0s\n",
      "[CV 2/5] END ...............ridge__alpha=4.9;, score=-226.229 total time=   0.0s\n",
      "[CV 3/5] END ...............ridge__alpha=4.9;, score=-224.922 total time=   0.0s\n",
      "[CV 4/5] END ...............ridge__alpha=4.9;, score=-236.242 total time=   0.0s\n",
      "[CV 5/5] END ...............ridge__alpha=4.9;, score=-229.393 total time=   0.0s\n",
      "[CV 1/5] END ridge__alpha=5.1000000000000005;, score=-230.611 total time=   0.0s\n",
      "[CV 2/5] END ridge__alpha=5.1000000000000005;, score=-226.234 total time=   0.0s\n",
      "[CV 3/5] END ridge__alpha=5.1000000000000005;, score=-224.897 total time=   0.0s\n",
      "[CV 4/5] END ridge__alpha=5.1000000000000005;, score=-236.255 total time=   0.0s\n",
      "[CV 5/5] END ridge__alpha=5.1000000000000005;, score=-229.399 total time=   0.0s\n",
      "[CV 1/5] END .ridge__alpha=5.300000000000001;, score=-230.631 total time=   0.0s\n",
      "[CV 2/5] END .ridge__alpha=5.300000000000001;, score=-226.238 total time=   0.0s\n",
      "[CV 3/5] END .ridge__alpha=5.300000000000001;, score=-224.876 total time=   0.0s\n",
      "[CV 4/5] END .ridge__alpha=5.300000000000001;, score=-236.267 total time=   0.0s\n",
      "[CV 5/5] END .ridge__alpha=5.300000000000001;, score=-229.406 total time=   0.0s\n",
      "[CV 1/5] END .ridge__alpha=5.500000000000001;, score=-230.651 total time=   0.0s\n",
      "[CV 2/5] END .ridge__alpha=5.500000000000001;, score=-226.242 total time=   0.0s\n",
      "[CV 3/5] END .ridge__alpha=5.500000000000001;, score=-224.858 total time=   0.0s\n",
      "[CV 4/5] END .ridge__alpha=5.500000000000001;, score=-236.280 total time=   0.0s\n",
      "[CV 5/5] END .ridge__alpha=5.500000000000001;, score=-229.412 total time=   0.0s\n",
      "[CV 1/5] END .ridge__alpha=5.700000000000001;, score=-230.671 total time=   0.0s\n",
      "[CV 2/5] END .ridge__alpha=5.700000000000001;, score=-226.245 total time=   0.0s\n",
      "[CV 3/5] END .ridge__alpha=5.700000000000001;, score=-224.843 total time=   0.0s\n",
      "[CV 4/5] END .ridge__alpha=5.700000000000001;, score=-236.293 total time=   0.0s\n",
      "[CV 5/5] END .ridge__alpha=5.700000000000001;, score=-229.419 total time=   0.0s\n",
      "[CV 1/5] END ...............ridge__alpha=5.9;, score=-230.691 total time=   0.0s\n",
      "[CV 2/5] END ...............ridge__alpha=5.9;, score=-226.249 total time=   0.0s\n",
      "[CV 3/5] END ...............ridge__alpha=5.9;, score=-224.830 total time=   0.0s\n",
      "[CV 4/5] END ...............ridge__alpha=5.9;, score=-236.306 total time=   0.0s\n",
      "[CV 5/5] END ...............ridge__alpha=5.9;, score=-229.426 total time=   0.0s\n",
      "[CV 1/5] END ridge__alpha=6.1000000000000005;, score=-230.711 total time=   0.0s\n",
      "[CV 2/5] END ridge__alpha=6.1000000000000005;, score=-226.252 total time=   0.0s\n",
      "[CV 3/5] END ridge__alpha=6.1000000000000005;, score=-224.819 total time=   0.0s\n",
      "[CV 4/5] END ridge__alpha=6.1000000000000005;, score=-236.319 total time=   0.0s\n",
      "[CV 5/5] END ridge__alpha=6.1000000000000005;, score=-229.433 total time=   0.0s\n",
      "[CV 1/5] END .ridge__alpha=6.300000000000001;, score=-230.731 total time=   0.0s\n",
      "[CV 2/5] END .ridge__alpha=6.300000000000001;, score=-226.255 total time=   0.0s\n",
      "[CV 3/5] END .ridge__alpha=6.300000000000001;, score=-224.811 total time=   0.0s\n",
      "[CV 4/5] END .ridge__alpha=6.300000000000001;, score=-236.332 total time=   0.0s\n",
      "[CV 5/5] END .ridge__alpha=6.300000000000001;, score=-229.440 total time=   0.0s\n",
      "[CV 1/5] END .ridge__alpha=6.500000000000001;, score=-230.751 total time=   0.0s\n",
      "[CV 2/5] END .ridge__alpha=6.500000000000001;, score=-226.258 total time=   0.0s\n",
      "[CV 3/5] END .ridge__alpha=6.500000000000001;, score=-224.804 total time=   0.0s\n",
      "[CV 4/5] END .ridge__alpha=6.500000000000001;, score=-236.345 total time=   0.0s\n",
      "[CV 5/5] END .ridge__alpha=6.500000000000001;, score=-229.448 total time=   0.0s\n",
      "[CV 1/5] END .ridge__alpha=6.700000000000001;, score=-230.772 total time=   0.0s\n",
      "[CV 2/5] END .ridge__alpha=6.700000000000001;, score=-226.261 total time=   0.0s\n",
      "[CV 3/5] END .ridge__alpha=6.700000000000001;, score=-224.799 total time=   0.0s\n",
      "[CV 4/5] END .ridge__alpha=6.700000000000001;, score=-236.359 total time=   0.0s\n",
      "[CV 5/5] END .ridge__alpha=6.700000000000001;, score=-229.455 total time=   0.0s\n",
      "[CV 1/5] END .ridge__alpha=6.900000000000001;, score=-230.792 total time=   0.0s\n",
      "[CV 2/5] END .ridge__alpha=6.900000000000001;, score=-226.264 total time=   0.0s\n",
      "[CV 3/5] END .ridge__alpha=6.900000000000001;, score=-224.796 total time=   0.0s\n",
      "[CV 4/5] END .ridge__alpha=6.900000000000001;, score=-236.372 total time=   0.0s\n",
      "[CV 5/5] END .ridge__alpha=6.900000000000001;, score=-229.463 total time=   0.0s\n",
      "[CV 1/5] END .ridge__alpha=7.100000000000001;, score=-230.813 total time=   0.0s\n",
      "[CV 2/5] END .ridge__alpha=7.100000000000001;, score=-226.266 total time=   0.0s\n",
      "[CV 3/5] END .ridge__alpha=7.100000000000001;, score=-224.794 total time=   0.0s\n",
      "[CV 4/5] END .ridge__alpha=7.100000000000001;, score=-236.386 total time=   0.0s\n",
      "[CV 5/5] END .ridge__alpha=7.100000000000001;, score=-229.471 total time=   0.0s\n",
      "[CV 1/5] END .ridge__alpha=7.300000000000001;, score=-230.834 total time=   0.0s\n",
      "[CV 2/5] END .ridge__alpha=7.300000000000001;, score=-226.269 total time=   0.0s\n",
      "[CV 3/5] END .ridge__alpha=7.300000000000001;, score=-224.793 total time=   0.0s\n",
      "[CV 4/5] END .ridge__alpha=7.300000000000001;, score=-236.400 total time=   0.0s\n",
      "[CV 5/5] END .ridge__alpha=7.300000000000001;, score=-229.480 total time=   0.0s\n",
      "[CV 1/5] END .ridge__alpha=7.500000000000001;, score=-230.855 total time=   0.0s\n",
      "[CV 2/5] END .ridge__alpha=7.500000000000001;, score=-226.271 total time=   0.0s\n",
      "[CV 3/5] END .ridge__alpha=7.500000000000001;, score=-224.793 total time=   0.0s\n",
      "[CV 4/5] END .ridge__alpha=7.500000000000001;, score=-236.413 total time=   0.0s\n",
      "[CV 5/5] END .ridge__alpha=7.500000000000001;, score=-229.488 total time=   0.0s\n",
      "[CV 1/5] END .ridge__alpha=7.700000000000001;, score=-230.876 total time=   0.0s\n",
      "[CV 2/5] END .ridge__alpha=7.700000000000001;, score=-226.273 total time=   0.0s\n",
      "[CV 3/5] END .ridge__alpha=7.700000000000001;, score=-224.795 total time=   0.0s\n",
      "[CV 4/5] END .ridge__alpha=7.700000000000001;, score=-236.427 total time=   0.0s\n",
      "[CV 5/5] END .ridge__alpha=7.700000000000001;, score=-229.497 total time=   0.0s\n",
      "[CV 1/5] END .ridge__alpha=7.900000000000001;, score=-230.897 total time=   0.0s\n",
      "[CV 2/5] END .ridge__alpha=7.900000000000001;, score=-226.275 total time=   0.0s\n",
      "[CV 3/5] END .ridge__alpha=7.900000000000001;, score=-224.797 total time=   0.0s\n",
      "[CV 4/5] END .ridge__alpha=7.900000000000001;, score=-236.441 total time=   0.0s\n",
      "[CV 5/5] END .ridge__alpha=7.900000000000001;, score=-229.506 total time=   0.0s\n",
      "[CV 1/5] END .ridge__alpha=8.100000000000001;, score=-230.918 total time=   0.0s\n",
      "[CV 2/5] END .ridge__alpha=8.100000000000001;, score=-226.277 total time=   0.0s\n",
      "[CV 3/5] END .ridge__alpha=8.100000000000001;, score=-224.800 total time=   0.0s\n",
      "[CV 4/5] END .ridge__alpha=8.100000000000001;, score=-236.455 total time=   0.0s\n",
      "[CV 5/5] END .ridge__alpha=8.100000000000001;, score=-229.515 total time=   0.0s\n",
      "[CV 1/5] END ...............ridge__alpha=8.3;, score=-230.939 total time=   0.0s\n",
      "[CV 2/5] END ...............ridge__alpha=8.3;, score=-226.279 total time=   0.0s\n",
      "[CV 3/5] END ...............ridge__alpha=8.3;, score=-224.804 total time=   0.0s\n",
      "[CV 4/5] END ...............ridge__alpha=8.3;, score=-236.469 total time=   0.0s\n",
      "[CV 5/5] END ...............ridge__alpha=8.3;, score=-229.524 total time=   0.0s\n",
      "[CV 1/5] END .ridge__alpha=8.500000000000002;, score=-230.960 total time=   0.0s\n",
      "[CV 2/5] END .ridge__alpha=8.500000000000002;, score=-226.281 total time=   0.0s\n",
      "[CV 3/5] END .ridge__alpha=8.500000000000002;, score=-224.809 total time=   0.0s\n",
      "[CV 4/5] END .ridge__alpha=8.500000000000002;, score=-236.484 total time=   0.0s\n",
      "[CV 5/5] END .ridge__alpha=8.500000000000002;, score=-229.534 total time=   0.0s\n",
      "[CV 1/5] END .ridge__alpha=8.700000000000001;, score=-230.982 total time=   0.0s\n",
      "[CV 2/5] END .ridge__alpha=8.700000000000001;, score=-226.283 total time=   0.0s\n",
      "[CV 3/5] END .ridge__alpha=8.700000000000001;, score=-224.815 total time=   0.0s\n",
      "[CV 4/5] END .ridge__alpha=8.700000000000001;, score=-236.498 total time=   0.0s\n",
      "[CV 5/5] END .ridge__alpha=8.700000000000001;, score=-229.543 total time=   0.0s\n",
      "[CV 1/5] END .ridge__alpha=8.900000000000002;, score=-231.003 total time=   0.0s\n",
      "[CV 2/5] END .ridge__alpha=8.900000000000002;, score=-226.284 total time=   0.0s\n",
      "[CV 3/5] END .ridge__alpha=8.900000000000002;, score=-224.821 total time=   0.0s\n",
      "[CV 4/5] END .ridge__alpha=8.900000000000002;, score=-236.512 total time=   0.0s\n"
     ]
    },
    {
     "name": "stdout",
     "output_type": "stream",
     "text": [
      "[CV 5/5] END .ridge__alpha=8.900000000000002;, score=-229.553 total time=   0.0s\n",
      "[CV 1/5] END .ridge__alpha=9.100000000000001;, score=-231.025 total time=   0.0s\n",
      "[CV 2/5] END .ridge__alpha=9.100000000000001;, score=-226.286 total time=   0.0s\n",
      "[CV 3/5] END .ridge__alpha=9.100000000000001;, score=-224.828 total time=   0.0s\n",
      "[CV 4/5] END .ridge__alpha=9.100000000000001;, score=-236.527 total time=   0.0s\n",
      "[CV 5/5] END .ridge__alpha=9.100000000000001;, score=-229.563 total time=   0.0s\n",
      "[CV 1/5] END ...............ridge__alpha=9.3;, score=-231.046 total time=   0.0s\n",
      "[CV 2/5] END ...............ridge__alpha=9.3;, score=-226.287 total time=   0.0s\n",
      "[CV 3/5] END ...............ridge__alpha=9.3;, score=-224.835 total time=   0.0s\n",
      "[CV 4/5] END ...............ridge__alpha=9.3;, score=-236.542 total time=   0.0s\n",
      "[CV 5/5] END ...............ridge__alpha=9.3;, score=-229.573 total time=   0.0s\n",
      "[CV 1/5] END .ridge__alpha=9.500000000000002;, score=-231.068 total time=   0.0s\n",
      "[CV 2/5] END .ridge__alpha=9.500000000000002;, score=-226.288 total time=   0.0s\n",
      "[CV 3/5] END .ridge__alpha=9.500000000000002;, score=-224.843 total time=   0.0s\n",
      "[CV 4/5] END .ridge__alpha=9.500000000000002;, score=-236.556 total time=   0.0s\n",
      "[CV 5/5] END .ridge__alpha=9.500000000000002;, score=-229.584 total time=   0.0s\n",
      "[CV 1/5] END .ridge__alpha=9.700000000000001;, score=-231.090 total time=   0.0s\n",
      "[CV 2/5] END .ridge__alpha=9.700000000000001;, score=-226.289 total time=   0.0s\n",
      "[CV 3/5] END .ridge__alpha=9.700000000000001;, score=-224.852 total time=   0.0s\n",
      "[CV 4/5] END .ridge__alpha=9.700000000000001;, score=-236.571 total time=   0.0s\n",
      "[CV 5/5] END .ridge__alpha=9.700000000000001;, score=-229.594 total time=   0.0s\n",
      "[CV 1/5] END .ridge__alpha=9.900000000000002;, score=-231.112 total time=   0.0s\n",
      "[CV 2/5] END .ridge__alpha=9.900000000000002;, score=-226.291 total time=   0.0s\n",
      "[CV 3/5] END .ridge__alpha=9.900000000000002;, score=-224.861 total time=   0.0s\n",
      "[CV 4/5] END .ridge__alpha=9.900000000000002;, score=-236.586 total time=   0.0s\n",
      "[CV 5/5] END .ridge__alpha=9.900000000000002;, score=-229.605 total time=   0.0s\n"
     ]
    }
   ],
   "source": [
    "model = model.fit(X_train, y_train)"
   ]
  },
  {
   "cell_type": "code",
   "execution_count": 356,
   "id": "ea8bc3c0",
   "metadata": {
    "ExecuteTime": {
     "end_time": "2022-06-30T22:48:06.760195Z",
     "start_time": "2022-06-30T22:48:06.754580Z"
    }
   },
   "outputs": [
    {
     "data": {
      "text/plain": [
       "{'ridge__alpha': 4.300000000000001}"
      ]
     },
     "execution_count": 356,
     "metadata": {},
     "output_type": "execute_result"
    }
   ],
   "source": [
    "model.best_params_"
   ]
  },
  {
   "cell_type": "code",
   "execution_count": 358,
   "id": "63a89c9f",
   "metadata": {
    "ExecuteTime": {
     "end_time": "2022-06-30T22:48:30.706994Z",
     "start_time": "2022-06-30T22:48:30.702137Z"
    }
   },
   "outputs": [],
   "source": [
    "steps = [('scaler',MinMaxScaler()), ('ridge', Ridge(alpha=4.300000000000001))]\n",
    "model = Pipeline(steps)"
   ]
  },
  {
   "cell_type": "code",
   "execution_count": 359,
   "id": "f3afd433",
   "metadata": {
    "ExecuteTime": {
     "end_time": "2022-06-30T22:48:37.276286Z",
     "start_time": "2022-06-30T22:48:37.262299Z"
    }
   },
   "outputs": [],
   "source": [
    "model = model.fit(X_train, y_train)"
   ]
  },
  {
   "cell_type": "code",
   "execution_count": 360,
   "id": "9ace3930",
   "metadata": {
    "ExecuteTime": {
     "end_time": "2022-06-30T22:48:43.989090Z",
     "start_time": "2022-06-30T22:48:43.978600Z"
    }
   },
   "outputs": [],
   "source": [
    "y_train_pred = model.predict(X_train)"
   ]
  },
  {
   "cell_type": "code",
   "execution_count": 361,
   "id": "c7af0f72",
   "metadata": {
    "ExecuteTime": {
     "end_time": "2022-06-30T22:48:49.726523Z",
     "start_time": "2022-06-30T22:48:49.502395Z"
    }
   },
   "outputs": [
    {
     "data": {
      "text/plain": [
       "Text(0, 0.5, 'y_train_pred')"
      ]
     },
     "execution_count": 361,
     "metadata": {},
     "output_type": "execute_result"
    },
    {
     "data": {
      "image/png": "[encoded data removed]",
      "text/plain": [
       "<Figure size 432x288 with 1 Axes>"
      ]
     },
     "metadata": {
      "needs_background": "light"
     },
     "output_type": "display_data"
    }
   ],
   "source": [
    "plt.scatter(y_train, y_train_pred, alpha=0.3)\n",
    "plt.xlabel('y_train')\n",
    "plt.ylabel('y_train_pred')"
   ]
  },
  {
   "cell_type": "code",
   "execution_count": 362,
   "id": "6780e790",
   "metadata": {
    "ExecuteTime": {
     "end_time": "2022-06-30T22:48:57.812761Z",
     "start_time": "2022-06-30T22:48:57.803486Z"
    }
   },
   "outputs": [],
   "source": [
    "y_pred_test = model.predict(X_test)"
   ]
  },
  {
   "cell_type": "code",
   "execution_count": 363,
   "id": "25dd798e",
   "metadata": {
    "ExecuteTime": {
     "end_time": "2022-06-30T22:49:08.269208Z",
     "start_time": "2022-06-30T22:49:08.259217Z"
    }
   },
   "outputs": [
    {
     "name": "stdout",
     "output_type": "stream",
     "text": [
      "train MAE: 1.18e+01\n",
      "train MSE: 2.29e+02\n",
      "train R2: 0.090\n"
     ]
    }
   ],
   "source": [
    "print('train MAE: {0:.2e}'.format(mean_absolute_error(y_train, y_train_pred)))\n",
    "print('train MSE: {0:.2e}'.format(mean_squared_error(y_train, y_train_pred)))\n",
    "print('train R2: {0:.3f}'.format(r2_score(y_train, y_train_pred)))"
   ]
  },
  {
   "cell_type": "code",
   "execution_count": 364,
   "id": "1d460958",
   "metadata": {
    "ExecuteTime": {
     "end_time": "2022-06-30T22:49:14.647452Z",
     "start_time": "2022-06-30T22:49:14.440074Z"
    }
   },
   "outputs": [
    {
     "data": {
      "text/plain": [
       "Text(0, 0.5, 'y_pred_test')"
      ]
     },
     "execution_count": 364,
     "metadata": {},
     "output_type": "execute_result"
    },
    {
     "data": {
      "image/png": "[encoded data removed]",
      "text/plain": [
       "<Figure size 432x288 with 1 Axes>"
      ]
     },
     "metadata": {
      "needs_background": "light"
     },
     "output_type": "display_data"
    }
   ],
   "source": [
    "plt.scatter(y_test, y_pred_test, alpha=0.3)\n",
    "plt.xlabel('y_test')\n",
    "plt.ylabel('y_pred_test')"
   ]
  },
  {
   "cell_type": "code",
   "execution_count": 365,
   "id": "dd2069cf",
   "metadata": {
    "ExecuteTime": {
     "end_time": "2022-06-30T22:49:21.474518Z",
     "start_time": "2022-06-30T22:49:21.467843Z"
    }
   },
   "outputs": [
    {
     "name": "stdout",
     "output_type": "stream",
     "text": [
      "test MAE: 1.18e+01\n",
      "test MSE: 2.28e+02\n",
      "test R2: 0.095\n"
     ]
    }
   ],
   "source": [
    "print('test MAE: {0:.2e}'.format(mean_absolute_error(y_test, y_pred_test)))\n",
    "print('test MSE: {0:.2e}'.format(mean_squared_error(y_test, y_pred_test)))\n",
    "print('test R2: {0:.3f}'.format(r2_score(y_test, y_pred_test)))"
   ]
  },
  {
   "cell_type": "code",
   "execution_count": 367,
   "id": "45bc72c2",
   "metadata": {
    "ExecuteTime": {
     "end_time": "2022-06-30T22:49:40.830860Z",
     "start_time": "2022-06-30T22:49:40.821928Z"
    }
   },
   "outputs": [],
   "source": [
    "steps = [('scaler',MinMaxScaler()),('poly', PolynomialFeatures(degree=2)), ('ridge', Ridge(alpha=5.1000000000000005))]\n",
    "model = Pipeline(steps)"
   ]
  },
  {
   "cell_type": "code",
   "execution_count": 368,
   "id": "57bf8e0b",
   "metadata": {
    "ExecuteTime": {
     "end_time": "2022-06-30T22:49:47.181232Z",
     "start_time": "2022-06-30T22:49:47.102543Z"
    }
   },
   "outputs": [],
   "source": [
    "model = model.fit(X_train, y_train)"
   ]
  },
  {
   "cell_type": "code",
   "execution_count": 369,
   "id": "9c2ccce0",
   "metadata": {
    "ExecuteTime": {
     "end_time": "2022-06-30T22:49:53.899189Z",
     "start_time": "2022-06-30T22:49:53.864817Z"
    }
   },
   "outputs": [],
   "source": [
    "y_train_pred = model.predict(X_train)"
   ]
  },
  {
   "cell_type": "code",
   "execution_count": 370,
   "id": "007bef1e",
   "metadata": {
    "ExecuteTime": {
     "end_time": "2022-06-30T22:50:00.848182Z",
     "start_time": "2022-06-30T22:50:00.522441Z"
    },
    "scrolled": true
   },
   "outputs": [
    {
     "data": {
      "text/plain": [
       "Text(0, 0.5, 'y_train_pred')"
      ]
     },
     "execution_count": 370,
     "metadata": {},
     "output_type": "execute_result"
    },
    {
     "data": {
      "image/png": "[encoded data removed]",
      "text/plain": [
       "<Figure size 432x288 with 1 Axes>"
      ]
     },
     "metadata": {
      "needs_background": "light"
     },
     "output_type": "display_data"
    }
   ],
   "source": [
    "plt.scatter(y_train, y_train_pred, alpha=0.3)\n",
    "plt.xlabel('y_train')\n",
    "plt.ylabel('y_train_pred')"
   ]
  },
  {
   "cell_type": "code",
   "execution_count": 372,
   "id": "3b50a1f8",
   "metadata": {
    "ExecuteTime": {
     "end_time": "2022-06-30T22:50:20.416007Z",
     "start_time": "2022-06-30T22:50:20.407173Z"
    }
   },
   "outputs": [
    {
     "name": "stdout",
     "output_type": "stream",
     "text": [
      "train MAE: 1.18e+01\n",
      "train MSE: 2.26e+02\n",
      "train R2: 0.102\n"
     ]
    }
   ],
   "source": [
    "print('train MAE: {0:.2e}'.format(mean_absolute_error(y_train, y_train_pred)))\n",
    "print('train MSE: {0:.2e}'.format(mean_squared_error(y_train, y_train_pred)))\n",
    "print('train R2: {0:.3f}'.format(r2_score(y_train, y_train_pred)))"
   ]
  },
  {
   "cell_type": "code",
   "execution_count": 371,
   "id": "07f5cc6b",
   "metadata": {
    "ExecuteTime": {
     "end_time": "2022-06-30T22:50:08.525149Z",
     "start_time": "2022-06-30T22:50:08.492832Z"
    }
   },
   "outputs": [],
   "source": [
    "y_pred_test = model.predict(X_test)"
   ]
  },
  {
   "cell_type": "code",
   "execution_count": 373,
   "id": "f644d267",
   "metadata": {
    "ExecuteTime": {
     "end_time": "2022-06-30T22:50:28.164519Z",
     "start_time": "2022-06-30T22:50:27.867868Z"
    }
   },
   "outputs": [
    {
     "data": {
      "text/plain": [
       "Text(0, 0.5, 'y_pred_test')"
      ]
     },
     "execution_count": 373,
     "metadata": {},
     "output_type": "execute_result"
    },
    {
     "data": {
      "image/png": "[encoded data removed]",
      "text/plain": [
       "<Figure size 432x288 with 1 Axes>"
      ]
     },
     "metadata": {
      "needs_background": "light"
     },
     "output_type": "display_data"
    }
   ],
   "source": [
    "plt.scatter(y_test, y_pred_test, alpha=0.3)\n",
    "plt.xlabel('y_test')\n",
    "plt.ylabel('y_pred_test')"
   ]
  },
  {
   "cell_type": "code",
   "execution_count": 374,
   "id": "da757a4e",
   "metadata": {
    "ExecuteTime": {
     "end_time": "2022-06-30T22:50:35.386729Z",
     "start_time": "2022-06-30T22:50:35.378176Z"
    }
   },
   "outputs": [
    {
     "name": "stdout",
     "output_type": "stream",
     "text": [
      "test MAE: 1.18e+01\n",
      "test MSE: 2.25e+02\n",
      "test R2: 0.105\n"
     ]
    }
   ],
   "source": [
    "print('test MAE: {0:.2e}'.format(mean_absolute_error(y_test, y_pred_test)))\n",
    "print('test MSE: {0:.2e}'.format(mean_squared_error(y_test, y_pred_test)))\n",
    "print('test R2: {0:.3f}'.format(r2_score(y_test, y_pred_test)))"
   ]
  },
  {
   "cell_type": "code",
   "execution_count": null,
   "id": "8d7db115",
   "metadata": {},
   "outputs": [],
   "source": []
  }
 ],
 "metadata": {
  "kernelspec": {
   "display_name": "Python 3",
   "language": "python",
   "name": "python3"
  },
  "language_info": {
   "codemirror_mode": {
    "name": "ipython",
    "version": 3
   },
   "file_extension": ".py",
   "mimetype": "text/x-python",
   "name": "python",
   "nbconvert_exporter": "python",
   "pygments_lexer": "ipython3",
   "version": "3.8.13"
  },
  "toc": {
   "base_numbering": 1,
   "nav_menu": {},
   "number_sections": true,
   "sideBar": true,
   "skip_h1_title": false,
   "title_cell": "Table of Contents",
   "title_sidebar": "Contents",
   "toc_cell": false,
   "toc_position": {},
   "toc_section_display": true,
   "toc_window_display": false
  },
  "varInspector": {
   "cols": {
    "lenName": 16,
    "lenType": 16,
    "lenVar": 40
   },
   "kernels_config": {
    "python": {
     "delete_cmd_postfix": "",
     "delete_cmd_prefix": "del ",
     "library": "var_list.py",
     "varRefreshCmd": "print(var_dic_list())"
    },
    "r": {
     "delete_cmd_postfix": ") ",
     "delete_cmd_prefix": "rm(",
     "library": "var_list.r",
     "varRefreshCmd": "cat(var_dic_list()) "
    }
   },
   "types_to_exclude": [
    "module",
    "function",
    "builtin_function_or_method",
    "instance",
    "_Feature"
   ],
   "window_display": false
  }
 },
 "nbformat": 4,
 "nbformat_minor": 5
}
